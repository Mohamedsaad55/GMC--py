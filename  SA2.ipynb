{
 "cells": [
  {
   "cell_type": "markdown",
   "id": "4b6870c9",
   "metadata": {},
   "source": [
    "## Session 2"
   ]
  },
  {
   "cell_type": "code",
   "execution_count": 44,
   "id": "74e1a4b8",
   "metadata": {},
   "outputs": [],
   "source": [
    "x = 5 # conatiner holds 2 values of integar \n",
    "y = 5.56354654654654213 # Float \n",
    "z = \"moha me d\" # String\n",
    "w = True , False # Boolean\n",
    "\n"
   ]
  },
  {
   "cell_type": "code",
   "execution_count": 40,
   "id": "f5bdbf80",
   "metadata": {},
   "outputs": [],
   "source": [
    "x = 5 ; y = 5.5 ; z = \"Mohamed\" ;w = True"
   ]
  },
  {
   "cell_type": "code",
   "execution_count": null,
   "id": "765372da",
   "metadata": {},
   "outputs": [],
   "source": [
    "x,y,z,w = 5, 5.5, \"Mohamed\", True"
   ]
  },
  {
   "cell_type": "code",
   "execution_count": 15,
   "id": "9230691b",
   "metadata": {},
   "outputs": [
    {
     "data": {
      "text/plain": [
       "float"
      ]
     },
     "execution_count": 15,
     "metadata": {},
     "output_type": "execute_result"
    }
   ],
   "source": [
    "type(x)"
   ]
  },
  {
   "cell_type": "code",
   "execution_count": 16,
   "id": "9a322afa",
   "metadata": {},
   "outputs": [
    {
     "data": {
      "text/plain": [
       "5.0"
      ]
     },
     "execution_count": 16,
     "metadata": {},
     "output_type": "execute_result"
    }
   ],
   "source": [
    "float(x)"
   ]
  },
  {
   "cell_type": "code",
   "execution_count": 19,
   "id": "fd1e55c8",
   "metadata": {},
   "outputs": [
    {
     "data": {
      "text/plain": [
       "5"
      ]
     },
     "execution_count": 19,
     "metadata": {},
     "output_type": "execute_result"
    }
   ],
   "source": [
    "int(y)"
   ]
  },
  {
   "cell_type": "code",
   "execution_count": 27,
   "id": "1fcf9c60",
   "metadata": {},
   "outputs": [
    {
     "data": {
      "text/plain": [
       "1"
      ]
     },
     "execution_count": 27,
     "metadata": {},
     "output_type": "execute_result"
    }
   ],
   "source": [
    "a = int(float(\"1.5\"))\n",
    "a"
   ]
  },
  {
   "cell_type": "code",
   "execution_count": 23,
   "id": "da3ea57b",
   "metadata": {},
   "outputs": [
    {
     "data": {
      "text/plain": [
       "1.5"
      ]
     },
     "execution_count": 23,
     "metadata": {},
     "output_type": "execute_result"
    }
   ],
   "source": [
    "float(a)"
   ]
  },
  {
   "cell_type": "code",
   "execution_count": 25,
   "id": "b69a3272",
   "metadata": {},
   "outputs": [
    {
     "ename": "ValueError",
     "evalue": "invalid literal for int() with base 10: '1.5'",
     "output_type": "error",
     "traceback": [
      "\u001b[1;31m---------------------------------------------------------------------------\u001b[0m",
      "\u001b[1;31mValueError\u001b[0m                                Traceback (most recent call last)",
      "Cell \u001b[1;32mIn[25], line 1\u001b[0m\n\u001b[1;32m----> 1\u001b[0m \u001b[38;5;28;43mint\u001b[39;49m\u001b[43m(\u001b[49m\u001b[43ma\u001b[49m\u001b[43m)\u001b[49m\n",
      "\u001b[1;31mValueError\u001b[0m: invalid literal for int() with base 10: '1.5'"
     ]
    }
   ],
   "source": [
    "int(a)"
   ]
  },
  {
   "cell_type": "code",
   "execution_count": 31,
   "id": "eb13f1f7",
   "metadata": {},
   "outputs": [
    {
     "name": "stdout",
     "output_type": "stream",
     "text": [
      "test\n"
     ]
    }
   ],
   "source": [
    "print(\"test\")"
   ]
  },
  {
   "cell_type": "code",
   "execution_count": 34,
   "id": "70c51380",
   "metadata": {},
   "outputs": [
    {
     "name": "stdout",
     "output_type": "stream",
     "text": [
      "name : Mohamed Saad\n"
     ]
    }
   ],
   "source": [
    "user_name = input(\"name : \")"
   ]
  },
  {
   "cell_type": "code",
   "execution_count": 39,
   "id": "9594b76d",
   "metadata": {},
   "outputs": [
    {
     "name": "stdout",
     "output_type": "stream",
     "text": [
      "Hello Mohamed Saad\n"
     ]
    }
   ],
   "source": [
    "print(f\"Hello {user_name}\")"
   ]
  },
  {
   "cell_type": "code",
   "execution_count": 45,
   "id": "f08d39f4",
   "metadata": {},
   "outputs": [
    {
     "name": "stdout",
     "output_type": "stream",
     "text": [
      "5\n"
     ]
    }
   ],
   "source": [
    "print(x)"
   ]
  },
  {
   "cell_type": "code",
   "execution_count": 42,
   "id": "085a384f",
   "metadata": {},
   "outputs": [],
   "source": [
    "x = 10"
   ]
  },
  {
   "cell_type": "code",
   "execution_count": 46,
   "id": "b2435922",
   "metadata": {},
   "outputs": [
    {
     "name": "stdout",
     "output_type": "stream",
     "text": [
      "5\n"
     ]
    }
   ],
   "source": [
    "print(x)"
   ]
  },
  {
   "cell_type": "code",
   "execution_count": null,
   "id": "64dc1515",
   "metadata": {},
   "outputs": [],
   "source": []
  },
  {
   "cell_type": "code",
   "execution_count": 54,
   "id": "5a2120b1",
   "metadata": {},
   "outputs": [],
   "source": [
    "x = 100\n",
    "y = 4"
   ]
  },
  {
   "cell_type": "code",
   "execution_count": 55,
   "id": "44e197c6",
   "metadata": {},
   "outputs": [
    {
     "name": "stdout",
     "output_type": "stream",
     "text": [
      "104\n",
      "96\n",
      "400\n",
      "25.0\n",
      "0\n",
      "25\n",
      "100000000\n"
     ]
    }
   ],
   "source": [
    "print(x + y)\n",
    "print(x - y)\n",
    "print(x * y)\n",
    "print(x / y)\n",
    "print(x % y)\n",
    "print(x // y)\n",
    "print(x ** y)"
   ]
  },
  {
   "cell_type": "code",
   "execution_count": 56,
   "id": "174b341d",
   "metadata": {},
   "outputs": [
    {
     "data": {
      "text/plain": [
       "False"
      ]
     },
     "execution_count": 56,
     "metadata": {},
     "output_type": "execute_result"
    }
   ],
   "source": [
    "x == y "
   ]
  },
  {
   "cell_type": "code",
   "execution_count": 57,
   "id": "f6b5bcd9",
   "metadata": {},
   "outputs": [
    {
     "data": {
      "text/plain": [
       "True"
      ]
     },
     "execution_count": 57,
     "metadata": {},
     "output_type": "execute_result"
    }
   ],
   "source": [
    "x != y "
   ]
  },
  {
   "cell_type": "code",
   "execution_count": 58,
   "id": "54534fc9",
   "metadata": {},
   "outputs": [
    {
     "data": {
      "text/plain": [
       "True"
      ]
     },
     "execution_count": 58,
     "metadata": {},
     "output_type": "execute_result"
    }
   ],
   "source": [
    "x > y"
   ]
  },
  {
   "cell_type": "code",
   "execution_count": 59,
   "id": "55d87508",
   "metadata": {},
   "outputs": [
    {
     "data": {
      "text/plain": [
       "False"
      ]
     },
     "execution_count": 59,
     "metadata": {},
     "output_type": "execute_result"
    }
   ],
   "source": [
    "x < y "
   ]
  },
  {
   "cell_type": "code",
   "execution_count": 60,
   "id": "6a7610bd",
   "metadata": {},
   "outputs": [
    {
     "data": {
      "text/plain": [
       "True"
      ]
     },
     "execution_count": 60,
     "metadata": {},
     "output_type": "execute_result"
    }
   ],
   "source": [
    "x >= y "
   ]
  },
  {
   "cell_type": "code",
   "execution_count": 76,
   "id": "18e6b4ba",
   "metadata": {},
   "outputs": [
    {
     "data": {
      "text/plain": [
       "False"
      ]
     },
     "execution_count": 76,
     "metadata": {},
     "output_type": "execute_result"
    }
   ],
   "source": [
    "x/5 <= y +10"
   ]
  },
  {
   "cell_type": "code",
   "execution_count": 75,
   "id": "2b36729c",
   "metadata": {},
   "outputs": [
    {
     "data": {
      "text/plain": [
       "True"
      ]
     },
     "execution_count": 75,
     "metadata": {},
     "output_type": "execute_result"
    }
   ],
   "source": [
    "x >= y and x != y "
   ]
  },
  {
   "cell_type": "code",
   "execution_count": 68,
   "id": "fedae232",
   "metadata": {},
   "outputs": [],
   "source": [
    "z = [1,2,3,4,5]"
   ]
  },
  {
   "cell_type": "code",
   "execution_count": 66,
   "id": "b6ff5565",
   "metadata": {},
   "outputs": [
    {
     "data": {
      "text/plain": [
       "True"
      ]
     },
     "execution_count": 66,
     "metadata": {},
     "output_type": "execute_result"
    }
   ],
   "source": [
    "x >= y or x == y "
   ]
  },
  {
   "cell_type": "code",
   "execution_count": 67,
   "id": "21203810",
   "metadata": {},
   "outputs": [
    {
     "data": {
      "text/plain": [
       "True"
      ]
     },
     "execution_count": 67,
     "metadata": {},
     "output_type": "execute_result"
    }
   ],
   "source": [
    "not(x<200 and x == 500)"
   ]
  },
  {
   "cell_type": "code",
   "execution_count": 69,
   "id": "e23c251f",
   "metadata": {},
   "outputs": [
    {
     "data": {
      "text/plain": [
       "True"
      ]
     },
     "execution_count": 69,
     "metadata": {},
     "output_type": "execute_result"
    }
   ],
   "source": [
    "y in z "
   ]
  },
  {
   "cell_type": "code",
   "execution_count": 78,
   "id": "d8d64da2",
   "metadata": {},
   "outputs": [
    {
     "data": {
      "text/plain": [
       "True"
      ]
     },
     "execution_count": 78,
     "metadata": {},
     "output_type": "execute_result"
    }
   ],
   "source": [
    "x not in z"
   ]
  },
  {
   "cell_type": "code",
   "execution_count": 77,
   "id": "89bb5ae5",
   "metadata": {},
   "outputs": [
    {
     "data": {
      "text/plain": [
       "0"
      ]
     },
     "execution_count": 77,
     "metadata": {},
     "output_type": "execute_result"
    }
   ],
   "source": [
    "int(x/5 <= y +10 )"
   ]
  },
  {
   "cell_type": "code",
   "execution_count": 88,
   "id": "b9b53996",
   "metadata": {},
   "outputs": [
    {
     "name": "stdout",
     "output_type": "stream",
     "text": [
      "X not in Z , kldfjgslk\n",
      "Hello!\n"
     ]
    }
   ],
   "source": [
    "if x not in z :\n",
    "    print(\"X not in Z , kldfjgslk\")\n",
    "if not(x<200 and x == 500):\n",
    "    print(\"Hello!\")\n",
    "else :\n",
    "    print(\"There's Error !\")"
   ]
  },
  {
   "cell_type": "code",
   "execution_count": 93,
   "id": "b6ef9cf2",
   "metadata": {},
   "outputs": [
    {
     "name": "stdout",
     "output_type": "stream",
     "text": [
      "name : Saad\n"
     ]
    }
   ],
   "source": [
    "user_name = input(\"name : \")"
   ]
  },
  {
   "cell_type": "code",
   "execution_count": 94,
   "id": "00674959",
   "metadata": {},
   "outputs": [
    {
     "name": "stdout",
     "output_type": "stream",
     "text": [
      "Hello Guest  !! \n"
     ]
    }
   ],
   "source": [
    "if user_name == \"Mohamed\":\n",
    "    print('Hello Mohamed ! Welcome Back')\n",
    "elif user_name == \"Reem\":\n",
    "    print('Hello Reem !')\n",
    "else: \n",
    "    print('Hello Guest  !! ')"
   ]
  },
  {
   "cell_type": "code",
   "execution_count": 97,
   "id": "7d4cc766",
   "metadata": {},
   "outputs": [],
   "source": [
    "if x % y == 1 :\n",
    "    print(\"True!\")"
   ]
  },
  {
   "cell_type": "code",
   "execution_count": null,
   "id": "d732d725",
   "metadata": {},
   "outputs": [],
   "source": []
  },
  {
   "cell_type": "code",
   "execution_count": 98,
   "id": "714616a6",
   "metadata": {},
   "outputs": [
    {
     "ename": "NameError",
     "evalue": "name 'first_number' is not defined",
     "output_type": "error",
     "traceback": [
      "\u001b[1;31m---------------------------------------------------------------------------\u001b[0m",
      "\u001b[1;31mNameError\u001b[0m                                 Traceback (most recent call last)",
      "Cell \u001b[1;32mIn[98], line 1\u001b[0m\n\u001b[1;32m----> 1\u001b[0m \u001b[38;5;28mprint\u001b[39m(\u001b[43mfirst_number\u001b[49m)\n",
      "\u001b[1;31mNameError\u001b[0m: name 'first_number' is not defined"
     ]
    }
   ],
   "source": [
    "print(first_number)"
   ]
  },
  {
   "cell_type": "code",
   "execution_count": 199,
   "id": "8b9342fe",
   "metadata": {},
   "outputs": [
    {
     "name": "stdout",
     "output_type": "stream",
     "text": [
      "Please Enter the First Number:\n",
      "10\n",
      "Please Enter Second Number:\n",
      "0\n",
      "Please Select an Operator ex.(+,-,*,/)\n",
      "/\n"
     ]
    }
   ],
   "source": [
    "first_number = int(input(\"Please Enter the First Number:\\n\"))\n",
    "second_number = int(input(\"Please Enter Second Number:\\n\"))\n",
    "operator = input(\"Please Select an Operator ex.(+,-,*,/)\\n\")"
   ]
  },
  {
   "cell_type": "code",
   "execution_count": 6,
   "id": "376478e9",
   "metadata": {},
   "outputs": [
    {
     "name": "stdout",
     "output_type": "stream",
     "text": [
      "Please Enter the First Number:\n",
      "10\n",
      "Please Enter Second Number:\n",
      "10\n",
      "Please Select an Operator ex.(+,-,*,/, Or exit)\n",
      "ExIt\n"
     ]
    }
   ],
   "source": [
    "while True:\n",
    "    first_number = int(input(\"Please Enter the First Number:\\n\"))\n",
    "    second_number = int(input(\"Please Enter Second Number:\\n\"))\n",
    "    operator = input(\"Please Select an Operator ex.(+,-,*,/, Or exit)\\n\").lower()\n",
    "    if operator == '+' :\n",
    "        print(first_number + second_number)\n",
    "    elif operator == '-':\n",
    "        print(first_number - second_number)\n",
    "    elif operator == '*':\n",
    "        print(first_number * second_number)\n",
    "    elif operator == '/' :\n",
    "        if second_number == 0 :\n",
    "            print(\"You can't devide by 0\")\n",
    "            second_number = int(input(\"Please Enter Second Number Again :\\n\"))\n",
    "            print(first_number / second_number)\n",
    "        print(first_number / second_number)\n",
    "    elif operator == 'exit':\n",
    "        break\n",
    "    else :\n",
    "        print(\"You choosed wrong operator! \")"
   ]
  },
  {
   "cell_type": "code",
   "execution_count": 108,
   "id": "82720236",
   "metadata": {},
   "outputs": [
    {
     "data": {
      "text/plain": [
       "int"
      ]
     },
     "execution_count": 108,
     "metadata": {},
     "output_type": "execute_result"
    }
   ],
   "source": [
    "type(first_number)"
   ]
  },
  {
   "cell_type": "code",
   "execution_count": 105,
   "id": "02861c13",
   "metadata": {},
   "outputs": [
    {
     "data": {
      "text/plain": [
       "'105'"
      ]
     },
     "execution_count": 105,
     "metadata": {},
     "output_type": "execute_result"
    }
   ],
   "source": [
    "\"10\" +\"5\""
   ]
  },
  {
   "cell_type": "code",
   "execution_count": 151,
   "id": "986571bd",
   "metadata": {},
   "outputs": [
    {
     "data": {
      "text/plain": [
       "2"
      ]
     },
     "execution_count": 151,
     "metadata": {},
     "output_type": "execute_result"
    }
   ],
   "source": [
    "x = \"  \"\n",
    "len(x)\n"
   ]
  },
  {
   "cell_type": "code",
   "execution_count": 142,
   "id": "266cf3f1",
   "metadata": {},
   "outputs": [
    {
     "name": "stdout",
     "output_type": "stream",
     "text": [
      "**************************************************\n",
      "\t\tWelcome to the project!\n"
     ]
    }
   ],
   "source": [
    "print('*'*50)\n",
    "print('\\t\\tWelcome to the project!')"
   ]
  },
  {
   "cell_type": "code",
   "execution_count": 152,
   "id": "dec266c1",
   "metadata": {},
   "outputs": [
    {
     "data": {
      "text/plain": [
       "True"
      ]
     },
     "execution_count": 152,
     "metadata": {},
     "output_type": "execute_result"
    }
   ],
   "source": [
    "bool(x)"
   ]
  },
  {
   "cell_type": "code",
   "execution_count": 157,
   "id": "f5116774",
   "metadata": {},
   "outputs": [
    {
     "name": "stdout",
     "output_type": "stream",
     "text": [
      "This is always printed.\n"
     ]
    }
   ],
   "source": [
    "num = 3\n",
    "if num < 0:\n",
    "    print(num, \"is a positive number.\")\n",
    "print(\"This is always printed.\")"
   ]
  },
  {
   "cell_type": "code",
   "execution_count": null,
   "id": "2d1ccc8a",
   "metadata": {},
   "outputs": [],
   "source": [
    "((x+12)^2-y^3)) by 9\n",
    "\n",
    "(x+12)**2-y**3 // 9"
   ]
  },
  {
   "cell_type": "code",
   "execution_count": 159,
   "id": "7dc5ef3a",
   "metadata": {},
   "outputs": [
    {
     "data": {
      "text/plain": [
       "'5'"
      ]
     },
     "execution_count": 159,
     "metadata": {},
     "output_type": "execute_result"
    }
   ],
   "source": [
    "x=5\n",
    "str(x)\n"
   ]
  },
  {
   "cell_type": "code",
   "execution_count": 167,
   "id": "ba5cc5fc",
   "metadata": {},
   "outputs": [],
   "source": [
    "numbers = [1,2,3,4,5]\n"
   ]
  },
  {
   "cell_type": "code",
   "execution_count": 171,
   "id": "3fb83557",
   "metadata": {},
   "outputs": [
    {
     "name": "stdout",
     "output_type": "stream",
     "text": [
      "2\n",
      "4\n",
      "6\n",
      "8\n",
      "10\n"
     ]
    }
   ],
   "source": [
    "for number in numbers :\n",
    "    # number = number * 2\n",
    "    number *= 2 \n",
    "    print(number)\n"
   ]
  },
  {
   "cell_type": "code",
   "execution_count": 172,
   "id": "8df76d65",
   "metadata": {},
   "outputs": [
    {
     "name": "stdout",
     "output_type": "stream",
     "text": [
      "10\n"
     ]
    }
   ],
   "source": [
    "print(number)"
   ]
  },
  {
   "cell_type": "code",
   "execution_count": 176,
   "id": "6f7a498f",
   "metadata": {},
   "outputs": [
    {
     "name": "stdout",
     "output_type": "stream",
     "text": [
      "0\n",
      "2\n",
      "4\n",
      "6\n",
      "8\n"
     ]
    }
   ],
   "source": [
    "for i in range(5):\n",
    "    i += i\n",
    "    print(i)\n",
    "    "
   ]
  },
  {
   "cell_type": "code",
   "execution_count": 190,
   "id": "9025ba53",
   "metadata": {},
   "outputs": [
    {
     "name": "stdout",
     "output_type": "stream",
     "text": [
      "0\n",
      "70\n",
      "140\n",
      "210\n",
      "280\n",
      "350\n",
      "420\n",
      "490\n",
      "560\n",
      "630\n",
      "700\n",
      "770\n",
      "840\n",
      "910\n",
      "980\n"
     ]
    }
   ],
   "source": [
    "for i in range(0,1001,10):\n",
    "    if i % 7 == 0 and i % 5 == 0:\n",
    "        print(i)\n",
    "    "
   ]
  },
  {
   "cell_type": "code",
   "execution_count": 181,
   "id": "29c79d15",
   "metadata": {},
   "outputs": [
    {
     "name": "stdout",
     "output_type": "stream",
     "text": [
      "100\n"
     ]
    }
   ],
   "source": [
    "print(i)"
   ]
  },
  {
   "cell_type": "code",
   "execution_count": 195,
   "id": "73903212",
   "metadata": {},
   "outputs": [
    {
     "name": "stdout",
     "output_type": "stream",
     "text": [
      "M\n",
      "M*\n",
      "o\n",
      "M*o*\n",
      "h\n",
      "M*o*h*\n",
      "a\n",
      "M*o*h*a*\n",
      "m\n",
      "M*o*h*a*m*\n",
      "e\n",
      "M*o*h*a*m*e*\n",
      "d\n",
      "M*o*h*a*m*e*d*\n"
     ]
    }
   ],
   "source": [
    "name = \"Mohamed\"\n",
    "x = ''\n",
    "for i in name:\n",
    "    print(i)\n",
    "    x = x +i + \"*\"\n",
    "    print(x)"
   ]
  },
  {
   "cell_type": "code",
   "execution_count": 198,
   "id": "b434ef02",
   "metadata": {},
   "outputs": [
    {
     "name": "stdout",
     "output_type": "stream",
     "text": [
      "1\n",
      "3\n",
      "6\n",
      "10\n",
      "15\n",
      "21\n",
      "28\n",
      "36\n",
      "45\n",
      "55\n",
      "The sum is 55\n"
     ]
    }
   ],
   "source": [
    "summ = 0 \n",
    "i = 1 \n",
    "while i <= 10:\n",
    "    summ = summ + i\n",
    "    print(summ)\n",
    "    i = i+1    # update counter\n",
    "\n",
    "print(\"The sum is\", summ) # print the sum"
   ]
  },
  {
   "cell_type": "code",
   "execution_count": null,
   "id": "8e4f80cc",
   "metadata": {},
   "outputs": [],
   "source": []
  },
  {
   "cell_type": "code",
   "execution_count": null,
   "id": "09d2b595",
   "metadata": {},
   "outputs": [],
   "source": []
  },
  {
   "cell_type": "code",
   "execution_count": null,
   "id": "19bed8c7",
   "metadata": {},
   "outputs": [],
   "source": []
  },
  {
   "cell_type": "code",
   "execution_count": null,
   "id": "84fd7b32",
   "metadata": {},
   "outputs": [],
   "source": []
  }
 ],
 "metadata": {
  "kernelspec": {
   "display_name": "Python 3 (ipykernel)",
   "language": "python",
   "name": "python3"
  },
  "language_info": {
   "codemirror_mode": {
    "name": "ipython",
    "version": 3
   },
   "file_extension": ".py",
   "mimetype": "text/x-python",
   "name": "python",
   "nbconvert_exporter": "python",
   "pygments_lexer": "ipython3",
   "version": "3.9.15"
  }
 },
 "nbformat": 4,
 "nbformat_minor": 5
}
