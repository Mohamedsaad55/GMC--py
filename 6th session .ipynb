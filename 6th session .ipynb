{
 "cells": [
  {
   "cell_type": "code",
   "execution_count": 1,
   "id": "74994a39",
   "metadata": {},
   "outputs": [],
   "source": [
    "ls = [1,2,3,4,5]\n",
    "result = 1 \n",
    "for i in ls :\n",
    "    result *=i\n"
   ]
  },
  {
   "cell_type": "code",
   "execution_count": 16,
   "id": "a3ec4de5",
   "metadata": {},
   "outputs": [],
   "source": [
    "d = {\"name\" : \"mohamed\",\"last_name\":\"saad\"}\n",
    "\n",
    "def upper(d):\n",
    "    new_dict = {}\n",
    "    for key , value in d.items():\n",
    "        new_dict[key] = value.capitalize()\n",
    "    return new_dict\n",
    "    \n",
    "\n",
    "    "
   ]
  },
  {
   "cell_type": "code",
   "execution_count": 17,
   "id": "a3b23d88",
   "metadata": {},
   "outputs": [
    {
     "data": {
      "text/plain": [
       "{'name': 'Mohamed', 'last_name': 'Saad'}"
      ]
     },
     "execution_count": 17,
     "metadata": {},
     "output_type": "execute_result"
    }
   ],
   "source": [
    "upper(d)"
   ]
  },
  {
   "cell_type": "code",
   "execution_count": null,
   "id": "e0bcd660",
   "metadata": {},
   "outputs": [],
   "source": []
  },
  {
   "cell_type": "code",
   "execution_count": 18,
   "id": "58cf8f51",
   "metadata": {},
   "outputs": [],
   "source": [
    "numbers = (1,50,654654,23132132,54654231,87987,564654654,231654231)\n",
    "\n",
    "def heighst_num (numbers):\n",
    "    return max(numbers)"
   ]
  },
  {
   "cell_type": "code",
   "execution_count": 19,
   "id": "cfbe22aa",
   "metadata": {},
   "outputs": [
    {
     "data": {
      "text/plain": [
       "564654654"
      ]
     },
     "execution_count": 19,
     "metadata": {},
     "output_type": "execute_result"
    }
   ],
   "source": [
    "heighst_num(numbers)"
   ]
  },
  {
   "cell_type": "code",
   "execution_count": null,
   "id": "6e758752",
   "metadata": {},
   "outputs": [],
   "source": []
  },
  {
   "cell_type": "code",
   "execution_count": 20,
   "id": "fbfa85d0",
   "metadata": {},
   "outputs": [],
   "source": [
    "d = {\"name\" : \"mohamed\",\"last_name\":\"saad\"}\n",
    "def ay_7aga (word):\n",
    "    large = \"\"\n",
    "    for i in word :\n",
    "        if len(i) > len(large):\n",
    "            large = i \n",
    "    return large\n",
    "        "
   ]
  },
  {
   "cell_type": "code",
   "execution_count": 21,
   "id": "0117a83b",
   "metadata": {},
   "outputs": [
    {
     "data": {
      "text/plain": [
       "'last_name'"
      ]
     },
     "execution_count": 21,
     "metadata": {},
     "output_type": "execute_result"
    }
   ],
   "source": [
    "ay_7aga(d)"
   ]
  },
  {
   "cell_type": "code",
   "execution_count": 22,
   "id": "ca271e6a",
   "metadata": {},
   "outputs": [],
   "source": [
    "def calc(x,y):\n",
    "    return x+y , x-y"
   ]
  },
  {
   "cell_type": "code",
   "execution_count": 23,
   "id": "09669073",
   "metadata": {},
   "outputs": [
    {
     "data": {
      "text/plain": [
       "(15, 5)"
      ]
     },
     "execution_count": 23,
     "metadata": {},
     "output_type": "execute_result"
    }
   ],
   "source": [
    "calc(10,5)"
   ]
  },
  {
   "cell_type": "code",
   "execution_count": 26,
   "id": "5cf122fe",
   "metadata": {},
   "outputs": [],
   "source": [
    "def summ(*numbers):\n",
    "    return sum(numbers)"
   ]
  },
  {
   "cell_type": "code",
   "execution_count": 39,
   "id": "65752e49",
   "metadata": {},
   "outputs": [
    {
     "data": {
      "text/plain": [
       "1094045440"
      ]
     },
     "execution_count": 39,
     "metadata": {},
     "output_type": "execute_result"
    }
   ],
   "source": [
    "summ(5,10,541564564,5456556,46,54,564,65,4,65,46,54,654,65,10,541564564,5456556,46,54,564,65,4,65,46,54,654,6)"
   ]
  },
  {
   "cell_type": "code",
   "execution_count": 44,
   "id": "dc40d161",
   "metadata": {},
   "outputs": [],
   "source": [
    "def a (**d):\n",
    "    print(\"Hello my first name is \" + d[\"name\"] + d[\"last_name\"])"
   ]
  },
  {
   "cell_type": "code",
   "execution_count": 45,
   "id": "1539f419",
   "metadata": {},
   "outputs": [
    {
     "name": "stdout",
     "output_type": "stream",
     "text": [
      "Hello my first name is Mohamedsaad\n"
     ]
    }
   ],
   "source": [
    "a(name =\"Mohamed\" , last_name = \"saad\")"
   ]
  },
  {
   "cell_type": "code",
   "execution_count": 55,
   "id": "33dcb763",
   "metadata": {},
   "outputs": [],
   "source": [
    "sum_numbers = lambda x,y : x+y"
   ]
  },
  {
   "cell_type": "code",
   "execution_count": 50,
   "id": "1b8d1593",
   "metadata": {},
   "outputs": [
    {
     "data": {
      "text/plain": [
       "10"
      ]
     },
     "execution_count": 50,
     "metadata": {},
     "output_type": "execute_result"
    }
   ],
   "source": [
    "sum_numbers(5,5)"
   ]
  },
  {
   "cell_type": "code",
   "execution_count": 80,
   "id": "37f0b8ef",
   "metadata": {},
   "outputs": [],
   "source": [
    "ls = [\"mohamed\",\"Youssef\",\"Omar\",\"Sabrien\", \"Samar\", \"Mohamed\"]\n",
    "def length(l):\n",
    "    ls = []\n",
    "    for i in l:\n",
    "        ls.append(len(i))"
   ]
  },
  {
   "cell_type": "code",
   "execution_count": 84,
   "id": "38dc8ba7",
   "metadata": {},
   "outputs": [],
   "source": [
    "x = map(len, ls)"
   ]
  },
  {
   "cell_type": "code",
   "execution_count": 85,
   "id": "602b5a67",
   "metadata": {},
   "outputs": [
    {
     "name": "stdout",
     "output_type": "stream",
     "text": [
      "{4, 5, 7}\n"
     ]
    }
   ],
   "source": [
    "print(set(x))"
   ]
  },
  {
   "cell_type": "code",
   "execution_count": 1,
   "id": "c59314b0",
   "metadata": {},
   "outputs": [],
   "source": [
    " class Car :\n",
    "        def __init__(self,color,model,brand):\n",
    "            self.color = color\n",
    "            self.model = model\n",
    "            self.brand = brand\n",
    "        def change_color(self,new_color):\n",
    "                self.color = new_color\n",
    "        "
   ]
  },
  {
   "cell_type": "code",
   "execution_count": 5,
   "id": "f0f36d02",
   "metadata": {},
   "outputs": [],
   "source": [
    "nissan = Car(\"Blue\",2018,\"nissan\")"
   ]
  },
  {
   "cell_type": "code",
   "execution_count": 19,
   "id": "b9c7f30e",
   "metadata": {},
   "outputs": [],
   "source": [
    "ford = Car(\"Yellow\",2022,\"x\")"
   ]
  },
  {
   "cell_type": "code",
   "execution_count": 15,
   "id": "6618c9dc",
   "metadata": {},
   "outputs": [],
   "source": [
    "ford.change_color(\"Blue\")"
   ]
  },
  {
   "cell_type": "code",
   "execution_count": 20,
   "id": "b6f0ff84",
   "metadata": {},
   "outputs": [
    {
     "ename": "TypeError",
     "evalue": "'Car' object is not iterable",
     "output_type": "error",
     "traceback": [
      "\u001b[1;31m---------------------------------------------------------------------------\u001b[0m",
      "\u001b[1;31mTypeError\u001b[0m                                 Traceback (most recent call last)",
      "\u001b[1;32m~\\AppData\\Local\\Temp\\ipykernel_3748\\2089513471.py\u001b[0m in \u001b[0;36m<module>\u001b[1;34m\u001b[0m\n\u001b[1;32m----> 1\u001b[1;33m \u001b[0mprint\u001b[0m\u001b[1;33m(\u001b[0m\u001b[0mlist\u001b[0m\u001b[1;33m(\u001b[0m\u001b[0mford\u001b[0m\u001b[1;33m)\u001b[0m\u001b[1;33m)\u001b[0m\u001b[1;33m\u001b[0m\u001b[1;33m\u001b[0m\u001b[0m\n\u001b[0m",
      "\u001b[1;31mTypeError\u001b[0m: 'Car' object is not iterable"
     ]
    }
   ],
   "source": [
    "print(ford)"
   ]
  },
  {
   "cell_type": "code",
   "execution_count": null,
   "id": "a7cadbb2",
   "metadata": {},
   "outputs": [],
   "source": []
  },
  {
   "cell_type": "code",
   "execution_count": null,
   "id": "6f300959",
   "metadata": {},
   "outputs": [],
   "source": []
  },
  {
   "cell_type": "code",
   "execution_count": null,
   "id": "f2dd427a",
   "metadata": {},
   "outputs": [],
   "source": []
  },
  {
   "cell_type": "code",
   "execution_count": null,
   "id": "e516b4a4",
   "metadata": {},
   "outputs": [],
   "source": []
  },
  {
   "cell_type": "code",
   "execution_count": null,
   "id": "12ba5ff6",
   "metadata": {},
   "outputs": [],
   "source": []
  },
  {
   "cell_type": "code",
   "execution_count": null,
   "id": "7a457447",
   "metadata": {},
   "outputs": [],
   "source": []
  },
  {
   "cell_type": "code",
   "execution_count": null,
   "id": "30c88b89",
   "metadata": {},
   "outputs": [],
   "source": []
  },
  {
   "cell_type": "code",
   "execution_count": null,
   "id": "1c500a9a",
   "metadata": {},
   "outputs": [],
   "source": []
  },
  {
   "cell_type": "code",
   "execution_count": null,
   "id": "063c72eb",
   "metadata": {},
   "outputs": [],
   "source": []
  },
  {
   "cell_type": "code",
   "execution_count": null,
   "id": "e22848ad",
   "metadata": {},
   "outputs": [],
   "source": []
  },
  {
   "cell_type": "code",
   "execution_count": null,
   "id": "fd44f237",
   "metadata": {},
   "outputs": [],
   "source": []
  },
  {
   "cell_type": "code",
   "execution_count": null,
   "id": "b44b9b1d",
   "metadata": {},
   "outputs": [],
   "source": []
  },
  {
   "cell_type": "code",
   "execution_count": null,
   "id": "6e3f3bb9",
   "metadata": {},
   "outputs": [],
   "source": []
  },
  {
   "cell_type": "code",
   "execution_count": 24,
   "id": "6c5facd3",
   "metadata": {},
   "outputs": [],
   "source": [
    "class Students :\n",
    "    def __init__(self,name,age,grade):\n",
    "        self.name = name\n",
    "        self.age = age \n",
    "        self.grade = grade\n",
    "class Students_mgt_sys :\n",
    "    def __init__(self):\n",
    "        self.students = []\n",
    "        \n",
    "    def add_student(self,name,age,grade):\n",
    "        student = Students(name,age,grade)\n",
    "        self.students.append(student)\n",
    "        print (\"Student Added Susccefully!!\")\n",
    "        \n",
    "    def update_student(self,name,age,grade):\n",
    "        for student in self.students:\n",
    "            if student.name == name :\n",
    "                student.age = age\n",
    "                student.grade = grade\n",
    "                print(\"Student Data updated Successfully !!\")\n",
    "                return\n",
    "            print(\"Student not Found\")\n",
    "    def display (self):\n",
    "        for student in self.students:\n",
    "            print(f\"Name : {student.name} , Age : {student.age} , Grade : {student.grade}\")\n",
    "            \n",
    "    def menu (self):\n",
    "        print(\"1 : Add Student\")\n",
    "        print(\"2 : Edit Student\")\n",
    "        print(\"3 : Display Students\")\n",
    "        print(\"4 : Quit\")\n",
    "        \n",
    "    def run(self):\n",
    "        while True :\n",
    "            self.menu()\n",
    "            choice = input(\"Enter your Option Number\")\n",
    "            if choice == \"4\":\n",
    "                break\n",
    "            elif choice == \"1\":\n",
    "                name = input(\"Please Enter Student Name: \")\n",
    "                age =  input(\"Please Enter Student Age: \")\n",
    "                grade =  input(\"Please Enter Student Grade: \")\n",
    "                self.add_student(name , age , grade)\n",
    "            elif choice == \"2\":\n",
    "                \n",
    "                name = input(\"Please Enter Student Name: \")\n",
    "                age =  input(\"Please Enter Student Age: \")\n",
    "                grade =  input(\"Please Enter Student Grade: \")\n",
    "                self.update_student(name , age, grade)\n",
    "            elif choice == \"3\":\n",
    "                self.display()\n",
    "            else :\n",
    "                print(\"This is not a Valid option\")"
   ]
  },
  {
   "cell_type": "code",
   "execution_count": 25,
   "id": "8155900f",
   "metadata": {},
   "outputs": [],
   "source": [
    "sys = Students_mgt_sys()"
   ]
  },
  {
   "cell_type": "code",
   "execution_count": 26,
   "id": "3c1cfae5",
   "metadata": {},
   "outputs": [
    {
     "name": "stdout",
     "output_type": "stream",
     "text": [
      "1 : Add Student\n",
      "2 : Edit Student\n",
      "3 : Display Students\n",
      "4 : Quit\n",
      "Enter your Option Number1\n",
      "Please Enter Student Name: Mohamed\n",
      "Please Enter Student Age: 27\n",
      "Please Enter Student Grade: 50\n",
      "Student Added Susccefully!!\n",
      "1 : Add Student\n",
      "2 : Edit Student\n",
      "3 : Display Students\n",
      "4 : Quit\n",
      "Enter your Option Number3\n",
      "Name : Mohamed , Age : 27 , Grade : 50\n",
      "1 : Add Student\n",
      "2 : Edit Student\n",
      "3 : Display Students\n",
      "4 : Quit\n",
      "Enter your Option Number1\n",
      "Please Enter Student Name: Youssef\n",
      "Please Enter Student Age: 18\n",
      "Please Enter Student Grade: 99\n",
      "Student Added Susccefully!!\n",
      "1 : Add Student\n",
      "2 : Edit Student\n",
      "3 : Display Students\n",
      "4 : Quit\n",
      "Enter your Option Number3\n",
      "Name : Mohamed , Age : 27 , Grade : 50\n",
      "Name : Youssef , Age : 18 , Grade : 99\n",
      "1 : Add Student\n",
      "2 : Edit Student\n",
      "3 : Display Students\n",
      "4 : Quit\n",
      "Enter your Option Number2\n",
      "Please Enter Student Name: omar\n",
      "Please Enter Student Age: 5\n",
      "Please Enter Student Grade: 5\n",
      "Student not Found\n",
      "Student not Found\n",
      "1 : Add Student\n",
      "2 : Edit Student\n",
      "3 : Display Students\n",
      "4 : Quit\n",
      "Enter your Option Number2\n",
      "Please Enter Student Name: Youssef\n",
      "Please Enter Student Age: 18\n",
      "Please Enter Student Grade: 80\n",
      "Student not Found\n",
      "Student Data updated Successfully !!\n",
      "1 : Add Student\n",
      "2 : Edit Student\n",
      "3 : Display Students\n",
      "4 : Quit\n",
      "Enter your Option Number3\n",
      "Name : Mohamed , Age : 27 , Grade : 50\n",
      "Name : Youssef , Age : 18 , Grade : 80\n",
      "1 : Add Student\n",
      "2 : Edit Student\n",
      "3 : Display Students\n",
      "4 : Quit\n",
      "Enter your Option Number4\n"
     ]
    }
   ],
   "source": [
    "sys.run()"
   ]
  },
  {
   "cell_type": "code",
   "execution_count": null,
   "id": "afbb03ef",
   "metadata": {},
   "outputs": [],
   "source": []
  },
  {
   "cell_type": "code",
   "execution_count": null,
   "id": "63b75291",
   "metadata": {},
   "outputs": [],
   "source": []
  },
  {
   "cell_type": "code",
   "execution_count": null,
   "id": "dc33f886",
   "metadata": {},
   "outputs": [],
   "source": []
  },
  {
   "cell_type": "code",
   "execution_count": null,
   "id": "58804fe2",
   "metadata": {},
   "outputs": [],
   "source": []
  },
  {
   "cell_type": "code",
   "execution_count": null,
   "id": "7c5503b8",
   "metadata": {},
   "outputs": [],
   "source": []
  },
  {
   "cell_type": "code",
   "execution_count": null,
   "id": "c2d60f33",
   "metadata": {},
   "outputs": [],
   "source": []
  },
  {
   "cell_type": "code",
   "execution_count": null,
   "id": "03e219ad",
   "metadata": {},
   "outputs": [],
   "source": []
  },
  {
   "cell_type": "code",
   "execution_count": null,
   "id": "6599593d",
   "metadata": {},
   "outputs": [],
   "source": []
  },
  {
   "cell_type": "code",
   "execution_count": null,
   "id": "e84e2e64",
   "metadata": {},
   "outputs": [],
   "source": []
  },
  {
   "cell_type": "code",
   "execution_count": null,
   "id": "32f3ca85",
   "metadata": {},
   "outputs": [],
   "source": []
  },
  {
   "cell_type": "code",
   "execution_count": null,
   "id": "064afefa",
   "metadata": {},
   "outputs": [],
   "source": []
  },
  {
   "cell_type": "code",
   "execution_count": null,
   "id": "484d1a04",
   "metadata": {},
   "outputs": [],
   "source": []
  },
  {
   "cell_type": "code",
   "execution_count": null,
   "id": "844bb56d",
   "metadata": {},
   "outputs": [],
   "source": []
  },
  {
   "cell_type": "code",
   "execution_count": null,
   "id": "75ab94a0",
   "metadata": {},
   "outputs": [],
   "source": []
  },
  {
   "cell_type": "code",
   "execution_count": null,
   "id": "54c310ff",
   "metadata": {},
   "outputs": [],
   "source": []
  },
  {
   "cell_type": "code",
   "execution_count": null,
   "id": "ad985f76",
   "metadata": {},
   "outputs": [],
   "source": []
  },
  {
   "cell_type": "code",
   "execution_count": null,
   "id": "3eea91f4",
   "metadata": {},
   "outputs": [],
   "source": [
    "\n"
   ]
  }
 ],
 "metadata": {
  "kernelspec": {
   "display_name": "Python 3 (ipykernel)",
   "language": "python",
   "name": "python3"
  },
  "language_info": {
   "codemirror_mode": {
    "name": "ipython",
    "version": 3
   },
   "file_extension": ".py",
   "mimetype": "text/x-python",
   "name": "python",
   "nbconvert_exporter": "python",
   "pygments_lexer": "ipython3",
   "version": "3.9.13"
  }
 },
 "nbformat": 4,
 "nbformat_minor": 5
}
