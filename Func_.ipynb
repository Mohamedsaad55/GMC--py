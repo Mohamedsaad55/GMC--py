{
 "cells": [
  {
   "cell_type": "code",
   "execution_count": 2,
   "id": "e3731cd4",
   "metadata": {},
   "outputs": [],
   "source": [
    "l = [1,2,1,1,3,4,5,8,4,2,1,5,6,4]\n",
    "l.append(5)"
   ]
  },
  {
   "cell_type": "code",
   "execution_count": 7,
   "id": "8a198b33",
   "metadata": {},
   "outputs": [
    {
     "data": {
      "text/plain": [
       "3"
      ]
     },
     "execution_count": 7,
     "metadata": {},
     "output_type": "execute_result"
    }
   ],
   "source": [
    "min(l,key=l.count)"
   ]
  },
  {
   "cell_type": "code",
   "execution_count": 8,
   "id": "281cf24c",
   "metadata": {},
   "outputs": [
    {
     "data": {
      "text/plain": [
       "4"
      ]
     },
     "execution_count": 8,
     "metadata": {},
     "output_type": "execute_result"
    }
   ],
   "source": [
    "l.count(1)"
   ]
  },
  {
   "cell_type": "code",
   "execution_count": 45,
   "id": "3df7b2bc",
   "metadata": {},
   "outputs": [],
   "source": [
    "def d_counter (listt):\n",
    "    result = max(listt,key=l.count)\n",
    "    return result"
   ]
  },
  {
   "cell_type": "code",
   "execution_count": 44,
   "id": "fb6af422",
   "metadata": {},
   "outputs": [
    {
     "data": {
      "text/plain": [
       "2"
      ]
     },
     "execution_count": 44,
     "metadata": {},
     "output_type": "execute_result"
    }
   ],
   "source": [
    "d_counter(l)"
   ]
  },
  {
   "cell_type": "code",
   "execution_count": null,
   "id": "7ebd0d3b",
   "metadata": {},
   "outputs": [],
   "source": []
  },
  {
   "cell_type": "code",
   "execution_count": 41,
   "id": "7aeace7a",
   "metadata": {},
   "outputs": [],
   "source": [
    "l = [2,2,2,2,2,5,4,56,4]"
   ]
  },
  {
   "cell_type": "code",
   "execution_count": null,
   "id": "fc3fe950",
   "metadata": {},
   "outputs": [],
   "source": []
  },
  {
   "cell_type": "code",
   "execution_count": null,
   "id": "a8915e3b",
   "metadata": {},
   "outputs": [],
   "source": []
  },
  {
   "cell_type": "code",
   "execution_count": null,
   "id": "5df21b3e",
   "metadata": {},
   "outputs": [],
   "source": []
  },
  {
   "cell_type": "code",
   "execution_count": null,
   "id": "1706124a",
   "metadata": {},
   "outputs": [],
   "source": []
  },
  {
   "cell_type": "code",
   "execution_count": 54,
   "id": "eff396a7",
   "metadata": {},
   "outputs": [],
   "source": [
    "def sum_2 (x,y=10):\n",
    "    \"\"\"\n",
    "    sum 2 numbers \n",
    "    \n",
    "    param : x > \n",
    "            y > \n",
    "    \n",
    "    return : sum of x y \n",
    "            \n",
    "    \"\"\"\n",
    "    print(x+y)"
   ]
  },
  {
   "cell_type": "code",
   "execution_count": null,
   "id": "c52d3b87",
   "metadata": {},
   "outputs": [],
   "source": []
  },
  {
   "cell_type": "code",
   "execution_count": null,
   "id": "faa5e700",
   "metadata": {},
   "outputs": [],
   "source": []
  },
  {
   "cell_type": "code",
   "execution_count": 51,
   "id": "468b9426",
   "metadata": {},
   "outputs": [],
   "source": [
    "def greeting(name=\"GUEST\"):\n",
    "    return f\"Hello {name}\""
   ]
  },
  {
   "cell_type": "code",
   "execution_count": 53,
   "id": "be6d9d81",
   "metadata": {},
   "outputs": [
    {
     "data": {
      "text/plain": [
       "'Hello Mohamed'"
      ]
     },
     "execution_count": 53,
     "metadata": {},
     "output_type": "execute_result"
    }
   ],
   "source": [
    "greeting(\"Mohamed\")"
   ]
  },
  {
   "cell_type": "code",
   "execution_count": null,
   "id": "11f5d3c0",
   "metadata": {},
   "outputs": [],
   "source": []
  },
  {
   "cell_type": "code",
   "execution_count": null,
   "id": "e4054444",
   "metadata": {},
   "outputs": [],
   "source": []
  },
  {
   "cell_type": "code",
   "execution_count": null,
   "id": "5c17a8b9",
   "metadata": {},
   "outputs": [],
   "source": []
  },
  {
   "cell_type": "code",
   "execution_count": 57,
   "id": "76df6d82",
   "metadata": {},
   "outputs": [
    {
     "name": "stdout",
     "output_type": "stream",
     "text": [
      "15\n"
     ]
    }
   ],
   "source": [
    "sum_2(5)"
   ]
  },
  {
   "cell_type": "code",
   "execution_count": 25,
   "id": "1f226f5b",
   "metadata": {},
   "outputs": [],
   "source": [
    "max?"
   ]
  },
  {
   "cell_type": "code",
   "execution_count": null,
   "id": "42470d23",
   "metadata": {},
   "outputs": [],
   "source": []
  },
  {
   "cell_type": "code",
   "execution_count": 26,
   "id": "b70aa9c7",
   "metadata": {},
   "outputs": [],
   "source": [
    "def receipt (name, price, item):\n",
    "    \"\"\"\n",
    "    this runction prints out a receipt \n",
    "    **********************************\n",
    "    inputs >> name > Str\n",
    "              price > float\n",
    "              item > Str\n",
    "    \"\"\"\n",
    "    print(f\"Hello {name}\")\n",
    "    print(f\"You Purchased {item}\")\n",
    "    print(f\"Price \\t {price}\")"
   ]
  },
  {
   "cell_type": "code",
   "execution_count": 24,
   "id": "8bbe10ce",
   "metadata": {},
   "outputs": [
    {
     "name": "stdout",
     "output_type": "stream",
     "text": [
      "Hello Mohamed\n",
      "You Purchased Book\n",
      "Price \t 50\n"
     ]
    }
   ],
   "source": [
    "receipt(name=\"Mohamed\",item=\"Book\",price = 50)"
   ]
  },
  {
   "cell_type": "code",
   "execution_count": null,
   "id": "8da73766",
   "metadata": {},
   "outputs": [],
   "source": []
  },
  {
   "cell_type": "code",
   "execution_count": null,
   "id": "4e7581ee",
   "metadata": {},
   "outputs": [],
   "source": []
  },
  {
   "cell_type": "code",
   "execution_count": 28,
   "id": "0b120a1d",
   "metadata": {},
   "outputs": [],
   "source": [
    "receipt?"
   ]
  },
  {
   "cell_type": "code",
   "execution_count": null,
   "id": "d6e811da",
   "metadata": {},
   "outputs": [],
   "source": []
  },
  {
   "cell_type": "code",
   "execution_count": null,
   "id": "8a147867",
   "metadata": {},
   "outputs": [],
   "source": []
  },
  {
   "cell_type": "code",
   "execution_count": null,
   "id": "e2fac5ea",
   "metadata": {},
   "outputs": [],
   "source": []
  },
  {
   "cell_type": "code",
   "execution_count": null,
   "id": "f2320867",
   "metadata": {},
   "outputs": [],
   "source": [
    "def calc (x,y,op):"
   ]
  },
  {
   "cell_type": "code",
   "execution_count": null,
   "id": "6783fe7e",
   "metadata": {},
   "outputs": [],
   "source": []
  },
  {
   "cell_type": "code",
   "execution_count": 60,
   "id": "aacfaff4",
   "metadata": {},
   "outputs": [],
   "source": [
    "x = 5"
   ]
  },
  {
   "cell_type": "code",
   "execution_count": 68,
   "id": "7a849c62",
   "metadata": {},
   "outputs": [],
   "source": [
    "\n",
    "def s ():\n",
    "    global x\n",
    "    x= x +5\n",
    "    print(x)"
   ]
  },
  {
   "cell_type": "code",
   "execution_count": 71,
   "id": "fc27713f",
   "metadata": {},
   "outputs": [
    {
     "name": "stdout",
     "output_type": "stream",
     "text": [
      "10\n"
     ]
    }
   ],
   "source": [
    "print(x)"
   ]
  },
  {
   "cell_type": "code",
   "execution_count": 70,
   "id": "a3a5e9b9",
   "metadata": {},
   "outputs": [
    {
     "name": "stdout",
     "output_type": "stream",
     "text": [
      "10\n"
     ]
    }
   ],
   "source": [
    "s()"
   ]
  },
  {
   "cell_type": "code",
   "execution_count": null,
   "id": "ce0a3ebe",
   "metadata": {},
   "outputs": [],
   "source": []
  },
  {
   "cell_type": "code",
   "execution_count": null,
   "id": "3eae1a02",
   "metadata": {},
   "outputs": [],
   "source": []
  },
  {
   "cell_type": "code",
   "execution_count": 76,
   "id": "8df7609f",
   "metadata": {},
   "outputs": [],
   "source": [
    "def mean (*numbers,name):\n",
    "    summ = 0\n",
    "    for i in numbers:\n",
    "        summ += i\n",
    "        result = summ / len(numbers)\n",
    "    return result"
   ]
  },
  {
   "cell_type": "code",
   "execution_count": 77,
   "id": "546dac05",
   "metadata": {},
   "outputs": [
    {
     "data": {
      "text/plain": [
       "54.785714285714285"
      ]
     },
     "execution_count": 77,
     "metadata": {},
     "output_type": "execute_result"
    }
   ],
   "source": [
    "mean(1,2,3,3,4,5,6,7,65,54,4,54,5,554)"
   ]
  },
  {
   "cell_type": "code",
   "execution_count": null,
   "id": "85ff3741",
   "metadata": {},
   "outputs": [],
   "source": []
  },
  {
   "cell_type": "code",
   "execution_count": 90,
   "id": "f7628c71",
   "metadata": {},
   "outputs": [],
   "source": [
    "def mean (name,*numbers):\n",
    "    summ = 0\n",
    "    for i in numbers:\n",
    "        summ += i\n",
    "        result = summ / len(numbers)\n",
    "    return f\"Here's Your Result {name} : {result}\""
   ]
  },
  {
   "cell_type": "code",
   "execution_count": 94,
   "id": "23c32bf5",
   "metadata": {},
   "outputs": [
    {
     "data": {
      "text/plain": [
       "\"Here's Your Result Mohamed : 97.75\""
      ]
     },
     "execution_count": 94,
     "metadata": {},
     "output_type": "execute_result"
    }
   ],
   "source": [
    "mean(\"Mohamed\",3,3,4,5,6,7,65,54,4,54,5,554,56,4,564,65,46,54,65,46,54,5,231,65,4,654,56,4)"
   ]
  },
  {
   "cell_type": "code",
   "execution_count": null,
   "id": "09a52d4b",
   "metadata": {},
   "outputs": [],
   "source": []
  },
  {
   "cell_type": "code",
   "execution_count": null,
   "id": "5331dd44",
   "metadata": {},
   "outputs": [],
   "source": []
  },
  {
   "cell_type": "code",
   "execution_count": null,
   "id": "0c93a971",
   "metadata": {},
   "outputs": [],
   "source": []
  },
  {
   "cell_type": "code",
   "execution_count": null,
   "id": "188b8a59",
   "metadata": {},
   "outputs": [],
   "source": []
  },
  {
   "cell_type": "code",
   "execution_count": null,
   "id": "022ae415",
   "metadata": {},
   "outputs": [],
   "source": []
  },
  {
   "cell_type": "code",
   "execution_count": null,
   "id": "8f20784d",
   "metadata": {},
   "outputs": [],
   "source": []
  },
  {
   "cell_type": "markdown",
   "id": "61fe73a3",
   "metadata": {},
   "source": [
    "# Question 1\n",
    "### Write a Python function to find the largest (max) of three numbers.\n",
    "\n",
    "    For example, the max of these three numbers "
   ]
  },
  {
   "cell_type": "code",
   "execution_count": 95,
   "id": "014201d2",
   "metadata": {},
   "outputs": [],
   "source": [
    "def max_(numbers):\n",
    "    return max(numbers)"
   ]
  },
  {
   "cell_type": "code",
   "execution_count": 98,
   "id": "94b12ae1",
   "metadata": {},
   "outputs": [
    {
     "data": {
      "text/plain": [
       "123"
      ]
     },
     "execution_count": 98,
     "metadata": {},
     "output_type": "execute_result"
    }
   ],
   "source": [
    "max_([123,5,46,65,4,65,4])"
   ]
  },
  {
   "cell_type": "code",
   "execution_count": null,
   "id": "839cf784",
   "metadata": {},
   "outputs": [],
   "source": []
  },
  {
   "cell_type": "markdown",
   "id": "e4995293",
   "metadata": {},
   "source": [
    "# Question 3\n",
    "\n",
    "### Write a function that sums the elements of a list of integers.\n",
    "### Write a function that multiplies the elements of an integer list.\n",
    "### Use the two functions to sum the elements whose position is an even number (0,2,4…) and multiply the rest.\n"
   ]
  },
  {
   "cell_type": "code",
   "execution_count": 101,
   "id": "3ad5e238",
   "metadata": {},
   "outputs": [],
   "source": [
    "def sum_(ali):\n",
    "    return sum(ali)\n",
    "\n",
    "def ml (ali):\n",
    "    result = 1\n",
    "    for i in ali :\n",
    "        result *= i\n",
    "    return result\n",
    "def sum_ml(ali):\n",
    "    even = ali[::2]\n",
    "    odd = ali[1::2]\n",
    "    sum_even = sum_(even)\n",
    "    mul = ml(odd)\n",
    "    return sum_even , mul\n",
    "\n",
    "    "
   ]
  },
  {
   "cell_type": "code",
   "execution_count": 103,
   "id": "e3e92633",
   "metadata": {},
   "outputs": [
    {
     "data": {
      "text/plain": [
       "(14, 1120)"
      ]
     },
     "execution_count": 103,
     "metadata": {},
     "output_type": "execute_result"
    }
   ],
   "source": [
    "sum_ml(l)"
   ]
  },
  {
   "cell_type": "code",
   "execution_count": 100,
   "id": "51f640c5",
   "metadata": {},
   "outputs": [
    {
     "data": {
      "text/plain": [
       "[2, 2, 2, 4, 4]"
      ]
     },
     "execution_count": 100,
     "metadata": {},
     "output_type": "execute_result"
    }
   ],
   "source": [
    "l[::2]"
   ]
  },
  {
   "cell_type": "code",
   "execution_count": 104,
   "id": "09b2c100",
   "metadata": {},
   "outputs": [
    {
     "data": {
      "text/plain": [
       "[2, 2, 2, 2, 2, 5, 4, 56, 4]"
      ]
     },
     "execution_count": 104,
     "metadata": {},
     "output_type": "execute_result"
    }
   ],
   "source": [
    "l"
   ]
  },
  {
   "cell_type": "code",
   "execution_count": null,
   "id": "60d394ca",
   "metadata": {},
   "outputs": [],
   "source": []
  },
  {
   "cell_type": "code",
   "execution_count": 109,
   "id": "14f63deb",
   "metadata": {},
   "outputs": [],
   "source": [
    "summ = lambda x,y : x+y if x == 10 else x*y "
   ]
  },
  {
   "cell_type": "code",
   "execution_count": 111,
   "id": "a7d37b5c",
   "metadata": {},
   "outputs": [
    {
     "data": {
      "text/plain": [
       "1000"
      ]
     },
     "execution_count": 111,
     "metadata": {},
     "output_type": "execute_result"
    }
   ],
   "source": [
    "summ(100,10)"
   ]
  },
  {
   "cell_type": "code",
   "execution_count": 112,
   "id": "4afd1d28",
   "metadata": {},
   "outputs": [],
   "source": [
    "t = [\"Mohamed\" , \"Mohameed\" , \"Shymaa\" , \"Ali\"]"
   ]
  },
  {
   "cell_type": "code",
   "execution_count": 121,
   "id": "ef6ca69b",
   "metadata": {},
   "outputs": [],
   "source": [
    "le = list(map(greeting,t))"
   ]
  },
  {
   "cell_type": "code",
   "execution_count": 122,
   "id": "8c9cb671",
   "metadata": {},
   "outputs": [
    {
     "data": {
      "text/plain": [
       "['Hello Mohamed', 'Hello Mohameed', 'Hello Shymaa', 'Hello Ali']"
      ]
     },
     "execution_count": 122,
     "metadata": {},
     "output_type": "execute_result"
    }
   ],
   "source": [
    "le"
   ]
  },
  {
   "cell_type": "code",
   "execution_count": 123,
   "id": "36f11a70",
   "metadata": {},
   "outputs": [],
   "source": [
    "greeting?"
   ]
  },
  {
   "cell_type": "code",
   "execution_count": null,
   "id": "7a3d3b85",
   "metadata": {},
   "outputs": [],
   "source": []
  },
  {
   "cell_type": "code",
   "execution_count": null,
   "id": "94f34e85",
   "metadata": {},
   "outputs": [],
   "source": []
  },
  {
   "cell_type": "markdown",
   "id": "9ca196b9",
   "metadata": {},
   "source": [
    "# Queestion 4 \n",
    "### write a function that displays the first letter of the dictionary value in upper case by using the return statement."
   ]
  },
  {
   "cell_type": "code",
   "execution_count": 128,
   "id": "b3a79720",
   "metadata": {},
   "outputs": [],
   "source": [
    "d = {\"name\" : \"mohamed\"}"
   ]
  },
  {
   "cell_type": "code",
   "execution_count": 131,
   "id": "b64ac8d1",
   "metadata": {},
   "outputs": [],
   "source": [
    "def first_(d):\n",
    "    new_d = {}\n",
    "    for key , value in d.items():\n",
    "        new_d[key] = value.capitalize()\n",
    "    return new_d"
   ]
  },
  {
   "cell_type": "code",
   "execution_count": 132,
   "id": "96dd66bf",
   "metadata": {},
   "outputs": [
    {
     "data": {
      "text/plain": [
       "{'name': 'Mohamed'}"
      ]
     },
     "execution_count": 132,
     "metadata": {},
     "output_type": "execute_result"
    }
   ],
   "source": [
    "first_(d)"
   ]
  },
  {
   "cell_type": "code",
   "execution_count": null,
   "id": "9560e61e",
   "metadata": {},
   "outputs": [],
   "source": []
  },
  {
   "cell_type": "markdown",
   "id": "c7c7f971",
   "metadata": {},
   "source": [
    "# Question 6\n",
    "### Write a Python program that accepts a hyphen-separated sequence of words as input and prints the words in a hyphen-separated sequence after sorting them alphabetically.\n",
    "\n",
    "    Sample items: green-red-yellow-black-white\n",
    "\n",
    "    Expected result: black-green-red-white-yellow\n",
    "\n",
    "    Hint: There's a split function to separate your input string into words and a sort function to sort."
   ]
  },
  {
   "cell_type": "code",
   "execution_count": 166,
   "id": "970f1ad2",
   "metadata": {},
   "outputs": [],
   "source": [
    "str.split?"
   ]
  },
  {
   "cell_type": "code",
   "execution_count": 162,
   "id": "148f2065",
   "metadata": {},
   "outputs": [],
   "source": [
    "x = \"green-red-yellow-black-white\".split('-')"
   ]
  },
  {
   "cell_type": "code",
   "execution_count": 135,
   "id": "fc19c019",
   "metadata": {},
   "outputs": [],
   "source": [
    "x.sort()"
   ]
  },
  {
   "cell_type": "code",
   "execution_count": null,
   "id": "5ad9fbb0",
   "metadata": {},
   "outputs": [],
   "source": []
  },
  {
   "cell_type": "code",
   "execution_count": 148,
   "id": "aeefeede",
   "metadata": {},
   "outputs": [],
   "source": [
    "y = \"\"\n",
    "for i in x :\n",
    "    y = y+ i+\"-\""
   ]
  },
  {
   "cell_type": "code",
   "execution_count": 149,
   "id": "116058e3",
   "metadata": {},
   "outputs": [
    {
     "data": {
      "text/plain": [
       "'black-green-red-white-yellow-'"
      ]
     },
     "execution_count": 149,
     "metadata": {},
     "output_type": "execute_result"
    }
   ],
   "source": [
    "y"
   ]
  },
  {
   "cell_type": "code",
   "execution_count": null,
   "id": "35743c6b",
   "metadata": {},
   "outputs": [],
   "source": []
  },
  {
   "cell_type": "code",
   "execution_count": 159,
   "id": "9a432dc4",
   "metadata": {},
   "outputs": [],
   "source": [
    "def hy (y):\n",
    "    l = \"\"\n",
    "    x = y.split(\"-\")\n",
    "    x.sort()\n",
    "    for i in x:\n",
    "        l = l+i+\"-\"\n",
    "    return l[:-1]"
   ]
  },
  {
   "cell_type": "code",
   "execution_count": 161,
   "id": "982aa3fe",
   "metadata": {},
   "outputs": [
    {
     "data": {
      "text/plain": [
       "'black-green-red-white-yellow'"
      ]
     },
     "execution_count": 161,
     "metadata": {},
     "output_type": "execute_result"
    }
   ],
   "source": [
    "hy(\"green-red-yellow-black-white\")"
   ]
  },
  {
   "cell_type": "code",
   "execution_count": null,
   "id": "f7f00125",
   "metadata": {},
   "outputs": [],
   "source": []
  },
  {
   "cell_type": "code",
   "execution_count": null,
   "id": "0df6a4ff",
   "metadata": {},
   "outputs": [],
   "source": []
  },
  {
   "cell_type": "code",
   "execution_count": null,
   "id": "2cbce070",
   "metadata": {},
   "outputs": [],
   "source": []
  },
  {
   "cell_type": "code",
   "execution_count": null,
   "id": "8ac28ff6",
   "metadata": {},
   "outputs": [],
   "source": []
  },
  {
   "cell_type": "code",
   "execution_count": null,
   "id": "5a06fa5c",
   "metadata": {},
   "outputs": [],
   "source": []
  },
  {
   "cell_type": "code",
   "execution_count": null,
   "id": "242dbcf4",
   "metadata": {},
   "outputs": [],
   "source": []
  }
 ],
 "metadata": {
  "kernelspec": {
   "display_name": "Python 3 (ipykernel)",
   "language": "python",
   "name": "python3"
  },
  "language_info": {
   "codemirror_mode": {
    "name": "ipython",
    "version": 3
   },
   "file_extension": ".py",
   "mimetype": "text/x-python",
   "name": "python",
   "nbconvert_exporter": "python",
   "pygments_lexer": "ipython3",
   "version": "3.9.15"
  }
 },
 "nbformat": 4,
 "nbformat_minor": 5
}
