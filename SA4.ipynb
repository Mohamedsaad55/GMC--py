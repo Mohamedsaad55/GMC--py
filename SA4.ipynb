{
 "cells": [
  {
   "cell_type": "code",
   "execution_count": 1,
   "id": "8803f19b",
   "metadata": {},
   "outputs": [
    {
     "data": {
      "text/plain": [
       "3"
      ]
     },
     "execution_count": 1,
     "metadata": {},
     "output_type": "execute_result"
    }
   ],
   "source": [
    "l = [1,2,3]\n",
    "len(l)"
   ]
  },
  {
   "cell_type": "code",
   "execution_count": 2,
   "id": "f7bac371",
   "metadata": {},
   "outputs": [
    {
     "name": "stdout",
     "output_type": "stream",
     "text": [
      "1\n",
      "2\n",
      "3\n"
     ]
    }
   ],
   "source": [
    "length = 0\n",
    "for i in l :\n",
    "    length += 1\n",
    "    print(length) "
   ]
  },
  {
   "cell_type": "code",
   "execution_count": 32,
   "id": "9b894a59",
   "metadata": {},
   "outputs": [],
   "source": [
    "def sum_2num(a,b,c='+'):\n",
    "    \"\"\"\n",
    "    This Function sum or multiply 2 numbers\n",
    "    --------------------------------------------\n",
    "    a >> Float\n",
    "    b >> Float\n",
    "    c >> '+' or '*'\n",
    "    ---------------------------------------------\n",
    "    Return Result (Float)\n",
    "        \n",
    "    \"\"\"\n",
    "    if c == '+':\n",
    "        return a+b\n",
    "    elif c == '*':\n",
    "        return a*b"
   ]
  },
  {
   "cell_type": "code",
   "execution_count": 41,
   "id": "6563b290",
   "metadata": {},
   "outputs": [
    {
     "data": {
      "text/plain": [
       "6"
      ]
     },
     "execution_count": 41,
     "metadata": {},
     "output_type": "execute_result"
    }
   ],
   "source": [
    "_2_sum = lambda a,b,c : a+b if c == '+' else a*b\n",
    "_2_sum(2,3,'*')"
   ]
  },
  {
   "cell_type": "code",
   "execution_count": 27,
   "id": "4eb74d88",
   "metadata": {},
   "outputs": [
    {
     "data": {
      "text/plain": [
       "50"
      ]
     },
     "execution_count": 27,
     "metadata": {},
     "output_type": "execute_result"
    }
   ],
   "source": [
    "sum_2num(b=10 ,a=5 , c ='*')"
   ]
  },
  {
   "cell_type": "code",
   "execution_count": 19,
   "id": "1f6346e2",
   "metadata": {},
   "outputs": [],
   "source": [
    "len?"
   ]
  },
  {
   "cell_type": "code",
   "execution_count": 24,
   "id": "db20a975",
   "metadata": {},
   "outputs": [],
   "source": [
    "sum_2num?"
   ]
  },
  {
   "cell_type": "code",
   "execution_count": 71,
   "id": "ad5d3eec",
   "metadata": {},
   "outputs": [
    {
     "name": "stdout",
     "output_type": "stream",
     "text": [
      "4\n"
     ]
    }
   ],
   "source": [
    "def length(liste):\n",
    "    s =0 \n",
    "    for i in liste:\n",
    "          s+=1 #s = s+1\n",
    "    return(s)\n",
    "a = [1,2,3,4]\n",
    "print(length(a)) #4"
   ]
  },
  {
   "cell_type": "code",
   "execution_count": 43,
   "id": "a6c1722e",
   "metadata": {},
   "outputs": [
    {
     "data": {
      "text/plain": [
       "'2020'"
      ]
     },
     "execution_count": 43,
     "metadata": {},
     "output_type": "execute_result"
    }
   ],
   "source": [
    "year = lambda x : x[:4]\n",
    "ch = \"20200310\"\n",
    "year(ch)"
   ]
  },
  {
   "cell_type": "code",
   "execution_count": 144,
   "id": "8edf23bf",
   "metadata": {},
   "outputs": [],
   "source": [
    "t = (1,2,3)\n",
    "t2 = (3,2,1)\n",
    "result = map(lambda x,y : x+y,t,t2)"
   ]
  },
  {
   "cell_type": "code",
   "execution_count": 145,
   "id": "ccbadc56",
   "metadata": {},
   "outputs": [
    {
     "name": "stdout",
     "output_type": "stream",
     "text": [
      "[4, 4, 4]\n"
     ]
    }
   ],
   "source": [
    "print(list(result))"
   ]
  },
  {
   "cell_type": "code",
   "execution_count": 64,
   "id": "7512d845",
   "metadata": {},
   "outputs": [
    {
     "data": {
      "text/plain": [
       "4"
      ]
     },
     "execution_count": 64,
     "metadata": {},
     "output_type": "execute_result"
    }
   ],
   "source": [
    "fruits = ['banana', 'apple', 'grape', 'watermelon']\n",
    "len(fruits)"
   ]
  },
  {
   "cell_type": "code",
   "execution_count": 65,
   "id": "9bde130d",
   "metadata": {},
   "outputs": [],
   "source": [
    "x = []\n",
    "for fruit in fruits : \n",
    "    x.append(len(fruit))"
   ]
  },
  {
   "cell_type": "code",
   "execution_count": 67,
   "id": "c0ea84c8",
   "metadata": {},
   "outputs": [
    {
     "data": {
      "text/plain": [
       "[6, 5, 5, 10]"
      ]
     },
     "execution_count": 67,
     "metadata": {},
     "output_type": "execute_result"
    }
   ],
   "source": [
    "x"
   ]
  },
  {
   "cell_type": "code",
   "execution_count": 72,
   "id": "0655add3",
   "metadata": {},
   "outputs": [],
   "source": [
    "r = list(map(length,fruits))"
   ]
  },
  {
   "cell_type": "code",
   "execution_count": 73,
   "id": "43a13090",
   "metadata": {},
   "outputs": [
    {
     "data": {
      "text/plain": [
       "[6, 5, 5, 10]"
      ]
     },
     "execution_count": 73,
     "metadata": {},
     "output_type": "execute_result"
    }
   ],
   "source": [
    "r"
   ]
  },
  {
   "cell_type": "code",
   "execution_count": 74,
   "id": "3aaedab4",
   "metadata": {},
   "outputs": [
    {
     "data": {
      "text/plain": [
       "[6, 5, 5, 10]"
      ]
     },
     "execution_count": 74,
     "metadata": {},
     "output_type": "execute_result"
    }
   ],
   "source": [
    "x"
   ]
  },
  {
   "cell_type": "code",
   "execution_count": 77,
   "id": "246de283",
   "metadata": {},
   "outputs": [],
   "source": [
    "q = 1\n",
    "for i in x :\n",
    "    q = q*i"
   ]
  },
  {
   "cell_type": "code",
   "execution_count": 78,
   "id": "c825578a",
   "metadata": {},
   "outputs": [
    {
     "data": {
      "text/plain": [
       "1500"
      ]
     },
     "execution_count": 78,
     "metadata": {},
     "output_type": "execute_result"
    }
   ],
   "source": [
    "q"
   ]
  },
  {
   "cell_type": "code",
   "execution_count": 79,
   "id": "feb8c9b5",
   "metadata": {},
   "outputs": [],
   "source": [
    "x.sort()"
   ]
  },
  {
   "cell_type": "code",
   "execution_count": 80,
   "id": "fe5d40f0",
   "metadata": {},
   "outputs": [
    {
     "data": {
      "text/plain": [
       "[5, 5, 6, 10]"
      ]
     },
     "execution_count": 80,
     "metadata": {},
     "output_type": "execute_result"
    }
   ],
   "source": [
    "x"
   ]
  },
  {
   "cell_type": "code",
   "execution_count": 83,
   "id": "66d6981c",
   "metadata": {},
   "outputs": [],
   "source": [
    "a =  [(2, 5), (1, 2), (4, 4), (2, 3), (2, 1)]\n",
    "a.sort(key = lambda x :x[1])"
   ]
  },
  {
   "cell_type": "code",
   "execution_count": 84,
   "id": "4580547f",
   "metadata": {},
   "outputs": [
    {
     "data": {
      "text/plain": [
       "[(2, 1), (1, 2), (2, 3), (4, 4), (2, 5)]"
      ]
     },
     "execution_count": 84,
     "metadata": {},
     "output_type": "execute_result"
    }
   ],
   "source": [
    "a"
   ]
  },
  {
   "cell_type": "markdown",
   "id": "2f18b62a",
   "metadata": {},
   "source": [
    "# Quesion 1\n",
    "\n",
    "Given an integer array nums, return true if any value appears at least twice in the array, and return false if every element is distinct.\n",
    "\n",
    "    Example 1\n",
    "\n",
    "    Input: nums = [1,2,3,1]\n",
    "    Output: true"
   ]
  },
  {
   "cell_type": "code",
   "execution_count": 111,
   "id": "7ca5547a",
   "metadata": {},
   "outputs": [],
   "source": [
    "def containduplicate(nums):\n",
    "    return len(set(nums)) != len(nums)\n",
    "\n"
   ]
  },
  {
   "cell_type": "code",
   "execution_count": 113,
   "id": "597dc199",
   "metadata": {},
   "outputs": [
    {
     "data": {
      "text/plain": [
       "False"
      ]
     },
     "execution_count": 113,
     "metadata": {},
     "output_type": "execute_result"
    }
   ],
   "source": [
    "containduplicate([1,2,3])"
   ]
  },
  {
   "cell_type": "markdown",
   "id": "499d29e9",
   "metadata": {},
   "source": [
    "# Question 4\n",
    "You are given an m x n integer grid accounts where accounts[i][j] is the amount of money the i​​​​​​​​​​​th​​​​ customer has in the j​​​​​​​​​​​th​​​​ bank. Return the wealth that the richest customer has.\n",
    "\n",
    "A customer's wealth is the amount of money they have in all their bank accounts. The richest customer is the customer that has the maximum wealth.\n",
    "\n",
    " \n",
    "\n",
    "Example 1:\n",
    "\n",
    "    Input: accounts = [[1,2,3],[3,2,1]]\n",
    "    Output: 6\n",
    "    Explanation:\n",
    "    1st customer has wealth = 1 + 2 + 3 = 6\n",
    "    2nd customer has wealth = 3 + 2 + 1 = 6\n",
    "    Both customers are considered the richest with a wealth of 6 each, so return 6."
   ]
  },
  {
   "cell_type": "code",
   "execution_count": 122,
   "id": "4220d7a8",
   "metadata": {},
   "outputs": [
    {
     "data": {
      "text/plain": [
       "11"
      ]
     },
     "execution_count": 122,
     "metadata": {},
     "output_type": "execute_result"
    }
   ],
   "source": [
    "def maximumWealth(accounts):\n",
    "    richest = 0\n",
    "    for i in accounts :\n",
    "        if sum(i) > richest:\n",
    "            richest = sum(i)\n",
    "    return richest\n",
    "maximumWealth(accounts)"
   ]
  },
  {
   "cell_type": "code",
   "execution_count": 121,
   "id": "59d8319a",
   "metadata": {},
   "outputs": [
    {
     "data": {
      "text/plain": [
       "6"
      ]
     },
     "execution_count": 121,
     "metadata": {},
     "output_type": "execute_result"
    }
   ],
   "source": [
    "accounts = [[1,2,5,3],[3,2,1]]\n",
    "a = [3,2,1]\n",
    "sum(a)"
   ]
  },
  {
   "cell_type": "code",
   "execution_count": null,
   "id": "15b76d93",
   "metadata": {},
   "outputs": [],
   "source": []
  },
  {
   "cell_type": "code",
   "execution_count": null,
   "id": "b0da6edd",
   "metadata": {},
   "outputs": [],
   "source": []
  },
  {
   "cell_type": "code",
   "execution_count": null,
   "id": "77fa7798",
   "metadata": {},
   "outputs": [],
   "source": []
  },
  {
   "cell_type": "code",
   "execution_count": null,
   "id": "8a076876",
   "metadata": {},
   "outputs": [],
   "source": []
  },
  {
   "cell_type": "code",
   "execution_count": 136,
   "id": "4bf5b48e",
   "metadata": {},
   "outputs": [],
   "source": [
    "def average(y,*numbers):\n",
    "    x = 0\n",
    "    for i in numbers :\n",
    "        x +=i\n",
    "    return x / len(numbers) + y\n",
    "        \n",
    "    "
   ]
  },
  {
   "cell_type": "code",
   "execution_count": 137,
   "id": "7e6abd75",
   "metadata": {},
   "outputs": [
    {
     "data": {
      "text/plain": [
       "15.0"
      ]
     },
     "execution_count": 137,
     "metadata": {},
     "output_type": "execute_result"
    }
   ],
   "source": [
    "average(10,1,2,3,4,5,6,7,8,9,5)"
   ]
  },
  {
   "cell_type": "code",
   "execution_count": 141,
   "id": "948f49fa",
   "metadata": {},
   "outputs": [],
   "source": [
    "map?"
   ]
  },
  {
   "cell_type": "code",
   "execution_count": null,
   "id": "fe6d5290",
   "metadata": {},
   "outputs": [],
   "source": [
    "def combine_dictionaries(d1, d2):\n",
    "    combined_dict = {}\n",
    "    \n",
    "    # Add values from d1 to the combined_dict\n",
    "    for key, value in d1.items():\n",
    "        combined_dict[key] = value\n",
    "    \n",
    "    # Add values from d2 to the combined_dict or update the existing values\n",
    "    for key, value in d2.items():\n",
    "        if key in combined_dict:\n",
    "            combined_dict[key] += value\n",
    "        else:\n",
    "            combined_dict[key] = value\n",
    "    \n",
    "    return combined_dict\n",
    "\n",
    "\n",
    "d1 = {'a': 100, 'b': 200, 'c': 300}\n",
    "d2 = {'a': 300, 'b': 200, 'd': 400}\n",
    "\n",
    "combined_dict = combine_dictionaries(d1, d2)\n",
    "print(combined_dict)\n",
    "\n"
   ]
  },
  {
   "cell_type": "code",
   "execution_count": 162,
   "id": "40f0cdc2",
   "metadata": {},
   "outputs": [],
   "source": [
    "d1 = {'a': 100, 'b': 200, 'c': 300}\n",
    "d2 = {'a': 300, 'b': 200, 'd': 400}\n",
    "d3 = d1\n",
    "for key , value in d2.items() :\n",
    "    if key in d3 :\n",
    "        d3[key] += value\n",
    "    else :\n",
    "        d3[key] = value"
   ]
  },
  {
   "cell_type": "code",
   "execution_count": 164,
   "id": "f0971447",
   "metadata": {},
   "outputs": [
    {
     "data": {
      "text/plain": [
       "{'a': 400, 'b': 400, 'c': 300, 'd': 400}"
      ]
     },
     "execution_count": 164,
     "metadata": {},
     "output_type": "execute_result"
    }
   ],
   "source": [
    "d3"
   ]
  },
  {
   "cell_type": "code",
   "execution_count": null,
   "id": "c986e6b2",
   "metadata": {},
   "outputs": [],
   "source": [
    "def calc(x,y,z):\n",
    "    "
   ]
  },
  {
   "cell_type": "code",
   "execution_count": null,
   "id": "eb2ab9e6",
   "metadata": {},
   "outputs": [],
   "source": []
  },
  {
   "cell_type": "code",
   "execution_count": null,
   "id": "353334d4",
   "metadata": {},
   "outputs": [],
   "source": []
  },
  {
   "cell_type": "code",
   "execution_count": null,
   "id": "108be0f4",
   "metadata": {},
   "outputs": [],
   "source": []
  },
  {
   "cell_type": "code",
   "execution_count": null,
   "id": "bc32ff6d",
   "metadata": {},
   "outputs": [],
   "source": []
  },
  {
   "cell_type": "code",
   "execution_count": null,
   "id": "5abd73ed",
   "metadata": {},
   "outputs": [],
   "source": []
  },
  {
   "cell_type": "code",
   "execution_count": null,
   "id": "3aecbc27",
   "metadata": {},
   "outputs": [],
   "source": []
  },
  {
   "cell_type": "code",
   "execution_count": null,
   "id": "7b45d27a",
   "metadata": {},
   "outputs": [],
   "source": []
  },
  {
   "cell_type": "code",
   "execution_count": null,
   "id": "a50fd377",
   "metadata": {},
   "outputs": [],
   "source": []
  }
 ],
 "metadata": {
  "kernelspec": {
   "display_name": "Python 3 (ipykernel)",
   "language": "python",
   "name": "python3"
  },
  "language_info": {
   "codemirror_mode": {
    "name": "ipython",
    "version": 3
   },
   "file_extension": ".py",
   "mimetype": "text/x-python",
   "name": "python",
   "nbconvert_exporter": "python",
   "pygments_lexer": "ipython3",
   "version": "3.9.15"
  }
 },
 "nbformat": 4,
 "nbformat_minor": 5
}
