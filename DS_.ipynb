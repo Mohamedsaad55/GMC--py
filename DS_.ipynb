{
 "cells": [
  {
   "cell_type": "code",
   "execution_count": 3,
   "id": "f046ec84",
   "metadata": {},
   "outputs": [
    {
     "name": "stdout",
     "output_type": "stream",
     "text": [
      "noB semaJ\n"
     ]
    }
   ],
   "source": [
    "var= \"James Bond\" \n",
    "# Start : M\n",
    "# End : >>\n",
    "\n",
    "print(var[-2::-1]) "
   ]
  },
  {
   "cell_type": "markdown",
   "id": "81ecd7b8",
   "metadata": {},
   "source": [
    "    1- List : [] >> list()\n",
    "    2- Dictionary : {} >> dict()\n",
    "    3- Set : {} >> set()\n",
    "    4- Tuples : () >> tuple()"
   ]
  },
  {
   "cell_type": "code",
   "execution_count": 48,
   "id": "aedbb5cd",
   "metadata": {},
   "outputs": [
    {
     "data": {
      "text/plain": [
       "(1, 2, 3, 1.5, 'Mohamed')"
      ]
     },
     "execution_count": 48,
     "metadata": {},
     "output_type": "execute_result"
    }
   ],
   "source": [
    "x = [1,2,3,1,1,1,1,1,1,1,1,\"Mohamed\",True, 1.5]\n",
    "x[0] = 1\n",
    "x = tuple(list(set(x)))\n",
    "x"
   ]
  },
  {
   "cell_type": "code",
   "execution_count": 40,
   "id": "2189b3b3",
   "metadata": {},
   "outputs": [
    {
     "data": {
      "text/plain": [
       "{'name': 'Mohamed', 'Age': 28, 'age': 28, 0: 'Mohamed'}"
      ]
     },
     "execution_count": 40,
     "metadata": {},
     "output_type": "execute_result"
    }
   ],
   "source": [
    "d = {\"name\":[\"mohamed\",\"Ali\"],\"Age\":28}\n",
    "#d[\"name\"] = \"Ali\"\n",
    "d[\"age\"] = 28\n",
    "d[0] = \"Mohamed\"\n",
    "d[\"name\"] = \"Mohamed\"\n",
    "d"
   ]
  },
  {
   "cell_type": "code",
   "execution_count": 43,
   "id": "75fe04ca",
   "metadata": {},
   "outputs": [
    {
     "ename": "TypeError",
     "evalue": "'set' object is not subscriptable",
     "output_type": "error",
     "traceback": [
      "\u001b[1;31m---------------------------------------------------------------------------\u001b[0m",
      "\u001b[1;31mTypeError\u001b[0m                                 Traceback (most recent call last)",
      "Cell \u001b[1;32mIn[43], line 2\u001b[0m\n\u001b[0;32m      1\u001b[0m s \u001b[38;5;241m=\u001b[39m {\u001b[38;5;241m1\u001b[39m,\u001b[38;5;241m2\u001b[39m,\u001b[38;5;241m3\u001b[39m,\u001b[38;5;241m45\u001b[39m,\u001b[38;5;241m45\u001b[39m,\u001b[38;5;241m45\u001b[39m,\u001b[38;5;241m45\u001b[39m}\n\u001b[1;32m----> 2\u001b[0m \u001b[43ms\u001b[49m\u001b[43m[\u001b[49m\u001b[38;5;241;43m1\u001b[39;49m\u001b[43m]\u001b[49m\n",
      "\u001b[1;31mTypeError\u001b[0m: 'set' object is not subscriptable"
     ]
    }
   ],
   "source": [
    "s = {1,2,3,45,45,45,45}\n",
    "s[1]"
   ]
  },
  {
   "cell_type": "code",
   "execution_count": 21,
   "id": "c54f38e4",
   "metadata": {},
   "outputs": [
    {
     "data": {
      "text/plain": [
       "{1, 1.5, 10, 2, 3, 'Mohamed'}"
      ]
     },
     "execution_count": 21,
     "metadata": {},
     "output_type": "execute_result"
    }
   ],
   "source": [
    "set(x)"
   ]
  },
  {
   "cell_type": "code",
   "execution_count": 33,
   "id": "6989533c",
   "metadata": {},
   "outputs": [
    {
     "data": {
      "text/plain": [
       "(1, 2, 3, 45, 1, 2, 3, 4)"
      ]
     },
     "execution_count": 33,
     "metadata": {},
     "output_type": "execute_result"
    }
   ],
   "source": [
    "z = tuple(s)\n",
    "y = (1,2,3,4)\n",
    "z+y"
   ]
  },
  {
   "cell_type": "code",
   "execution_count": 30,
   "id": "195f0bbb",
   "metadata": {},
   "outputs": [
    {
     "data": {
      "text/plain": [
       "(1, 2, 3, 45)"
      ]
     },
     "execution_count": 30,
     "metadata": {},
     "output_type": "execute_result"
    }
   ],
   "source": [
    "z"
   ]
  },
  {
   "cell_type": "code",
   "execution_count": null,
   "id": "71904105",
   "metadata": {},
   "outputs": [],
   "source": []
  },
  {
   "cell_type": "code",
   "execution_count": 66,
   "id": "286184ac",
   "metadata": {},
   "outputs": [],
   "source": [
    "l = []\n",
    "for i in range(2000,3201):\n",
    "    if i % 7 == 0 and i % 5 == 0:\n",
    "        l.append(i)"
   ]
  },
  {
   "cell_type": "code",
   "execution_count": 98,
   "id": "9fd4cc37",
   "metadata": {},
   "outputs": [
    {
     "data": {
      "text/plain": [
       "[10,\n",
       " 2065,\n",
       " 2100,\n",
       " 2135,\n",
       " 2170,\n",
       " 2205,\n",
       " 2240,\n",
       " 2275,\n",
       " 2310,\n",
       " 2345,\n",
       " 2380,\n",
       " 2415,\n",
       " 2450,\n",
       " 2485,\n",
       " 2520,\n",
       " 2555,\n",
       " 2590,\n",
       " 2625,\n",
       " 2660,\n",
       " 2695,\n",
       " 2730,\n",
       " 2765,\n",
       " 2800,\n",
       " 2835,\n",
       " 2870,\n",
       " 2905,\n",
       " 2940,\n",
       " 2975,\n",
       " 3010,\n",
       " 3045,\n",
       " 3080,\n",
       " 3115,\n",
       " 3150,\n",
       " 'Mohamed']"
      ]
     },
     "execution_count": 98,
     "metadata": {},
     "output_type": "execute_result"
    }
   ],
   "source": [
    "l"
   ]
  },
  {
   "cell_type": "code",
   "execution_count": 97,
   "id": "ada549eb",
   "metadata": {},
   "outputs": [],
   "source": [
    "l.append(\"Mohamed\")"
   ]
  },
  {
   "cell_type": "code",
   "execution_count": 99,
   "id": "1d8300dc",
   "metadata": {},
   "outputs": [
    {
     "data": {
      "text/plain": [
       "33"
      ]
     },
     "execution_count": 99,
     "metadata": {},
     "output_type": "execute_result"
    }
   ],
   "source": [
    "l.index(\"Mohamed\")"
   ]
  },
  {
   "cell_type": "code",
   "execution_count": 72,
   "id": "f9857bbf",
   "metadata": {},
   "outputs": [],
   "source": [
    "l.insert(2,10)"
   ]
  },
  {
   "cell_type": "code",
   "execution_count": 100,
   "id": "0307173c",
   "metadata": {},
   "outputs": [
    {
     "data": {
      "text/plain": [
       "'Mohamed'"
      ]
     },
     "execution_count": 100,
     "metadata": {},
     "output_type": "execute_result"
    }
   ],
   "source": [
    "l.pop(33)"
   ]
  },
  {
   "cell_type": "code",
   "execution_count": 81,
   "id": "5dffc47e",
   "metadata": {},
   "outputs": [],
   "source": [
    "l.remove(\"Mohamed\")"
   ]
  },
  {
   "cell_type": "code",
   "execution_count": 93,
   "id": "4ba93165",
   "metadata": {},
   "outputs": [],
   "source": [
    "l.sort()"
   ]
  },
  {
   "cell_type": "code",
   "execution_count": 95,
   "id": "1bb44948",
   "metadata": {},
   "outputs": [
    {
     "data": {
      "text/plain": [
       "[3150,\n",
       " 3115,\n",
       " 3080,\n",
       " 3045,\n",
       " 3010,\n",
       " 2975,\n",
       " 2940,\n",
       " 2905,\n",
       " 2870,\n",
       " 2835,\n",
       " 2800,\n",
       " 2765,\n",
       " 2730,\n",
       " 2695,\n",
       " 2660,\n",
       " 2625,\n",
       " 2590,\n",
       " 2555,\n",
       " 2520,\n",
       " 2485,\n",
       " 2450,\n",
       " 2415,\n",
       " 2380,\n",
       " 2345,\n",
       " 2310,\n",
       " 2275,\n",
       " 2240,\n",
       " 2205,\n",
       " 2170,\n",
       " 2135,\n",
       " 2100,\n",
       " 2065,\n",
       " 10]"
      ]
     },
     "execution_count": 95,
     "metadata": {},
     "output_type": "execute_result"
    }
   ],
   "source": [
    "sorted(l,reverse=True)"
   ]
  },
  {
   "cell_type": "code",
   "execution_count": 101,
   "id": "5ecc1ce1",
   "metadata": {},
   "outputs": [
    {
     "data": {
      "text/plain": [
       "33"
      ]
     },
     "execution_count": 101,
     "metadata": {},
     "output_type": "execute_result"
    }
   ],
   "source": [
    "len(l)"
   ]
  },
  {
   "cell_type": "code",
   "execution_count": 103,
   "id": "de5189c1",
   "metadata": {},
   "outputs": [
    {
     "data": {
      "text/plain": [
       "3150"
      ]
     },
     "execution_count": 103,
     "metadata": {},
     "output_type": "execute_result"
    }
   ],
   "source": [
    "l[32]"
   ]
  },
  {
   "cell_type": "code",
   "execution_count": 109,
   "id": "f1655931",
   "metadata": {},
   "outputs": [
    {
     "name": "stdout",
     "output_type": "stream",
     "text": [
      "['python', 'Scala', 'R', 'SAS', 'C++', 'php', 'html', 'Matlab']\n"
     ]
    }
   ],
   "source": [
    "x=['python', 'Scala', 'SQL', 'R', 'SAS', 'C++', 'php', 'html', 'Matlab']\n",
    "x.pop(2)    #remove the item \"java\"   \n",
    "print(x)       \n"
   ]
  },
  {
   "cell_type": "code",
   "execution_count": null,
   "id": "28c9e6de",
   "metadata": {},
   "outputs": [],
   "source": []
  },
  {
   "cell_type": "code",
   "execution_count": 117,
   "id": "3b6e71e8",
   "metadata": {},
   "outputs": [
    {
     "name": "stdout",
     "output_type": "stream",
     "text": [
      "knowledge Data Science\n",
      "tool python\n",
      "year 2020\n"
     ]
    }
   ],
   "source": [
    "my_dictionary =\t{\"knowledge\": \"Data Science\",\"tool\": \"python\",\"year\": 2020}\n",
    "\n",
    "for key,value in my_dictionary.items() :\n",
    "    print(key,value)"
   ]
  },
  {
   "cell_type": "code",
   "execution_count": 123,
   "id": "523490fe",
   "metadata": {},
   "outputs": [
    {
     "data": {
      "text/plain": [
       "dict_items([('knowledge', 'Data Science'), ('tool', 'python'), ('year', 2020), ('name', 'Mohamed')])"
      ]
     },
     "execution_count": 123,
     "metadata": {},
     "output_type": "execute_result"
    }
   ],
   "source": [
    "my_dictionary.items()"
   ]
  },
  {
   "cell_type": "code",
   "execution_count": 118,
   "id": "6c8172d3",
   "metadata": {},
   "outputs": [],
   "source": [
    "my_dictionary[\"Name\"] = \"Mohamed\""
   ]
  },
  {
   "cell_type": "code",
   "execution_count": 120,
   "id": "779d7bc9",
   "metadata": {},
   "outputs": [],
   "source": [
    "my_dictionary['name'] = 'Mohamed'"
   ]
  },
  {
   "cell_type": "code",
   "execution_count": 122,
   "id": "87d1ca72",
   "metadata": {},
   "outputs": [
    {
     "data": {
      "text/plain": [
       "'Mohamed'"
      ]
     },
     "execution_count": 122,
     "metadata": {},
     "output_type": "execute_result"
    }
   ],
   "source": [
    "my_dictionary.pop('Name')"
   ]
  },
  {
   "cell_type": "code",
   "execution_count": null,
   "id": "b6151420",
   "metadata": {},
   "outputs": [],
   "source": []
  },
  {
   "cell_type": "code",
   "execution_count": null,
   "id": "d7366eea",
   "metadata": {},
   "outputs": [],
   "source": []
  },
  {
   "cell_type": "code",
   "execution_count": 134,
   "id": "41950626",
   "metadata": {},
   "outputs": [],
   "source": [
    "s = {1,2,3,4,5,6}\n",
    "s.add(10)"
   ]
  },
  {
   "cell_type": "code",
   "execution_count": 137,
   "id": "8a89a582",
   "metadata": {},
   "outputs": [
    {
     "data": {
      "text/plain": [
       "3"
      ]
     },
     "execution_count": 137,
     "metadata": {},
     "output_type": "execute_result"
    }
   ],
   "source": [
    "s.pop()"
   ]
  },
  {
   "cell_type": "code",
   "execution_count": 140,
   "id": "1e7a41ca",
   "metadata": {},
   "outputs": [
    {
     "data": {
      "text/plain": [
       "{4, 5, 6}"
      ]
     },
     "execution_count": 140,
     "metadata": {},
     "output_type": "execute_result"
    }
   ],
   "source": [
    "s"
   ]
  },
  {
   "cell_type": "code",
   "execution_count": 139,
   "id": "ba67671a",
   "metadata": {},
   "outputs": [],
   "source": [
    "s.remove(10)"
   ]
  },
  {
   "cell_type": "code",
   "execution_count": null,
   "id": "f5b5c47c",
   "metadata": {},
   "outputs": [],
   "source": []
  },
  {
   "cell_type": "markdown",
   "id": "7ac87851",
   "metadata": {},
   "source": [
    "# Quesion 1\n",
    "\n",
    "Given an integer array nums, return true if any value appears at least twice in the array, and return false if every element is distinct.\n",
    "\n",
    "    Example 1:\n",
    "\n",
    "    Input: nums = [1,2,3,1]\n",
    "    Output: true\n",
    "    \n",
    "    \n",
    "    1 - input list[ int ]\n",
    "    \n",
    "    2- check duplicates\n",
    "    \n",
    "    3- output >> Bool"
   ]
  },
  {
   "cell_type": "code",
   "execution_count": 150,
   "id": "581621a5",
   "metadata": {},
   "outputs": [],
   "source": [
    "def containsduplicates(nums):\n",
    "    print(len(set(nums)) != len(nums))\n",
    "       "
   ]
  },
  {
   "cell_type": "code",
   "execution_count": 148,
   "id": "569a3c6e",
   "metadata": {},
   "outputs": [],
   "source": [
    "nums=[1,2,3,4,5,10,10]"
   ]
  },
  {
   "cell_type": "code",
   "execution_count": 152,
   "id": "c799fd33",
   "metadata": {},
   "outputs": [
    {
     "name": "stdout",
     "output_type": "stream",
     "text": [
      "True\n"
     ]
    }
   ],
   "source": [
    "containsduplicates(nums)"
   ]
  },
  {
   "cell_type": "code",
   "execution_count": 149,
   "id": "7b67acef",
   "metadata": {},
   "outputs": [
    {
     "data": {
      "text/plain": [
       "True"
      ]
     },
     "execution_count": 149,
     "metadata": {},
     "output_type": "execute_result"
    }
   ],
   "source": [
    "len(set(nums)) != len(nums)"
   ]
  },
  {
   "cell_type": "code",
   "execution_count": null,
   "id": "7e254d3e",
   "metadata": {},
   "outputs": [],
   "source": []
  },
  {
   "cell_type": "markdown",
   "id": "d450820e",
   "metadata": {},
   "source": [
    "# Question 7\n",
    "Given an integer n, return a string array answer (1-indexed) where:\n",
    "\n",
    "    answer[i] == \"FizzBuzz\" if i is divisible by 3 and 5.\n",
    "    answer[i] == \"Fizz\" if i is divisible by 3.\n",
    "    answer[i] == \"Buzz\" if i is divisible by 5.\n",
    "    answer[i] == i (as a string) if none of the above conditions are true.\n",
    " \n",
    "\n",
    "Example 1:\n",
    "\n",
    "    Input: n = 5\n",
    "    Output: [\"1\",\"2\",\"Fizz\",'4','buzz']"
   ]
  },
  {
   "cell_type": "markdown",
   "id": "2be31934",
   "metadata": {},
   "source": [
    "    1- int (n)\n",
    "    2- output (str) [index] >> [list] >> Range (n) \n",
    "    "
   ]
  },
  {
   "cell_type": "code",
   "execution_count": 158,
   "id": "032de97d",
   "metadata": {},
   "outputs": [],
   "source": [
    "def fizzbuzz (n):\n",
    "    l = []\n",
    "    for i in range(1,n+1) :\n",
    "        if i %15 == 0:\n",
    "            l.append(\"FizzBuzz\")\n",
    "        elif i % 3 == 0:\n",
    "            l.append(\"Fizz\")\n",
    "        elif i % 5 == 0:\n",
    "            l.append(\"Buzz\")\n",
    "        else:\n",
    "            l.append(str(i))\n",
    "    return l"
   ]
  },
  {
   "cell_type": "code",
   "execution_count": 160,
   "id": "39157b1b",
   "metadata": {},
   "outputs": [
    {
     "data": {
      "text/plain": [
       "['1',\n",
       " '2',\n",
       " 'Fizz',\n",
       " '4',\n",
       " 'Buzz',\n",
       " 'Fizz',\n",
       " '7',\n",
       " '8',\n",
       " 'Fizz',\n",
       " 'Buzz',\n",
       " '11',\n",
       " 'Fizz',\n",
       " '13',\n",
       " '14',\n",
       " 'FizzBuzz',\n",
       " '16',\n",
       " '17',\n",
       " 'Fizz',\n",
       " '19',\n",
       " 'Buzz',\n",
       " 'Fizz',\n",
       " '22',\n",
       " '23',\n",
       " 'Fizz',\n",
       " 'Buzz',\n",
       " '26',\n",
       " 'Fizz',\n",
       " '28',\n",
       " '29',\n",
       " 'FizzBuzz',\n",
       " '31',\n",
       " '32',\n",
       " 'Fizz',\n",
       " '34',\n",
       " 'Buzz',\n",
       " 'Fizz',\n",
       " '37',\n",
       " '38',\n",
       " 'Fizz',\n",
       " 'Buzz',\n",
       " '41',\n",
       " 'Fizz',\n",
       " '43',\n",
       " '44',\n",
       " 'FizzBuzz',\n",
       " '46',\n",
       " '47',\n",
       " 'Fizz',\n",
       " '49',\n",
       " 'Buzz',\n",
       " 'Fizz',\n",
       " '52',\n",
       " '53',\n",
       " 'Fizz',\n",
       " 'Buzz',\n",
       " '56',\n",
       " 'Fizz',\n",
       " '58',\n",
       " '59',\n",
       " 'FizzBuzz',\n",
       " '61',\n",
       " '62',\n",
       " 'Fizz',\n",
       " '64',\n",
       " 'Buzz',\n",
       " 'Fizz',\n",
       " '67',\n",
       " '68',\n",
       " 'Fizz',\n",
       " 'Buzz',\n",
       " '71',\n",
       " 'Fizz',\n",
       " '73',\n",
       " '74',\n",
       " 'FizzBuzz',\n",
       " '76',\n",
       " '77',\n",
       " 'Fizz',\n",
       " '79',\n",
       " 'Buzz',\n",
       " 'Fizz',\n",
       " '82',\n",
       " '83',\n",
       " 'Fizz',\n",
       " 'Buzz',\n",
       " '86',\n",
       " 'Fizz',\n",
       " '88',\n",
       " '89',\n",
       " 'FizzBuzz',\n",
       " '91',\n",
       " '92',\n",
       " 'Fizz',\n",
       " '94',\n",
       " 'Buzz',\n",
       " 'Fizz',\n",
       " '97',\n",
       " '98',\n",
       " 'Fizz',\n",
       " 'Buzz',\n",
       " '101',\n",
       " 'Fizz',\n",
       " '103',\n",
       " '104',\n",
       " 'FizzBuzz',\n",
       " '106',\n",
       " '107',\n",
       " 'Fizz',\n",
       " '109',\n",
       " 'Buzz',\n",
       " 'Fizz',\n",
       " '112',\n",
       " '113',\n",
       " 'Fizz',\n",
       " 'Buzz',\n",
       " '116',\n",
       " 'Fizz',\n",
       " '118',\n",
       " '119',\n",
       " 'FizzBuzz',\n",
       " '121',\n",
       " '122',\n",
       " 'Fizz',\n",
       " '124',\n",
       " 'Buzz',\n",
       " 'Fizz',\n",
       " '127',\n",
       " '128',\n",
       " 'Fizz',\n",
       " 'Buzz',\n",
       " '131',\n",
       " 'Fizz',\n",
       " '133',\n",
       " '134',\n",
       " 'FizzBuzz',\n",
       " '136',\n",
       " '137',\n",
       " 'Fizz',\n",
       " '139',\n",
       " 'Buzz',\n",
       " 'Fizz',\n",
       " '142',\n",
       " '143',\n",
       " 'Fizz',\n",
       " 'Buzz',\n",
       " '146',\n",
       " 'Fizz',\n",
       " '148',\n",
       " '149',\n",
       " 'FizzBuzz']"
      ]
     },
     "execution_count": 160,
     "metadata": {},
     "output_type": "execute_result"
    }
   ],
   "source": [
    "fizzbuzz(150)"
   ]
  },
  {
   "cell_type": "code",
   "execution_count": null,
   "id": "23c0569b",
   "metadata": {},
   "outputs": [],
   "source": []
  },
  {
   "cell_type": "code",
   "execution_count": null,
   "id": "9392ee90",
   "metadata": {},
   "outputs": [],
   "source": []
  },
  {
   "cell_type": "code",
   "execution_count": null,
   "id": "145b362e",
   "metadata": {},
   "outputs": [],
   "source": []
  },
  {
   "cell_type": "code",
   "execution_count": null,
   "id": "f57c2e6b",
   "metadata": {},
   "outputs": [],
   "source": []
  },
  {
   "cell_type": "code",
   "execution_count": null,
   "id": "dd66c51f",
   "metadata": {},
   "outputs": [],
   "source": []
  },
  {
   "cell_type": "code",
   "execution_count": null,
   "id": "2f5d02f4",
   "metadata": {},
   "outputs": [],
   "source": []
  },
  {
   "cell_type": "code",
   "execution_count": null,
   "id": "7f2938b7",
   "metadata": {},
   "outputs": [],
   "source": []
  },
  {
   "cell_type": "code",
   "execution_count": null,
   "id": "05ffc6b0",
   "metadata": {},
   "outputs": [],
   "source": []
  },
  {
   "cell_type": "markdown",
   "id": "fca184bb",
   "metadata": {},
   "source": [
    "# Question 3 \n",
    "Given an array nums. We define a running sum of an array as runningSum[i] = sum(nums[0]…nums[i]).\n",
    "\n",
    "Return the running sum of nums.\n",
    "\n",
    " \n",
    "\n",
    "Example 1:\n",
    "\n",
    "    Input: nums = [1,2,3,4]\n",
    "    Output: [1,3,6,10]\n",
    "    Explanation: Running sum is obtained as follows: [1, 1+2, 1+2+3, 1+2+3+4]."
   ]
  },
  {
   "cell_type": "code",
   "execution_count": 33,
   "id": "5fa27e5b",
   "metadata": {},
   "outputs": [],
   "source": [
    "def runningsum(nums):\n",
    "    \"\"\"takes List returns list\"\"\"\n",
    "    x = []\n",
    "    y = 0\n",
    "    for i in range(len(nums)):\n",
    "        y = y + nums[i]\n",
    "        x.append(y)\n",
    "        print(x,y)\n",
    "        \n",
    "    return(x)"
   ]
  },
  {
   "cell_type": "code",
   "execution_count": 164,
   "id": "96a7081f",
   "metadata": {},
   "outputs": [
    {
     "name": "stdout",
     "output_type": "stream",
     "text": [
      "[1] 1\n",
      "[1, 3] 3\n",
      "[1, 3, 6] 6\n",
      "[1, 3, 6, 10] 10\n",
      "[1, 3, 6, 10, 15] 15\n"
     ]
    },
    {
     "data": {
      "text/plain": [
       "[1, 3, 6, 10, 15]"
      ]
     },
     "execution_count": 164,
     "metadata": {},
     "output_type": "execute_result"
    }
   ],
   "source": [
    "runningsum([1,2,3,4,5])"
   ]
  },
  {
   "cell_type": "code",
   "execution_count": 34,
   "id": "4eb582d4",
   "metadata": {},
   "outputs": [
    {
     "name": "stdout",
     "output_type": "stream",
     "text": [
      "Help on function runningsum in module __main__:\n",
      "\n",
      "runningsum(nums)\n",
      "    takes List returns list\n",
      "\n"
     ]
    }
   ],
   "source": [
    "help(runningsum)"
   ]
  },
  {
   "cell_type": "code",
   "execution_count": null,
   "id": "ac727b82",
   "metadata": {},
   "outputs": [],
   "source": []
  },
  {
   "cell_type": "code",
   "execution_count": null,
   "id": "a7f12cfb",
   "metadata": {},
   "outputs": [],
   "source": []
  },
  {
   "cell_type": "code",
   "execution_count": null,
   "id": "a541f3e5",
   "metadata": {},
   "outputs": [],
   "source": []
  },
  {
   "cell_type": "code",
   "execution_count": null,
   "id": "465b9f02",
   "metadata": {},
   "outputs": [],
   "source": []
  },
  {
   "cell_type": "code",
   "execution_count": 170,
   "id": "d2d84b68",
   "metadata": {},
   "outputs": [
    {
     "data": {
      "text/plain": [
       "[6, 12, 18, 4, 12, 20, 28]"
      ]
     },
     "execution_count": 170,
     "metadata": {},
     "output_type": "execute_result"
    }
   ],
   "source": [
    "l1 = [3, 6, 9, 12, 15, 18, 21]\n",
    "x=l1[1::2]\n",
    "l2 = [4, 8, 12, 16, 20, 24, 28]\n",
    "y=l2[0::2]\n",
    "\n",
    "x+y"
   ]
  },
  {
   "cell_type": "markdown",
   "id": "a0475120",
   "metadata": {},
   "source": [
    "    Element at odd-index positions from list one\n",
    "    [6, 12, 18]\n",
    "    Element at even-index positions from list two\n",
    "    [4, 12, 20, 28]\n",
    "\n",
    "    Printing Final third list\n",
    "    [6, 12, 18, 4, 12, 20, 28]"
   ]
  },
  {
   "cell_type": "markdown",
   "id": "a5456199",
   "metadata": {},
   "source": [
    "Write a program to remove the item present at index 4 and add it to the 2nd position and at the end of the list.\n",
    "\n"
   ]
  },
  {
   "cell_type": "code",
   "execution_count": 171,
   "id": "97ee3907",
   "metadata": {},
   "outputs": [],
   "source": [
    "list1 = [54, 44, 27, 79, 91, 41]\n"
   ]
  },
  {
   "cell_type": "markdown",
   "id": "a9cf4c54",
   "metadata": {},
   "source": [
    "    List After removing element at index 4  [34, 54, 67, 89, 43, 94]\n",
    "    List after Adding element at index 2  [34, 54, 11, 67, 89, 43, 94]\n",
    "    List after Adding element at last  [34, 54, 11, 67, 89, 43, 94, 11]"
   ]
  },
  {
   "cell_type": "code",
   "execution_count": 172,
   "id": "7402a815",
   "metadata": {},
   "outputs": [
    {
     "data": {
      "text/plain": [
       "91"
      ]
     },
     "execution_count": 172,
     "metadata": {},
     "output_type": "execute_result"
    }
   ],
   "source": [
    "list1.pop(4)"
   ]
  },
  {
   "cell_type": "code",
   "execution_count": 173,
   "id": "16e91ffe",
   "metadata": {},
   "outputs": [],
   "source": [
    "list1.insert(2,11)"
   ]
  },
  {
   "cell_type": "code",
   "execution_count": 174,
   "id": "0164371e",
   "metadata": {},
   "outputs": [],
   "source": [
    "list1.append(11)"
   ]
  },
  {
   "cell_type": "code",
   "execution_count": 175,
   "id": "a79a4270",
   "metadata": {},
   "outputs": [
    {
     "data": {
      "text/plain": [
       "[54, 44, 11, 27, 79, 41, 11]"
      ]
     },
     "execution_count": 175,
     "metadata": {},
     "output_type": "execute_result"
    }
   ],
   "source": [
    "list1"
   ]
  },
  {
   "cell_type": "code",
   "execution_count": null,
   "id": "707e54b0",
   "metadata": {},
   "outputs": [],
   "source": []
  },
  {
   "cell_type": "markdown",
   "id": "79a5b9f5",
   "metadata": {},
   "source": [
    "## Slice list into 3 equal chunks and reverse each chunk\n",
    "    Chunk  1 [11, 45, 8]\n",
    "    After reversing it  [8, 45, 11]\n",
    "    Chunk  2 [23, 14, 12]\n",
    "    After reversing it  [12, 14, 23]\n",
    "    Chunk  3 [78, 45, 89]\n",
    "    After reversing it  [89, 45, 78]"
   ]
  },
  {
   "cell_type": "code",
   "execution_count": 21,
   "id": "c4ef2a06",
   "metadata": {},
   "outputs": [],
   "source": [
    "sample_list = [11, 45, 8, 23, 14, 12, 78, 45, 89]\n",
    "x= sample_list[2::-1]\n",
    "y = sample_list[5:2:-1]\n",
    "z = sample_list[8:5:-1]"
   ]
  },
  {
   "cell_type": "code",
   "execution_count": 22,
   "id": "43a61ab8",
   "metadata": {},
   "outputs": [
    {
     "data": {
      "text/plain": [
       "[89, 45, 78]"
      ]
     },
     "execution_count": 22,
     "metadata": {},
     "output_type": "execute_result"
    }
   ],
   "source": [
    "z"
   ]
  },
  {
   "cell_type": "code",
   "execution_count": null,
   "id": "40d3bdb8",
   "metadata": {},
   "outputs": [],
   "source": [
    "sample_list = [11, 45, 8, 23, 14, 12, 78, 45, 89]\n",
    "print(\"Original list \", sample_list)\n",
    "\n",
    "length = len(sample_list)\n",
    "chunk_size = int(length / 3)\n",
    "start = 0\n",
    "end = chunk_size\n",
    "\n",
    "# run loop 3 times\n",
    "for i in range(3):\n",
    "    # get indexes\n",
    "    indexes = slice(start, end)\n",
    "    \n",
    "    # get chunk\n",
    "    list_chunk = sample_list[indexes]\n",
    "    print(\"Chunk \", i, list_chunk)\n",
    "    \n",
    "    # reverse chunk\n",
    "    print(\"After reversing it \", list(reversed(list_chunk)))\n",
    "\n",
    "    start = end\n",
    "    end += chunk_size\n"
   ]
  },
  {
   "cell_type": "code",
   "execution_count": null,
   "id": "e8a236f6",
   "metadata": {},
   "outputs": [],
   "source": []
  },
  {
   "cell_type": "code",
   "execution_count": 23,
   "id": "67888937",
   "metadata": {},
   "outputs": [],
   "source": [
    "import random"
   ]
  },
  {
   "cell_type": "code",
   "execution_count": 24,
   "id": "e214cb7f",
   "metadata": {},
   "outputs": [
    {
     "name": "stdout",
     "output_type": "stream",
     "text": [
      "Help on module random:\n",
      "\n",
      "NAME\n",
      "    random - Random variable generators.\n",
      "\n",
      "MODULE REFERENCE\n",
      "    https://docs.python.org/3.9/library/random\n",
      "    \n",
      "    The following documentation is automatically generated from the Python\n",
      "    source files.  It may be incomplete, incorrect or include features that\n",
      "    are considered implementation detail and may vary between Python\n",
      "    implementations.  When in doubt, consult the module reference at the\n",
      "    location listed above.\n",
      "\n",
      "DESCRIPTION\n",
      "        bytes\n",
      "        -----\n",
      "               uniform bytes (values between 0 and 255)\n",
      "    \n",
      "        integers\n",
      "        --------\n",
      "               uniform within range\n",
      "    \n",
      "        sequences\n",
      "        ---------\n",
      "               pick random element\n",
      "               pick random sample\n",
      "               pick weighted random sample\n",
      "               generate random permutation\n",
      "    \n",
      "        distributions on the real line:\n",
      "        ------------------------------\n",
      "               uniform\n",
      "               triangular\n",
      "               normal (Gaussian)\n",
      "               lognormal\n",
      "               negative exponential\n",
      "               gamma\n",
      "               beta\n",
      "               pareto\n",
      "               Weibull\n",
      "    \n",
      "        distributions on the circle (angles 0 to 2pi)\n",
      "        ---------------------------------------------\n",
      "               circular uniform\n",
      "               von Mises\n",
      "    \n",
      "    General notes on the underlying Mersenne Twister core generator:\n",
      "    \n",
      "    * The period is 2**19937-1.\n",
      "    * It is one of the most extensively tested generators in existence.\n",
      "    * The random() method is implemented in C, executes in a single Python step,\n",
      "      and is, therefore, threadsafe.\n",
      "\n",
      "CLASSES\n",
      "    _random.Random(builtins.object)\n",
      "        Random\n",
      "            SystemRandom\n",
      "    \n",
      "    class Random(_random.Random)\n",
      "     |  Random(x=None)\n",
      "     |  \n",
      "     |  Random number generator base class used by bound module functions.\n",
      "     |  \n",
      "     |  Used to instantiate instances of Random to get generators that don't\n",
      "     |  share state.\n",
      "     |  \n",
      "     |  Class Random can also be subclassed if you want to use a different basic\n",
      "     |  generator of your own devising: in that case, override the following\n",
      "     |  methods:  random(), seed(), getstate(), and setstate().\n",
      "     |  Optionally, implement a getrandbits() method so that randrange()\n",
      "     |  can cover arbitrarily large ranges.\n",
      "     |  \n",
      "     |  Method resolution order:\n",
      "     |      Random\n",
      "     |      _random.Random\n",
      "     |      builtins.object\n",
      "     |  \n",
      "     |  Methods defined here:\n",
      "     |  \n",
      "     |  __getstate__(self)\n",
      "     |      # Issue 17489: Since __reduce__ was defined to fix #759889 this is no\n",
      "     |      # longer called; we leave it here because it has been here since random was\n",
      "     |      # rewritten back in 2001 and why risk breaking something.\n",
      "     |  \n",
      "     |  __init__(self, x=None)\n",
      "     |      Initialize an instance.\n",
      "     |      \n",
      "     |      Optional argument x controls seeding, as for Random.seed().\n",
      "     |  \n",
      "     |  __reduce__(self)\n",
      "     |      Helper for pickle.\n",
      "     |  \n",
      "     |  __setstate__(self, state)\n",
      "     |  \n",
      "     |  betavariate(self, alpha, beta)\n",
      "     |      Beta distribution.\n",
      "     |      \n",
      "     |      Conditions on the parameters are alpha > 0 and beta > 0.\n",
      "     |      Returned values range between 0 and 1.\n",
      "     |  \n",
      "     |  choice(self, seq)\n",
      "     |      Choose a random element from a non-empty sequence.\n",
      "     |  \n",
      "     |  choices(self, population, weights=None, *, cum_weights=None, k=1)\n",
      "     |      Return a k sized list of population elements chosen with replacement.\n",
      "     |      \n",
      "     |      If the relative weights or cumulative weights are not specified,\n",
      "     |      the selections are made with equal probability.\n",
      "     |  \n",
      "     |  expovariate(self, lambd)\n",
      "     |      Exponential distribution.\n",
      "     |      \n",
      "     |      lambd is 1.0 divided by the desired mean.  It should be\n",
      "     |      nonzero.  (The parameter would be called \"lambda\", but that is\n",
      "     |      a reserved word in Python.)  Returned values range from 0 to\n",
      "     |      positive infinity if lambd is positive, and from negative\n",
      "     |      infinity to 0 if lambd is negative.\n",
      "     |  \n",
      "     |  gammavariate(self, alpha, beta)\n",
      "     |      Gamma distribution.  Not the gamma function!\n",
      "     |      \n",
      "     |      Conditions on the parameters are alpha > 0 and beta > 0.\n",
      "     |      \n",
      "     |      The probability distribution function is:\n",
      "     |      \n",
      "     |                  x ** (alpha - 1) * math.exp(-x / beta)\n",
      "     |        pdf(x) =  --------------------------------------\n",
      "     |                    math.gamma(alpha) * beta ** alpha\n",
      "     |  \n",
      "     |  gauss(self, mu, sigma)\n",
      "     |      Gaussian distribution.\n",
      "     |      \n",
      "     |      mu is the mean, and sigma is the standard deviation.  This is\n",
      "     |      slightly faster than the normalvariate() function.\n",
      "     |      \n",
      "     |      Not thread-safe without a lock around calls.\n",
      "     |  \n",
      "     |  getstate(self)\n",
      "     |      Return internal state; can be passed to setstate() later.\n",
      "     |  \n",
      "     |  lognormvariate(self, mu, sigma)\n",
      "     |      Log normal distribution.\n",
      "     |      \n",
      "     |      If you take the natural logarithm of this distribution, you'll get a\n",
      "     |      normal distribution with mean mu and standard deviation sigma.\n",
      "     |      mu can have any value, and sigma must be greater than zero.\n",
      "     |  \n",
      "     |  normalvariate(self, mu, sigma)\n",
      "     |      Normal distribution.\n",
      "     |      \n",
      "     |      mu is the mean, and sigma is the standard deviation.\n",
      "     |  \n",
      "     |  paretovariate(self, alpha)\n",
      "     |      Pareto distribution.  alpha is the shape parameter.\n",
      "     |  \n",
      "     |  randbytes(self, n)\n",
      "     |      Generate n random bytes.\n",
      "     |  \n",
      "     |  randint(self, a, b)\n",
      "     |      Return random integer in range [a, b], including both end points.\n",
      "     |  \n",
      "     |  randrange(self, start, stop=None, step=1)\n",
      "     |      Choose a random item from range(start, stop[, step]).\n",
      "     |      \n",
      "     |      This fixes the problem with randint() which includes the\n",
      "     |      endpoint; in Python this is usually not what you want.\n",
      "     |  \n",
      "     |  sample(self, population, k, *, counts=None)\n",
      "     |      Chooses k unique random elements from a population sequence or set.\n",
      "     |      \n",
      "     |      Returns a new list containing elements from the population while\n",
      "     |      leaving the original population unchanged.  The resulting list is\n",
      "     |      in selection order so that all sub-slices will also be valid random\n",
      "     |      samples.  This allows raffle winners (the sample) to be partitioned\n",
      "     |      into grand prize and second place winners (the subslices).\n",
      "     |      \n",
      "     |      Members of the population need not be hashable or unique.  If the\n",
      "     |      population contains repeats, then each occurrence is a possible\n",
      "     |      selection in the sample.\n",
      "     |      \n",
      "     |      Repeated elements can be specified one at a time or with the optional\n",
      "     |      counts parameter.  For example:\n",
      "     |      \n",
      "     |          sample(['red', 'blue'], counts=[4, 2], k=5)\n",
      "     |      \n",
      "     |      is equivalent to:\n",
      "     |      \n",
      "     |          sample(['red', 'red', 'red', 'red', 'blue', 'blue'], k=5)\n",
      "     |      \n",
      "     |      To choose a sample from a range of integers, use range() for the\n",
      "     |      population argument.  This is especially fast and space efficient\n",
      "     |      for sampling from a large population:\n",
      "     |      \n",
      "     |          sample(range(10000000), 60)\n",
      "     |  \n",
      "     |  seed(self, a=None, version=2)\n",
      "     |      Initialize internal state from a seed.\n",
      "     |      \n",
      "     |      The only supported seed types are None, int, float,\n",
      "     |      str, bytes, and bytearray.\n",
      "     |      \n",
      "     |      None or no argument seeds from current time or from an operating\n",
      "     |      system specific randomness source if available.\n",
      "     |      \n",
      "     |      If *a* is an int, all bits are used.\n",
      "     |      \n",
      "     |      For version 2 (the default), all of the bits are used if *a* is a str,\n",
      "     |      bytes, or bytearray.  For version 1 (provided for reproducing random\n",
      "     |      sequences from older versions of Python), the algorithm for str and\n",
      "     |      bytes generates a narrower range of seeds.\n",
      "     |  \n",
      "     |  setstate(self, state)\n",
      "     |      Restore internal state from object returned by getstate().\n",
      "     |  \n",
      "     |  shuffle(self, x, random=None)\n",
      "     |      Shuffle list x in place, and return None.\n",
      "     |      \n",
      "     |      Optional argument random is a 0-argument function returning a\n",
      "     |      random float in [0.0, 1.0); if it is the default None, the\n",
      "     |      standard random.random will be used.\n",
      "     |  \n",
      "     |  triangular(self, low=0.0, high=1.0, mode=None)\n",
      "     |      Triangular distribution.\n",
      "     |      \n",
      "     |      Continuous distribution bounded by given lower and upper limits,\n",
      "     |      and having a given mode value in-between.\n",
      "     |      \n",
      "     |      http://en.wikipedia.org/wiki/Triangular_distribution\n",
      "     |  \n",
      "     |  uniform(self, a, b)\n",
      "     |      Get a random number in the range [a, b) or [a, b] depending on rounding.\n",
      "     |  \n",
      "     |  vonmisesvariate(self, mu, kappa)\n",
      "     |      Circular data distribution.\n",
      "     |      \n",
      "     |      mu is the mean angle, expressed in radians between 0 and 2*pi, and\n",
      "     |      kappa is the concentration parameter, which must be greater than or\n",
      "     |      equal to zero.  If kappa is equal to zero, this distribution reduces\n",
      "     |      to a uniform random angle over the range 0 to 2*pi.\n",
      "     |  \n",
      "     |  weibullvariate(self, alpha, beta)\n",
      "     |      Weibull distribution.\n",
      "     |      \n",
      "     |      alpha is the scale parameter and beta is the shape parameter.\n",
      "     |  \n",
      "     |  ----------------------------------------------------------------------\n",
      "     |  Class methods defined here:\n",
      "     |  \n",
      "     |  __init_subclass__(**kwargs) from builtins.type\n",
      "     |      Control how subclasses generate random integers.\n",
      "     |      \n",
      "     |      The algorithm a subclass can use depends on the random() and/or\n",
      "     |      getrandbits() implementation available to it and determines\n",
      "     |      whether it can generate random integers from arbitrarily large\n",
      "     |      ranges.\n",
      "     |  \n",
      "     |  ----------------------------------------------------------------------\n",
      "     |  Data descriptors defined here:\n",
      "     |  \n",
      "     |  __dict__\n",
      "     |      dictionary for instance variables (if defined)\n",
      "     |  \n",
      "     |  __weakref__\n",
      "     |      list of weak references to the object (if defined)\n",
      "     |  \n",
      "     |  ----------------------------------------------------------------------\n",
      "     |  Data and other attributes defined here:\n",
      "     |  \n",
      "     |  VERSION = 3\n",
      "     |  \n",
      "     |  ----------------------------------------------------------------------\n",
      "     |  Methods inherited from _random.Random:\n",
      "     |  \n",
      "     |  getrandbits(self, k, /)\n",
      "     |      getrandbits(k) -> x.  Generates an int with k random bits.\n",
      "     |  \n",
      "     |  random(self, /)\n",
      "     |      random() -> x in the interval [0, 1).\n",
      "     |  \n",
      "     |  ----------------------------------------------------------------------\n",
      "     |  Static methods inherited from _random.Random:\n",
      "     |  \n",
      "     |  __new__(*args, **kwargs) from builtins.type\n",
      "     |      Create and return a new object.  See help(type) for accurate signature.\n",
      "    \n",
      "    class SystemRandom(Random)\n",
      "     |  SystemRandom(x=None)\n",
      "     |  \n",
      "     |  Alternate random number generator using sources provided\n",
      "     |  by the operating system (such as /dev/urandom on Unix or\n",
      "     |  CryptGenRandom on Windows).\n",
      "     |  \n",
      "     |   Not available on all systems (see os.urandom() for details).\n",
      "     |  \n",
      "     |  Method resolution order:\n",
      "     |      SystemRandom\n",
      "     |      Random\n",
      "     |      _random.Random\n",
      "     |      builtins.object\n",
      "     |  \n",
      "     |  Methods defined here:\n",
      "     |  \n",
      "     |  getrandbits(self, k)\n",
      "     |      getrandbits(k) -> x.  Generates an int with k random bits.\n",
      "     |  \n",
      "     |  getstate = _notimplemented(self, *args, **kwds)\n",
      "     |  \n",
      "     |  randbytes(self, n)\n",
      "     |      Generate n random bytes.\n",
      "     |  \n",
      "     |  random(self)\n",
      "     |      Get the next random number in the range [0.0, 1.0).\n",
      "     |  \n",
      "     |  seed(self, *args, **kwds)\n",
      "     |      Stub method.  Not used for a system random number generator.\n",
      "     |  \n",
      "     |  setstate = _notimplemented(self, *args, **kwds)\n",
      "     |  \n",
      "     |  ----------------------------------------------------------------------\n",
      "     |  Methods inherited from Random:\n",
      "     |  \n",
      "     |  __getstate__(self)\n",
      "     |      # Issue 17489: Since __reduce__ was defined to fix #759889 this is no\n",
      "     |      # longer called; we leave it here because it has been here since random was\n",
      "     |      # rewritten back in 2001 and why risk breaking something.\n",
      "     |  \n",
      "     |  __init__(self, x=None)\n",
      "     |      Initialize an instance.\n",
      "     |      \n",
      "     |      Optional argument x controls seeding, as for Random.seed().\n",
      "     |  \n",
      "     |  __reduce__(self)\n",
      "     |      Helper for pickle.\n",
      "     |  \n",
      "     |  __setstate__(self, state)\n",
      "     |  \n",
      "     |  betavariate(self, alpha, beta)\n",
      "     |      Beta distribution.\n",
      "     |      \n",
      "     |      Conditions on the parameters are alpha > 0 and beta > 0.\n",
      "     |      Returned values range between 0 and 1.\n",
      "     |  \n",
      "     |  choice(self, seq)\n",
      "     |      Choose a random element from a non-empty sequence.\n",
      "     |  \n",
      "     |  choices(self, population, weights=None, *, cum_weights=None, k=1)\n",
      "     |      Return a k sized list of population elements chosen with replacement.\n",
      "     |      \n",
      "     |      If the relative weights or cumulative weights are not specified,\n",
      "     |      the selections are made with equal probability.\n",
      "     |  \n",
      "     |  expovariate(self, lambd)\n",
      "     |      Exponential distribution.\n",
      "     |      \n",
      "     |      lambd is 1.0 divided by the desired mean.  It should be\n",
      "     |      nonzero.  (The parameter would be called \"lambda\", but that is\n",
      "     |      a reserved word in Python.)  Returned values range from 0 to\n",
      "     |      positive infinity if lambd is positive, and from negative\n",
      "     |      infinity to 0 if lambd is negative.\n",
      "     |  \n",
      "     |  gammavariate(self, alpha, beta)\n",
      "     |      Gamma distribution.  Not the gamma function!\n",
      "     |      \n",
      "     |      Conditions on the parameters are alpha > 0 and beta > 0.\n",
      "     |      \n",
      "     |      The probability distribution function is:\n",
      "     |      \n",
      "     |                  x ** (alpha - 1) * math.exp(-x / beta)\n",
      "     |        pdf(x) =  --------------------------------------\n",
      "     |                    math.gamma(alpha) * beta ** alpha\n",
      "     |  \n",
      "     |  gauss(self, mu, sigma)\n",
      "     |      Gaussian distribution.\n",
      "     |      \n",
      "     |      mu is the mean, and sigma is the standard deviation.  This is\n",
      "     |      slightly faster than the normalvariate() function.\n",
      "     |      \n",
      "     |      Not thread-safe without a lock around calls.\n",
      "     |  \n",
      "     |  lognormvariate(self, mu, sigma)\n",
      "     |      Log normal distribution.\n",
      "     |      \n",
      "     |      If you take the natural logarithm of this distribution, you'll get a\n",
      "     |      normal distribution with mean mu and standard deviation sigma.\n",
      "     |      mu can have any value, and sigma must be greater than zero.\n",
      "     |  \n",
      "     |  normalvariate(self, mu, sigma)\n",
      "     |      Normal distribution.\n",
      "     |      \n",
      "     |      mu is the mean, and sigma is the standard deviation.\n",
      "     |  \n",
      "     |  paretovariate(self, alpha)\n",
      "     |      Pareto distribution.  alpha is the shape parameter.\n",
      "     |  \n",
      "     |  randint(self, a, b)\n",
      "     |      Return random integer in range [a, b], including both end points.\n",
      "     |  \n",
      "     |  randrange(self, start, stop=None, step=1)\n",
      "     |      Choose a random item from range(start, stop[, step]).\n",
      "     |      \n",
      "     |      This fixes the problem with randint() which includes the\n",
      "     |      endpoint; in Python this is usually not what you want.\n",
      "     |  \n",
      "     |  sample(self, population, k, *, counts=None)\n",
      "     |      Chooses k unique random elements from a population sequence or set.\n",
      "     |      \n",
      "     |      Returns a new list containing elements from the population while\n",
      "     |      leaving the original population unchanged.  The resulting list is\n",
      "     |      in selection order so that all sub-slices will also be valid random\n",
      "     |      samples.  This allows raffle winners (the sample) to be partitioned\n",
      "     |      into grand prize and second place winners (the subslices).\n",
      "     |      \n",
      "     |      Members of the population need not be hashable or unique.  If the\n",
      "     |      population contains repeats, then each occurrence is a possible\n",
      "     |      selection in the sample.\n",
      "     |      \n",
      "     |      Repeated elements can be specified one at a time or with the optional\n",
      "     |      counts parameter.  For example:\n",
      "     |      \n",
      "     |          sample(['red', 'blue'], counts=[4, 2], k=5)\n",
      "     |      \n",
      "     |      is equivalent to:\n",
      "     |      \n",
      "     |          sample(['red', 'red', 'red', 'red', 'blue', 'blue'], k=5)\n",
      "     |      \n",
      "     |      To choose a sample from a range of integers, use range() for the\n",
      "     |      population argument.  This is especially fast and space efficient\n",
      "     |      for sampling from a large population:\n",
      "     |      \n",
      "     |          sample(range(10000000), 60)\n",
      "     |  \n",
      "     |  shuffle(self, x, random=None)\n",
      "     |      Shuffle list x in place, and return None.\n",
      "     |      \n",
      "     |      Optional argument random is a 0-argument function returning a\n",
      "     |      random float in [0.0, 1.0); if it is the default None, the\n",
      "     |      standard random.random will be used.\n",
      "     |  \n",
      "     |  triangular(self, low=0.0, high=1.0, mode=None)\n",
      "     |      Triangular distribution.\n",
      "     |      \n",
      "     |      Continuous distribution bounded by given lower and upper limits,\n",
      "     |      and having a given mode value in-between.\n",
      "     |      \n",
      "     |      http://en.wikipedia.org/wiki/Triangular_distribution\n",
      "     |  \n",
      "     |  uniform(self, a, b)\n",
      "     |      Get a random number in the range [a, b) or [a, b] depending on rounding.\n",
      "     |  \n",
      "     |  vonmisesvariate(self, mu, kappa)\n",
      "     |      Circular data distribution.\n",
      "     |      \n",
      "     |      mu is the mean angle, expressed in radians between 0 and 2*pi, and\n",
      "     |      kappa is the concentration parameter, which must be greater than or\n",
      "     |      equal to zero.  If kappa is equal to zero, this distribution reduces\n",
      "     |      to a uniform random angle over the range 0 to 2*pi.\n",
      "     |  \n",
      "     |  weibullvariate(self, alpha, beta)\n",
      "     |      Weibull distribution.\n",
      "     |      \n",
      "     |      alpha is the scale parameter and beta is the shape parameter.\n",
      "     |  \n",
      "     |  ----------------------------------------------------------------------\n",
      "     |  Class methods inherited from Random:\n",
      "     |  \n",
      "     |  __init_subclass__(**kwargs) from builtins.type\n",
      "     |      Control how subclasses generate random integers.\n",
      "     |      \n",
      "     |      The algorithm a subclass can use depends on the random() and/or\n",
      "     |      getrandbits() implementation available to it and determines\n",
      "     |      whether it can generate random integers from arbitrarily large\n",
      "     |      ranges.\n",
      "     |  \n",
      "     |  ----------------------------------------------------------------------\n",
      "     |  Data descriptors inherited from Random:\n",
      "     |  \n",
      "     |  __dict__\n",
      "     |      dictionary for instance variables (if defined)\n",
      "     |  \n",
      "     |  __weakref__\n",
      "     |      list of weak references to the object (if defined)\n",
      "     |  \n",
      "     |  ----------------------------------------------------------------------\n",
      "     |  Data and other attributes inherited from Random:\n",
      "     |  \n",
      "     |  VERSION = 3\n",
      "     |  \n",
      "     |  ----------------------------------------------------------------------\n",
      "     |  Static methods inherited from _random.Random:\n",
      "     |  \n",
      "     |  __new__(*args, **kwargs) from builtins.type\n",
      "     |      Create and return a new object.  See help(type) for accurate signature.\n",
      "\n",
      "FUNCTIONS\n",
      "    betavariate(alpha, beta) method of Random instance\n",
      "        Beta distribution.\n",
      "        \n",
      "        Conditions on the parameters are alpha > 0 and beta > 0.\n",
      "        Returned values range between 0 and 1.\n",
      "    \n",
      "    choice(seq) method of Random instance\n",
      "        Choose a random element from a non-empty sequence.\n",
      "    \n",
      "    choices(population, weights=None, *, cum_weights=None, k=1) method of Random instance\n",
      "        Return a k sized list of population elements chosen with replacement.\n",
      "        \n",
      "        If the relative weights or cumulative weights are not specified,\n",
      "        the selections are made with equal probability.\n",
      "    \n",
      "    expovariate(lambd) method of Random instance\n",
      "        Exponential distribution.\n",
      "        \n",
      "        lambd is 1.0 divided by the desired mean.  It should be\n",
      "        nonzero.  (The parameter would be called \"lambda\", but that is\n",
      "        a reserved word in Python.)  Returned values range from 0 to\n",
      "        positive infinity if lambd is positive, and from negative\n",
      "        infinity to 0 if lambd is negative.\n",
      "    \n",
      "    gammavariate(alpha, beta) method of Random instance\n",
      "        Gamma distribution.  Not the gamma function!\n",
      "        \n",
      "        Conditions on the parameters are alpha > 0 and beta > 0.\n",
      "        \n",
      "        The probability distribution function is:\n",
      "        \n",
      "                    x ** (alpha - 1) * math.exp(-x / beta)\n",
      "          pdf(x) =  --------------------------------------\n",
      "                      math.gamma(alpha) * beta ** alpha\n",
      "    \n",
      "    gauss(mu, sigma) method of Random instance\n",
      "        Gaussian distribution.\n",
      "        \n",
      "        mu is the mean, and sigma is the standard deviation.  This is\n",
      "        slightly faster than the normalvariate() function.\n",
      "        \n",
      "        Not thread-safe without a lock around calls.\n",
      "    \n",
      "    getrandbits(k, /) method of Random instance\n",
      "        getrandbits(k) -> x.  Generates an int with k random bits.\n",
      "    \n",
      "    getstate() method of Random instance\n",
      "        Return internal state; can be passed to setstate() later.\n",
      "    \n",
      "    lognormvariate(mu, sigma) method of Random instance\n",
      "        Log normal distribution.\n",
      "        \n",
      "        If you take the natural logarithm of this distribution, you'll get a\n",
      "        normal distribution with mean mu and standard deviation sigma.\n",
      "        mu can have any value, and sigma must be greater than zero.\n",
      "    \n",
      "    normalvariate(mu, sigma) method of Random instance\n",
      "        Normal distribution.\n",
      "        \n",
      "        mu is the mean, and sigma is the standard deviation.\n",
      "    \n",
      "    paretovariate(alpha) method of Random instance\n",
      "        Pareto distribution.  alpha is the shape parameter.\n",
      "    \n",
      "    randbytes(n) method of Random instance\n",
      "        Generate n random bytes.\n",
      "    \n",
      "    randint(a, b) method of Random instance\n",
      "        Return random integer in range [a, b], including both end points.\n",
      "    \n",
      "    random() method of Random instance\n",
      "        random() -> x in the interval [0, 1).\n",
      "    \n",
      "    randrange(start, stop=None, step=1) method of Random instance\n",
      "        Choose a random item from range(start, stop[, step]).\n",
      "        \n",
      "        This fixes the problem with randint() which includes the\n",
      "        endpoint; in Python this is usually not what you want.\n",
      "    \n",
      "    sample(population, k, *, counts=None) method of Random instance\n",
      "        Chooses k unique random elements from a population sequence or set.\n",
      "        \n",
      "        Returns a new list containing elements from the population while\n",
      "        leaving the original population unchanged.  The resulting list is\n",
      "        in selection order so that all sub-slices will also be valid random\n",
      "        samples.  This allows raffle winners (the sample) to be partitioned\n",
      "        into grand prize and second place winners (the subslices).\n",
      "        \n",
      "        Members of the population need not be hashable or unique.  If the\n",
      "        population contains repeats, then each occurrence is a possible\n",
      "        selection in the sample.\n",
      "        \n",
      "        Repeated elements can be specified one at a time or with the optional\n",
      "        counts parameter.  For example:\n",
      "        \n",
      "            sample(['red', 'blue'], counts=[4, 2], k=5)\n",
      "        \n",
      "        is equivalent to:\n",
      "        \n",
      "            sample(['red', 'red', 'red', 'red', 'blue', 'blue'], k=5)\n",
      "        \n",
      "        To choose a sample from a range of integers, use range() for the\n",
      "        population argument.  This is especially fast and space efficient\n",
      "        for sampling from a large population:\n",
      "        \n",
      "            sample(range(10000000), 60)\n",
      "    \n",
      "    seed(a=None, version=2) method of Random instance\n",
      "        Initialize internal state from a seed.\n",
      "        \n",
      "        The only supported seed types are None, int, float,\n",
      "        str, bytes, and bytearray.\n",
      "        \n",
      "        None or no argument seeds from current time or from an operating\n",
      "        system specific randomness source if available.\n",
      "        \n",
      "        If *a* is an int, all bits are used.\n",
      "        \n",
      "        For version 2 (the default), all of the bits are used if *a* is a str,\n",
      "        bytes, or bytearray.  For version 1 (provided for reproducing random\n",
      "        sequences from older versions of Python), the algorithm for str and\n",
      "        bytes generates a narrower range of seeds.\n",
      "    \n",
      "    setstate(state) method of Random instance\n",
      "        Restore internal state from object returned by getstate().\n",
      "    \n",
      "    shuffle(x, random=None) method of Random instance\n",
      "        Shuffle list x in place, and return None.\n",
      "        \n",
      "        Optional argument random is a 0-argument function returning a\n",
      "        random float in [0.0, 1.0); if it is the default None, the\n",
      "        standard random.random will be used.\n",
      "    \n",
      "    triangular(low=0.0, high=1.0, mode=None) method of Random instance\n",
      "        Triangular distribution.\n",
      "        \n",
      "        Continuous distribution bounded by given lower and upper limits,\n",
      "        and having a given mode value in-between.\n",
      "        \n",
      "        http://en.wikipedia.org/wiki/Triangular_distribution\n",
      "    \n",
      "    uniform(a, b) method of Random instance\n",
      "        Get a random number in the range [a, b) or [a, b] depending on rounding.\n",
      "    \n",
      "    vonmisesvariate(mu, kappa) method of Random instance\n",
      "        Circular data distribution.\n",
      "        \n",
      "        mu is the mean angle, expressed in radians between 0 and 2*pi, and\n",
      "        kappa is the concentration parameter, which must be greater than or\n",
      "        equal to zero.  If kappa is equal to zero, this distribution reduces\n",
      "        to a uniform random angle over the range 0 to 2*pi.\n",
      "    \n",
      "    weibullvariate(alpha, beta) method of Random instance\n",
      "        Weibull distribution.\n",
      "        \n",
      "        alpha is the scale parameter and beta is the shape parameter.\n",
      "\n",
      "DATA\n",
      "    __all__ = ['Random', 'SystemRandom', 'betavariate', 'choice', 'choices...\n",
      "\n",
      "FILE\n",
      "    c:\\users\\aser\\anaconda3\\envs\\django\\lib\\random.py\n",
      "\n",
      "\n"
     ]
    }
   ],
   "source": [
    "help(random)"
   ]
  },
  {
   "cell_type": "code",
   "execution_count": 42,
   "id": "5c700bba",
   "metadata": {},
   "outputs": [
    {
     "data": {
      "text/plain": [
       "83"
      ]
     },
     "execution_count": 42,
     "metadata": {},
     "output_type": "execute_result"
    }
   ],
   "source": [
    "cpu = random.randint(1,101)\n",
    "cpu"
   ]
  },
  {
   "cell_type": "code",
   "execution_count": null,
   "id": "446426e3",
   "metadata": {},
   "outputs": [],
   "source": []
  },
  {
   "cell_type": "code",
   "execution_count": null,
   "id": "b52f58c6",
   "metadata": {},
   "outputs": [],
   "source": []
  }
 ],
 "metadata": {
  "kernelspec": {
   "display_name": "Python 3 (ipykernel)",
   "language": "python",
   "name": "python3"
  },
  "language_info": {
   "codemirror_mode": {
    "name": "ipython",
    "version": 3
   },
   "file_extension": ".py",
   "mimetype": "text/x-python",
   "name": "python",
   "nbconvert_exporter": "python",
   "pygments_lexer": "ipython3",
   "version": "3.9.15"
  }
 },
 "nbformat": 4,
 "nbformat_minor": 5
}
