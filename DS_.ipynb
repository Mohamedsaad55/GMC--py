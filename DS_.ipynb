{
 "cells": [
  {
   "cell_type": "code",
   "execution_count": 2,
   "id": "2302f5ba",
   "metadata": {},
   "outputs": [],
   "source": [
    "# List \n",
    "l = [1,2,3,4,5,\"String\", 1.5 , True , {}, [1,2,3,4], 1 ]\n",
    "# Dictionary \n",
    "d = {'name' : \"Mohamed\",\"age\" : 28}\n",
    "# Set \n",
    "s = {1,2,3,4,5,6}\n",
    "# Tuples \n",
    "t = (1,2,3,4,5)"
   ]
  },
  {
   "cell_type": "code",
   "execution_count": 3,
   "id": "7a436671",
   "metadata": {},
   "outputs": [],
   "source": [
    "l = [1,2,3,4,5,\"String\", 1.5 , True , {}, [1,2,3,4], 1 ]\n"
   ]
  },
  {
   "cell_type": "code",
   "execution_count": 9,
   "id": "48433f18",
   "metadata": {},
   "outputs": [],
   "source": [
    "listt = list(range(1,10,2))"
   ]
  },
  {
   "cell_type": "code",
   "execution_count": 10,
   "id": "feabf39f",
   "metadata": {},
   "outputs": [
    {
     "data": {
      "text/plain": [
       "[1, 3, 5, 7, 9]"
      ]
     },
     "execution_count": 10,
     "metadata": {},
     "output_type": "execute_result"
    }
   ],
   "source": [
    "listt"
   ]
  },
  {
   "cell_type": "code",
   "execution_count": 12,
   "id": "003a1a47",
   "metadata": {},
   "outputs": [],
   "source": [
    "listt.append(\"Mohamed\")"
   ]
  },
  {
   "cell_type": "code",
   "execution_count": 15,
   "id": "588bac7d",
   "metadata": {},
   "outputs": [],
   "source": [
    "listt[5] = True"
   ]
  },
  {
   "cell_type": "code",
   "execution_count": 19,
   "id": "9c1972ea",
   "metadata": {},
   "outputs": [
    {
     "data": {
      "text/plain": [
       "[1, 3, 5, 7, 9, True]"
      ]
     },
     "execution_count": 19,
     "metadata": {},
     "output_type": "execute_result"
    }
   ],
   "source": [
    "listt"
   ]
  },
  {
   "cell_type": "code",
   "execution_count": 31,
   "id": "afa33a1f",
   "metadata": {},
   "outputs": [
    {
     "data": {
      "text/plain": [
       "3"
      ]
     },
     "execution_count": 31,
     "metadata": {},
     "output_type": "execute_result"
    }
   ],
   "source": [
    "listt.index(\"Mohamed\")"
   ]
  },
  {
   "cell_type": "code",
   "execution_count": 37,
   "id": "690ad88d",
   "metadata": {},
   "outputs": [],
   "source": [
    "listt.insert(3,\"Mohamed\")"
   ]
  },
  {
   "cell_type": "code",
   "execution_count": 23,
   "id": "33fe7a71",
   "metadata": {},
   "outputs": [
    {
     "data": {
      "text/plain": [
       "[1, 3, 5, 'Mohamed', 7, 9, True]"
      ]
     },
     "execution_count": 23,
     "metadata": {},
     "output_type": "execute_result"
    }
   ],
   "source": [
    "listt"
   ]
  },
  {
   "cell_type": "code",
   "execution_count": 32,
   "id": "6607252c",
   "metadata": {},
   "outputs": [],
   "source": [
    "listt.remove(7)"
   ]
  },
  {
   "cell_type": "code",
   "execution_count": 38,
   "id": "dff11f62",
   "metadata": {},
   "outputs": [
    {
     "data": {
      "text/plain": [
       "[1, 3, 5, 'Mohamed', 9]"
      ]
     },
     "execution_count": 38,
     "metadata": {},
     "output_type": "execute_result"
    }
   ],
   "source": [
    "listt"
   ]
  },
  {
   "cell_type": "code",
   "execution_count": 46,
   "id": "3404cad1",
   "metadata": {},
   "outputs": [
    {
     "data": {
      "text/plain": [
       "['M', 'o', 'h', 'a', 'm', 'e', 'd']"
      ]
     },
     "execution_count": 46,
     "metadata": {},
     "output_type": "execute_result"
    }
   ],
   "source": [
    "z = list(listt[3])\n",
    "z"
   ]
  },
  {
   "cell_type": "code",
   "execution_count": 50,
   "id": "eaeeb791",
   "metadata": {},
   "outputs": [
    {
     "data": {
      "text/plain": [
       "'d'"
      ]
     },
     "execution_count": 50,
     "metadata": {},
     "output_type": "execute_result"
    }
   ],
   "source": [
    "z.pop()"
   ]
  },
  {
   "cell_type": "code",
   "execution_count": 45,
   "id": "be1758f4",
   "metadata": {},
   "outputs": [
    {
     "data": {
      "text/plain": [
       "['M', 'o', 'h', 'm', 'e', 'd']"
      ]
     },
     "execution_count": 45,
     "metadata": {},
     "output_type": "execute_result"
    }
   ],
   "source": [
    "z"
   ]
  },
  {
   "cell_type": "code",
   "execution_count": 56,
   "id": "c4e8db7f",
   "metadata": {},
   "outputs": [],
   "source": [
    "l = []\n",
    "for i in range(0,1001):\n",
    "    if i % 7 == 0 and i % 5 == 0 : \n",
    "        l.append(i)"
   ]
  },
  {
   "cell_type": "code",
   "execution_count": 71,
   "id": "42effd55",
   "metadata": {},
   "outputs": [],
   "source": [
    "x = sorted(l,reverse=True)"
   ]
  },
  {
   "cell_type": "code",
   "execution_count": 79,
   "id": "4618273c",
   "metadata": {},
   "outputs": [
    {
     "data": {
      "text/plain": [
       "[0,\n",
       " 35,\n",
       " 70,\n",
       " 105,\n",
       " 140,\n",
       " 175,\n",
       " 210,\n",
       " 245,\n",
       " 280,\n",
       " 315,\n",
       " 350,\n",
       " 385,\n",
       " 420,\n",
       " 455,\n",
       " 490,\n",
       " 525,\n",
       " 560,\n",
       " 595,\n",
       " 630,\n",
       " 665,\n",
       " 700,\n",
       " 735,\n",
       " 770,\n",
       " 805,\n",
       " 840,\n",
       " 875,\n",
       " 910,\n",
       " 945,\n",
       " 980]"
      ]
     },
     "execution_count": 79,
     "metadata": {},
     "output_type": "execute_result"
    }
   ],
   "source": [
    "y = [i for i in range(0,1001) if i % 7 ==0 and i % 5 ==0]\n",
    "y"
   ]
  },
  {
   "cell_type": "code",
   "execution_count": 80,
   "id": "08a85fbf",
   "metadata": {},
   "outputs": [],
   "source": [
    "x.extend(y)"
   ]
  },
  {
   "cell_type": "code",
   "execution_count": 83,
   "id": "5858329d",
   "metadata": {},
   "outputs": [
    {
     "data": {
      "text/plain": [
       "58"
      ]
     },
     "execution_count": 83,
     "metadata": {},
     "output_type": "execute_result"
    }
   ],
   "source": [
    "len(x)"
   ]
  },
  {
   "cell_type": "code",
   "execution_count": 84,
   "id": "e40cd13e",
   "metadata": {},
   "outputs": [
    {
     "data": {
      "text/plain": [
       "980"
      ]
     },
     "execution_count": 84,
     "metadata": {},
     "output_type": "execute_result"
    }
   ],
   "source": [
    "x[-1]"
   ]
  },
  {
   "cell_type": "code",
   "execution_count": 85,
   "id": "3c07796d",
   "metadata": {},
   "outputs": [],
   "source": [
    "s = [[1,2,3],[4,5,6]]"
   ]
  },
  {
   "cell_type": "code",
   "execution_count": 89,
   "id": "3782f9a7",
   "metadata": {},
   "outputs": [
    {
     "data": {
      "text/plain": [
       "4"
      ]
     },
     "execution_count": 89,
     "metadata": {},
     "output_type": "execute_result"
    }
   ],
   "source": [
    "s[1][0]"
   ]
  },
  {
   "cell_type": "code",
   "execution_count": 97,
   "id": "627cf26b",
   "metadata": {},
   "outputs": [
    {
     "data": {
      "text/plain": [
       "[('At', 85), ('I', 53), ('Br', 35), ('Cl', 17), ('F', 9), ('A', 5)]"
      ]
     },
     "execution_count": 97,
     "metadata": {},
     "output_type": "execute_result"
    }
   ],
   "source": [
    "l = [('At', 85), ('Br', 35), ('Cl', 17), ('F', 9), ('I', 53), (\"A\",5),('Cl', 17),('I', 53)]\n",
    "sorted(list(set(l)),reverse=True , key = lambda x:x[1])"
   ]
  },
  {
   "cell_type": "code",
   "execution_count": null,
   "id": "1ea4bd3c",
   "metadata": {},
   "outputs": [],
   "source": []
  },
  {
   "cell_type": "code",
   "execution_count": null,
   "id": "45da953c",
   "metadata": {},
   "outputs": [],
   "source": []
  },
  {
   "cell_type": "code",
   "execution_count": null,
   "id": "69b8b2de",
   "metadata": {},
   "outputs": [],
   "source": []
  },
  {
   "cell_type": "code",
   "execution_count": null,
   "id": "a7aab356",
   "metadata": {},
   "outputs": [],
   "source": []
  },
  {
   "cell_type": "code",
   "execution_count": null,
   "id": "face9d4d",
   "metadata": {},
   "outputs": [],
   "source": []
  },
  {
   "cell_type": "code",
   "execution_count": null,
   "id": "ebe641ef",
   "metadata": {},
   "outputs": [],
   "source": []
  },
  {
   "cell_type": "markdown",
   "id": "a54fe059",
   "metadata": {},
   "source": [
    "# Set"
   ]
  },
  {
   "cell_type": "code",
   "execution_count": 108,
   "id": "5e7ae1ea",
   "metadata": {},
   "outputs": [],
   "source": [
    "s = {1,2,3,4,5,6}\n"
   ]
  },
  {
   "cell_type": "code",
   "execution_count": 109,
   "id": "d7eb1e73",
   "metadata": {},
   "outputs": [],
   "source": [
    "s.remove(3)"
   ]
  },
  {
   "cell_type": "code",
   "execution_count": 114,
   "id": "dca005a9",
   "metadata": {},
   "outputs": [],
   "source": [
    "s.add(10)"
   ]
  },
  {
   "cell_type": "code",
   "execution_count": 115,
   "id": "a3e46e10",
   "metadata": {},
   "outputs": [
    {
     "data": {
      "text/plain": [
       "{1, 2, 4, 5, 6, 10}"
      ]
     },
     "execution_count": 115,
     "metadata": {},
     "output_type": "execute_result"
    }
   ],
   "source": [
    "s"
   ]
  },
  {
   "cell_type": "markdown",
   "id": "cf169928",
   "metadata": {},
   "source": [
    "# Tuples"
   ]
  },
  {
   "cell_type": "code",
   "execution_count": 117,
   "id": "2b84e2e0",
   "metadata": {},
   "outputs": [],
   "source": [
    "t = (1,2,3,4)\n",
    "t1 = (\"a\",\"b\",\"c\",\"d\")"
   ]
  },
  {
   "cell_type": "code",
   "execution_count": 123,
   "id": "182fde28",
   "metadata": {},
   "outputs": [
    {
     "ename": "AttributeError",
     "evalue": "'tuple' object has no attribute 'append'",
     "output_type": "error",
     "traceback": [
      "\u001b[1;31m---------------------------------------------------------------------------\u001b[0m",
      "\u001b[1;31mAttributeError\u001b[0m                            Traceback (most recent call last)",
      "Cell \u001b[1;32mIn[123], line 1\u001b[0m\n\u001b[1;32m----> 1\u001b[0m \u001b[43mt\u001b[49m\u001b[38;5;241;43m.\u001b[39;49m\u001b[43mappend\u001b[49m(\u001b[38;5;241m10\u001b[39m)\n",
      "\u001b[1;31mAttributeError\u001b[0m: 'tuple' object has no attribute 'append'"
     ]
    }
   ],
   "source": [
    "t.append(10)"
   ]
  },
  {
   "cell_type": "markdown",
   "id": "241cde45",
   "metadata": {},
   "source": [
    "# Dictionary"
   ]
  },
  {
   "cell_type": "code",
   "execution_count": 125,
   "id": "23d5d31c",
   "metadata": {},
   "outputs": [],
   "source": [
    "d = {'first_name' : \"Mohamed\" , \"last_name\" : \"Saad\"}"
   ]
  },
  {
   "cell_type": "code",
   "execution_count": 129,
   "id": "4f0c427e",
   "metadata": {},
   "outputs": [],
   "source": [
    "d[\"last_name\"] = \"Ahmed\""
   ]
  },
  {
   "cell_type": "code",
   "execution_count": 131,
   "id": "b953425e",
   "metadata": {},
   "outputs": [],
   "source": [
    "d[\"Age\"] = 28"
   ]
  },
  {
   "cell_type": "code",
   "execution_count": 132,
   "id": "3cb6f242",
   "metadata": {},
   "outputs": [
    {
     "data": {
      "text/plain": [
       "{'first_name': 'Mohamed', 'last_name': 'Ahmed', 'Age': 28}"
      ]
     },
     "execution_count": 132,
     "metadata": {},
     "output_type": "execute_result"
    }
   ],
   "source": [
    "d"
   ]
  },
  {
   "cell_type": "code",
   "execution_count": 134,
   "id": "1dc84534",
   "metadata": {},
   "outputs": [
    {
     "data": {
      "text/plain": [
       "dict_items([('first_name', 'Mohamed'), ('last_name', 'Ahmed'), ('Age', 28)])"
      ]
     },
     "execution_count": 134,
     "metadata": {},
     "output_type": "execute_result"
    }
   ],
   "source": [
    "d.items()"
   ]
  },
  {
   "cell_type": "code",
   "execution_count": 135,
   "id": "2d881c4d",
   "metadata": {},
   "outputs": [
    {
     "data": {
      "text/plain": [
       "dict_values(['Mohamed', 'Ahmed', 28])"
      ]
     },
     "execution_count": 135,
     "metadata": {},
     "output_type": "execute_result"
    }
   ],
   "source": [
    "d . values()"
   ]
  },
  {
   "cell_type": "code",
   "execution_count": 136,
   "id": "863cde17",
   "metadata": {},
   "outputs": [
    {
     "data": {
      "text/plain": [
       "dict_keys(['first_name', 'last_name', 'Age'])"
      ]
     },
     "execution_count": 136,
     "metadata": {},
     "output_type": "execute_result"
    }
   ],
   "source": [
    "d.keys()"
   ]
  },
  {
   "cell_type": "code",
   "execution_count": 148,
   "id": "ffcd24c8",
   "metadata": {},
   "outputs": [],
   "source": [
    "w = []\n",
    "for key in d.keys() :\n",
    "    w.append(key)\n",
    "    w.append(value)"
   ]
  },
  {
   "cell_type": "code",
   "execution_count": 149,
   "id": "953b80b8",
   "metadata": {},
   "outputs": [
    {
     "data": {
      "text/plain": [
       "['first_name', 'Mohamed', 'last_name', 'Ahmed', 'Age', 28]"
      ]
     },
     "execution_count": 149,
     "metadata": {},
     "output_type": "execute_result"
    }
   ],
   "source": [
    "w"
   ]
  },
  {
   "cell_type": "code",
   "execution_count": 150,
   "id": "58dfffd5",
   "metadata": {},
   "outputs": [
    {
     "data": {
      "text/plain": [
       "{'first_name': 'Mohamed', 'last_name': 'Ahmed', 'Age': 28}"
      ]
     },
     "execution_count": 150,
     "metadata": {},
     "output_type": "execute_result"
    }
   ],
   "source": [
    "d"
   ]
  },
  {
   "cell_type": "code",
   "execution_count": 151,
   "id": "ccc9e0a8",
   "metadata": {},
   "outputs": [],
   "source": [
    "d['firstname'] = \"Saad\""
   ]
  },
  {
   "cell_type": "code",
   "execution_count": 152,
   "id": "3fd4aa55",
   "metadata": {},
   "outputs": [
    {
     "data": {
      "text/plain": [
       "{'first_name': 'Mohamed', 'last_name': 'Ahmed', 'Age': 28, 'firstname': 'Saad'}"
      ]
     },
     "execution_count": 152,
     "metadata": {},
     "output_type": "execute_result"
    }
   ],
   "source": [
    "d"
   ]
  },
  {
   "cell_type": "code",
   "execution_count": 153,
   "id": "4d352673",
   "metadata": {},
   "outputs": [],
   "source": [
    "d[0] = 55"
   ]
  },
  {
   "cell_type": "code",
   "execution_count": 154,
   "id": "d6d060cc",
   "metadata": {},
   "outputs": [
    {
     "data": {
      "text/plain": [
       "{'first_name': 'Mohamed',\n",
       " 'last_name': 'Ahmed',\n",
       " 'Age': 28,\n",
       " 'firstname': 'Saad',\n",
       " 0: 55}"
      ]
     },
     "execution_count": 154,
     "metadata": {},
     "output_type": "execute_result"
    }
   ],
   "source": [
    "d"
   ]
  },
  {
   "cell_type": "code",
   "execution_count": 155,
   "id": "8307fb55",
   "metadata": {},
   "outputs": [],
   "source": [
    "d[0] = 77"
   ]
  },
  {
   "cell_type": "code",
   "execution_count": 156,
   "id": "f61f71e4",
   "metadata": {},
   "outputs": [
    {
     "data": {
      "text/plain": [
       "{'first_name': 'Mohamed',\n",
       " 'last_name': 'Ahmed',\n",
       " 'Age': 28,\n",
       " 'firstname': 'Saad',\n",
       " 0: 77}"
      ]
     },
     "execution_count": 156,
     "metadata": {},
     "output_type": "execute_result"
    }
   ],
   "source": [
    "d"
   ]
  },
  {
   "cell_type": "code",
   "execution_count": null,
   "id": "84d2defb",
   "metadata": {},
   "outputs": [],
   "source": []
  },
  {
   "cell_type": "markdown",
   "id": "8a56ea49",
   "metadata": {},
   "source": [
    "# Examples \n"
   ]
  },
  {
   "cell_type": "markdown",
   "id": "528eabe7",
   "metadata": {},
   "source": [
    "List Manipulation:\n",
    "\n",
    "        a) Create an empty list called \"numbers\". Append the numbers 1, 2, and 3 to the list. Print the list.\n",
    "        b) Given a list of numbers [1, 2, 3, 4, 5], remove the element 3 from the list. Print the modified list."
   ]
  },
  {
   "cell_type": "code",
   "execution_count": 161,
   "id": "ec2ec1a5",
   "metadata": {},
   "outputs": [
    {
     "name": "stdout",
     "output_type": "stream",
     "text": [
      "[1, 2, 3]\n"
     ]
    }
   ],
   "source": [
    "numbers = []\n",
    "numbers.append(1)\n",
    "numbers.append(2)\n",
    "numbers.append(3)\n",
    "print(numbers)"
   ]
  },
  {
   "cell_type": "code",
   "execution_count": 162,
   "id": "badba689",
   "metadata": {},
   "outputs": [
    {
     "data": {
      "text/plain": [
       "4"
      ]
     },
     "execution_count": 162,
     "metadata": {},
     "output_type": "execute_result"
    }
   ],
   "source": [
    "numbers =  [1, 2, 3, 4, 5] \n",
    "numbers.pop(3)"
   ]
  },
  {
   "cell_type": "markdown",
   "id": "dbb41d25",
   "metadata": {},
   "source": [
    "String Operations:\n",
    "\n",
    "    a) Create a string variable called \"message\" and assign it the value \"Hello, world!\". Print the string.\n",
    "    b) Given the string \"Hello, world!\", extract and print the substring \"Hello\"."
   ]
  },
  {
   "cell_type": "code",
   "execution_count": 163,
   "id": "fe1b29d0",
   "metadata": {},
   "outputs": [
    {
     "name": "stdout",
     "output_type": "stream",
     "text": [
      "Hello, world!\n"
     ]
    }
   ],
   "source": [
    "message = \"Hello, world!\"\n",
    "print(message)"
   ]
  },
  {
   "cell_type": "code",
   "execution_count": 165,
   "id": "463daa62",
   "metadata": {},
   "outputs": [
    {
     "name": "stdout",
     "output_type": "stream",
     "text": [
      "Hello\n"
     ]
    }
   ],
   "source": [
    "print(message[:5])"
   ]
  },
  {
   "cell_type": "code",
   "execution_count": 168,
   "id": "5fc79b3e",
   "metadata": {},
   "outputs": [
    {
     "data": {
      "text/plain": [
       "'Hello'"
      ]
     },
     "execution_count": 168,
     "metadata": {},
     "output_type": "execute_result"
    }
   ],
   "source": [
    "x = message.split(\",\")\n",
    "x[0]"
   ]
  },
  {
   "cell_type": "code",
   "execution_count": 171,
   "id": "d080da02",
   "metadata": {},
   "outputs": [
    {
     "data": {
      "text/plain": [
       "'Hello '"
      ]
     },
     "execution_count": 171,
     "metadata": {},
     "output_type": "execute_result"
    }
   ],
   "source": [
    "message.replace(message[5:] , \" \")"
   ]
  },
  {
   "cell_type": "markdown",
   "id": "e0d8a3f9",
   "metadata": {},
   "source": [
    "Conditional Statements:\n",
    "  \n",
    "    a) Write a program that takes an integer input from the user and checks if it is greater than 10. If it is, print \"The number is greater than 10\"; otherwise, print \"The number is less than or equal to 10\"."
   ]
  },
  {
   "cell_type": "code",
   "execution_count": 172,
   "id": "c091aee4",
   "metadata": {},
   "outputs": [
    {
     "name": "stdout",
     "output_type": "stream",
     "text": [
      "Enter a number 15\n"
     ]
    }
   ],
   "source": [
    "x = int(input(\"Enter a number \"))"
   ]
  },
  {
   "cell_type": "code",
   "execution_count": 173,
   "id": "8bf2ef1b",
   "metadata": {},
   "outputs": [
    {
     "name": "stdout",
     "output_type": "stream",
     "text": [
      "ay 7aga\n"
     ]
    }
   ],
   "source": [
    "if x > 10 :\n",
    "    print(\"ay 7aga\")\n",
    "else : \n",
    "    print(\"ay 7aga tany\")"
   ]
  },
  {
   "cell_type": "markdown",
   "id": "8a46174b",
   "metadata": {},
   "source": [
    "Looping:\n",
    "\n",
    "    a) Write a program that prints the numbers from 1 to 10 using a for loop.\n",
    "    b) Write a program that prints the numbers from 10 to 1 using a while loop."
   ]
  },
  {
   "cell_type": "code",
   "execution_count": 177,
   "id": "21f03a13",
   "metadata": {},
   "outputs": [
    {
     "name": "stdout",
     "output_type": "stream",
     "text": [
      "1 2 3 4 5 6 7 8 9 10 "
     ]
    }
   ],
   "source": [
    "for i in range(1,11):\n",
    "    print(i,end =\" \")"
   ]
  },
  {
   "cell_type": "code",
   "execution_count": 179,
   "id": "a8b55aa3",
   "metadata": {},
   "outputs": [
    {
     "name": "stdout",
     "output_type": "stream",
     "text": [
      "10\n",
      "9\n",
      "8\n",
      "7\n",
      "6\n",
      "5\n",
      "4\n",
      "3\n",
      "2\n",
      "1\n",
      "0\n"
     ]
    }
   ],
   "source": [
    "i = 10\n",
    "while i >= 0 :\n",
    "    print(i)\n",
    "    i-= 1"
   ]
  },
  {
   "cell_type": "markdown",
   "id": "a44d9975",
   "metadata": {},
   "source": [
    "Sorting:\n",
    "\n",
    "    a) Given a list of numbers [5, 2, 8, 1, 9], sort the list in ascending order. Print the sorted list."
   ]
  },
  {
   "cell_type": "code",
   "execution_count": 182,
   "id": "f197c93b",
   "metadata": {},
   "outputs": [
    {
     "data": {
      "text/plain": [
       "[9, 8, 5, 2, 1]"
      ]
     },
     "execution_count": 182,
     "metadata": {},
     "output_type": "execute_result"
    }
   ],
   "source": [
    "numbers=[5, 2, 8, 1, 9]\n",
    "numbers.sort(reverse = True)\n",
    "numbers"
   ]
  },
  {
   "cell_type": "markdown",
   "id": "25c9c12c",
   "metadata": {},
   "source": [
    "Searching:\n",
    "\n",
    "    a) Given a list of strings [\"apple\", \"banana\", \"cherry\", \"date\"], check if the string \"banana\" is present in the list. If it is, print \"Found\"; otherwise, print \"Not found\"."
   ]
  },
  {
   "cell_type": "code",
   "execution_count": 188,
   "id": "e953fbec",
   "metadata": {},
   "outputs": [
    {
     "name": "stdout",
     "output_type": "stream",
     "text": [
      "not found\n",
      "banana found\n",
      "not found\n",
      "not found\n"
     ]
    }
   ],
   "source": [
    "fruits = [\"apple\", \"banana\", \"cherry\", \"date\"]\n",
    "\n",
    "for fruit in fruits :\n",
    "    if fruit == \"banana\" :\n",
    "        print(fruit,\"found\")\n",
    "        \n",
    "    else:\n",
    "        print(\"not found\")\n",
    "    "
   ]
  },
  {
   "cell_type": "markdown",
   "id": "6d9fc68a",
   "metadata": {},
   "source": [
    "# Functions"
   ]
  },
  {
   "cell_type": "code",
   "execution_count": 192,
   "id": "fb849cb6",
   "metadata": {},
   "outputs": [
    {
     "data": {
      "text/plain": [
       "15.8"
      ]
     },
     "execution_count": 192,
     "metadata": {},
     "output_type": "execute_result"
    }
   ],
   "source": [
    " x = 15 + 15 % 7 / 5 *4\n",
    "x"
   ]
  },
  {
   "cell_type": "code",
   "execution_count": 217,
   "id": "b2f7fc0f",
   "metadata": {},
   "outputs": [],
   "source": [
    "def math (y,x,z=30,w=20):\n",
    "    \"\"\"\n",
    "        math > Mathematical operation \n",
    "        -----------------------------\n",
    "        param : int(x,y,z,w)\n",
    "        \n",
    "        Return : x + (x**3) % y / z *w\n",
    "    \n",
    "    \"\"\"\n",
    "    result =  x + (x**3) % y / z *w\n",
    "    return result\n",
    "     "
   ]
  },
  {
   "cell_type": "code",
   "execution_count": 216,
   "id": "ac0e00f4",
   "metadata": {},
   "outputs": [
    {
     "data": {
      "text/plain": [
       "7.52"
      ]
     },
     "execution_count": 216,
     "metadata": {},
     "output_type": "execute_result"
    }
   ],
   "source": [
    "math(15,7,500)"
   ]
  },
  {
   "cell_type": "code",
   "execution_count": 222,
   "id": "073e43f3",
   "metadata": {},
   "outputs": [],
   "source": [
    "def fact(number):\n",
    "    if not isinstance(number,int):\n",
    "        raise TypeError(\"Sorry we need a Number\")\n",
    "    if number < 0 : \n",
    "        raise TypeError(\"Sorry we need a Positive Number\")\n",
    "    def inner_fact(number):\n",
    "        if number <= 1 :\n",
    "            return 1 \n",
    "        return number * inner_fact(number-1)\n",
    "    return inner_fact(number)"
   ]
  },
  {
   "cell_type": "code",
   "execution_count": null,
   "id": "db24d797",
   "metadata": {},
   "outputs": [],
   "source": []
  },
  {
   "cell_type": "code",
   "execution_count": null,
   "id": "015d0a40",
   "metadata": {},
   "outputs": [],
   "source": []
  },
  {
   "cell_type": "code",
   "execution_count": null,
   "id": "988a5271",
   "metadata": {},
   "outputs": [],
   "source": []
  },
  {
   "cell_type": "code",
   "execution_count": null,
   "id": "fe90cc5a",
   "metadata": {},
   "outputs": [],
   "source": []
  },
  {
   "cell_type": "code",
   "execution_count": null,
   "id": "b0bd9f90",
   "metadata": {},
   "outputs": [],
   "source": []
  },
  {
   "cell_type": "code",
   "execution_count": null,
   "id": "b5e042c3",
   "metadata": {},
   "outputs": [],
   "source": []
  },
  {
   "cell_type": "code",
   "execution_count": null,
   "id": "f1c2e93d",
   "metadata": {},
   "outputs": [],
   "source": []
  },
  {
   "cell_type": "code",
   "execution_count": null,
   "id": "3579d2f7",
   "metadata": {},
   "outputs": [],
   "source": []
  },
  {
   "cell_type": "code",
   "execution_count": null,
   "id": "1a2e13f0",
   "metadata": {},
   "outputs": [],
   "source": []
  },
  {
   "cell_type": "code",
   "execution_count": null,
   "id": "2ef11628",
   "metadata": {},
   "outputs": [],
   "source": []
  },
  {
   "cell_type": "code",
   "execution_count": null,
   "id": "160c4f09",
   "metadata": {},
   "outputs": [],
   "source": []
  },
  {
   "cell_type": "code",
   "execution_count": null,
   "id": "d14f3269",
   "metadata": {},
   "outputs": [],
   "source": []
  },
  {
   "cell_type": "code",
   "execution_count": null,
   "id": "69e4c293",
   "metadata": {},
   "outputs": [],
   "source": []
  },
  {
   "cell_type": "code",
   "execution_count": null,
   "id": "4088b4e8",
   "metadata": {},
   "outputs": [],
   "source": []
  },
  {
   "cell_type": "code",
   "execution_count": null,
   "id": "8475c031",
   "metadata": {},
   "outputs": [],
   "source": []
  }
 ],
 "metadata": {
  "kernelspec": {
   "display_name": "Python 3 (ipykernel)",
   "language": "python",
   "name": "python3"
  },
  "language_info": {
   "codemirror_mode": {
    "name": "ipython",
    "version": 3
   },
   "file_extension": ".py",
   "mimetype": "text/x-python",
   "name": "python",
   "nbconvert_exporter": "python",
   "pygments_lexer": "ipython3",
   "version": "3.9.15"
  }
 },
 "nbformat": 4,
 "nbformat_minor": 5
}
