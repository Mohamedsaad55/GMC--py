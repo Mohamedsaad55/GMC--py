{
 "cells": [
  {
   "cell_type": "code",
   "execution_count": 2,
   "id": "a75340ea",
   "metadata": {},
   "outputs": [
    {
     "data": {
      "text/plain": [
       "{'c': 300, 'a': 400, 'd': 400, 'b': 400}"
      ]
     },
     "execution_count": 2,
     "metadata": {},
     "output_type": "execute_result"
    }
   ],
   "source": [
    "d1 ={'a': 100, 'b': 200, 'c': 300}\n",
    "d2 ={'a': 300, 'b': 200, 'd': 400}\n",
    "\n",
    "combined_dict = {key: d1.get(key, 0) + d2.get(key, 0)for key in set(d1)| set(d2)}\n",
    "combined_dict"
   ]
  },
  {
   "cell_type": "code",
   "execution_count": 5,
   "id": "1d67b43d",
   "metadata": {},
   "outputs": [
    {
     "name": "stdout",
     "output_type": "stream",
     "text": [
      "Length List : 4\n",
      "List of lengths : [7, 4, 7, 7]\n"
     ]
    }
   ],
   "source": [
    "l= [\"Youssef\" , \"Omar\", \"Mohamed\" , \"Sabrein\"] \n",
    "print(f\"Length List : {len(l)}\")\n",
    "length = [] \n",
    "for i in l :\n",
    "    length.append(len(i))\n",
    "print(f\"List of lengths : {length}\")"
   ]
  },
  {
   "cell_type": "code",
   "execution_count": 12,
   "id": "92481973",
   "metadata": {},
   "outputs": [
    {
     "data": {
      "text/plain": [
       "[7, 4, 7, 7]"
      ]
     },
     "execution_count": 12,
     "metadata": {},
     "output_type": "execute_result"
    }
   ],
   "source": [
    "x = map(len,l)\n",
    "list(x)"
   ]
  },
  {
   "cell_type": "markdown",
   "id": "3bb5ac0f",
   "metadata": {},
   "source": [
    "## Error Type :\n",
    "    -IndexError\n",
    "    -SyntaxError\n",
    "    -ModuleNotFoundError\n",
    "    -KeyError\n",
    "    -IndentationError\n",
    "    -Import Error\n",
    "    -StopIteration\n",
    "    -TypeError\n",
    "    -ValueError"
   ]
  },
  {
   "cell_type": "code",
   "execution_count": 13,
   "id": "0193e13f",
   "metadata": {},
   "outputs": [
    {
     "ename": "IndexError",
     "evalue": "list index out of range",
     "output_type": "error",
     "traceback": [
      "\u001b[1;31m---------------------------------------------------------------------------\u001b[0m",
      "\u001b[1;31mIndexError\u001b[0m                                Traceback (most recent call last)",
      "Cell \u001b[1;32mIn[13], line 2\u001b[0m\n\u001b[0;32m      1\u001b[0m \u001b[38;5;66;03m#indexerror\u001b[39;00m\n\u001b[1;32m----> 2\u001b[0m \u001b[43ml\u001b[49m\u001b[43m[\u001b[49m\u001b[38;5;241;43m5\u001b[39;49m\u001b[43m]\u001b[49m\n",
      "\u001b[1;31mIndexError\u001b[0m: list index out of range"
     ]
    }
   ],
   "source": [
    "#indexerror\n",
    "l[5]"
   ]
  },
  {
   "cell_type": "code",
   "execution_count": 14,
   "id": "73658778",
   "metadata": {},
   "outputs": [
    {
     "ename": "SyntaxError",
     "evalue": "invalid syntax (3323248031.py, line 1)",
     "output_type": "error",
     "traceback": [
      "\u001b[1;36m  Cell \u001b[1;32mIn[14], line 1\u001b[1;36m\u001b[0m\n\u001b[1;33m    print\"hello\"\u001b[0m\n\u001b[1;37m         ^\u001b[0m\n\u001b[1;31mSyntaxError\u001b[0m\u001b[1;31m:\u001b[0m invalid syntax\n"
     ]
    }
   ],
   "source": [
    "# SyntaxError\n",
    "print\"hello\""
   ]
  },
  {
   "cell_type": "code",
   "execution_count": 16,
   "id": "33fda985",
   "metadata": {},
   "outputs": [
    {
     "ename": "ModuleNotFoundError",
     "evalue": "No module named 'mohamed'",
     "output_type": "error",
     "traceback": [
      "\u001b[1;31m---------------------------------------------------------------------------\u001b[0m",
      "\u001b[1;31mModuleNotFoundError\u001b[0m                       Traceback (most recent call last)",
      "Cell \u001b[1;32mIn[16], line 2\u001b[0m\n\u001b[0;32m      1\u001b[0m \u001b[38;5;66;03m#ModuleNotFoundError\u001b[39;00m\n\u001b[1;32m----> 2\u001b[0m \u001b[38;5;28;01mimport\u001b[39;00m \u001b[38;5;21;01mmohamed\u001b[39;00m\n",
      "\u001b[1;31mModuleNotFoundError\u001b[0m: No module named 'mohamed'"
     ]
    }
   ],
   "source": [
    "#ModuleNotFoundError\n",
    "import mohamed"
   ]
  },
  {
   "cell_type": "code",
   "execution_count": 18,
   "id": "70279900",
   "metadata": {},
   "outputs": [
    {
     "ename": "KeyError",
     "evalue": "'4'",
     "output_type": "error",
     "traceback": [
      "\u001b[1;31m---------------------------------------------------------------------------\u001b[0m",
      "\u001b[1;31mKeyError\u001b[0m                                  Traceback (most recent call last)",
      "Cell \u001b[1;32mIn[18], line 3\u001b[0m\n\u001b[0;32m      1\u001b[0m \u001b[38;5;66;03m#KeyError\u001b[39;00m\n\u001b[0;32m      2\u001b[0m D1\u001b[38;5;241m=\u001b[39m{\u001b[38;5;124m'\u001b[39m\u001b[38;5;124m1\u001b[39m\u001b[38;5;124m'\u001b[39m:\u001b[38;5;124m\"\u001b[39m\u001b[38;5;124maa\u001b[39m\u001b[38;5;124m\"\u001b[39m, \u001b[38;5;124m'\u001b[39m\u001b[38;5;124m2\u001b[39m\u001b[38;5;124m'\u001b[39m:\u001b[38;5;124m\"\u001b[39m\u001b[38;5;124mbb\u001b[39m\u001b[38;5;124m\"\u001b[39m, \u001b[38;5;124m'\u001b[39m\u001b[38;5;124m3\u001b[39m\u001b[38;5;124m'\u001b[39m:\u001b[38;5;124m\"\u001b[39m\u001b[38;5;124mcc\u001b[39m\u001b[38;5;124m\"\u001b[39m}\n\u001b[1;32m----> 3\u001b[0m \u001b[43mD1\u001b[49m\u001b[43m[\u001b[49m\u001b[38;5;124;43m'\u001b[39;49m\u001b[38;5;124;43m4\u001b[39;49m\u001b[38;5;124;43m'\u001b[39;49m\u001b[43m]\u001b[49m\n",
      "\u001b[1;31mKeyError\u001b[0m: '4'"
     ]
    }
   ],
   "source": [
    "#KeyError\n",
    "D1={'1':\"aa\", '2':\"bb\", '3':\"cc\"}\n",
    "D1['4']"
   ]
  },
  {
   "cell_type": "code",
   "execution_count": 20,
   "id": "c0dfdae6",
   "metadata": {},
   "outputs": [
    {
     "ename": "IndentationError",
     "evalue": "expected an indented block (2204691544.py, line 3)",
     "output_type": "error",
     "traceback": [
      "\u001b[1;36m  Cell \u001b[1;32mIn[20], line 3\u001b[1;36m\u001b[0m\n\u001b[1;33m    print(i)\u001b[0m\n\u001b[1;37m    ^\u001b[0m\n\u001b[1;31mIndentationError\u001b[0m\u001b[1;31m:\u001b[0m expected an indented block\n"
     ]
    }
   ],
   "source": [
    "#IndentationError\n",
    "for i in range(1,10):\n",
    "print(i)"
   ]
  },
  {
   "cell_type": "code",
   "execution_count": 24,
   "id": "4e1f36a3",
   "metadata": {},
   "outputs": [
    {
     "ename": "ImportError",
     "evalue": "cannot import name 'arrays' from 'numpy' (C:\\Users\\aser\\anaconda3\\envs\\Django\\lib\\site-packages\\numpy\\__init__.py)",
     "output_type": "error",
     "traceback": [
      "\u001b[1;31m---------------------------------------------------------------------------\u001b[0m",
      "\u001b[1;31mImportError\u001b[0m                               Traceback (most recent call last)",
      "Cell \u001b[1;32mIn[24], line 2\u001b[0m\n\u001b[0;32m      1\u001b[0m \u001b[38;5;66;03m#ImportError\u001b[39;00m\n\u001b[1;32m----> 2\u001b[0m \u001b[38;5;28;01mfrom\u001b[39;00m \u001b[38;5;21;01mnumpy\u001b[39;00m \u001b[38;5;28;01mimport\u001b[39;00m arrays\n",
      "\u001b[1;31mImportError\u001b[0m: cannot import name 'arrays' from 'numpy' (C:\\Users\\aser\\anaconda3\\envs\\Django\\lib\\site-packages\\numpy\\__init__.py)"
     ]
    }
   ],
   "source": [
    "#ImportError\n",
    "from numpy import arrays"
   ]
  },
  {
   "cell_type": "code",
   "execution_count": 35,
   "id": "8e41c173",
   "metadata": {},
   "outputs": [
    {
     "ename": "StopIteration",
     "evalue": "",
     "output_type": "error",
     "traceback": [
      "\u001b[1;31m---------------------------------------------------------------------------\u001b[0m",
      "\u001b[1;31mStopIteration\u001b[0m                             Traceback (most recent call last)",
      "Cell \u001b[1;32mIn[35], line 7\u001b[0m\n\u001b[0;32m      5\u001b[0m \u001b[38;5;28mnext\u001b[39m(y)\n\u001b[0;32m      6\u001b[0m \u001b[38;5;28mnext\u001b[39m(y)\n\u001b[1;32m----> 7\u001b[0m \u001b[38;5;28;43mnext\u001b[39;49m\u001b[43m(\u001b[49m\u001b[43my\u001b[49m\u001b[43m)\u001b[49m\n",
      "\u001b[1;31mStopIteration\u001b[0m: "
     ]
    }
   ],
   "source": [
    "#StopIteration\n",
    "y = iter([1,2,3,4])\n",
    "next(y)\n",
    "next(y)\n",
    "next(y)\n",
    "next(y)\n",
    "next(y)"
   ]
  },
  {
   "cell_type": "code",
   "execution_count": 36,
   "id": "33447e55",
   "metadata": {},
   "outputs": [
    {
     "ename": "TypeError",
     "evalue": "can only concatenate str (not \"int\") to str",
     "output_type": "error",
     "traceback": [
      "\u001b[1;31m---------------------------------------------------------------------------\u001b[0m",
      "\u001b[1;31mTypeError\u001b[0m                                 Traceback (most recent call last)",
      "Cell \u001b[1;32mIn[36], line 2\u001b[0m\n\u001b[0;32m      1\u001b[0m \u001b[38;5;66;03m#TypeError\u001b[39;00m\n\u001b[1;32m----> 2\u001b[0m \u001b[38;5;124;43m'\u001b[39;49m\u001b[38;5;124;43m2\u001b[39;49m\u001b[38;5;124;43m'\u001b[39;49m\u001b[38;5;241;43m+\u001b[39;49m\u001b[38;5;241;43m2\u001b[39;49m\n",
      "\u001b[1;31mTypeError\u001b[0m: can only concatenate str (not \"int\") to str"
     ]
    }
   ],
   "source": [
    "#TypeError\n",
    "'2'+2"
   ]
  },
  {
   "cell_type": "code",
   "execution_count": 38,
   "id": "a6775534",
   "metadata": {},
   "outputs": [
    {
     "ename": "ValueError",
     "evalue": "invalid literal for int() with base 10: 'abc'",
     "output_type": "error",
     "traceback": [
      "\u001b[1;31m---------------------------------------------------------------------------\u001b[0m",
      "\u001b[1;31mValueError\u001b[0m                                Traceback (most recent call last)",
      "Cell \u001b[1;32mIn[38], line 2\u001b[0m\n\u001b[0;32m      1\u001b[0m \u001b[38;5;66;03m#ValueError\u001b[39;00m\n\u001b[1;32m----> 2\u001b[0m \u001b[38;5;28;43mint\u001b[39;49m\u001b[43m(\u001b[49m\u001b[38;5;124;43m'\u001b[39;49m\u001b[38;5;124;43mabc\u001b[39;49m\u001b[38;5;124;43m'\u001b[39;49m\u001b[43m)\u001b[49m\n",
      "\u001b[1;31mValueError\u001b[0m: invalid literal for int() with base 10: 'abc'"
     ]
    }
   ],
   "source": [
    "#ValueError\n",
    "int('abc')"
   ]
  },
  {
   "cell_type": "code",
   "execution_count": 41,
   "id": "78da4a57",
   "metadata": {},
   "outputs": [
    {
     "ename": "NameError",
     "evalue": "name 'q' is not defined",
     "output_type": "error",
     "traceback": [
      "\u001b[1;31m---------------------------------------------------------------------------\u001b[0m",
      "\u001b[1;31mNameError\u001b[0m                                 Traceback (most recent call last)",
      "Cell \u001b[1;32mIn[41], line 2\u001b[0m\n\u001b[0;32m      1\u001b[0m \u001b[38;5;66;03m#NameError\u001b[39;00m\n\u001b[1;32m----> 2\u001b[0m \u001b[38;5;28mprint\u001b[39m(\u001b[43mq\u001b[49m)\n",
      "\u001b[1;31mNameError\u001b[0m: name 'q' is not defined"
     ]
    }
   ],
   "source": [
    "#NameError\n",
    "print(q)"
   ]
  },
  {
   "cell_type": "code",
   "execution_count": 42,
   "id": "c7b5d0d4",
   "metadata": {},
   "outputs": [
    {
     "ename": "ZeroDivisionError",
     "evalue": "division by zero",
     "output_type": "error",
     "traceback": [
      "\u001b[1;31m---------------------------------------------------------------------------\u001b[0m",
      "\u001b[1;31mZeroDivisionError\u001b[0m                         Traceback (most recent call last)",
      "Cell \u001b[1;32mIn[42], line 2\u001b[0m\n\u001b[0;32m      1\u001b[0m \u001b[38;5;66;03m#ZeroDevisionError\u001b[39;00m\n\u001b[1;32m----> 2\u001b[0m \u001b[38;5;241;43m100\u001b[39;49m\u001b[38;5;241;43m/\u001b[39;49m\u001b[38;5;241;43m0\u001b[39;49m\n",
      "\u001b[1;31mZeroDivisionError\u001b[0m: division by zero"
     ]
    }
   ],
   "source": [
    "#ZeroDevisionError\n",
    "100/0"
   ]
  },
  {
   "cell_type": "code",
   "execution_count": 43,
   "id": "8a36203d",
   "metadata": {},
   "outputs": [
    {
     "ename": "KeyboardInterrupt",
     "evalue": "Interrupted by user",
     "output_type": "error",
     "traceback": [
      "\u001b[1;31m---------------------------------------------------------------------------\u001b[0m",
      "\u001b[1;31mKeyboardInterrupt\u001b[0m                         Traceback (most recent call last)",
      "Cell \u001b[1;32mIn[43], line 2\u001b[0m\n\u001b[0;32m      1\u001b[0m \u001b[38;5;66;03m#Keyboardintrupt\u001b[39;00m\n\u001b[1;32m----> 2\u001b[0m x \u001b[38;5;241m=\u001b[39m \u001b[38;5;28;43minput\u001b[39;49m\u001b[43m(\u001b[49m\u001b[38;5;124;43m\"\u001b[39;49m\u001b[38;5;124;43mdsafsdf\u001b[39;49m\u001b[38;5;124;43m\"\u001b[39;49m\u001b[43m)\u001b[49m\n",
      "File \u001b[1;32m~\\anaconda3\\envs\\Django\\lib\\site-packages\\ipykernel\\kernelbase.py:1177\u001b[0m, in \u001b[0;36mKernel.raw_input\u001b[1;34m(self, prompt)\u001b[0m\n\u001b[0;32m   1173\u001b[0m \u001b[38;5;28;01mif\u001b[39;00m \u001b[38;5;129;01mnot\u001b[39;00m \u001b[38;5;28mself\u001b[39m\u001b[38;5;241m.\u001b[39m_allow_stdin:\n\u001b[0;32m   1174\u001b[0m     \u001b[38;5;28;01mraise\u001b[39;00m StdinNotImplementedError(\n\u001b[0;32m   1175\u001b[0m         \u001b[38;5;124m\"\u001b[39m\u001b[38;5;124mraw_input was called, but this frontend does not support input requests.\u001b[39m\u001b[38;5;124m\"\u001b[39m\n\u001b[0;32m   1176\u001b[0m     )\n\u001b[1;32m-> 1177\u001b[0m \u001b[38;5;28;01mreturn\u001b[39;00m \u001b[38;5;28;43mself\u001b[39;49m\u001b[38;5;241;43m.\u001b[39;49m\u001b[43m_input_request\u001b[49m\u001b[43m(\u001b[49m\n\u001b[0;32m   1178\u001b[0m \u001b[43m    \u001b[49m\u001b[38;5;28;43mstr\u001b[39;49m\u001b[43m(\u001b[49m\u001b[43mprompt\u001b[49m\u001b[43m)\u001b[49m\u001b[43m,\u001b[49m\n\u001b[0;32m   1179\u001b[0m \u001b[43m    \u001b[49m\u001b[38;5;28;43mself\u001b[39;49m\u001b[38;5;241;43m.\u001b[39;49m\u001b[43m_parent_ident\u001b[49m\u001b[43m[\u001b[49m\u001b[38;5;124;43m\"\u001b[39;49m\u001b[38;5;124;43mshell\u001b[39;49m\u001b[38;5;124;43m\"\u001b[39;49m\u001b[43m]\u001b[49m\u001b[43m,\u001b[49m\n\u001b[0;32m   1180\u001b[0m \u001b[43m    \u001b[49m\u001b[38;5;28;43mself\u001b[39;49m\u001b[38;5;241;43m.\u001b[39;49m\u001b[43mget_parent\u001b[49m\u001b[43m(\u001b[49m\u001b[38;5;124;43m\"\u001b[39;49m\u001b[38;5;124;43mshell\u001b[39;49m\u001b[38;5;124;43m\"\u001b[39;49m\u001b[43m)\u001b[49m\u001b[43m,\u001b[49m\n\u001b[0;32m   1181\u001b[0m \u001b[43m    \u001b[49m\u001b[43mpassword\u001b[49m\u001b[38;5;241;43m=\u001b[39;49m\u001b[38;5;28;43;01mFalse\u001b[39;49;00m\u001b[43m,\u001b[49m\n\u001b[0;32m   1182\u001b[0m \u001b[43m\u001b[49m\u001b[43m)\u001b[49m\n",
      "File \u001b[1;32m~\\anaconda3\\envs\\Django\\lib\\site-packages\\ipykernel\\kernelbase.py:1219\u001b[0m, in \u001b[0;36mKernel._input_request\u001b[1;34m(self, prompt, ident, parent, password)\u001b[0m\n\u001b[0;32m   1216\u001b[0m             \u001b[38;5;28;01mbreak\u001b[39;00m\n\u001b[0;32m   1217\u001b[0m \u001b[38;5;28;01mexcept\u001b[39;00m \u001b[38;5;167;01mKeyboardInterrupt\u001b[39;00m:\n\u001b[0;32m   1218\u001b[0m     \u001b[38;5;66;03m# re-raise KeyboardInterrupt, to truncate traceback\u001b[39;00m\n\u001b[1;32m-> 1219\u001b[0m     \u001b[38;5;28;01mraise\u001b[39;00m \u001b[38;5;167;01mKeyboardInterrupt\u001b[39;00m(\u001b[38;5;124m\"\u001b[39m\u001b[38;5;124mInterrupted by user\u001b[39m\u001b[38;5;124m\"\u001b[39m) \u001b[38;5;28;01mfrom\u001b[39;00m \u001b[38;5;28mNone\u001b[39m\n\u001b[0;32m   1220\u001b[0m \u001b[38;5;28;01mexcept\u001b[39;00m \u001b[38;5;167;01mException\u001b[39;00m:\n\u001b[0;32m   1221\u001b[0m     \u001b[38;5;28mself\u001b[39m\u001b[38;5;241m.\u001b[39mlog\u001b[38;5;241m.\u001b[39mwarning(\u001b[38;5;124m\"\u001b[39m\u001b[38;5;124mInvalid Message:\u001b[39m\u001b[38;5;124m\"\u001b[39m, exc_info\u001b[38;5;241m=\u001b[39m\u001b[38;5;28;01mTrue\u001b[39;00m)\n",
      "\u001b[1;31mKeyboardInterrupt\u001b[0m: Interrupted by user"
     ]
    }
   ],
   "source": [
    "#Keyboardintrupt\n",
    "x = input(\"dsafsdf\",)"
   ]
  },
  {
   "cell_type": "code",
   "execution_count": 120,
   "id": "244c48ae",
   "metadata": {},
   "outputs": [],
   "source": [
    "input?"
   ]
  },
  {
   "cell_type": "code",
   "execution_count": 79,
   "id": "43a30710",
   "metadata": {},
   "outputs": [
    {
     "ename": "NameError",
     "evalue": "Mfesh 7aga esmaha kda ",
     "output_type": "error",
     "traceback": [
      "\u001b[1;31m---------------------------------------------------------------------------\u001b[0m",
      "\u001b[1;31mNameError\u001b[0m                                 Traceback (most recent call last)",
      "Cell \u001b[1;32mIn[79], line 2\u001b[0m\n\u001b[0;32m      1\u001b[0m \u001b[38;5;28;01mtry\u001b[39;00m:\n\u001b[1;32m----> 2\u001b[0m     \u001b[38;5;28mprint\u001b[39m(\u001b[43mname\u001b[49m)\n\u001b[0;32m      3\u001b[0m \u001b[38;5;28;01mexcept\u001b[39;00m:\n",
      "\u001b[1;31mNameError\u001b[0m: name 'name' is not defined",
      "\nDuring handling of the above exception, another exception occurred:\n",
      "\u001b[1;31mNameError\u001b[0m                                 Traceback (most recent call last)",
      "Cell \u001b[1;32mIn[79], line 4\u001b[0m\n\u001b[0;32m      2\u001b[0m     \u001b[38;5;28mprint\u001b[39m(name)\n\u001b[0;32m      3\u001b[0m \u001b[38;5;28;01mexcept\u001b[39;00m:\n\u001b[1;32m----> 4\u001b[0m     \u001b[38;5;28;01mraise\u001b[39;00m \u001b[38;5;167;01mNameError\u001b[39;00m (\u001b[38;5;124m\"\u001b[39m\u001b[38;5;124mMfesh 7aga esmaha kda \u001b[39m\u001b[38;5;124m\"\u001b[39m)\n",
      "\u001b[1;31mNameError\u001b[0m: Mfesh 7aga esmaha kda "
     ]
    }
   ],
   "source": [
    "try:\n",
    "    print(name)\n",
    "except:\n",
    "    raise NameError (\"Mfesh 7aga esmaha kda \")"
   ]
  },
  {
   "cell_type": "code",
   "execution_count": 77,
   "id": "06bdfc05",
   "metadata": {},
   "outputs": [],
   "source": [
    "try:\n",
    "    with open(\"demofile.txt\",'w')as f:\n",
    "        try:\n",
    "            f.write(\"Lorum Ipsum\")\n",
    "        except:\n",
    "            print(\"Something went wrong when writing to the file\")\n",
    "        finally:\n",
    "            f.close()\n",
    "except:\n",
    "    raise syntaxerror"
   ]
  },
  {
   "cell_type": "code",
   "execution_count": 115,
   "id": "c9b89518",
   "metadata": {},
   "outputs": [],
   "source": [
    "f = open(\"test1.txt\",'r',encoding='utf8')\n",
    "f.readlines()\n",
    "f.close()"
   ]
  },
  {
   "cell_type": "code",
   "execution_count": 117,
   "id": "509c8884",
   "metadata": {},
   "outputs": [],
   "source": [
    "import os \n",
    "os.remove('test.txt')"
   ]
  },
  {
   "cell_type": "code",
   "execution_count": 119,
   "id": "52bdf463",
   "metadata": {},
   "outputs": [],
   "source": [
    "with open(\"test3.py\",'w',encoding='utf8') as f :\n",
    "    f.write(\"\"\"print(\"Hello\")\"\"\")"
   ]
  },
  {
   "cell_type": "code",
   "execution_count": null,
   "id": "884a551e",
   "metadata": {},
   "outputs": [],
   "source": []
  },
  {
   "cell_type": "code",
   "execution_count": 121,
   "id": "98e6e6c3",
   "metadata": {},
   "outputs": [],
   "source": [
    "from bs4 import BeautifulSoup\n",
    "import requests"
   ]
  },
  {
   "cell_type": "code",
   "execution_count": 127,
   "id": "3da07dbb",
   "metadata": {},
   "outputs": [],
   "source": [
    "url = \"https://wuzzuf.net/search/jobs/?q=programming&a=hpb\"\n",
    "page = requests.get(url)\n",
    "src = page.content\n",
    "soup = BeautifulSoup(src,'lxml')"
   ]
  },
  {
   "cell_type": "code",
   "execution_count": 145,
   "id": "a49abc3f",
   "metadata": {},
   "outputs": [],
   "source": [
    "title = soup.find('a',{'class':\"css-o171kl\"}).text\n",
    "company = soup.find('a',{\"class\":\"css-17s97q8\"}).text\n",
    "job = soup.find('span',{\"class\":\"css-1ve4b75 eoyjyou0\"}).text\n",
    "location = soup.find('span',{\"class\":\"css-5wys0k\"}).text"
   ]
  },
  {
   "cell_type": "code",
   "execution_count": 150,
   "id": "610f3d75",
   "metadata": {},
   "outputs": [],
   "source": [
    "title = soup.find_all('h2',{'class':\"css-m604qf\"})\n",
    "company = soup.find_all('a',{\"class\":\"css-17s97q8\"})\n",
    "job = soup.find_all('span',{\"class\":\"css-1ve4b75 eoyjyou0\"})\n",
    "location = soup.find_all('span',{\"class\":\"css-5wys0k\"})"
   ]
  },
  {
   "cell_type": "code",
   "execution_count": 156,
   "id": "303e48e2",
   "metadata": {},
   "outputs": [],
   "source": [
    "titlef=[title[i].text for i in range(len(title))]"
   ]
  },
  {
   "cell_type": "code",
   "execution_count": 160,
   "id": "0bdb5123",
   "metadata": {},
   "outputs": [],
   "source": [
    "companyf = [company[i].text for i in range(len(company))]"
   ]
  },
  {
   "cell_type": "code",
   "execution_count": 175,
   "id": "3a4ef4c7",
   "metadata": {},
   "outputs": [
    {
     "data": {
      "text/plain": [
       "1340"
      ]
     },
     "execution_count": 175,
     "metadata": {},
     "output_type": "execute_result"
    }
   ],
   "source": [
    "count =int(soup.find('strong').text.replace(\",\",\"\"))\n",
    "count"
   ]
  },
  {
   "cell_type": "code",
   "execution_count": 190,
   "id": "a6ea50c9",
   "metadata": {
    "collapsed": true
   },
   "outputs": [
    {
     "name": "stdout",
     "output_type": "stream",
     "text": [
      "Loading Page Number : 0\n",
      "Result Saved Successfully!\n",
      "Loading Page Number : 1\n",
      "Result Saved Successfully!\n",
      "Loading Page Number : 2\n",
      "Result Saved Successfully!\n",
      "Loading Page Number : 3\n",
      "Result Saved Successfully!\n",
      "Loading Page Number : 4\n",
      "Result Saved Successfully!\n",
      "Loading Page Number : 5\n",
      "Result Saved Successfully!\n",
      "Loading Page Number : 6\n",
      "Result Saved Successfully!\n",
      "Loading Page Number : 7\n",
      "Result Saved Successfully!\n",
      "Loading Page Number : 8\n",
      "Result Saved Successfully!\n",
      "Loading Page Number : 9\n",
      "Result Saved Successfully!\n",
      "Loading Page Number : 10\n",
      "Result Saved Successfully!\n",
      "Loading Page Number : 11\n",
      "Result Saved Successfully!\n",
      "Loading Page Number : 12\n",
      "Result Saved Successfully!\n",
      "Loading Page Number : 13\n",
      "Result Saved Successfully!\n",
      "Loading Page Number : 14\n",
      "Result Saved Successfully!\n",
      "Loading Page Number : 15\n",
      "Result Saved Successfully!\n",
      "Loading Page Number : 16\n",
      "Result Saved Successfully!\n",
      "Loading Page Number : 17\n",
      "Result Saved Successfully!\n",
      "Loading Page Number : 18\n",
      "Result Saved Successfully!\n",
      "Loading Page Number : 19\n",
      "Result Saved Successfully!\n",
      "Loading Page Number : 20\n",
      "Result Saved Successfully!\n",
      "Loading Page Number : 21\n",
      "Result Saved Successfully!\n",
      "Loading Page Number : 22\n",
      "Result Saved Successfully!\n",
      "Loading Page Number : 23\n",
      "Result Saved Successfully!\n",
      "Loading Page Number : 24\n",
      "Result Saved Successfully!\n",
      "Loading Page Number : 25\n",
      "Result Saved Successfully!\n",
      "Loading Page Number : 26\n",
      "Result Saved Successfully!\n",
      "Loading Page Number : 27\n",
      "Result Saved Successfully!\n",
      "Loading Page Number : 28\n",
      "Result Saved Successfully!\n",
      "Loading Page Number : 29\n",
      "Result Saved Successfully!\n",
      "Loading Page Number : 30\n",
      "Result Saved Successfully!\n",
      "Loading Page Number : 31\n",
      "Result Saved Successfully!\n",
      "Loading Page Number : 32\n",
      "Result Saved Successfully!\n",
      "Loading Page Number : 33\n",
      "Result Saved Successfully!\n",
      "Loading Page Number : 34\n",
      "Result Saved Successfully!\n",
      "Loading Page Number : 35\n",
      "Result Saved Successfully!\n",
      "Loading Page Number : 36\n",
      "Result Saved Successfully!\n",
      "Loading Page Number : 37\n",
      "Result Saved Successfully!\n",
      "Loading Page Number : 38\n",
      "Result Saved Successfully!\n",
      "Loading Page Number : 39\n",
      "Result Saved Successfully!\n",
      "Loading Page Number : 40\n",
      "Result Saved Successfully!\n",
      "Loading Page Number : 41\n",
      "Result Saved Successfully!\n",
      "Loading Page Number : 42\n",
      "Result Saved Successfully!\n",
      "Loading Page Number : 43\n",
      "Result Saved Successfully!\n",
      "Loading Page Number : 44\n",
      "Result Saved Successfully!\n",
      "Loading Page Number : 45\n",
      "Result Saved Successfully!\n",
      "Loading Page Number : 46\n",
      "Result Saved Successfully!\n",
      "Loading Page Number : 47\n",
      "Result Saved Successfully!\n",
      "Loading Page Number : 48\n",
      "Result Saved Successfully!\n",
      "Loading Page Number : 49\n",
      "Result Saved Successfully!\n",
      "Loading Page Number : 50\n",
      "Result Saved Successfully!\n",
      "Loading Page Number : 51\n",
      "Result Saved Successfully!\n",
      "Loading Page Number : 52\n",
      "Result Saved Successfully!\n",
      "Loading Page Number : 53\n",
      "Result Saved Successfully!\n",
      "Loading Page Number : 54\n",
      "Result Saved Successfully!\n",
      "Loading Page Number : 55\n",
      "Result Saved Successfully!\n",
      "Loading Page Number : 56\n",
      "Result Saved Successfully!\n",
      "Loading Page Number : 57\n",
      "Result Saved Successfully!\n",
      "Loading Page Number : 58\n",
      "Result Saved Successfully!\n",
      "Loading Page Number : 59\n",
      "Result Saved Successfully!\n",
      "Loading Page Number : 60\n",
      "Result Saved Successfully!\n",
      "Loading Page Number : 61\n",
      "Result Saved Successfully!\n",
      "Loading Page Number : 62\n",
      "Result Saved Successfully!\n",
      "Loading Page Number : 63\n",
      "Result Saved Successfully!\n",
      "Loading Page Number : 64\n",
      "Result Saved Successfully!\n",
      "Loading Page Number : 65\n",
      "Result Saved Successfully!\n",
      "Loading Page Number : 66\n",
      "Result Saved Successfully!\n",
      "Loading Page Number : 67\n",
      "Result Saved Successfully!\n",
      "Loading Page Number : 68\n",
      "Result Saved Successfully!\n",
      "Loading Page Number : 69\n",
      "Result Saved Successfully!\n",
      "Loading Page Number : 70\n",
      "Result Saved Successfully!\n",
      "Loading Page Number : 71\n",
      "Result Saved Successfully!\n",
      "Loading Page Number : 72\n",
      "Result Saved Successfully!\n",
      "Loading Page Number : 73\n",
      "Result Saved Successfully!\n",
      "Loading Page Number : 74\n",
      "Result Saved Successfully!\n",
      "Loading Page Number : 75\n",
      "Result Saved Successfully!\n",
      "Loading Page Number : 76\n",
      "Result Saved Successfully!\n",
      "Loading Page Number : 77\n",
      "Result Saved Successfully!\n",
      "Loading Page Number : 78\n",
      "Result Saved Successfully!\n",
      "Loading Page Number : 79\n",
      "Result Saved Successfully!\n",
      "Loading Page Number : 80\n",
      "Result Saved Successfully!\n",
      "Loading Page Number : 81\n",
      "Result Saved Successfully!\n",
      "Loading Page Number : 82\n",
      "Result Saved Successfully!\n",
      "Loading Page Number : 83\n",
      "Result Saved Successfully!\n",
      "Loading Page Number : 84\n",
      "Result Saved Successfully!\n",
      "Loading Page Number : 85\n",
      "Result Saved Successfully!\n",
      "Loading Page Number : 86\n",
      "Result Saved Successfully!\n",
      "Loading Page Number : 87\n",
      "Result Saved Successfully!\n",
      "Loading Page Number : 88\n",
      "Result Saved Successfully!\n",
      "Loading Page Number : 89\n",
      "Result Saved Successfully!\n",
      "Fininshed!!\n"
     ]
    }
   ],
   "source": [
    "try:\n",
    "    import csv\n",
    "    from itertools import zip_longest\n",
    "    \n",
    "    with open(\"Wuzzauf_scrapper.csv\",'w',encoding=\"utf8\") as f :\n",
    "        wr = csv.writer(f)\n",
    "        wr.writerow([\"Title\", \"Company\"])\n",
    "        \n",
    "        page_num = 0\n",
    "        while True :\n",
    "            url = f\"https://wuzzuf.net/search/jobs/?a=hpb&q=programming&start={page_num}\"\n",
    "            page = requests.get(url)\n",
    "            src = page.content\n",
    "            soup = BeautifulSoup(src,'lxml') \n",
    "            count =int(soup.find('strong').text.replace(\",\",\"\"))\n",
    "            \n",
    "            if page_num > count // 15 :\n",
    "                print(\"Fininshed!!\")\n",
    "                break\n",
    "                \n",
    "            \n",
    "            title = soup.find_all('h2',{'class':\"css-m604qf\"})\n",
    "            company = soup.find_all('a',{\"class\":\"css-17s97q8\"})\n",
    "            \n",
    "            titlef=[title[i].text for i in range(len(title))]\n",
    "            companyf = [company[i].text for i in range(len(company))]\n",
    "            \n",
    "            print(f\"Loading Page Number : {page_num}\")\n",
    "            \n",
    "            files=[titlef,companyf]\n",
    "            export = zip_longest(*files)\n",
    "            wr.writerows(export)\n",
    "            \n",
    "            page_num +=1\n",
    "            print(\"Result Saved Successfully!\")\n",
    "except Exception as e :\n",
    "    raise StopIteration (\"ALOOOOO\")"
   ]
  },
  {
   "cell_type": "code",
   "execution_count": null,
   "id": "6bd28396",
   "metadata": {},
   "outputs": [],
   "source": []
  },
  {
   "cell_type": "code",
   "execution_count": null,
   "id": "5a8f1b6c",
   "metadata": {},
   "outputs": [],
   "source": []
  },
  {
   "cell_type": "code",
   "execution_count": null,
   "id": "5ef72be0",
   "metadata": {},
   "outputs": [],
   "source": []
  },
  {
   "cell_type": "code",
   "execution_count": 191,
   "id": "c68be2fe",
   "metadata": {},
   "outputs": [
    {
     "data": {
      "text/plain": [
       "1340.5"
      ]
     },
     "execution_count": 191,
     "metadata": {},
     "output_type": "execute_result"
    }
   ],
   "source": [
    "2681 / 2"
   ]
  },
  {
   "cell_type": "code",
   "execution_count": 193,
   "id": "08af3023",
   "metadata": {},
   "outputs": [],
   "source": [
    "import pandas as pd\n",
    "df = pd.read_csv(\"Wuzzauf_scrapper.csv\")"
   ]
  },
  {
   "cell_type": "code",
   "execution_count": 197,
   "id": "e3c3b3e8",
   "metadata": {},
   "outputs": [
    {
     "data": {
      "text/html": [
       "<div>\n",
       "<style scoped>\n",
       "    .dataframe tbody tr th:only-of-type {\n",
       "        vertical-align: middle;\n",
       "    }\n",
       "\n",
       "    .dataframe tbody tr th {\n",
       "        vertical-align: top;\n",
       "    }\n",
       "\n",
       "    .dataframe thead th {\n",
       "        text-align: right;\n",
       "    }\n",
       "</style>\n",
       "<table border=\"1\" class=\"dataframe\">\n",
       "  <thead>\n",
       "    <tr style=\"text-align: right;\">\n",
       "      <th></th>\n",
       "      <th>Title</th>\n",
       "      <th>Company</th>\n",
       "    </tr>\n",
       "  </thead>\n",
       "  <tbody>\n",
       "    <tr>\n",
       "      <th>0</th>\n",
       "      <td>Web Development &amp; Programming Teacher (Sheikh ...</td>\n",
       "      <td>NASS Academy -</td>\n",
       "    </tr>\n",
       "    <tr>\n",
       "      <th>1</th>\n",
       "      <td>Senior - Training Program Coordinator</td>\n",
       "      <td>Speakup -</td>\n",
       "    </tr>\n",
       "    <tr>\n",
       "      <th>2</th>\n",
       "      <td>Unlock your Opportunities! - Summer Internship...</td>\n",
       "      <td>Ghabbour Auto -</td>\n",
       "    </tr>\n",
       "    <tr>\n",
       "      <th>3</th>\n",
       "      <td>Training Program Coordinator - 2 month Internship</td>\n",
       "      <td>Speakup -</td>\n",
       "    </tr>\n",
       "    <tr>\n",
       "      <th>4</th>\n",
       "      <td>Program Coordinator - Alexandria</td>\n",
       "      <td>ITIDA -</td>\n",
       "    </tr>\n",
       "  </tbody>\n",
       "</table>\n",
       "</div>"
      ],
      "text/plain": [
       "                                               Title          Company\n",
       "0  Web Development & Programming Teacher (Sheikh ...   NASS Academy -\n",
       "1              Senior - Training Program Coordinator        Speakup -\n",
       "2  Unlock your Opportunities! - Summer Internship...  Ghabbour Auto -\n",
       "3  Training Program Coordinator - 2 month Internship        Speakup -\n",
       "4                   Program Coordinator - Alexandria          ITIDA -"
      ]
     },
     "execution_count": 197,
     "metadata": {},
     "output_type": "execute_result"
    }
   ],
   "source": [
    "df.head()"
   ]
  },
  {
   "cell_type": "code",
   "execution_count": 200,
   "id": "9071efd9",
   "metadata": {},
   "outputs": [],
   "source": [
    "import numpy as np"
   ]
  },
  {
   "cell_type": "code",
   "execution_count": 209,
   "id": "a1399dd8",
   "metadata": {},
   "outputs": [],
   "source": [
    "array = np.array([(\"Mohamed\",27,80.65),(\"omar\",25,83.65),(\"Youssef\",26,81.65)],dtype=[(\"name\",'U8'),('Age','i2'),('Grade','f4')])"
   ]
  },
  {
   "cell_type": "code",
   "execution_count": 211,
   "id": "6c574d76",
   "metadata": {},
   "outputs": [
    {
     "data": {
      "text/plain": [
       "array(['Mohamed', 'omar', 'Youssef'], dtype='<U8')"
      ]
     },
     "execution_count": 211,
     "metadata": {},
     "output_type": "execute_result"
    }
   ],
   "source": [
    "array['name']"
   ]
  },
  {
   "cell_type": "code",
   "execution_count": null,
   "id": "bb2a4756",
   "metadata": {},
   "outputs": [],
   "source": []
  },
  {
   "cell_type": "code",
   "execution_count": null,
   "id": "19f279b7",
   "metadata": {},
   "outputs": [],
   "source": []
  },
  {
   "cell_type": "code",
   "execution_count": null,
   "id": "164a8e04",
   "metadata": {},
   "outputs": [],
   "source": []
  },
  {
   "cell_type": "code",
   "execution_count": null,
   "id": "be6f371b",
   "metadata": {},
   "outputs": [],
   "source": []
  },
  {
   "cell_type": "code",
   "execution_count": null,
   "id": "49c6c565",
   "metadata": {},
   "outputs": [],
   "source": []
  },
  {
   "cell_type": "code",
   "execution_count": null,
   "id": "6a44dc29",
   "metadata": {},
   "outputs": [],
   "source": []
  },
  {
   "cell_type": "code",
   "execution_count": null,
   "id": "5777e93b",
   "metadata": {},
   "outputs": [],
   "source": []
  },
  {
   "cell_type": "code",
   "execution_count": null,
   "id": "947e7807",
   "metadata": {},
   "outputs": [],
   "source": []
  },
  {
   "cell_type": "code",
   "execution_count": null,
   "id": "bc5e81b8",
   "metadata": {},
   "outputs": [],
   "source": []
  },
  {
   "cell_type": "code",
   "execution_count": null,
   "id": "38a5acad",
   "metadata": {},
   "outputs": [],
   "source": []
  },
  {
   "cell_type": "code",
   "execution_count": null,
   "id": "fe40ab84",
   "metadata": {},
   "outputs": [],
   "source": []
  }
 ],
 "metadata": {
  "kernelspec": {
   "display_name": "Python 3 (ipykernel)",
   "language": "python",
   "name": "python3"
  },
  "language_info": {
   "codemirror_mode": {
    "name": "ipython",
    "version": 3
   },
   "file_extension": ".py",
   "mimetype": "text/x-python",
   "name": "python",
   "nbconvert_exporter": "python",
   "pygments_lexer": "ipython3",
   "version": "3.9.15"
  }
 },
 "nbformat": 4,
 "nbformat_minor": 5
}
