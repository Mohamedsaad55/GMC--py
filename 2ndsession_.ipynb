{
 "cells": [
  {
   "cell_type": "code",
   "execution_count": 46,
   "id": "d333a6a0",
   "metadata": {},
   "outputs": [],
   "source": [
    "string = \"Moha med\"\n",
    "y = \"5\"\n",
    "strin = \"5.5\""
   ]
  },
  {
   "cell_type": "code",
   "execution_count": 2,
   "id": "b7d61e65",
   "metadata": {},
   "outputs": [
    {
     "ename": "ValueError",
     "evalue": "invalid literal for int() with base 10: 'Mohamed'",
     "output_type": "error",
     "traceback": [
      "\u001b[1;31m---------------------------------------------------------------------------\u001b[0m",
      "\u001b[1;31mValueError\u001b[0m                                Traceback (most recent call last)",
      "\u001b[1;32m~\\AppData\\Local\\Temp\\ipykernel_6652\\1621965682.py\u001b[0m in \u001b[0;36m<module>\u001b[1;34m\u001b[0m\n\u001b[1;32m----> 1\u001b[1;33m \u001b[0mint\u001b[0m\u001b[1;33m(\u001b[0m\u001b[0mstring\u001b[0m\u001b[1;33m)\u001b[0m\u001b[1;33m\u001b[0m\u001b[1;33m\u001b[0m\u001b[0m\n\u001b[0m",
      "\u001b[1;31mValueError\u001b[0m: invalid literal for int() with base 10: 'Mohamed'"
     ]
    }
   ],
   "source": [
    "int(string)"
   ]
  },
  {
   "cell_type": "code",
   "execution_count": 20,
   "id": "853d5ce8",
   "metadata": {},
   "outputs": [],
   "source": [
    "z = x * int(y)"
   ]
  },
  {
   "cell_type": "code",
   "execution_count": 18,
   "id": "a5cb4fb9",
   "metadata": {},
   "outputs": [
    {
     "name": "stdout",
     "output_type": "stream",
     "text": [
      "5\n"
     ]
    }
   ],
   "source": [
    "x = int(float(strin))\n",
    "print(x)"
   ]
  },
  {
   "cell_type": "code",
   "execution_count": 47,
   "id": "e169ed49",
   "metadata": {},
   "outputs": [
    {
     "data": {
      "text/plain": [
       "['M', 'o', 'h', 'a', ' ', 'm', 'e', 'd']"
      ]
     },
     "execution_count": 47,
     "metadata": {},
     "output_type": "execute_result"
    }
   ],
   "source": [
    "list(string)"
   ]
  },
  {
   "cell_type": "code",
   "execution_count": 8,
   "id": "6ae00dbc",
   "metadata": {},
   "outputs": [
    {
     "data": {
      "text/plain": [
       "'Mohamed 1'"
      ]
     },
     "execution_count": 8,
     "metadata": {},
     "output_type": "execute_result"
    }
   ],
   "source": [
    "string +\" \"+stri"
   ]
  },
  {
   "cell_type": "code",
   "execution_count": 9,
   "id": "3abd925c",
   "metadata": {},
   "outputs": [
    {
     "data": {
      "text/plain": [
       "'MohamedMohamedMohamedMohamedMohamed'"
      ]
     },
     "execution_count": 9,
     "metadata": {},
     "output_type": "execute_result"
    }
   ],
   "source": [
    "string * 5"
   ]
  },
  {
   "cell_type": "code",
   "execution_count": 21,
   "id": "6d4aafa8",
   "metadata": {},
   "outputs": [],
   "source": [
    "y = 100 * 14/100"
   ]
  },
  {
   "cell_type": "code",
   "execution_count": 23,
   "id": "f5bcc50c",
   "metadata": {},
   "outputs": [],
   "source": [
    "total = 25 * y "
   ]
  },
  {
   "cell_type": "code",
   "execution_count": 24,
   "id": "a16c67bf",
   "metadata": {},
   "outputs": [
    {
     "name": "stdout",
     "output_type": "stream",
     "text": [
      "350.0\n"
     ]
    }
   ],
   "source": [
    "print(total)"
   ]
  },
  {
   "cell_type": "code",
   "execution_count": 25,
   "id": "a82714b6",
   "metadata": {},
   "outputs": [
    {
     "data": {
      "text/plain": [
       "1"
      ]
     },
     "execution_count": 25,
     "metadata": {},
     "output_type": "execute_result"
    }
   ],
   "source": [
    "7 // 5 "
   ]
  },
  {
   "cell_type": "code",
   "execution_count": 28,
   "id": "620fc7c7",
   "metadata": {},
   "outputs": [
    {
     "data": {
      "text/plain": [
       "2"
      ]
     },
     "execution_count": 28,
     "metadata": {},
     "output_type": "execute_result"
    }
   ],
   "source": [
    " 11 % 3"
   ]
  },
  {
   "cell_type": "code",
   "execution_count": 29,
   "id": "3b90a74d",
   "metadata": {},
   "outputs": [
    {
     "data": {
      "text/plain": [
       "9"
      ]
     },
     "execution_count": 29,
     "metadata": {},
     "output_type": "execute_result"
    }
   ],
   "source": [
    "3 ** 2  "
   ]
  },
  {
   "cell_type": "code",
   "execution_count": 44,
   "id": "081d9404",
   "metadata": {},
   "outputs": [
    {
     "ename": "SyntaxError",
     "evalue": "invalid syntax (2822612141.py, line 1)",
     "output_type": "error",
     "traceback": [
      "\u001b[1;36m  File \u001b[1;32m\"C:\\Users\\aser\\AppData\\Local\\Temp\\ipykernel_6652\\2822612141.py\"\u001b[1;36m, line \u001b[1;32m1\u001b[0m\n\u001b[1;33m    import math as \"m\"\u001b[0m\n\u001b[1;37m                   ^\u001b[0m\n\u001b[1;31mSyntaxError\u001b[0m\u001b[1;31m:\u001b[0m invalid syntax\n"
     ]
    }
   ],
   "source": [
    "import math as m"
   ]
  },
  {
   "cell_type": "code",
   "execution_count": 42,
   "id": "16b29034",
   "metadata": {},
   "outputs": [
    {
     "data": {
      "text/plain": [
       "3.141592653589793"
      ]
     },
     "execution_count": 42,
     "metadata": {},
     "output_type": "execute_result"
    }
   ],
   "source": [
    "m.pi"
   ]
  },
  {
   "cell_type": "code",
   "execution_count": 39,
   "id": "052f6611",
   "metadata": {},
   "outputs": [],
   "source": [
    "from math import sqrt , pi"
   ]
  },
  {
   "cell_type": "code",
   "execution_count": 38,
   "id": "d43f16ff",
   "metadata": {},
   "outputs": [
    {
     "data": {
      "text/plain": [
       "4.47213595499958"
      ]
     },
     "execution_count": 38,
     "metadata": {},
     "output_type": "execute_result"
    }
   ],
   "source": [
    "sqrt(20)"
   ]
  },
  {
   "cell_type": "code",
   "execution_count": 89,
   "id": "0e4aece8",
   "metadata": {},
   "outputs": [
    {
     "data": {
      "text/plain": [
       "'MOHAMED SAAD'"
      ]
     },
     "execution_count": 89,
     "metadata": {},
     "output_type": "execute_result"
    }
   ],
   "source": [
    "s = \"mohamed,saad\"\n",
    "s.replace(\",\",\" \").upper()"
   ]
  },
  {
   "cell_type": "code",
   "execution_count": 87,
   "id": "b92fec74",
   "metadata": {},
   "outputs": [],
   "source": [
    "z = s[0:7].title() + \" \"                                           +s[8:] .title()\n"
   ]
  },
  {
   "cell_type": "code",
   "execution_count": 130,
   "id": "1e56ff13",
   "metadata": {},
   "outputs": [
    {
     "data": {
      "text/plain": [
       "'Mohamed Saad'"
      ]
     },
     "execution_count": 130,
     "metadata": {},
     "output_type": "execute_result"
    }
   ],
   "source": [
    "z"
   ]
  },
  {
   "cell_type": "code",
   "execution_count": 126,
   "id": "f66c2bcf",
   "metadata": {},
   "outputs": [
    {
     "name": "stdout",
     "output_type": "stream",
     "text": [
      "Exit ? yes or no...hgjkhgjk\n"
     ]
    }
   ],
   "source": [
    "x = input(\"Exit ? yes or no...\").upper()"
   ]
  },
  {
   "cell_type": "code",
   "execution_count": 127,
   "id": "e61fddea",
   "metadata": {},
   "outputs": [
    {
     "name": "stdout",
     "output_type": "stream",
     "text": [
      "HGJKHGJK\n"
     ]
    }
   ],
   "source": [
    "print(x)"
   ]
  },
  {
   "cell_type": "code",
   "execution_count": 6,
   "id": "b4b1138c",
   "metadata": {},
   "outputs": [],
   "source": [
    "x =[] # mod 5\n",
    "y = [] # mod 7 \n",
    "for i in range(0,1000+1):\n",
    "    if i % 5 == 0:\n",
    "        x.append(i)\n",
    "    elif i % 7 ==0:\n",
    "        y.append(i)"
   ]
  },
  {
   "cell_type": "code",
   "execution_count": 16,
   "id": "6e2b34d7",
   "metadata": {},
   "outputs": [
    {
     "name": "stdout",
     "output_type": "stream",
     "text": [
      "1\n",
      "2\n",
      "3\n",
      "4\n",
      "5\n",
      "6\n",
      "7\n",
      "8\n",
      "9\n",
      "10\n"
     ]
    }
   ],
   "source": [
    "i = 1 \n",
    "while i <= 10 :\n",
    "    print(i)\n",
    "    i += 1"
   ]
  },
  {
   "cell_type": "code",
   "execution_count": 3,
   "id": "dd8354dd",
   "metadata": {},
   "outputs": [
    {
     "name": "stdout",
     "output_type": "stream",
     "text": [
      "Please enter a number: 15\n",
      "Please enter a 2nd number: 210\n",
      "Yes to exityes\n"
     ]
    }
   ],
   "source": [
    "import time \n",
    "while True :\n",
    "    x = int(input(\"Please enter a number: \"))\n",
    "    time.sleep(2)\n",
    "    y = int(input(\"Please enter a 2nd number: \"))\n",
    "    time.sleep(2)\n",
    "    z = input(\"Yes to exit\").lower()\n",
    "    time.sleep(2)\n",
    "    if z == \"yes\":\n",
    "        break\n",
    "    else :\n",
    "        result = x+y \n",
    "        print(f\"Result = {result}\")\n",
    "        \n"
   ]
  },
  {
   "cell_type": "code",
   "execution_count": 132,
   "id": "02aa7146",
   "metadata": {},
   "outputs": [
    {
     "name": "stdout",
     "output_type": "stream",
     "text": [
      "Bye Bye\n"
     ]
    }
   ],
   "source": [
    "if  \"z\" not in z:\n",
    "    print(\"Bye Bye\")\n",
    "elif x == \"no\":\n",
    "    print(\"Great\")\n",
    "else :\n",
    "    print(\"fe 7aga 8alt\")"
   ]
  },
  {
   "cell_type": "code",
   "execution_count": 15,
   "id": "7a444ef5",
   "metadata": {},
   "outputs": [
    {
     "name": "stdout",
     "output_type": "stream",
     "text": [
      "Please enter a number: 10\n",
      "Please enter a 2nd number: 5\n",
      "Please choose the operation +,-,*,/ : /\n"
     ]
    }
   ],
   "source": [
    "x = int(input(\"Please enter a number: \"))\n",
    "\n",
    "y = int(input(\"Please enter a 2nd number: \"))\n",
    "\n",
    "op = input(\"Please choose the operation +,-,*,/ : \")\n",
    "\n",
    "if op == \"+\":\n",
    "    result = x +y \n",
    "    print(result)\n",
    "elif op == \"/\":\n",
    "    while y == 0 :\n",
    "        print(\"Can't devide by 0 !! \")\n",
    "        y = int(input(\"Please enter a 2nd number: \"))\n",
    "        result = x/y\n",
    "        print(result)\n",
    "    result = x/y\n",
    "    print(result)\n",
    "else : \n",
    "    print(\"you entered a Wrong operation\")\n",
    "\n"
   ]
  },
  {
   "cell_type": "code",
   "execution_count": null,
   "id": "27a0ccff",
   "metadata": {},
   "outputs": [],
   "source": []
  },
  {
   "cell_type": "code",
   "execution_count": 14,
   "id": "ca4a1616",
   "metadata": {},
   "outputs": [
    {
     "data": {
      "text/plain": [
       "'n'"
      ]
     },
     "execution_count": 14,
     "metadata": {},
     "output_type": "execute_result"
    }
   ],
   "source": [
    "y = \"\"\n",
    "x = list(\"I love python\")\n",
    "y.join(x[-1])"
   ]
  },
  {
   "cell_type": "code",
   "execution_count": 12,
   "id": "6f0386bf",
   "metadata": {},
   "outputs": [],
   "source": [
    "i = x.index(\"o\")\n",
    "x.remove(\"y\")"
   ]
  },
  {
   "cell_type": "code",
   "execution_count": 13,
   "id": "6c5967f6",
   "metadata": {},
   "outputs": [
    {
     "data": {
      "text/plain": [
       "['I', ' ', 'l', 'v', 'e', ' ', 'p', 't', 'h', 'o', 'n']"
      ]
     },
     "execution_count": 13,
     "metadata": {},
     "output_type": "execute_result"
    }
   ],
   "source": [
    "x"
   ]
  },
  {
   "cell_type": "code",
   "execution_count": 15,
   "id": "45332176",
   "metadata": {},
   "outputs": [
    {
     "data": {
      "text/plain": [
       "''"
      ]
     },
     "execution_count": 15,
     "metadata": {},
     "output_type": "execute_result"
    }
   ],
   "source": [
    "y"
   ]
  },
  {
   "cell_type": "markdown",
   "id": "958bde33",
   "metadata": {},
   "source": [
    "## Question 1\n",
    "\n",
    "Write a Python program that accepts the user's first and last name, and prints them in reverse order with a space between them.\n"
   ]
  },
  {
   "cell_type": "code",
   "execution_count": 17,
   "id": "b0e2cebf",
   "metadata": {},
   "outputs": [
    {
     "name": "stdout",
     "output_type": "stream",
     "text": [
      "Enter your first name Mohamed\n",
      "Enter your last name Saad\n",
      "Saad Mohamed\n"
     ]
    }
   ],
   "source": [
    "first_name = input(\"Enter your first name \")\n",
    "last_name = input(\"Enter your last name \")\n",
    "print(last_name +\" \"+first_name)"
   ]
  },
  {
   "cell_type": "markdown",
   "id": "ac92b693",
   "metadata": {},
   "source": [
    "## Question 2\n",
    "Write a Python program that accepts an integer (n) and computes the value of n+nn+nnn.\n",
    "\n",
    "        The sample value of n is 5.\n",
    "        Expected Result: 615 (5+55+555)"
   ]
  },
  {
   "cell_type": "code",
   "execution_count": 29,
   "id": "e55910ff",
   "metadata": {},
   "outputs": [
    {
     "name": "stdout",
     "output_type": "stream",
     "text": [
      "enter a number 5\n",
      "5+55+555 Result = 615\n"
     ]
    }
   ],
   "source": [
    "n = int(input(\"enter a number \"))\n",
    "nn = str(n)*2 \n",
    "nnn = str(n)*3\n",
    "result = int(n) + int(nn) + int(nnn)\n",
    "print(f\"{n}+{nn}+{nnn} Result = {result}\")\n"
   ]
  },
  {
   "cell_type": "markdown",
   "id": "2f388bfa",
   "metadata": {},
   "source": [
    "## Question 3\n",
    "Write a Python program to find whether a given number (accept from the user) is even or odd, and print out an appropriate message to the user."
   ]
  },
  {
   "cell_type": "code",
   "execution_count": 32,
   "id": "5e5d874a",
   "metadata": {},
   "outputs": [
    {
     "name": "stdout",
     "output_type": "stream",
     "text": [
      "Number : 9\n",
      "This is an Odd number\n"
     ]
    }
   ],
   "source": [
    "x = int(input(\"Number : \"))\n",
    "if x % 2 == 0 :\n",
    "    print(\"This number is Even\")\n",
    "else :\n",
    "    print(\"This is an Odd number\")"
   ]
  },
  {
   "cell_type": "markdown",
   "id": "269f076a",
   "metadata": {},
   "source": [
    "## Question 4\n",
    "Write a program which will find all such numbers which are divisible by 7 but are not a multiple of 5, between 2000 and 3200 (both included). The numbers obtained should be printed in a sequence on a single line."
   ]
  },
  {
   "cell_type": "code",
   "execution_count": 35,
   "id": "4c43fdf2",
   "metadata": {},
   "outputs": [
    {
     "name": "stdout",
     "output_type": "stream",
     "text": [
      "2002 2009 2016 2023 2037 2044 2051 2058 2072 2079 2086 2093 2107 2114 2121 2128 2142 2149 2156 2163 2177 2184 2191 2198 2212 2219 2226 2233 2247 2254 2261 2268 2282 2289 2296 2303 2317 2324 2331 2338 2352 2359 2366 2373 2387 2394 2401 2408 2422 2429 2436 2443 2457 2464 2471 2478 2492 2499 2506 2513 2527 2534 2541 2548 2562 2569 2576 2583 2597 2604 2611 2618 2632 2639 2646 2653 2667 2674 2681 2688 2702 2709 2716 2723 2737 2744 2751 2758 2772 2779 2786 2793 2807 2814 2821 2828 2842 2849 2856 2863 2877 2884 2891 2898 2912 2919 2926 2933 2947 2954 2961 2968 2982 2989 2996 3003 3017 3024 3031 3038 3052 3059 3066 3073 3087 3094 3101 3108 3122 3129 3136 3143 3157 3164 3171 3178 3192 3199 "
     ]
    }
   ],
   "source": [
    "for i in range(2000,3201):\n",
    "    if i % 5 != 0 and i % 7 ==0 :\n",
    "        print(i, end= \" \")"
   ]
  },
  {
   "cell_type": "markdown",
   "id": "57ccc227",
   "metadata": {},
   "source": [
    "## Question 5\n",
    "Write a program that can compute the factorial of a given number. The results should be printed in a sequence on a single line. Suppose the following input is supplied to the program: 8. Then, the output should be: 40320\n",
    "Hint: The factorial function (symbol: !) multiplies all whole numbers from our chosen number down to 1. Examples:¶\n",
    "\n",
    "        4! = 4 × 3 × 2 × 1\n",
    "\n",
    "        8! = 8 × 7 × 6 × 5 × 4 × 3 × 2 × 1\n",
    "\n",
    "        1! = 1\n",
    "\n",
    "        0! = 1 (by convention)"
   ]
  },
  {
   "cell_type": "code",
   "execution_count": 39,
   "id": "5a008d48",
   "metadata": {},
   "outputs": [
    {
     "name": "stdout",
     "output_type": "stream",
     "text": [
      "Enter a number : 5\n",
      "Your Factorial is :  120\n"
     ]
    }
   ],
   "source": [
    "n = int(input(\"Enter a number : \"))\n",
    "factorial = 1\n",
    "for i in range(1,n+1):\n",
    "    factorial *=i \n",
    "print(\"Your Factorial is : \",factorial)"
   ]
  },
  {
   "cell_type": "markdown",
   "id": "84e0712a",
   "metadata": {},
   "source": [
    "## Quesion 6\n",
    "Write a program to remove the characters which have odd index values of a given string.\n",
    "\n",
    "    For example: string =\"hello team\"\n",
    "    The result should be: hlota"
   ]
  },
  {
   "cell_type": "code",
   "execution_count": 42,
   "id": "dabdf3af",
   "metadata": {},
   "outputs": [
    {
     "name": "stdout",
     "output_type": "stream",
     "text": [
      "hlota\n"
     ]
    }
   ],
   "source": [
    "s = \"hello team\"\n",
    "new_s = \"\"\n",
    "for i in range(len(s)):\n",
    "    if i % 2 == 0 :\n",
    "        new_s = new_s + s[i]\n",
    "        \n",
    "print(new_s)"
   ]
  },
  {
   "cell_type": "markdown",
   "id": "44a2d461",
   "metadata": {},
   "source": [
    "## Question 7\n",
    "In this challenge, you must discount a price according to its value.\n",
    "If the price is 500 or above, there will be a 50% discount.\n",
    "\n",
    "If the price is between 200 and 500 (200 inclusive), there will be a 30% discount.\n",
    "\n",
    "If the price is less than 200, there will be a 10% discount."
   ]
  },
  {
   "cell_type": "code",
   "execution_count": null,
   "id": "edffa47d",
   "metadata": {},
   "outputs": [],
   "source": []
  },
  {
   "cell_type": "code",
   "execution_count": 43,
   "id": "c94f3700",
   "metadata": {},
   "outputs": [],
   "source": [
    "l = [1,1,1,1,1,1,1,1,5]\n",
    "t = (1,2,3,4,5)\n",
    "d = {\"name\":\"mohamed\"}\n",
    "s = {}"
   ]
  },
  {
   "cell_type": "code",
   "execution_count": 44,
   "id": "351caaee",
   "metadata": {},
   "outputs": [
    {
     "data": {
      "text/plain": [
       "{1, 5}"
      ]
     },
     "execution_count": 44,
     "metadata": {},
     "output_type": "execute_result"
    }
   ],
   "source": [
    "set(l)"
   ]
  },
  {
   "cell_type": "code",
   "execution_count": null,
   "id": "e22f757a",
   "metadata": {},
   "outputs": [],
   "source": []
  }
 ],
 "metadata": {
  "kernelspec": {
   "display_name": "Python 3 (ipykernel)",
   "language": "python",
   "name": "python3"
  },
  "language_info": {
   "codemirror_mode": {
    "name": "ipython",
    "version": 3
   },
   "file_extension": ".py",
   "mimetype": "text/x-python",
   "name": "python",
   "nbconvert_exporter": "python",
   "pygments_lexer": "ipython3",
   "version": "3.9.13"
  }
 },
 "nbformat": 4,
 "nbformat_minor": 5
}
