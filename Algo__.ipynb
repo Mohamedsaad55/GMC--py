{
 "cells": [
  {
   "cell_type": "markdown",
   "id": "5548b6f8",
   "metadata": {},
   "source": [
    "# Binary Search \n",
    "\n",
    "    Sorted List "
   ]
  },
  {
   "cell_type": "code",
   "execution_count": 1,
   "id": "63fbd606",
   "metadata": {},
   "outputs": [],
   "source": [
    "def binary_search(arr , target):\n",
    "    low = 0\n",
    "    high = len(arr) - 1 \n",
    "    \n",
    "    while low <= high :\n",
    "        mid = (low + high) // 2\n",
    "        guess = arr[mid] \n",
    "        \n",
    "        if guess == target :\n",
    "            return mid # found the Target \n",
    "        elif guess < target :\n",
    "            low = mid +1 # Target is in the Right Half\n",
    "        else :\n",
    "            high = mid -1 # Target is in the left Half\n",
    "        \n",
    "    return -1 # Target not Found "
   ]
  },
  {
   "cell_type": "code",
   "execution_count": 12,
   "id": "94cb1df8",
   "metadata": {},
   "outputs": [
    {
     "name": "stdout",
     "output_type": "stream",
     "text": [
      "9\n",
      "Target Fount at index : 9\n"
     ]
    }
   ],
   "source": [
    "arr = [1,2,3,4,5,6,7,8,9,10,14,15,16]\n",
    "\n",
    "target = 10\n",
    "\n",
    "result = binary_search(arr, target)\n",
    "print(result)\n",
    "\n",
    "if result != -1 :\n",
    "    print(f\"Target Fount at index : {result}\")\n",
    "else :\n",
    "    print(\"Target Not Found\")"
   ]
  },
  {
   "cell_type": "code",
   "execution_count": 13,
   "id": "5e6686a6",
   "metadata": {},
   "outputs": [
    {
     "data": {
      "text/plain": [
       "9"
      ]
     },
     "execution_count": 13,
     "metadata": {},
     "output_type": "execute_result"
    }
   ],
   "source": [
    "arr.index(10)"
   ]
  },
  {
   "cell_type": "markdown",
   "id": "02f564ef",
   "metadata": {},
   "source": [
    "# Bubble Sort\n",
    "    \n",
    "    Simple Algorithim \n",
    "    Compare 2 elemnts then swaps them  \n",
    "    Worst Case O(N^2)"
   ]
  },
  {
   "cell_type": "code",
   "execution_count": 16,
   "id": "c2163db5",
   "metadata": {},
   "outputs": [],
   "source": [
    "def bubble_sort(arr):\n",
    "    n = len(arr)\n",
    "    \n",
    "    for i in range(n-1):\n",
    "        for j in range(n-1-i):\n",
    "            if arr[j] > arr[j+1]:\n",
    "                arr[j] , arr[j+1] = arr[j+1] , arr[j]\n",
    "                 # arr[j] = arr[j+1]\n",
    "                 # arr[j+1] = arr[j]"
   ]
  },
  {
   "cell_type": "code",
   "execution_count": 18,
   "id": "7570503e",
   "metadata": {},
   "outputs": [
    {
     "name": "stdout",
     "output_type": "stream",
     "text": [
      "Before Sorting : [5, 654, 21, 8, 8, 524, 25]\n",
      "After Sorting : [5, 8, 8, 21, 25, 524, 654]\n"
     ]
    }
   ],
   "source": [
    "numbers = [5,654,21,8,8,524,25]\n",
    "print(f\"Before Sorting : {numbers}\")\n",
    "\n",
    "bubble_sort(numbers)\n",
    "print(f\"After Sorting : {numbers}\")"
   ]
  },
  {
   "cell_type": "code",
   "execution_count": 20,
   "id": "0241629e",
   "metadata": {},
   "outputs": [
    {
     "name": "stdout",
     "output_type": "stream",
     "text": [
      "[5, 8, 8, 21, 25, 524, 654]\n"
     ]
    }
   ],
   "source": [
    "numbers = [5,654,21,8,8,524,25]\n",
    "numbers.sort()\n",
    "print(numbers)"
   ]
  },
  {
   "cell_type": "markdown",
   "id": "48075422",
   "metadata": {},
   "source": [
    "# Merge Sort \n",
    "    \n",
    "    Divide and Conquer Approach ! "
   ]
  },
  {
   "cell_type": "code",
   "execution_count": 29,
   "id": "7933e108",
   "metadata": {},
   "outputs": [],
   "source": [
    "def merge_sort(arr):\n",
    "    \n",
    "    if len(arr)<=1:\n",
    "        return arr\n",
    "    # Divide list into 2 \n",
    "    mid = len(arr) // 2\n",
    "    left_half = arr[:mid]\n",
    "    right_half = arr[mid:]\n",
    "    \n",
    "    # Recurrsion\n",
    "    \n",
    "    left_half = merge_sort(left_half)\n",
    "    right_half = merge_sort(right_half)\n",
    "    \n",
    "    return merge(left_half , right_half)\n",
    "\n",
    "\n",
    "def merge (left , right ):\n",
    "    result = []\n",
    "    \n",
    "    i = j = 0\n",
    "    \n",
    "    # Compare Elemnts \n",
    "    while i < len (left) and j < len(right):\n",
    "        if left[i]<= right[j]:\n",
    "            result.append(left[i])\n",
    "            i+=1 \n",
    "        else :\n",
    "            result.append(right[j])\n",
    "            j+=1\n",
    "            \n",
    "    result.extend(left[i:])\n",
    "    result.extend(right[j:])\n",
    "    \n",
    "    return result\n",
    "        "
   ]
  },
  {
   "cell_type": "code",
   "execution_count": 30,
   "id": "5a0dab93",
   "metadata": {},
   "outputs": [
    {
     "name": "stdout",
     "output_type": "stream",
     "text": [
      "Before Sorting : [5, 654, 21, 8, 8, 524, 25]\n",
      "After Sorting : [5, 8, 8, 21, 25, 524, 654]\n"
     ]
    }
   ],
   "source": [
    "numbers = [5,654,21,8,8,524,25]\n",
    "print(f\"Before Sorting : {numbers}\")\n",
    "\n",
    "sorted_numbers= merge_sort(numbers)\n",
    "\n",
    "print(f\"After Sorting : {sorted_numbers}\")"
   ]
  },
  {
   "cell_type": "code",
   "execution_count": 31,
   "id": "40ef48a5",
   "metadata": {},
   "outputs": [
    {
     "data": {
      "text/plain": [
       "[5, 8, 8, 21, 25, 524, 654]"
      ]
     },
     "execution_count": 31,
     "metadata": {},
     "output_type": "execute_result"
    }
   ],
   "source": [
    "numbers = [5,654,21,8,8,524,25]\n",
    "sorted(numbers)"
   ]
  },
  {
   "cell_type": "markdown",
   "id": "575ba864",
   "metadata": {},
   "source": [
    "# Quick Sort "
   ]
  },
  {
   "cell_type": "code",
   "execution_count": 37,
   "id": "261b83cd",
   "metadata": {},
   "outputs": [],
   "source": [
    "def quick_sort(arr):\n",
    "    if len(arr) <= 1 :\n",
    "        return arr \n",
    "    \n",
    "    pivot = arr[len(arr)//2]\n",
    "    smaller = [i for i in arr if i < pivot]\n",
    "    equal = [i for i in arr if i == pivot]\n",
    "    larger = [i for i in arr if i > pivot]\n",
    "    \n",
    "    return quick_sort(smaller) + equal + quick_sort(larger)"
   ]
  },
  {
   "cell_type": "code",
   "execution_count": 38,
   "id": "a5a16d57",
   "metadata": {},
   "outputs": [
    {
     "name": "stdout",
     "output_type": "stream",
     "text": [
      "[5, 8, 8, 21, 25, 524, 654]\n"
     ]
    }
   ],
   "source": [
    "numbers = [5,654,21,8,8,524,25]\n",
    "print(quick_sort(numbers))"
   ]
  },
  {
   "cell_type": "code",
   "execution_count": null,
   "id": "0bf62901",
   "metadata": {},
   "outputs": [],
   "source": []
  },
  {
   "cell_type": "code",
   "execution_count": null,
   "id": "74c469b5",
   "metadata": {},
   "outputs": [],
   "source": []
  },
  {
   "cell_type": "code",
   "execution_count": null,
   "id": "ff251612",
   "metadata": {},
   "outputs": [],
   "source": []
  },
  {
   "cell_type": "code",
   "execution_count": null,
   "id": "97297f50",
   "metadata": {},
   "outputs": [],
   "source": []
  }
 ],
 "metadata": {
  "kernelspec": {
   "display_name": "Python 3 (ipykernel)",
   "language": "python",
   "name": "python3"
  },
  "language_info": {
   "codemirror_mode": {
    "name": "ipython",
    "version": 3
   },
   "file_extension": ".py",
   "mimetype": "text/x-python",
   "name": "python",
   "nbconvert_exporter": "python",
   "pygments_lexer": "ipython3",
   "version": "3.9.15"
  }
 },
 "nbformat": 4,
 "nbformat_minor": 5
}
