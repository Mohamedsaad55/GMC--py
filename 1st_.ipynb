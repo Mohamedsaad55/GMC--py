{
 "cells": [
  {
   "cell_type": "markdown",
   "id": "494ad87f",
   "metadata": {},
   "source": [
    "# 1st Session \n",
    "\n",
    "### What's Python \n",
    "     - High Level \n",
    "     - Interpreted \n",
    "     - Dynamic "
   ]
  },
  {
   "cell_type": "code",
   "execution_count": 4,
   "id": "1fb7ef34",
   "metadata": {},
   "outputs": [],
   "source": [
    "x = 5 "
   ]
  },
  {
   "cell_type": "code",
   "execution_count": 2,
   "id": "08de1679",
   "metadata": {},
   "outputs": [],
   "source": [
    "x = 10"
   ]
  },
  {
   "cell_type": "code",
   "execution_count": 8,
   "id": "5d30c875",
   "metadata": {},
   "outputs": [
    {
     "ename": "NameError",
     "evalue": "name 'x' is not defined",
     "output_type": "error",
     "traceback": [
      "\u001b[1;31m---------------------------------------------------------------------------\u001b[0m",
      "\u001b[1;31mNameError\u001b[0m                                 Traceback (most recent call last)",
      "Cell \u001b[1;32mIn[8], line 1\u001b[0m\n\u001b[1;32m----> 1\u001b[0m \u001b[38;5;28mprint\u001b[39m(\u001b[43mx\u001b[49m)\n",
      "\u001b[1;31mNameError\u001b[0m: name 'x' is not defined"
     ]
    }
   ],
   "source": [
    "print(x)"
   ]
  },
  {
   "cell_type": "code",
   "execution_count": 6,
   "id": "8ed2be41",
   "metadata": {},
   "outputs": [],
   "source": [
    "import numpy as np \n",
    "from numpy import get_array_wrap\n",
    "def\n",
    "return"
   ]
  },
  {
   "cell_type": "code",
   "execution_count": 7,
   "id": "08c2ec89",
   "metadata": {},
   "outputs": [],
   "source": [
    "del(x)"
   ]
  },
  {
   "cell_type": "code",
   "execution_count": null,
   "id": "10c59a29",
   "metadata": {},
   "outputs": [],
   "source": [
    "if \n",
    "elif \n",
    "else"
   ]
  },
  {
   "cell_type": "code",
   "execution_count": null,
   "id": "b907936b",
   "metadata": {},
   "outputs": [],
   "source": [
    "continue \n",
    "break"
   ]
  },
  {
   "cell_type": "code",
   "execution_count": null,
   "id": "156efdc9",
   "metadata": {},
   "outputs": [],
   "source": [
    "for \n",
    "while "
   ]
  },
  {
   "cell_type": "code",
   "execution_count": null,
   "id": "830113c8",
   "metadata": {},
   "outputs": [],
   "source": [
    "True \n",
    "False \n",
    "None"
   ]
  },
  {
   "cell_type": "code",
   "execution_count": null,
   "id": "e64c3380",
   "metadata": {},
   "outputs": [],
   "source": []
  },
  {
   "cell_type": "code",
   "execution_count": 12,
   "id": "d1208097",
   "metadata": {},
   "outputs": [],
   "source": [
    "def summ(x,y):\n",
    "    result = x+y\n",
    "    return result"
   ]
  },
  {
   "cell_type": "code",
   "execution_count": 13,
   "id": "8f309d0e",
   "metadata": {},
   "outputs": [],
   "source": [
    "summ(5,10)"
   ]
  },
  {
   "cell_type": "code",
   "execution_count": null,
   "id": "13196c80",
   "metadata": {},
   "outputs": [],
   "source": []
  },
  {
   "cell_type": "code",
   "execution_count": null,
   "id": "b84da9c1",
   "metadata": {},
   "outputs": [],
   "source": []
  },
  {
   "cell_type": "code",
   "execution_count": null,
   "id": "3e4651fb",
   "metadata": {},
   "outputs": [],
   "source": []
  },
  {
   "cell_type": "code",
   "execution_count": 16,
   "id": "64141d41",
   "metadata": {},
   "outputs": [],
   "source": [
    "x = 10 + 10\n",
    "y = 15"
   ]
  },
  {
   "cell_type": "code",
   "execution_count": 27,
   "id": "9c86a8a2",
   "metadata": {},
   "outputs": [],
   "source": [
    "integar = int(1.9)\n",
    "string = \"Mohamed 10+5 x + y \"\n",
    "float_ = float(10)\n",
    "boolean = True , False\n"
   ]
  },
  {
   "cell_type": "code",
   "execution_count": 36,
   "id": "f6935494",
   "metadata": {},
   "outputs": [],
   "source": [
    "x,y,z = 5 ,7,1"
   ]
  },
  {
   "cell_type": "code",
   "execution_count": 37,
   "id": "add29724",
   "metadata": {},
   "outputs": [],
   "source": [
    "x = 5 ; y = 7 ; z =1"
   ]
  },
  {
   "cell_type": "code",
   "execution_count": 38,
   "id": "7c7d5122",
   "metadata": {},
   "outputs": [],
   "source": [
    "a = [1+2+3+4+\\\n",
    "    5+6+7+8+9]"
   ]
  },
  {
   "cell_type": "code",
   "execution_count": 44,
   "id": "41f9e1d2",
   "metadata": {},
   "outputs": [
    {
     "name": "stdout",
     "output_type": "stream",
     "text": [
      "Hello!\n"
     ]
    }
   ],
   "source": [
    "# This block chek if x is greater than 3 \n",
    "# dsafsdfasd\n",
    "if x > 3 : # adsfdsafsaf\n",
    "    \"\"\" \n",
    "    \n",
    "    asdfasdfasdfvsda;kjfaslkdfms,nf,mnczxv\n",
    "    sadfasdfsa\n",
    "            adfsgdfsgdsg\n",
    "                \n",
    "    \n",
    "    \n",
    "    \"\"\"\n",
    "    print('Hello!')"
   ]
  },
  {
   "cell_type": "code",
   "execution_count": null,
   "id": "fd0f4574",
   "metadata": {},
   "outputs": [],
   "source": [
    "user_name = \"Mohamed\"\n"
   ]
  },
  {
   "cell_type": "code",
   "execution_count": 46,
   "id": "b13290e2",
   "metadata": {},
   "outputs": [
    {
     "data": {
      "text/plain": [
       "3.141592653589793"
      ]
     },
     "execution_count": 46,
     "metadata": {},
     "output_type": "execute_result"
    }
   ],
   "source": [
    "import math \n",
    "math.pi"
   ]
  },
  {
   "cell_type": "code",
   "execution_count": 77,
   "id": "5c61ad18",
   "metadata": {},
   "outputs": [
    {
     "name": "stdout",
     "output_type": "stream",
     "text": [
      "Please Enter Your Name\n",
      "Mohamed\n"
     ]
    }
   ],
   "source": [
    "name = input(\"Please Enter Your Name\\n\")"
   ]
  },
  {
   "cell_type": "code",
   "execution_count": 90,
   "id": "dd42aadb",
   "metadata": {},
   "outputs": [
    {
     "name": "stdout",
     "output_type": "stream",
     "text": [
      "Please Enter Your Age: 27\n"
     ]
    }
   ],
   "source": [
    "age = int(input('Please Enter Your Age: '))"
   ]
  },
  {
   "cell_type": "code",
   "execution_count": 75,
   "id": "4d92c585",
   "metadata": {},
   "outputs": [
    {
     "name": "stdout",
     "output_type": "stream",
     "text": [
      "Hello Mohamed  Nice To Meet You!!\n"
     ]
    }
   ],
   "source": [
    "print(f\"Hello {name}  Nice To Meet You!!\")"
   ]
  },
  {
   "cell_type": "code",
   "execution_count": 88,
   "id": "56ea4828",
   "metadata": {},
   "outputs": [
    {
     "name": "stdout",
     "output_type": "stream",
     "text": [
      "27\n",
      "\t\tWelcome to Python!!\n",
      "\t\tHope you Enjoy\n"
     ]
    }
   ],
   "source": [
    "print(age )\n",
    "print('\\t\\tWelcome to Python!!\\n\\t\\tHope you Enjoy')"
   ]
  },
  {
   "cell_type": "code",
   "execution_count": null,
   "id": "ffe23b8b",
   "metadata": {},
   "outputs": [],
   "source": []
  },
  {
   "cell_type": "code",
   "execution_count": null,
   "id": "5953226f",
   "metadata": {},
   "outputs": [],
   "source": []
  },
  {
   "cell_type": "code",
   "execution_count": 97,
   "id": "af0d8d3f",
   "metadata": {},
   "outputs": [
    {
     "name": "stdout",
     "output_type": "stream",
     "text": [
      "Please Enter Your name\n",
      "Mohamed\n",
      "Please Enter item name\n",
      "Books\n",
      "Please Enter Item Price\n",
      "50\n",
      "How many items you Purchased\n",
      "10\n",
      "Please Enter Tax Amount (e.g. 0.05 for 5%)\n",
      "0.05\n",
      "----------- Mohamed Receipt -----------\n",
      "Item : \t Books\n",
      "Quantity : \t 10\n",
      "Item Price :\t 50.0\n",
      "SubTotal : \t 500.0\n",
      "Tax : \t5%\n",
      "Tax Amount : \t 25.0\n",
      "Total : \t 525.000000\n"
     ]
    }
   ],
   "source": [
    "# User inputs\n",
    "name = input('Please Enter Your name\\n')\n",
    "item_name =  input('Please Enter item name\\n')\n",
    "item_price = float(input(\"Please Enter Item Price\\n\"))\n",
    "item_quantity = int(input(\"How many items you Purchased\\n\"))\n",
    "tax_rate = float(input(\"Please Enter Tax Amount (e.g. 0.05 for 5%)\\n\"))\n",
    "# Calculatation \n",
    "subtotal = item_price * item_quantity\n",
    "tax_amount = subtotal * tax_rate\n",
    "total = tax_amount + subtotal\n",
    "\n",
    "# Receipt\n",
    "print(f\"----------- {name} Receipt -----------\")\n",
    "print(f\"Item : \\t {item_name}\")\n",
    "print(f\"Quantity : \\t {item_quantity}\")\n",
    "print(f'Item Price :\\t {item_price}')\n",
    "print(f'SubTotal : \\t {subtotal}')\n",
    "print(f'Tax : \\t{tax_rate:.0%}')\n",
    "print(f'Tax Amount : \\t {tax_amount}')\n",
    "print(f'Total : \\t {total:.2f}')\n",
    "\n"
   ]
  },
  {
   "cell_type": "code",
   "execution_count": 101,
   "id": "bc344e37",
   "metadata": {},
   "outputs": [
    {
     "name": "stdout",
     "output_type": "stream",
     "text": [
      "----------- Mohamed Receipt -----------\n",
      "Item : \t Books\n",
      "Quantity : \t 10\n",
      "Item Price :\t 50.0\n",
      "SubTotal : \t 500.0\n",
      "Tax : \t5%\n",
      "Tax Amount : \t 25.0\n",
      "Total : \t 525\n"
     ]
    }
   ],
   "source": [
    "# Receipt\n",
    "print(f\"----------- {name} Receipt -----------\")\n",
    "print(f\"Item : \\t {item_name}\")\n",
    "print(f\"Quantity : \\t {item_quantity}\")\n",
    "print(f'Item Price :\\t {item_price}')\n",
    "print(f'SubTotal : \\t {subtotal}')\n",
    "print(f'Tax : \\t{tax_rate:.0%}')\n",
    "print(f'Tax Amount : \\t {tax_amount}')\n",
    "print(f'Total : \\t {total:.0f}')\n",
    "\n"
   ]
  },
  {
   "cell_type": "code",
   "execution_count": null,
   "id": "e163e32e",
   "metadata": {},
   "outputs": [],
   "source": []
  },
  {
   "cell_type": "code",
   "execution_count": 112,
   "id": "a85c905a",
   "metadata": {},
   "outputs": [],
   "source": [
    "x= 10\n",
    "y = 3"
   ]
  },
  {
   "cell_type": "code",
   "execution_count": 103,
   "id": "8eb453c0",
   "metadata": {},
   "outputs": [
    {
     "data": {
      "text/plain": [
       "13"
      ]
     },
     "execution_count": 103,
     "metadata": {},
     "output_type": "execute_result"
    }
   ],
   "source": [
    "x + y"
   ]
  },
  {
   "cell_type": "code",
   "execution_count": 104,
   "id": "6b7f3de4",
   "metadata": {},
   "outputs": [
    {
     "data": {
      "text/plain": [
       "-3"
      ]
     },
     "execution_count": 104,
     "metadata": {},
     "output_type": "execute_result"
    }
   ],
   "source": [
    "x - y"
   ]
  },
  {
   "cell_type": "code",
   "execution_count": 105,
   "id": "edefc9fe",
   "metadata": {},
   "outputs": [
    {
     "data": {
      "text/plain": [
       "40"
      ]
     },
     "execution_count": 105,
     "metadata": {},
     "output_type": "execute_result"
    }
   ],
   "source": [
    "x * y"
   ]
  },
  {
   "cell_type": "code",
   "execution_count": 106,
   "id": "657bf928",
   "metadata": {},
   "outputs": [
    {
     "data": {
      "text/plain": [
       "0.625"
      ]
     },
     "execution_count": 106,
     "metadata": {},
     "output_type": "execute_result"
    }
   ],
   "source": [
    "x /y"
   ]
  },
  {
   "cell_type": "code",
   "execution_count": 113,
   "id": "4f22494f",
   "metadata": {},
   "outputs": [
    {
     "data": {
      "text/plain": [
       "1"
      ]
     },
     "execution_count": 113,
     "metadata": {},
     "output_type": "execute_result"
    }
   ],
   "source": [
    "x % y"
   ]
  },
  {
   "cell_type": "code",
   "execution_count": 114,
   "id": "987dfd97",
   "metadata": {},
   "outputs": [
    {
     "data": {
      "text/plain": [
       "3"
      ]
     },
     "execution_count": 114,
     "metadata": {},
     "output_type": "execute_result"
    }
   ],
   "source": [
    "x // y"
   ]
  },
  {
   "cell_type": "code",
   "execution_count": 115,
   "id": "e32def0b",
   "metadata": {},
   "outputs": [
    {
     "data": {
      "text/plain": [
       "1000"
      ]
     },
     "execution_count": 115,
     "metadata": {},
     "output_type": "execute_result"
    }
   ],
   "source": [
    "x ** y "
   ]
  },
  {
   "cell_type": "code",
   "execution_count": 117,
   "id": "015ebeac",
   "metadata": {},
   "outputs": [],
   "source": [
    "x= 10\n",
    "y = 3"
   ]
  },
  {
   "cell_type": "code",
   "execution_count": 118,
   "id": "0f61874f",
   "metadata": {},
   "outputs": [
    {
     "data": {
      "text/plain": [
       "False"
      ]
     },
     "execution_count": 118,
     "metadata": {},
     "output_type": "execute_result"
    }
   ],
   "source": [
    "x == y "
   ]
  },
  {
   "cell_type": "code",
   "execution_count": 119,
   "id": "3a49f424",
   "metadata": {},
   "outputs": [
    {
     "data": {
      "text/plain": [
       "True"
      ]
     },
     "execution_count": 119,
     "metadata": {},
     "output_type": "execute_result"
    }
   ],
   "source": [
    "x != y"
   ]
  },
  {
   "cell_type": "code",
   "execution_count": 120,
   "id": "e900090b",
   "metadata": {},
   "outputs": [
    {
     "data": {
      "text/plain": [
       "True"
      ]
     },
     "execution_count": 120,
     "metadata": {},
     "output_type": "execute_result"
    }
   ],
   "source": [
    "x > y "
   ]
  },
  {
   "cell_type": "code",
   "execution_count": 121,
   "id": "a1678829",
   "metadata": {},
   "outputs": [
    {
     "data": {
      "text/plain": [
       "False"
      ]
     },
     "execution_count": 121,
     "metadata": {},
     "output_type": "execute_result"
    }
   ],
   "source": [
    "x < y"
   ]
  },
  {
   "cell_type": "code",
   "execution_count": 122,
   "id": "30040daf",
   "metadata": {},
   "outputs": [
    {
     "data": {
      "text/plain": [
       "True"
      ]
     },
     "execution_count": 122,
     "metadata": {},
     "output_type": "execute_result"
    }
   ],
   "source": [
    "x >= y"
   ]
  },
  {
   "cell_type": "code",
   "execution_count": 123,
   "id": "567d9500",
   "metadata": {},
   "outputs": [
    {
     "data": {
      "text/plain": [
       "False"
      ]
     },
     "execution_count": 123,
     "metadata": {},
     "output_type": "execute_result"
    }
   ],
   "source": [
    "x <= y"
   ]
  },
  {
   "cell_type": "code",
   "execution_count": 129,
   "id": "c671737f",
   "metadata": {},
   "outputs": [
    {
     "name": "stdout",
     "output_type": "stream",
     "text": [
      "it's a Tie\n"
     ]
    }
   ],
   "source": [
    "if x >= y :\n",
    "    print(\"it's a Tie\")\n",
    "elif x != y :\n",
    "    print('dsad')\n",
    "else :\n",
    "    print('no x')"
   ]
  },
  {
   "cell_type": "code",
   "execution_count": 134,
   "id": "3c4c0e24",
   "metadata": {},
   "outputs": [],
   "source": [
    "x = 5 \n",
    "y = 10.5\n",
    "z = '10.5'\n",
    "w = True"
   ]
  },
  {
   "cell_type": "code",
   "execution_count": 131,
   "id": "f8069afe",
   "metadata": {},
   "outputs": [
    {
     "data": {
      "text/plain": [
       "True"
      ]
     },
     "execution_count": 131,
     "metadata": {},
     "output_type": "execute_result"
    }
   ],
   "source": [
    "bool(z)"
   ]
  },
  {
   "cell_type": "code",
   "execution_count": 132,
   "id": "8c58b91e",
   "metadata": {},
   "outputs": [
    {
     "data": {
      "text/plain": [
       "5.0"
      ]
     },
     "execution_count": 132,
     "metadata": {},
     "output_type": "execute_result"
    }
   ],
   "source": [
    "float(x)"
   ]
  },
  {
   "cell_type": "code",
   "execution_count": 133,
   "id": "de61d276",
   "metadata": {},
   "outputs": [
    {
     "data": {
      "text/plain": [
       "10"
      ]
     },
     "execution_count": 133,
     "metadata": {},
     "output_type": "execute_result"
    }
   ],
   "source": [
    "int(y)"
   ]
  },
  {
   "cell_type": "code",
   "execution_count": 137,
   "id": "d4a4e7d6",
   "metadata": {},
   "outputs": [
    {
     "data": {
      "text/plain": [
       "10"
      ]
     },
     "execution_count": 137,
     "metadata": {},
     "output_type": "execute_result"
    }
   ],
   "source": [
    "int(float(z))"
   ]
  },
  {
   "cell_type": "code",
   "execution_count": 138,
   "id": "c8b6d431",
   "metadata": {},
   "outputs": [
    {
     "data": {
      "text/plain": [
       "1"
      ]
     },
     "execution_count": 138,
     "metadata": {},
     "output_type": "execute_result"
    }
   ],
   "source": [
    "int(w)"
   ]
  },
  {
   "cell_type": "code",
   "execution_count": 139,
   "id": "7845bc44",
   "metadata": {},
   "outputs": [
    {
     "data": {
      "text/plain": [
       "1.0"
      ]
     },
     "execution_count": 139,
     "metadata": {},
     "output_type": "execute_result"
    }
   ],
   "source": [
    "float(w)"
   ]
  },
  {
   "cell_type": "code",
   "execution_count": 140,
   "id": "4f29f737",
   "metadata": {},
   "outputs": [
    {
     "data": {
      "text/plain": [
       "'True'"
      ]
     },
     "execution_count": 140,
     "metadata": {},
     "output_type": "execute_result"
    }
   ],
   "source": [
    "str(w)"
   ]
  },
  {
   "cell_type": "code",
   "execution_count": 148,
   "id": "1cefc75b",
   "metadata": {},
   "outputs": [
    {
     "name": "stdout",
     "output_type": "stream",
     "text": [
      "2\n",
      "4\n",
      "6\n",
      "8\n",
      "10\n",
      "12\n",
      "14\n",
      "16\n",
      "18\n",
      "14\n"
     ]
    }
   ],
   "source": [
    "numbers = [1,2,3,4,5,6,7,8,9,7]\n",
    "for number in numbers :\n",
    "    #number = number * number\n",
    "    number += number\n",
    "    print(number)"
   ]
  },
  {
   "cell_type": "code",
   "execution_count": 154,
   "id": "e906fb73",
   "metadata": {},
   "outputs": [
    {
     "data": {
      "text/plain": [
       "'Mhm'"
      ]
     },
     "execution_count": 154,
     "metadata": {},
     "output_type": "execute_result"
    }
   ],
   "source": [
    "name = \"Mohamed\"\n",
    "name[0:5:2]"
   ]
  },
  {
   "cell_type": "code",
   "execution_count": 156,
   "id": "f26ded25",
   "metadata": {},
   "outputs": [
    {
     "name": "stdout",
     "output_type": "stream",
     "text": [
      "1\n",
      "2\n",
      "3\n",
      "4\n",
      "5\n",
      "6\n",
      "7\n",
      "8\n",
      "9\n",
      "10\n"
     ]
    }
   ],
   "source": [
    "for i in range(1,n+1):\n",
    "    print(i)"
   ]
  },
  {
   "cell_type": "code",
   "execution_count": null,
   "id": "c4317bb0",
   "metadata": {},
   "outputs": [
    {
     "name": "stdout",
     "output_type": "stream",
     "text": [
      "Please Enter 1st number\n",
      "10\n",
      "Please Enter 2nd number\n",
      "0\n",
      "Please Enter an Operation ex: +,-,*,/ , 'q' for Quit \n",
      "/\n",
      "ERROR : You can't devide by 0\n",
      "Please Enter 2nd number\n",
      "2\n",
      "5.0\n",
      "5.0\n"
     ]
    }
   ],
   "source": [
    "while True :    \n",
    "    x = float(input(\"Please Enter 1st number\\n\"))\n",
    "    y = float(input(\"Please Enter 2nd number\\n\")) \n",
    "    op = input(\"Please Enter an Operation ex: +,-,*,/ , 'q' for Quit \\n\" )\n",
    "    \n",
    "    if op == '+':\n",
    "        print(x+y)\n",
    "    elif op == '*':\n",
    "        print(x*y)\n",
    "    elif op == '-':\n",
    "        print(x-y)\n",
    "    elif op == '/':\n",
    "        if y == 0 :\n",
    "            print(\"ERROR : You can't devide by 0\")\n",
    "            y = float(input(\"Please Enter 2nd number\\n\"))\n",
    "            print(x/y)\n",
    "        print(x/y)\n",
    "    elif op == 'q' : \n",
    "        break"
   ]
  },
  {
   "cell_type": "code",
   "execution_count": null,
   "id": "015acab0",
   "metadata": {},
   "outputs": [],
   "source": []
  },
  {
   "cell_type": "code",
   "execution_count": 2,
   "id": "bb01e150",
   "metadata": {},
   "outputs": [
    {
     "ename": "ZeroDivisionError",
     "evalue": "division by zero",
     "output_type": "error",
     "traceback": [
      "\u001b[1;31m---------------------------------------------------------------------------\u001b[0m",
      "\u001b[1;31mZeroDivisionError\u001b[0m                         Traceback (most recent call last)",
      "Cell \u001b[1;32mIn[2], line 1\u001b[0m\n\u001b[1;32m----> 1\u001b[0m \u001b[38;5;241;43m1000\u001b[39;49m\u001b[38;5;241;43m/\u001b[39;49m\u001b[38;5;241;43m0\u001b[39;49m\n",
      "\u001b[1;31mZeroDivisionError\u001b[0m: division by zero"
     ]
    }
   ],
   "source": [
    "1000/0"
   ]
  },
  {
   "cell_type": "code",
   "execution_count": null,
   "id": "d3907a3e",
   "metadata": {},
   "outputs": [],
   "source": []
  }
 ],
 "metadata": {
  "kernelspec": {
   "display_name": "Python 3 (ipykernel)",
   "language": "python",
   "name": "python3"
  },
  "language_info": {
   "codemirror_mode": {
    "name": "ipython",
    "version": 3
   },
   "file_extension": ".py",
   "mimetype": "text/x-python",
   "name": "python",
   "nbconvert_exporter": "python",
   "pygments_lexer": "ipython3",
   "version": "3.9.15"
  }
 },
 "nbformat": 4,
 "nbformat_minor": 5
}
