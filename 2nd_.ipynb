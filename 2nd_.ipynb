{
 "cells": [
  {
   "cell_type": "code",
   "execution_count": 1,
   "id": "8e6a8a7b",
   "metadata": {},
   "outputs": [],
   "source": [
    "x= 5 \n",
    "y = 4\n",
    "z = 7 \n"
   ]
  },
  {
   "cell_type": "code",
   "execution_count": 2,
   "id": "0e52acd4",
   "metadata": {},
   "outputs": [],
   "source": [
    "x,y,z = 5,4,7 "
   ]
  },
  {
   "cell_type": "code",
   "execution_count": null,
   "id": "9941c32d",
   "metadata": {},
   "outputs": [],
   "source": [
    "#dfjkslgah\n",
    "\"\"\" \n",
    "This is A comment \n",
    "\"\"\"\n",
    "if x > y : # jkhasfdkjh\n",
    "    print(\"Hello\")\n",
    "    "
   ]
  },
  {
   "cell_type": "code",
   "execution_count": 3,
   "id": "5049bd2e",
   "metadata": {},
   "outputs": [],
   "source": [
    "import math "
   ]
  },
  {
   "cell_type": "code",
   "execution_count": 4,
   "id": "5aedf896",
   "metadata": {},
   "outputs": [
    {
     "data": {
      "text/plain": [
       "3.141592653589793"
      ]
     },
     "execution_count": 4,
     "metadata": {},
     "output_type": "execute_result"
    }
   ],
   "source": [
    "math.pi"
   ]
  },
  {
   "cell_type": "code",
   "execution_count": 7,
   "id": "aefeab68",
   "metadata": {},
   "outputs": [],
   "source": [
    "import random as r"
   ]
  },
  {
   "cell_type": "code",
   "execution_count": 14,
   "id": "0f78b045",
   "metadata": {},
   "outputs": [
    {
     "data": {
      "text/plain": [
       "18"
      ]
     },
     "execution_count": 14,
     "metadata": {},
     "output_type": "execute_result"
    }
   ],
   "source": [
    "r.randint(1,50)"
   ]
  },
  {
   "cell_type": "code",
   "execution_count": 39,
   "id": "eefa2716",
   "metadata": {},
   "outputs": [
    {
     "name": "stdout",
     "output_type": "stream",
     "text": [
      "1st number \n",
      "5\n",
      "2nd 10\n"
     ]
    },
    {
     "data": {
      "text/plain": [
       "15.0"
      ]
     },
     "execution_count": 39,
     "metadata": {},
     "output_type": "execute_result"
    }
   ],
   "source": [
    "x = float(input(\"1st number \\n\"))"
   ]
  },
  {
   "cell_type": "code",
   "execution_count": 38,
   "id": "c89ea5d4",
   "metadata": {},
   "outputs": [
    {
     "name": "stdout",
     "output_type": "stream",
     "text": [
      "2nd 5\n"
     ]
    },
    {
     "data": {
      "text/plain": [
       "5.0"
      ]
     },
     "execution_count": 38,
     "metadata": {},
     "output_type": "execute_result"
    }
   ],
   "source": [
    "y = float(input(\"2nd \"))"
   ]
  },
  {
   "cell_type": "code",
   "execution_count": 34,
   "id": "1332320a",
   "metadata": {},
   "outputs": [
    {
     "name": "stdout",
     "output_type": "stream",
     "text": [
      "Your Result is : 15.0\n"
     ]
    }
   ],
   "source": [
    "print(f\"Your Result is : {x+y}\") "
   ]
  },
  {
   "cell_type": "code",
   "execution_count": 36,
   "id": "f98801ff",
   "metadata": {},
   "outputs": [
    {
     "data": {
      "text/plain": [
       "float"
      ]
     },
     "execution_count": 36,
     "metadata": {},
     "output_type": "execute_result"
    }
   ],
   "source": [
    "type(x)"
   ]
  },
  {
   "cell_type": "code",
   "execution_count": 44,
   "id": "8f742e66",
   "metadata": {},
   "outputs": [],
   "source": [
    "_1st_number = 5\n"
   ]
  },
  {
   "cell_type": "code",
   "execution_count": 43,
   "id": "ae2d6c8f",
   "metadata": {},
   "outputs": [],
   "source": [
    "_1st_number = 10"
   ]
  },
  {
   "cell_type": "code",
   "execution_count": 46,
   "id": "5d3eb376",
   "metadata": {},
   "outputs": [
    {
     "name": "stdout",
     "output_type": "stream",
     "text": [
      "10.0\n",
      "5.0\n"
     ]
    }
   ],
   "source": [
    "print(x)\n",
    "print(y)"
   ]
  },
  {
   "cell_type": "code",
   "execution_count": 45,
   "id": "f93e26cf",
   "metadata": {},
   "outputs": [
    {
     "data": {
      "text/plain": [
       "0.0"
      ]
     },
     "execution_count": 45,
     "metadata": {},
     "output_type": "execute_result"
    }
   ],
   "source": [
    "x % y"
   ]
  },
  {
   "cell_type": "code",
   "execution_count": 47,
   "id": "236425ad",
   "metadata": {},
   "outputs": [
    {
     "data": {
      "text/plain": [
       "2.0"
      ]
     },
     "execution_count": 47,
     "metadata": {},
     "output_type": "execute_result"
    }
   ],
   "source": [
    "x // y"
   ]
  },
  {
   "cell_type": "code",
   "execution_count": 53,
   "id": "f688089f",
   "metadata": {},
   "outputs": [
    {
     "data": {
      "text/plain": [
       "False"
      ]
     },
     "execution_count": 53,
     "metadata": {},
     "output_type": "execute_result"
    }
   ],
   "source": [
    "not( x >= y )\n"
   ]
  },
  {
   "cell_type": "code",
   "execution_count": 50,
   "id": "ac343706",
   "metadata": {},
   "outputs": [
    {
     "data": {
      "text/plain": [
       "False"
      ]
     },
     "execution_count": 50,
     "metadata": {},
     "output_type": "execute_result"
    }
   ],
   "source": [
    "x <= y\n"
   ]
  },
  {
   "cell_type": "code",
   "execution_count": 57,
   "id": "a66f858d",
   "metadata": {},
   "outputs": [],
   "source": [
    "l = [1,2,3,4,5]\n"
   ]
  },
  {
   "cell_type": "code",
   "execution_count": 59,
   "id": "f910b921",
   "metadata": {},
   "outputs": [
    {
     "data": {
      "text/plain": [
       "False"
      ]
     },
     "execution_count": 59,
     "metadata": {},
     "output_type": "execute_result"
    }
   ],
   "source": [
    "y not in l"
   ]
  },
  {
   "cell_type": "code",
   "execution_count": 55,
   "id": "4b613433",
   "metadata": {},
   "outputs": [
    {
     "data": {
      "text/plain": [
       "5.0"
      ]
     },
     "execution_count": 55,
     "metadata": {},
     "output_type": "execute_result"
    }
   ],
   "source": [
    "y"
   ]
  },
  {
   "cell_type": "code",
   "execution_count": 60,
   "id": "137d7819",
   "metadata": {},
   "outputs": [
    {
     "data": {
      "text/plain": [
       "10.0"
      ]
     },
     "execution_count": 60,
     "metadata": {},
     "output_type": "execute_result"
    }
   ],
   "source": [
    "x "
   ]
  },
  {
   "cell_type": "code",
   "execution_count": 62,
   "id": "e8d4d609",
   "metadata": {},
   "outputs": [
    {
     "data": {
      "text/plain": [
       "float"
      ]
     },
     "execution_count": 62,
     "metadata": {},
     "output_type": "execute_result"
    }
   ],
   "source": [
    "type(x)"
   ]
  },
  {
   "cell_type": "code",
   "execution_count": 63,
   "id": "c0dc7a72",
   "metadata": {},
   "outputs": [
    {
     "data": {
      "text/plain": [
       "10"
      ]
     },
     "execution_count": 63,
     "metadata": {},
     "output_type": "execute_result"
    }
   ],
   "source": [
    "int(x)"
   ]
  },
  {
   "cell_type": "code",
   "execution_count": 64,
   "id": "731a289c",
   "metadata": {},
   "outputs": [
    {
     "data": {
      "text/plain": [
       "'10.0'"
      ]
     },
     "execution_count": 64,
     "metadata": {},
     "output_type": "execute_result"
    }
   ],
   "source": [
    "str(x)"
   ]
  },
  {
   "cell_type": "code",
   "execution_count": 65,
   "id": "8617ea38",
   "metadata": {},
   "outputs": [
    {
     "data": {
      "text/plain": [
       "True"
      ]
     },
     "execution_count": 65,
     "metadata": {},
     "output_type": "execute_result"
    }
   ],
   "source": [
    "bool(x)"
   ]
  },
  {
   "cell_type": "code",
   "execution_count": 72,
   "id": "9fb43ddf",
   "metadata": {},
   "outputs": [],
   "source": [
    "x = -1"
   ]
  },
  {
   "cell_type": "code",
   "execution_count": 73,
   "id": "3d626bf7",
   "metadata": {},
   "outputs": [
    {
     "data": {
      "text/plain": [
       "True"
      ]
     },
     "execution_count": 73,
     "metadata": {},
     "output_type": "execute_result"
    }
   ],
   "source": [
    "bool(x)"
   ]
  },
  {
   "cell_type": "code",
   "execution_count": 98,
   "id": "7bd0331e",
   "metadata": {},
   "outputs": [
    {
     "data": {
      "text/plain": [
       "'mohamed'"
      ]
     },
     "execution_count": 98,
     "metadata": {},
     "output_type": "execute_result"
    }
   ],
   "source": [
    "x.lower()"
   ]
  },
  {
   "cell_type": "code",
   "execution_count": 99,
   "id": "e03db1e4",
   "metadata": {},
   "outputs": [
    {
     "data": {
      "text/plain": [
       "'MOHAMED'"
      ]
     },
     "execution_count": 99,
     "metadata": {},
     "output_type": "execute_result"
    }
   ],
   "source": [
    "x.upper()"
   ]
  },
  {
   "cell_type": "code",
   "execution_count": 107,
   "id": "4b3aed67",
   "metadata": {},
   "outputs": [
    {
     "data": {
      "text/plain": [
       "'Mohamed'"
      ]
     },
     "execution_count": 107,
     "metadata": {},
     "output_type": "execute_result"
    }
   ],
   "source": [
    "x.capitalize()"
   ]
  },
  {
   "cell_type": "code",
   "execution_count": 109,
   "id": "c39ebc3a",
   "metadata": {},
   "outputs": [
    {
     "data": {
      "text/plain": [
       "5"
      ]
     },
     "execution_count": 109,
     "metadata": {},
     "output_type": "execute_result"
    }
   ],
   "source": [
    "x.index('e')"
   ]
  },
  {
   "cell_type": "code",
   "execution_count": 110,
   "id": "7dcc20e3",
   "metadata": {},
   "outputs": [
    {
     "data": {
      "text/plain": [
       "7"
      ]
     },
     "execution_count": 110,
     "metadata": {},
     "output_type": "execute_result"
    }
   ],
   "source": [
    "len(x)"
   ]
  },
  {
   "cell_type": "code",
   "execution_count": 112,
   "id": "03c1421e",
   "metadata": {},
   "outputs": [
    {
     "data": {
      "text/plain": [
       "'d'"
      ]
     },
     "execution_count": 112,
     "metadata": {},
     "output_type": "execute_result"
    }
   ],
   "source": [
    "x[6]"
   ]
  },
  {
   "cell_type": "code",
   "execution_count": 132,
   "id": "d3c1802d",
   "metadata": {},
   "outputs": [],
   "source": [
    "x = \"MOhaMed\"\n",
    "y = \"ALI\"\n",
    "z = 15"
   ]
  },
  {
   "cell_type": "code",
   "execution_count": 117,
   "id": "25a77872",
   "metadata": {},
   "outputs": [
    {
     "name": "stdout",
     "output_type": "stream",
     "text": [
      "********************\n"
     ]
    }
   ],
   "source": [
    "print(\"*\" * 20)"
   ]
  },
  {
   "cell_type": "code",
   "execution_count": 133,
   "id": "d1d38c6d",
   "metadata": {},
   "outputs": [
    {
     "name": "stdout",
     "output_type": "stream",
     "text": [
      "Hello Mohamed\n",
      "You Can't\n"
     ]
    }
   ],
   "source": [
    "if x.lower() =='mohamed' :\n",
    "    print('Hello Mohamed')\n",
    "    if z  >= 16:\n",
    "        print(\"Yes You can \")\n",
    "    else :\n",
    "        print(\"You Can't\")\n",
    "elif y.lower() == 'ali':\n",
    "    print(\"Hello Ali !\")\n",
    "else:\n",
    "    print( \"Welcome !\")"
   ]
  },
  {
   "cell_type": "code",
   "execution_count": 123,
   "id": "03d57baa",
   "metadata": {},
   "outputs": [
    {
     "data": {
      "text/plain": [
       "True"
      ]
     },
     "execution_count": 123,
     "metadata": {},
     "output_type": "execute_result"
    }
   ],
   "source": [
    "x.lower() =='mohamed'"
   ]
  },
  {
   "cell_type": "code",
   "execution_count": null,
   "id": "99ca0013",
   "metadata": {},
   "outputs": [],
   "source": []
  },
  {
   "cell_type": "code",
   "execution_count": 141,
   "id": "85d78b8b",
   "metadata": {},
   "outputs": [],
   "source": [
    "i = 1 #> 1st loop > 2\n",
    "summ = 0 #1st loop > 1\n",
    "while i <= 10 :\n",
    "    summ += i # summ = summ +i\n",
    "    i+=1  # i = i+1\n",
    "   \n",
    "\n"
   ]
  },
  {
   "cell_type": "code",
   "execution_count": 140,
   "id": "060d1b52",
   "metadata": {},
   "outputs": [
    {
     "name": "stdout",
     "output_type": "stream",
     "text": [
      "10\n",
      "45\n"
     ]
    }
   ],
   "source": [
    "print(i)\n",
    "print(summ)"
   ]
  },
  {
   "cell_type": "code",
   "execution_count": 147,
   "id": "2fda850f",
   "metadata": {},
   "outputs": [],
   "source": [
    "summ = 0\n",
    "for i in range(11) :\n",
    "    summ += i"
   ]
  },
  {
   "cell_type": "code",
   "execution_count": null,
   "id": "9df0b1dd",
   "metadata": {},
   "outputs": [],
   "source": []
  },
  {
   "cell_type": "code",
   "execution_count": 148,
   "id": "4c50eebf",
   "metadata": {},
   "outputs": [
    {
     "data": {
      "text/plain": [
       "10"
      ]
     },
     "execution_count": 148,
     "metadata": {},
     "output_type": "execute_result"
    }
   ],
   "source": [
    "i"
   ]
  },
  {
   "cell_type": "code",
   "execution_count": null,
   "id": "9d1f0af3",
   "metadata": {},
   "outputs": [],
   "source": [
    "5!\n",
    "5*4*3*2*1"
   ]
  },
  {
   "cell_type": "code",
   "execution_count": 149,
   "id": "9bfa9cf0",
   "metadata": {},
   "outputs": [
    {
     "name": "stdout",
     "output_type": "stream",
     "text": [
      "Enter a Number:\n",
      "8\n"
     ]
    }
   ],
   "source": []
  },
  {
   "cell_type": "code",
   "execution_count": 162,
   "id": "5686e24f",
   "metadata": {},
   "outputs": [
    {
     "name": "stdout",
     "output_type": "stream",
     "text": [
      "Enter a Number:\n",
      "5\n",
      "Factorial of 1 is 1\n",
      "Factorial of 2 is 2\n",
      "Factorial of 3 is 6\n",
      "Factorial of 4 is 24\n",
      "Factorial of 5 is 120\n",
      "yes to continue no to breakno\n"
     ]
    }
   ],
   "source": [
    "while True:\n",
    "    fact = 1\n",
    "    x = int(input(\"Enter a Number:\\n\"))\n",
    "    if x <0 :\n",
    "        print(\"No Negative numbers\")\n",
    "    elif x == 0 :\n",
    "        print(\"Factorial 0 is 1\")\n",
    "    elif x > 0:\n",
    "        for i in range(1,x+1):\n",
    "            fact *= i # fact = fact*i\n",
    "            print(f\"Factorial of {i} is {fact}\")\n",
    "    again = input(\"yes to continue no to break\")\n",
    "    if again == 'no':\n",
    "        break\n",
    "    elif again == 'yes':\n",
    "        x = int(input(\"Enter a Number:\\n\"))\n",
    "        if x <0 :\n",
    "            print(\"No Negative numbers\")\n",
    "        elif x == 0 :\n",
    "            print(\"Factorial 0 is 1\")\n",
    "        elif x > 0:\n",
    "            for i in range(1,x+1):\n",
    "                fact *= i # fact = fact*i\n",
    "                print(f\"Factorial of {i} is {fact}\")\n",
    "\n",
    "   "
   ]
  },
  {
   "cell_type": "code",
   "execution_count": 163,
   "id": "cf24473d",
   "metadata": {},
   "outputs": [
    {
     "data": {
      "text/plain": [
       "120"
      ]
     },
     "execution_count": 163,
     "metadata": {},
     "output_type": "execute_result"
    }
   ],
   "source": [
    "fact"
   ]
  },
  {
   "cell_type": "code",
   "execution_count": 171,
   "id": "69f9bb68",
   "metadata": {},
   "outputs": [
    {
     "name": "stdout",
     "output_type": "stream",
     "text": [
      "Yes to Start no to Break\n",
      "yes\n",
      "Enter a Number:\n",
      "0\n",
      "Factorial 0 is 1\n",
      "Yes to Start no to Break\n",
      "yes\n",
      "Enter a Number:\n",
      "-1\n",
      "No Negative numbers\n",
      "Yes to Start no to Break\n",
      "yes\n",
      "Enter a Number:\n",
      "5\n",
      "Factorial of 1 is 1\n",
      "Factorial of 2 is 2\n",
      "Factorial of 3 is 6\n",
      "Factorial of 4 is 24\n",
      "Factorial of 5 is 120\n"
     ]
    },
    {
     "ename": "KeyboardInterrupt",
     "evalue": "Interrupted by user",
     "output_type": "error",
     "traceback": [
      "\u001b[1;31m---------------------------------------------------------------------------\u001b[0m",
      "\u001b[1;31mKeyboardInterrupt\u001b[0m                         Traceback (most recent call last)",
      "\u001b[1;32m~\\AppData\\Local\\Temp\\ipykernel_16876\\22239803.py\u001b[0m in \u001b[0;36m<module>\u001b[1;34m\u001b[0m\n\u001b[0;32m      1\u001b[0m \u001b[1;32mwhile\u001b[0m \u001b[1;32mTrue\u001b[0m \u001b[1;33m:\u001b[0m\u001b[1;33m\u001b[0m\u001b[1;33m\u001b[0m\u001b[0m\n\u001b[0;32m      2\u001b[0m     \u001b[0mfact\u001b[0m \u001b[1;33m=\u001b[0m \u001b[1;36m1\u001b[0m\u001b[1;33m\u001b[0m\u001b[1;33m\u001b[0m\u001b[0m\n\u001b[1;32m----> 3\u001b[1;33m     \u001b[0mstart\u001b[0m \u001b[1;33m=\u001b[0m \u001b[0minput\u001b[0m\u001b[1;33m(\u001b[0m\u001b[1;34m\"Yes to Start no to Break\\n\"\u001b[0m\u001b[1;33m)\u001b[0m\u001b[1;33m.\u001b[0m\u001b[0mlower\u001b[0m\u001b[1;33m(\u001b[0m\u001b[1;33m)\u001b[0m\u001b[1;33m\u001b[0m\u001b[1;33m\u001b[0m\u001b[0m\n\u001b[0m\u001b[0;32m      4\u001b[0m     \u001b[1;32mif\u001b[0m \u001b[0mstart\u001b[0m \u001b[1;33m==\u001b[0m \u001b[1;34m'yes'\u001b[0m\u001b[1;33m:\u001b[0m\u001b[1;33m\u001b[0m\u001b[1;33m\u001b[0m\u001b[0m\n\u001b[0;32m      5\u001b[0m         \u001b[0mx\u001b[0m \u001b[1;33m=\u001b[0m \u001b[0mint\u001b[0m\u001b[1;33m(\u001b[0m\u001b[0minput\u001b[0m\u001b[1;33m(\u001b[0m\u001b[1;34m\"Enter a Number:\\n\"\u001b[0m\u001b[1;33m)\u001b[0m\u001b[1;33m)\u001b[0m\u001b[1;33m\u001b[0m\u001b[1;33m\u001b[0m\u001b[0m\n",
      "\u001b[1;32m~\\anaconda3\\lib\\site-packages\\ipykernel\\kernelbase.py\u001b[0m in \u001b[0;36mraw_input\u001b[1;34m(self, prompt)\u001b[0m\n\u001b[0;32m   1175\u001b[0m                 \u001b[1;34m\"raw_input was called, but this frontend does not support input requests.\"\u001b[0m\u001b[1;33m\u001b[0m\u001b[1;33m\u001b[0m\u001b[0m\n\u001b[0;32m   1176\u001b[0m             )\n\u001b[1;32m-> 1177\u001b[1;33m         return self._input_request(\n\u001b[0m\u001b[0;32m   1178\u001b[0m             \u001b[0mstr\u001b[0m\u001b[1;33m(\u001b[0m\u001b[0mprompt\u001b[0m\u001b[1;33m)\u001b[0m\u001b[1;33m,\u001b[0m\u001b[1;33m\u001b[0m\u001b[1;33m\u001b[0m\u001b[0m\n\u001b[0;32m   1179\u001b[0m             \u001b[0mself\u001b[0m\u001b[1;33m.\u001b[0m\u001b[0m_parent_ident\u001b[0m\u001b[1;33m[\u001b[0m\u001b[1;34m\"shell\"\u001b[0m\u001b[1;33m]\u001b[0m\u001b[1;33m,\u001b[0m\u001b[1;33m\u001b[0m\u001b[1;33m\u001b[0m\u001b[0m\n",
      "\u001b[1;32m~\\anaconda3\\lib\\site-packages\\ipykernel\\kernelbase.py\u001b[0m in \u001b[0;36m_input_request\u001b[1;34m(self, prompt, ident, parent, password)\u001b[0m\n\u001b[0;32m   1217\u001b[0m             \u001b[1;32mexcept\u001b[0m \u001b[0mKeyboardInterrupt\u001b[0m\u001b[1;33m:\u001b[0m\u001b[1;33m\u001b[0m\u001b[1;33m\u001b[0m\u001b[0m\n\u001b[0;32m   1218\u001b[0m                 \u001b[1;31m# re-raise KeyboardInterrupt, to truncate traceback\u001b[0m\u001b[1;33m\u001b[0m\u001b[1;33m\u001b[0m\u001b[0m\n\u001b[1;32m-> 1219\u001b[1;33m                 \u001b[1;32mraise\u001b[0m \u001b[0mKeyboardInterrupt\u001b[0m\u001b[1;33m(\u001b[0m\u001b[1;34m\"Interrupted by user\"\u001b[0m\u001b[1;33m)\u001b[0m \u001b[1;32mfrom\u001b[0m \u001b[1;32mNone\u001b[0m\u001b[1;33m\u001b[0m\u001b[1;33m\u001b[0m\u001b[0m\n\u001b[0m\u001b[0;32m   1220\u001b[0m             \u001b[1;32mexcept\u001b[0m \u001b[0mException\u001b[0m\u001b[1;33m:\u001b[0m\u001b[1;33m\u001b[0m\u001b[1;33m\u001b[0m\u001b[0m\n\u001b[0;32m   1221\u001b[0m                 \u001b[0mself\u001b[0m\u001b[1;33m.\u001b[0m\u001b[0mlog\u001b[0m\u001b[1;33m.\u001b[0m\u001b[0mwarning\u001b[0m\u001b[1;33m(\u001b[0m\u001b[1;34m\"Invalid Message:\"\u001b[0m\u001b[1;33m,\u001b[0m \u001b[0mexc_info\u001b[0m\u001b[1;33m=\u001b[0m\u001b[1;32mTrue\u001b[0m\u001b[1;33m)\u001b[0m\u001b[1;33m\u001b[0m\u001b[1;33m\u001b[0m\u001b[0m\n",
      "\u001b[1;31mKeyboardInterrupt\u001b[0m: Interrupted by user"
     ]
    }
   ],
   "source": [
    "while True :\n",
    "    fact = 1\n",
    "    start = input(\"Yes to Start no to Break\\n\").lower()\n",
    "    if start == 'yes':\n",
    "        x = int(input(\"Enter a Number:\\n\"))\n",
    "        if x <0 :\n",
    "            print(\"No Negative numbers\")\n",
    "        elif x == 0 :\n",
    "            print(\"Factorial 0 is 1\")\n",
    "        elif x > 0:\n",
    "            for i in range(1,x+1):\n",
    "                fact *= i # fact = fact*i\n",
    "                print(f\"Factorial of {i} is {fact}\")\n",
    "    elif start == 'no' :\n",
    "        break\n",
    "    else :\n",
    "        print(\"You choosed a Wrong Option!\\n\")\n",
    "        "
   ]
  },
  {
   "cell_type": "markdown",
   "id": "eee415e0",
   "metadata": {},
   "source": [
    "## Question 4\n",
    "\n",
    "### Write a program which will find all such numbers which are divisible by 7 but are not a multiple of 5, between 2000 and 3200 (both included). The numbers obtained should be printed in a sequence on a single line.\n",
    "\n",
    "##### Hints: Consider use range(#begin, #end) method \n",
    "\n",
    "\n",
    "     data type : Numbers \n",
    "     condetion : number % 7 == 0 and number % 5 != 0 \n",
    "     range(2000 , 3201) >> For loop\n",
    "     print(\"number\" , end = \" \" )"
   ]
  },
  {
   "cell_type": "code",
   "execution_count": 184,
   "id": "f03c939c",
   "metadata": {},
   "outputs": [
    {
     "name": "stdout",
     "output_type": "stream",
     "text": [
      "2002 2009 2016 2023 2037 2044 2051 2058 2072 2079 2086 2093 2107 2114 2121 2128 2142 2149 2156 2163 2177 2184 2191 2198 2212 2219 2226 2233 2247 2254 2261 2268 2282 2289 2296 2303 2317 2324 2331 2338 2352 2359 2366 2373 2387 2394 2401 2408 2422 2429 2436 2443 2457 2464 2471 2478 2492 2499 2506 2513 2527 2534 2541 2548 2562 2569 2576 2583 2597 2604 2611 2618 2632 2639 2646 2653 2667 2674 2681 2688 2702 2709 2716 2723 2737 2744 2751 2758 2772 2779 2786 2793 2807 2814 2821 2828 2842 2849 2856 2863 2877 2884 2891 2898 2912 2919 2926 2933 2947 2954 2961 2968 2982 2989 2996 3003 3017 3024 3031 3038 3052 3059 3066 3073 3087 3094 3101 3108 3122 3129 3136 3143 3157 3164 3171 3178 3192 3199 "
     ]
    }
   ],
   "source": [
    "for i in range(2000,3201):\n",
    "    if i % 7 == 0 and i % 5 !=0:\n",
    "        print(i , end = \" \")"
   ]
  },
  {
   "cell_type": "code",
   "execution_count": 187,
   "id": "cfb9e188",
   "metadata": {},
   "outputs": [],
   "source": [
    "x = [i for i in range(2000,3201) if i %7 == 0 and i%5!=0]"
   ]
  },
  {
   "cell_type": "markdown",
   "id": "03bc444d",
   "metadata": {},
   "source": [
    "## Question 2\n",
    "### Write a Python program that accepts an integer (n) and computes the value of n+nn+nnn.\n",
    "\n",
    "#####        The sample value of n is 5.\n",
    "\n",
    "#####        Expected Result: 615 (5+55+555)\n",
    "\n",
    "     user input  >> int (n)\n",
    "     value n + nn + nnn\n",
    "    "
   ]
  },
  {
   "cell_type": "code",
   "execution_count": 179,
   "id": "ce82b417",
   "metadata": {},
   "outputs": [
    {
     "name": "stdout",
     "output_type": "stream",
     "text": [
      "Number :\n",
      "5\n",
      "615\n"
     ]
    }
   ],
   "source": [
    "n = int(input(\"Number :\\n\"))\n",
    "nn = str(n)*2\n",
    "nnn = str(n)*3\n",
    "result = n + int(nn) + int(nnn)\n",
    "print(result)"
   ]
  },
  {
   "cell_type": "markdown",
   "id": "2be41db1",
   "metadata": {},
   "source": [
    "## Question 3\n",
    "### Write a Python program to find whether a given number (accept from the user) is even or odd, and print out an appropriate message to the user.\n",
    "\n",
    "    variable n > User input() int\n",
    "    condition >> even or odd : n % 2 == 0:\n",
    "    "
   ]
  },
  {
   "cell_type": "code",
   "execution_count": 181,
   "id": "b8d9137b",
   "metadata": {},
   "outputs": [
    {
     "name": "stdout",
     "output_type": "stream",
     "text": [
      "Number\n",
      "11\n",
      "11 is an odd number\n"
     ]
    }
   ],
   "source": [
    "n = int(input(\"Number\\n\"))\n",
    "if n % 2 == 0:\n",
    "    print(f\"{n} is an even number\")\n",
    "else :\n",
    "    print(f\"{n} is an odd number\")"
   ]
  },
  {
   "cell_type": "code",
   "execution_count": null,
   "id": "9774b1a8",
   "metadata": {},
   "outputs": [],
   "source": []
  },
  {
   "cell_type": "code",
   "execution_count": null,
   "id": "a47f413d",
   "metadata": {},
   "outputs": [],
   "source": []
  }
 ],
 "metadata": {
  "kernelspec": {
   "display_name": "Python 3 (ipykernel)",
   "language": "python",
   "name": "python3"
  },
  "language_info": {
   "codemirror_mode": {
    "name": "ipython",
    "version": 3
   },
   "file_extension": ".py",
   "mimetype": "text/x-python",
   "name": "python",
   "nbconvert_exporter": "python",
   "pygments_lexer": "ipython3",
   "version": "3.9.13"
  }
 },
 "nbformat": 4,
 "nbformat_minor": 5
}
