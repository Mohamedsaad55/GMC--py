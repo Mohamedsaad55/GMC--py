{
 "cells": [
  {
   "cell_type": "code",
   "execution_count": 1,
   "id": "80165b1c",
   "metadata": {},
   "outputs": [],
   "source": [
    "import os\n",
    "import time \n",
    "import random"
   ]
  },
  {
   "cell_type": "code",
   "execution_count": 2,
   "id": "7202f142",
   "metadata": {},
   "outputs": [],
   "source": [
    "# Function to play again\n",
    "def play_again():\n",
    "    # Variable for input \n",
    "    question = \"Do you want to play again ? yes= y , no = n \\n\"\n",
    "    # user input\n",
    "    play_game = input(question).lower()\n",
    "    while play_game not in [\"y\",\"n\"]:\n",
    "        play_game = input(question).lower()\n",
    "    if play_game == \"n\":\n",
    "        return False \n",
    "    elif play_game == \"y\":\n",
    "        return True  \n",
    "    "
   ]
  },
  {
   "cell_type": "code",
   "execution_count": 26,
   "id": "b8aa7b17",
   "metadata": {
    "scrolled": false
   },
   "outputs": [
    {
     "name": "stdout",
     "output_type": "stream",
     "text": [
      "**************************************************\n",
      "\n",
      "                Welcome to Hangman\n",
      "\n",
      "Please Enter Your name: M\n",
      "Hello M , Wish you luck!\n",
      "Hangman Word: ****** Enter your guess: \n",
      "m\n",
      "   _____ \n",
      "  |      \n",
      "  |      \n",
      "  |      \n",
      "  |      \n",
      "  |      \n",
      "  |      \n",
      "__|__\n",
      "\n",
      "Wrong guess: 4 guesses remaining\n",
      "\n",
      "Hangman Word: ****** Enter your guess: \n",
      "p\n",
      "Hangman Word: p***** Enter your guess: \n",
      "y\n",
      "Hangman Word: y***** Enter your guess: \n",
      "t\n",
      "Hangman Word: t***** Enter your guess: \n",
      "h\n",
      "Hangman Word: h***** Enter your guess: \n",
      "o\n",
      "Hangman Word: o***** Enter your guess: \n",
      "n\n",
      "Hangman Word: n***** Enter your guess: \n",
      "h\n",
      "   _____ \n",
      "  |     | \n",
      "  |     | \n",
      "  |      \n",
      "  |      \n",
      "  |      \n",
      "  |      \n",
      "__|__\n",
      "\n",
      "Wrong guess: 3 guesses remaining\n",
      "\n",
      "Hangman Word: n***** Enter your guess: \n",
      "h\n",
      "   _____ \n",
      "  |     | \n",
      "  |     | \n",
      "  |      \n",
      "  |      \n",
      "  |      \n",
      "  |      \n",
      "__|__\n",
      "\n",
      "Wrong guess: 3 guesses remaining\n",
      "\n",
      "Hangman Word: n***** Enter your guess: \n",
      "h\n",
      "   _____ \n",
      "  |     | \n",
      "  |     | \n",
      "  |      \n",
      "  |      \n",
      "  |      \n",
      "  |      \n",
      "__|__\n",
      "\n",
      "Wrong guess: 3 guesses remaining\n",
      "\n",
      "Hangman Word: n***** Enter your guess: \n",
      "h\n",
      "   _____ \n",
      "  |     | \n",
      "  |     | \n",
      "  |      \n",
      "  |      \n",
      "  |      \n",
      "  |      \n",
      "__|__\n",
      "\n",
      "Wrong guess: 3 guesses remaining\n",
      "\n",
      "Hangman Word: n***** Enter your guess: \n",
      "h\n",
      "   _____ \n",
      "  |     | \n",
      "  |     | \n",
      "  |      \n",
      "  |      \n",
      "  |      \n",
      "  |      \n",
      "__|__\n",
      "\n",
      "Wrong guess: 3 guesses remaining\n",
      "\n",
      "Hangman Word: n***** Enter your guess: \n",
      "g\n",
      "   _____ \n",
      "  |     | \n",
      "  |     | \n",
      "  |     | \n",
      "  |      \n",
      "  |      \n",
      "  |      \n",
      "__|__\n",
      "\n",
      "Wrong guess: 2 guesses remaining\n",
      "\n"
     ]
    },
    {
     "ename": "KeyboardInterrupt",
     "evalue": "Interrupted by user",
     "output_type": "error",
     "traceback": [
      "\u001b[1;31m---------------------------------------------------------------------------\u001b[0m",
      "\u001b[1;31mKeyboardInterrupt\u001b[0m                         Traceback (most recent call last)",
      "Cell \u001b[1;32mIn[26], line 21\u001b[0m\n\u001b[0;32m     18\u001b[0m     exit()\n\u001b[0;32m     20\u001b[0m \u001b[38;5;28;01mif\u001b[39;00m \u001b[38;5;18m__name__\u001b[39m \u001b[38;5;241m==\u001b[39m \u001b[38;5;124m'\u001b[39m\u001b[38;5;124m__main__\u001b[39m\u001b[38;5;124m'\u001b[39m:\n\u001b[1;32m---> 21\u001b[0m     \u001b[43mstart_game\u001b[49m\u001b[43m(\u001b[49m\u001b[43m)\u001b[49m\n",
      "Cell \u001b[1;32mIn[26], line 15\u001b[0m, in \u001b[0;36mstart_game\u001b[1;34m()\u001b[0m\n\u001b[0;32m     13\u001b[0m \u001b[38;5;28;01mwhile\u001b[39;00m play :\n\u001b[0;32m     14\u001b[0m     word \u001b[38;5;241m=\u001b[39m random\u001b[38;5;241m.\u001b[39mchoice(words)\n\u001b[1;32m---> 15\u001b[0m     \u001b[43mhangman\u001b[49m\u001b[43m(\u001b[49m\u001b[43mword\u001b[49m\u001b[43m)\u001b[49m\n\u001b[0;32m     16\u001b[0m     play \u001b[38;5;241m=\u001b[39m play_again()\n\u001b[0;32m     17\u001b[0m \u001b[38;5;28mprint\u001b[39m(\u001b[38;5;124m\"\u001b[39m\u001b[38;5;124m htw7shny \u001b[39m\u001b[38;5;124m\"\u001b[39m)    \n",
      "Cell \u001b[1;32mIn[25], line 9\u001b[0m, in \u001b[0;36mhangman\u001b[1;34m(word)\u001b[0m\n\u001b[0;32m      6\u001b[0m guessed \u001b[38;5;241m=\u001b[39m []\n\u001b[0;32m      8\u001b[0m \u001b[38;5;28;01mwhile\u001b[39;00m count \u001b[38;5;241m<\u001b[39m limit:\n\u001b[1;32m----> 9\u001b[0m     guess \u001b[38;5;241m=\u001b[39m \u001b[38;5;28;43minput\u001b[39;49m\u001b[43m(\u001b[49m\u001b[38;5;124;43mf\u001b[39;49m\u001b[38;5;124;43m'\u001b[39;49m\u001b[38;5;124;43mHangman Word: \u001b[39;49m\u001b[38;5;132;43;01m{\u001b[39;49;00m\u001b[43mdisplay\u001b[49m\u001b[38;5;132;43;01m}\u001b[39;49;00m\u001b[38;5;124;43m Enter your guess: \u001b[39;49m\u001b[38;5;130;43;01m\\n\u001b[39;49;00m\u001b[38;5;124;43m'\u001b[39;49m\u001b[43m)\u001b[49m\u001b[38;5;241m.\u001b[39mstrip()\n\u001b[0;32m     10\u001b[0m     \u001b[38;5;28;01mwhile\u001b[39;00m \u001b[38;5;28mlen\u001b[39m(guess) \u001b[38;5;241m==\u001b[39m \u001b[38;5;241m0\u001b[39m \u001b[38;5;129;01mor\u001b[39;00m \u001b[38;5;28mlen\u001b[39m(guess) \u001b[38;5;241m>\u001b[39m \u001b[38;5;241m1\u001b[39m:\n\u001b[0;32m     11\u001b[0m         \u001b[38;5;28mprint\u001b[39m(\u001b[38;5;124m'\u001b[39m\u001b[38;5;124mInvalid input. Enter a single letter\u001b[39m\u001b[38;5;130;01m\\n\u001b[39;00m\u001b[38;5;124m'\u001b[39m)\n",
      "File \u001b[1;32m~\\anaconda3\\envs\\Django\\lib\\site-packages\\ipykernel\\kernelbase.py:1177\u001b[0m, in \u001b[0;36mKernel.raw_input\u001b[1;34m(self, prompt)\u001b[0m\n\u001b[0;32m   1173\u001b[0m \u001b[38;5;28;01mif\u001b[39;00m \u001b[38;5;129;01mnot\u001b[39;00m \u001b[38;5;28mself\u001b[39m\u001b[38;5;241m.\u001b[39m_allow_stdin:\n\u001b[0;32m   1174\u001b[0m     \u001b[38;5;28;01mraise\u001b[39;00m StdinNotImplementedError(\n\u001b[0;32m   1175\u001b[0m         \u001b[38;5;124m\"\u001b[39m\u001b[38;5;124mraw_input was called, but this frontend does not support input requests.\u001b[39m\u001b[38;5;124m\"\u001b[39m\n\u001b[0;32m   1176\u001b[0m     )\n\u001b[1;32m-> 1177\u001b[0m \u001b[38;5;28;01mreturn\u001b[39;00m \u001b[38;5;28;43mself\u001b[39;49m\u001b[38;5;241;43m.\u001b[39;49m\u001b[43m_input_request\u001b[49m\u001b[43m(\u001b[49m\n\u001b[0;32m   1178\u001b[0m \u001b[43m    \u001b[49m\u001b[38;5;28;43mstr\u001b[39;49m\u001b[43m(\u001b[49m\u001b[43mprompt\u001b[49m\u001b[43m)\u001b[49m\u001b[43m,\u001b[49m\n\u001b[0;32m   1179\u001b[0m \u001b[43m    \u001b[49m\u001b[38;5;28;43mself\u001b[39;49m\u001b[38;5;241;43m.\u001b[39;49m\u001b[43m_parent_ident\u001b[49m\u001b[43m[\u001b[49m\u001b[38;5;124;43m\"\u001b[39;49m\u001b[38;5;124;43mshell\u001b[39;49m\u001b[38;5;124;43m\"\u001b[39;49m\u001b[43m]\u001b[49m\u001b[43m,\u001b[49m\n\u001b[0;32m   1180\u001b[0m \u001b[43m    \u001b[49m\u001b[38;5;28;43mself\u001b[39;49m\u001b[38;5;241;43m.\u001b[39;49m\u001b[43mget_parent\u001b[49m\u001b[43m(\u001b[49m\u001b[38;5;124;43m\"\u001b[39;49m\u001b[38;5;124;43mshell\u001b[39;49m\u001b[38;5;124;43m\"\u001b[39;49m\u001b[43m)\u001b[49m\u001b[43m,\u001b[49m\n\u001b[0;32m   1181\u001b[0m \u001b[43m    \u001b[49m\u001b[43mpassword\u001b[49m\u001b[38;5;241;43m=\u001b[39;49m\u001b[38;5;28;43;01mFalse\u001b[39;49;00m\u001b[43m,\u001b[49m\n\u001b[0;32m   1182\u001b[0m \u001b[43m\u001b[49m\u001b[43m)\u001b[49m\n",
      "File \u001b[1;32m~\\anaconda3\\envs\\Django\\lib\\site-packages\\ipykernel\\kernelbase.py:1219\u001b[0m, in \u001b[0;36mKernel._input_request\u001b[1;34m(self, prompt, ident, parent, password)\u001b[0m\n\u001b[0;32m   1216\u001b[0m             \u001b[38;5;28;01mbreak\u001b[39;00m\n\u001b[0;32m   1217\u001b[0m \u001b[38;5;28;01mexcept\u001b[39;00m \u001b[38;5;167;01mKeyboardInterrupt\u001b[39;00m:\n\u001b[0;32m   1218\u001b[0m     \u001b[38;5;66;03m# re-raise KeyboardInterrupt, to truncate traceback\u001b[39;00m\n\u001b[1;32m-> 1219\u001b[0m     \u001b[38;5;28;01mraise\u001b[39;00m \u001b[38;5;167;01mKeyboardInterrupt\u001b[39;00m(\u001b[38;5;124m\"\u001b[39m\u001b[38;5;124mInterrupted by user\u001b[39m\u001b[38;5;124m\"\u001b[39m) \u001b[38;5;28;01mfrom\u001b[39;00m \u001b[38;5;28mNone\u001b[39m\n\u001b[0;32m   1220\u001b[0m \u001b[38;5;28;01mexcept\u001b[39;00m \u001b[38;5;167;01mException\u001b[39;00m:\n\u001b[0;32m   1221\u001b[0m     \u001b[38;5;28mself\u001b[39m\u001b[38;5;241m.\u001b[39mlog\u001b[38;5;241m.\u001b[39mwarning(\u001b[38;5;124m\"\u001b[39m\u001b[38;5;124mInvalid Message:\u001b[39m\u001b[38;5;124m\"\u001b[39m, exc_info\u001b[38;5;241m=\u001b[39m\u001b[38;5;28;01mTrue\u001b[39;00m)\n",
      "\u001b[1;31mKeyboardInterrupt\u001b[0m: Interrupted by user"
     ]
    }
   ],
   "source": [
    "# Function game starting \n",
    "def start_game():\n",
    "    print(\"*\"*50)\n",
    "    time.sleep(1)\n",
    "    print(\"\\n                Welcome to Hangman\\n\")\n",
    "    time.sleep(1)\n",
    "    name = input(\"Please Enter Your name: \").upper()\n",
    "    time.sleep(1)\n",
    "    print(f\"Hello {name} , Wish you luck!\")\n",
    "    time.sleep(1)\n",
    "    words = [\"gomycode\" , \"zyad\", \"mahmoud\", \"python\"]\n",
    "    play = True \n",
    "    while play :\n",
    "        word = random.choice(words)\n",
    "        hangman(word)\n",
    "        play = play_again()\n",
    "    print(\" htw7shny \")    \n",
    "    exit()\n",
    "    \n",
    "if __name__ == '__main__':\n",
    "    start_game()"
   ]
  },
  {
   "cell_type": "code",
   "execution_count": 45,
   "id": "5579d08c",
   "metadata": {},
   "outputs": [],
   "source": [
    "def check(word):\n",
    "    if len(word)==len(letters):\n",
    "        return False\n",
    "    else:\n",
    "        return True "
   ]
  },
  {
   "cell_type": "code",
   "execution_count": 25,
   "id": "d23d9199",
   "metadata": {},
   "outputs": [],
   "source": [
    "def hangman(word):\n",
    "  display = '*' * len(word)\n",
    "  count = 0\n",
    "  limit = 5\n",
    "  letters = set(word)\n",
    "  guessed = []\n",
    "  check = True\n",
    "  while count < limit:\n",
    "      guess = input(f'Hangman Word: {display} Enter your guess: \\n').strip()\n",
    "      while len(guess) == 0 or len(guess) > 1:\n",
    "          print('Invalid input. Enter a single letter\\n')\n",
    "          guess = input(\n",
    "              f'Hangman Word: {display} Enter your guess: \\n').strip()\n",
    "\n",
    "      if guess in guessed:\n",
    "          print('Oops! You already tried that guess, try again!\\n')\n",
    "          continue\n",
    "\n",
    "      if guess in letters:\n",
    "          index = word.find(guess)\n",
    "          display = display[:index] + guess + display[index + 1:]\n",
    "          while check :\n",
    "                display = display[:index] +guess\n",
    "                check - check()\n",
    "                \n",
    "          letters.remove(guess)\n",
    "      else:\n",
    "          guessed.append(guess)\n",
    "          count += 1\n",
    "          if count == 1:\n",
    "              time.sleep(1)\n",
    "              print('   _____ \\n'\n",
    "                    '  |      \\n'\n",
    "                    '  |      \\n'\n",
    "                    '  |      \\n'\n",
    "                    '  |      \\n'\n",
    "                    '  |      \\n'\n",
    "                    '  |      \\n'\n",
    "                    '__|__\\n')\n",
    "              print(f'Wrong guess: {limit - count} guesses remaining\\n')\n",
    "\n",
    "          elif count == 2:\n",
    "              time.sleep(1)\n",
    "              print('   _____ \\n'\n",
    "                    '  |     | \\n'\n",
    "                    '  |     | \\n'\n",
    "                    '  |      \\n'\n",
    "                    '  |      \\n'\n",
    "                    '  |      \\n'\n",
    "                    '  |      \\n'\n",
    "                    '__|__\\n')\n",
    "              print(f'Wrong guess: {limit - count} guesses remaining\\n')\n",
    "\n",
    "          elif count == 3:\n",
    "              time.sleep(1)\n",
    "              print('   _____ \\n'\n",
    "                    '  |     | \\n'\n",
    "                    '  |     | \\n'\n",
    "                    '  |     | \\n'\n",
    "                    '  |      \\n'\n",
    "                    '  |      \\n'\n",
    "                    '  |      \\n'\n",
    "                    '__|__\\n')\n",
    "              print(f'Wrong guess: {limit - count} guesses remaining\\n')\n",
    "\n",
    "          elif count == 4:\n",
    "              time.sleep(1)\n",
    "              print('   _____ \\n'\n",
    "                    '  |     | \\n'\n",
    "                    '  |     | \\n'\n",
    "                    '  |     | \\n'\n",
    "                    '  |     O \\n'\n",
    "                    '  |      \\n'\n",
    "                    '  |      \\n'\n",
    "                    '__|__\\n')\n",
    "              print(f'Wrong guess: {limit - count} guesses remaining\\n')\n",
    "\n",
    "          elif count == 5:\n",
    "              time.sleep(1)\n",
    "              print('   _____ \\n'\n",
    "                    '  |     | \\n'\n",
    "                    '  |     | \\n'\n",
    "                    '  |     | \\n'\n",
    "                    '  |     O \\n'\n",
    "                    '  |    /|\\ \\n'\n",
    "                    '  |    / \\ \\n'\n",
    "                    '__|__\\n')\n",
    "              print('Wrong guess. You\\'ve been hanged!!!\\n')\n",
    "              print(f'The word was: {word}')\n",
    "\n",
    "      if display == word:\n",
    "          print(f'Congrats! You have guessed the word \\'{word}\\' correctly!')\n",
    "          break\n"
   ]
  },
  {
   "cell_type": "code",
   "execution_count": 15,
   "id": "3d096897",
   "metadata": {},
   "outputs": [
    {
     "name": "stdout",
     "output_type": "stream",
     "text": [
      "Word to Guess:<function display at 0x000001A7E0CF4310> Enter Your Guess \n",
      "r\n"
     ]
    }
   ],
   "source": [
    "question_2 = f\"Word to Guess:{display} Enter Your Guess \\n\"\n",
    "guess = input(question_2).strip()"
   ]
  },
  {
   "cell_type": "code",
   "execution_count": 16,
   "id": "309eba1d",
   "metadata": {},
   "outputs": [
    {
     "data": {
      "text/plain": [
       "'r'"
      ]
     },
     "execution_count": 16,
     "metadata": {},
     "output_type": "execute_result"
    }
   ],
   "source": [
    "guess\n",
    "\n",
    "\n",
    "\n"
   ]
  },
  {
   "cell_type": "code",
   "execution_count": 40,
   "id": "ff82577b",
   "metadata": {},
   "outputs": [
    {
     "data": {
      "text/plain": [
       "{'h', 'n', 'o', 'p', 't', 'y'}"
      ]
     },
     "execution_count": 40,
     "metadata": {},
     "output_type": "execute_result"
    }
   ],
   "source": [
    "words = [ \"pythonn\"]\n",
    "word = random.choice(words)\n",
    "display = \"*\"*len(word)\n",
    "letter = set(word)\n",
    "\n",
    "\n",
    "letter"
   ]
  },
  {
   "cell_type": "code",
   "execution_count": 21,
   "id": "a51f021d",
   "metadata": {},
   "outputs": [
    {
     "data": {
      "text/plain": [
       "'gomycode'"
      ]
     },
     "execution_count": 21,
     "metadata": {},
     "output_type": "execute_result"
    }
   ],
   "source": [
    "words = (\"gomycode\").strip()\n",
    "words"
   ]
  },
  {
   "cell_type": "code",
   "execution_count": null,
   "id": "7b4342c2",
   "metadata": {},
   "outputs": [],
   "source": []
  },
  {
   "cell_type": "code",
   "execution_count": null,
   "id": "2b8513ef",
   "metadata": {},
   "outputs": [],
   "source": []
  },
  {
   "cell_type": "code",
   "execution_count": null,
   "id": "1f1393f0",
   "metadata": {},
   "outputs": [],
   "source": []
  },
  {
   "cell_type": "code",
   "execution_count": null,
   "id": "db09001c",
   "metadata": {},
   "outputs": [],
   "source": []
  }
 ],
 "metadata": {
  "kernelspec": {
   "display_name": "Python 3 (ipykernel)",
   "language": "python",
   "name": "python3"
  },
  "language_info": {
   "codemirror_mode": {
    "name": "ipython",
    "version": 3
   },
   "file_extension": ".py",
   "mimetype": "text/x-python",
   "name": "python",
   "nbconvert_exporter": "python",
   "pygments_lexer": "ipython3",
   "version": "3.9.15"
  }
 },
 "nbformat": 4,
 "nbformat_minor": 5
}
