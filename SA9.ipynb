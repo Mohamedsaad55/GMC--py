{
 "cells": [
  {
   "cell_type": "code",
   "execution_count": 1,
   "id": "ff7144b5",
   "metadata": {},
   "outputs": [],
   "source": [
    "import numpy as np\n",
    "a = np.array([[5,12],[1,3],[5,2]])"
   ]
  },
  {
   "cell_type": "code",
   "execution_count": 7,
   "id": "4c884a76",
   "metadata": {},
   "outputs": [
    {
     "ename": "ValueError",
     "evalue": "cannot reshape array of size 6 into shape (7,)",
     "output_type": "error",
     "traceback": [
      "\u001b[1;31m---------------------------------------------------------------------------\u001b[0m",
      "\u001b[1;31mValueError\u001b[0m                                Traceback (most recent call last)",
      "Cell \u001b[1;32mIn[7], line 1\u001b[0m\n\u001b[1;32m----> 1\u001b[0m \u001b[43ma\u001b[49m\u001b[38;5;241;43m.\u001b[39;49m\u001b[43mreshape\u001b[49m\u001b[43m(\u001b[49m\u001b[43m(\u001b[49m\u001b[38;5;241;43m7\u001b[39;49m\u001b[43m)\u001b[49m\u001b[43m)\u001b[49m\n",
      "\u001b[1;31mValueError\u001b[0m: cannot reshape array of size 6 into shape (7,)"
     ]
    }
   ],
   "source": [
    "a.reshape((7))"
   ]
  },
  {
   "cell_type": "code",
   "execution_count": 12,
   "id": "1fc53568",
   "metadata": {},
   "outputs": [],
   "source": [
    "a.resize(10,refcheck= False)"
   ]
  },
  {
   "cell_type": "code",
   "execution_count": 13,
   "id": "535ec733",
   "metadata": {},
   "outputs": [
    {
     "data": {
      "text/plain": [
       "(10,)"
      ]
     },
     "execution_count": 13,
     "metadata": {},
     "output_type": "execute_result"
    }
   ],
   "source": [
    "a.shape"
   ]
  },
  {
   "cell_type": "code",
   "execution_count": 15,
   "id": "2c66be8b",
   "metadata": {},
   "outputs": [
    {
     "data": {
      "text/plain": [
       "array([[ 5, 12],\n",
       "       [ 1,  3],\n",
       "       [ 5,  2],\n",
       "       [ 0,  0],\n",
       "       [ 0,  0]])"
      ]
     },
     "execution_count": 15,
     "metadata": {},
     "output_type": "execute_result"
    }
   ],
   "source": [
    "a.reshape((5,2))"
   ]
  },
  {
   "cell_type": "code",
   "execution_count": null,
   "id": "9567f7da",
   "metadata": {},
   "outputs": [],
   "source": []
  },
  {
   "cell_type": "code",
   "execution_count": null,
   "id": "0c87c3a1",
   "metadata": {},
   "outputs": [],
   "source": []
  },
  {
   "cell_type": "code",
   "execution_count": null,
   "id": "ffd53c87",
   "metadata": {},
   "outputs": [],
   "source": []
  },
  {
   "cell_type": "code",
   "execution_count": null,
   "id": "b2246c20",
   "metadata": {},
   "outputs": [],
   "source": []
  },
  {
   "cell_type": "code",
   "execution_count": null,
   "id": "cecbc29f",
   "metadata": {},
   "outputs": [],
   "source": []
  },
  {
   "cell_type": "code",
   "execution_count": null,
   "id": "fb5aeea7",
   "metadata": {},
   "outputs": [],
   "source": []
  },
  {
   "cell_type": "code",
   "execution_count": null,
   "id": "9c1c55da",
   "metadata": {},
   "outputs": [],
   "source": []
  },
  {
   "cell_type": "code",
   "execution_count": 20,
   "id": "8de4e40c",
   "metadata": {},
   "outputs": [],
   "source": [
    "import requests\n",
    "from bs4 import BeautifulSoup"
   ]
  },
  {
   "cell_type": "code",
   "execution_count": 31,
   "id": "b53f1ede",
   "metadata": {},
   "outputs": [],
   "source": [
    "url = \"https://wuzzuf.net/search/jobs/?q=software+developer&a=hpb\"\n",
    "page = requests.get(url)\n",
    "src = page.content\n",
    "soup = BeautifulSoup(src , 'lxml')"
   ]
  },
  {
   "cell_type": "code",
   "execution_count": 43,
   "id": "dc1acc95",
   "metadata": {},
   "outputs": [],
   "source": [
    "title = soup.find(\"h2\",{\"class\":\"css-m604qf\"}).text"
   ]
  },
  {
   "cell_type": "code",
   "execution_count": 44,
   "id": "07b9c2a9",
   "metadata": {},
   "outputs": [
    {
     "data": {
      "text/plain": [
       "'Software Developer'"
      ]
     },
     "execution_count": 44,
     "metadata": {},
     "output_type": "execute_result"
    }
   ],
   "source": [
    "title"
   ]
  },
  {
   "cell_type": "code",
   "execution_count": 49,
   "id": "b1eab267",
   "metadata": {},
   "outputs": [],
   "source": [
    "title = soup.find_all(\"h2\",{\"class\":\"css-m604qf\"})"
   ]
  },
  {
   "cell_type": "code",
   "execution_count": 50,
   "id": "f5a02b5d",
   "metadata": {},
   "outputs": [],
   "source": [
    "title_f = [title[i].text for i in range(len(title))]"
   ]
  },
  {
   "cell_type": "code",
   "execution_count": 52,
   "id": "c8d4c321",
   "metadata": {},
   "outputs": [
    {
     "data": {
      "text/plain": [
       "15"
      ]
     },
     "execution_count": 52,
     "metadata": {},
     "output_type": "execute_result"
    }
   ],
   "source": [
    "len(title_f)"
   ]
  },
  {
   "cell_type": "code",
   "execution_count": 54,
   "id": "e8f93e19",
   "metadata": {},
   "outputs": [],
   "source": [
    "company_name = soup.find_all(\"a\",{\"class\":\"css-17s97q8\"})"
   ]
  },
  {
   "cell_type": "code",
   "execution_count": 55,
   "id": "5e5391ce",
   "metadata": {},
   "outputs": [],
   "source": [
    "company_f = [company_name[i].text for i in range(len(company_name))]"
   ]
  },
  {
   "cell_type": "code",
   "execution_count": 57,
   "id": "1c8546a4",
   "metadata": {},
   "outputs": [
    {
     "data": {
      "text/plain": [
       "['Pan Marine Group -',\n",
       " 'GLOBAL AUTO -',\n",
       " 'Confidential -',\n",
       " 'Globaction -',\n",
       " 'Globaction -',\n",
       " 'Payfort Egypt LLC -',\n",
       " 'Interact Technology Solutions -',\n",
       " 'Rashideen Egypt for Trade  -',\n",
       " 'Arabic Localizer -',\n",
       " '52nd Solution  -',\n",
       " 'SSC Egypt -',\n",
       " ' Roaya -',\n",
       " 'Mazzika Group -',\n",
       " 'Slamtex  -',\n",
       " 'softprograms -']"
      ]
     },
     "execution_count": 57,
     "metadata": {},
     "output_type": "execute_result"
    }
   ],
   "source": [
    "company_f"
   ]
  },
  {
   "cell_type": "code",
   "execution_count": null,
   "id": "1c6c922e",
   "metadata": {},
   "outputs": [],
   "source": []
  },
  {
   "cell_type": "code",
   "execution_count": null,
   "id": "2048a22d",
   "metadata": {},
   "outputs": [],
   "source": []
  },
  {
   "cell_type": "code",
   "execution_count": 72,
   "id": "9ed75a0e",
   "metadata": {},
   "outputs": [],
   "source": [
    "import csv\n",
    "from itertools import zip_longest\n"
   ]
  },
  {
   "cell_type": "code",
   "execution_count": 75,
   "id": "8235d93e",
   "metadata": {},
   "outputs": [
    {
     "name": "stdout",
     "output_type": "stream",
     "text": [
      "Scrapping Page : 1\n",
      "Saved Successfully!!!\n",
      "Scrapping Page : 2\n",
      "Saved Successfully!!!\n",
      "Scrapping Page : 3\n",
      "Saved Successfully!!!\n",
      "Scrapping Page : 4\n",
      "Saved Successfully!!!\n",
      "Scrapping Page : 5\n",
      "Saved Successfully!!!\n",
      "Scrapping Page : 6\n",
      "Saved Successfully!!!\n",
      "Scrapping Page : 7\n",
      "Saved Successfully!!!\n",
      "Scrapping Page : 8\n",
      "Saved Successfully!!!\n",
      "Scrapping Page : 9\n",
      "Saved Successfully!!!\n",
      "Scrapping Page : 10\n",
      "Saved Successfully!!!\n",
      "Scrapping Page : 11\n",
      "Saved Successfully!!!\n",
      "Scrapping Page : 12\n",
      "Saved Successfully!!!\n",
      "Scrapping Page : 13\n",
      "Saved Successfully!!!\n",
      "Scrapping Page : 14\n",
      "Saved Successfully!!!\n",
      "Scrapping Page : 15\n",
      "Saved Successfully!!!\n",
      "Scrapping Page : 16\n",
      "Saved Successfully!!!\n",
      "Scrapping Page : 17\n",
      "Saved Successfully!!!\n",
      "Scrapping Page : 18\n",
      "Saved Successfully!!!\n",
      "Scrapping Page : 19\n",
      "Saved Successfully!!!\n",
      "Scrapping Page : 20\n",
      "Saved Successfully!!!\n",
      "Scrapping Page : 21\n",
      "Saved Successfully!!!\n",
      "Scrapping Page : 22\n",
      "Saved Successfully!!!\n",
      "Scrapping Page : 23\n",
      "Saved Successfully!!!\n",
      "Scrapping Page : 24\n",
      "Saved Successfully!!!\n",
      "Scrapping Page : 25\n",
      "Saved Successfully!!!\n",
      "Scrapping Page : 26\n",
      "Saved Successfully!!!\n",
      "Scrapping Page : 27\n",
      "Saved Successfully!!!\n",
      "Scrapping Page : 28\n",
      "Saved Successfully!!!\n",
      "Scrapping Page : 29\n",
      "Saved Successfully!!!\n",
      "Scrapping Page : 30\n",
      "Saved Successfully!!!\n",
      "Scrapping Page : 31\n",
      "Saved Successfully!!!\n",
      "Scrapping Page : 32\n",
      "Saved Successfully!!!\n",
      "Scrapping Page : 33\n",
      "Saved Successfully!!!\n",
      "Scrapping Page : 34\n",
      "Saved Successfully!!!\n",
      "Scrapping Page : 35\n",
      "Saved Successfully!!!\n",
      "Scrapping Page : 36\n",
      "Saved Successfully!!!\n",
      "Scrapping Page : 37\n",
      "Saved Successfully!!!\n",
      "Scrapping Page : 38\n",
      "Saved Successfully!!!\n",
      "Scrapping Page : 39\n",
      "Saved Successfully!!!\n",
      "Scrapping Page : 40\n",
      "Saved Successfully!!!\n",
      "Scrapping Page : 41\n",
      "Saved Successfully!!!\n",
      "Scrapping Page : 42\n",
      "Saved Successfully!!!\n",
      "Scrapping Page : 43\n",
      "Saved Successfully!!!\n",
      "Scrapping Page : 44\n",
      "Saved Successfully!!!\n",
      "Scrapping Page : 45\n",
      "Saved Successfully!!!\n",
      "Scrapping Page : 46\n",
      "Saved Successfully!!!\n",
      "Scrapping Page : 47\n",
      "Saved Successfully!!!\n",
      "Scrapping Page : 48\n",
      "Saved Successfully!!!\n",
      "Scrapping Page : 49\n",
      "Saved Successfully!!!\n",
      "Scrapping Page : 50\n",
      "Saved Successfully!!!\n",
      "Scrapping Page : 51\n",
      "Saved Successfully!!!\n",
      "Scrapping Page : 52\n",
      "Saved Successfully!!!\n",
      "Scrapping Page : 53\n",
      "Saved Successfully!!!\n",
      "Scrapping Page : 54\n",
      "Saved Successfully!!!\n",
      "Scrapping Page : 55\n",
      "Saved Successfully!!!\n",
      "Scrapping Page : 56\n",
      "Saved Successfully!!!\n",
      "Scrapping Page : 57\n",
      "Saved Successfully!!!\n",
      "Scrapping Page : 58\n",
      "Saved Successfully!!!\n",
      "Scrapping Page : 59\n",
      "Saved Successfully!!!\n",
      "Scrapping Page : 60\n",
      "Saved Successfully!!!\n",
      "Scrapping Page : 61\n",
      "Saved Successfully!!!\n",
      "Scrapping Page : 62\n",
      "Saved Successfully!!!\n",
      "Scrapping Page : 63\n",
      "Saved Successfully!!!\n",
      "Scrapping Page : 64\n",
      "Saved Successfully!!!\n",
      "Scrapping Page : 65\n",
      "Saved Successfully!!!\n",
      "Scrapping Page : 66\n",
      "Saved Successfully!!!\n",
      "Scrapping Page : 67\n",
      "Saved Successfully!!!\n",
      "Scrapping Page : 68\n",
      "Saved Successfully!!!\n",
      "Scrapping Page : 69\n",
      "Saved Successfully!!!\n",
      "Scrapping Page : 70\n",
      "Saved Successfully!!!\n",
      "Scrapping Page : 71\n",
      "Saved Successfully!!!\n",
      "Scrapping Page : 72\n",
      "Saved Successfully!!!\n",
      "Scrapping Page : 73\n",
      "Saved Successfully!!!\n",
      "Scrapping Page : 74\n",
      "Saved Successfully!!!\n",
      "Scrapping Page : 75\n",
      "Saved Successfully!!!\n",
      "Scrapping Page : 76\n",
      "Saved Successfully!!!\n",
      "Scrapping Page : 77\n",
      "Saved Successfully!!!\n",
      "Scrapping Page : 78\n",
      "Saved Successfully!!!\n",
      "Scrapping Page : 79\n",
      "Saved Successfully!!!\n",
      "Scrapping Page : 80\n",
      "Saved Successfully!!!\n",
      "Scrapping Page : 81\n",
      "Saved Successfully!!!\n",
      "Scrapping Page : 82\n",
      "Saved Successfully!!!\n",
      "Scrapping Page : 83\n",
      "Saved Successfully!!!\n",
      "Scrapping Page : 84\n",
      "Saved Successfully!!!\n",
      "Scrapping Page : 85\n",
      "Saved Successfully!!!\n",
      "Scrapping Page : 86\n",
      "Saved Successfully!!!\n",
      "Scrapping Page : 87\n",
      "Saved Successfully!!!\n",
      "Scrapping Page : 88\n",
      "Saved Successfully!!!\n",
      "Scrapping Page : 89\n",
      "Saved Successfully!!!\n",
      "Scrapping Page : 90\n",
      "Saved Successfully!!!\n",
      "Scrapping Page : 91\n",
      "Saved Successfully!!!\n",
      "Scrapping Page : 92\n",
      "Saved Successfully!!!\n",
      "Scrapping Page : 93\n",
      "Saved Successfully!!!\n",
      "Scrapping Page : 94\n",
      "Saved Successfully!!!\n",
      "Scrapping Page : 95\n",
      "Saved Successfully!!!\n",
      "Scrapping Page : 96\n",
      "Saved Successfully!!!\n",
      "Scrapping Page : 97\n",
      "Saved Successfully!!!\n",
      "Scrapping Page : 98\n",
      "Saved Successfully!!!\n",
      "Scrapping Page : 99\n",
      "Saved Successfully!!!\n",
      "Scrapping Page : 100\n",
      "Saved Successfully!!!\n",
      "Scrapping Page : 101\n",
      "Saved Successfully!!!\n",
      "Scrapping Page : 102\n",
      "Saved Successfully!!!\n",
      "Scrapping Page : 103\n",
      "Saved Successfully!!!\n",
      "Scrapping Page : 104\n",
      "Saved Successfully!!!\n",
      "Scrapping Page : 105\n",
      "Saved Successfully!!!\n",
      "Scrapping Page : 106\n",
      "Saved Successfully!!!\n",
      "Scrapping Page : 107\n",
      "Saved Successfully!!!\n",
      "Scrapping Page : 108\n",
      "Saved Successfully!!!\n",
      "Scrapping Page : 109\n",
      "Saved Successfully!!!\n",
      "Scrapping Page : 110\n",
      "Saved Successfully!!!\n",
      "Scrapping Page : 111\n",
      "Saved Successfully!!!\n",
      "Scrapping Page : 112\n",
      "Saved Successfully!!!\n",
      "Scrapping Page : 113\n",
      "Saved Successfully!!!\n",
      "Scrapping Page : 114\n",
      "Saved Successfully!!!\n",
      "Scrapping Page : 115\n",
      "Saved Successfully!!!\n",
      "Scrapping Page : 116\n",
      "Saved Successfully!!!\n",
      "Scrapping Page : 117\n",
      "Saved Successfully!!!\n",
      "Scrapping Page : 118\n",
      "Saved Successfully!!!\n",
      "Scrapping Page : 119\n",
      "Saved Successfully!!!\n",
      "Scrapping Page : 120\n",
      "Saved Successfully!!!\n",
      "Scrapping Page : 121\n",
      "Saved Successfully!!!\n",
      "Scrapping Page : 122\n",
      "Saved Successfully!!!\n",
      "Scrapping Page : 123\n",
      "Saved Successfully!!!\n",
      "Scrapping Page : 124\n",
      "Saved Successfully!!!\n",
      "Scrapping Page : 125\n",
      "Saved Successfully!!!\n",
      "Scrapping Page : 126\n",
      "Saved Successfully!!!\n",
      "Scrapping Page : 127\n",
      "Saved Successfully!!!\n",
      "Scrapping Page : 128\n",
      "Saved Successfully!!!\n",
      "Scrapping Page : 129\n",
      "Saved Successfully!!!\n",
      "Scrapping Page : 130\n",
      "Saved Successfully!!!\n",
      "Scrapping Page : 131\n",
      "Saved Successfully!!!\n",
      "Scrapping Page : 132\n",
      "Saved Successfully!!!\n",
      "Scrapping Page : 133\n",
      "Saved Successfully!!!\n",
      "Scrapping Page : 134\n",
      "Saved Successfully!!!\n",
      "Done!\n"
     ]
    }
   ],
   "source": [
    "with open(\"Wazzuf_Jobs.csv\",\"w\",encoding=\"UTF8\", newline='') as f:\n",
    "    wr = csv.writer(f)\n",
    "    wr.writerow([\"Job_title\",\"Company_name\"])\n",
    "    \n",
    "    page_num = 0\n",
    "    \n",
    "    while True:\n",
    "        \n",
    "        url = f\"https://wuzzuf.net/search/jobs/?a=hpb&q=software%20developer&start={page_num}\"\n",
    "        page = requests.get(url)\n",
    "        src = page.content\n",
    "        soup = BeautifulSoup(src , 'lxml')\n",
    "        page_limit = soup.find(\"strong\").text\n",
    "        page_limit = page_limit.replace(\",\",\"\")\n",
    "      \n",
    "        \n",
    "        if (page_num > int(page_limit) // 15):\n",
    "            print(\"Done!\")\n",
    "            break\n",
    "        \n",
    "        title = soup.find_all(\"h2\",{\"class\":\"css-m604qf\"})\n",
    "        company_name = soup.find_all(\"a\",{\"class\":\"css-17s97q8\"})\n",
    "        title_f = [title[i].text for i in range(len(title))]    \n",
    "        company_f = [company_name[i].text for i in range(len(company_name))]\n",
    "        \n",
    "        files = [title_f,company_f]\n",
    "        export = zip_longest(*files)\n",
    "        wr.writerows(export)\n",
    "        \n",
    "        print(f\"Scrapping Page : {page_num+1}\")\n",
    "        page_num += 1\n",
    "        print(\"Saved Successfully!!!\")"
   ]
  },
  {
   "cell_type": "code",
   "execution_count": 65,
   "id": "b74ef72a",
   "metadata": {},
   "outputs": [
    {
     "data": {
      "text/plain": [
       "'2004'"
      ]
     },
     "execution_count": 65,
     "metadata": {},
     "output_type": "execute_result"
    }
   ],
   "source": [
    "page_limit = (soup.find(\"strong\").text)\n",
    "page_limit.replace(\",\",\"\")"
   ]
  },
  {
   "cell_type": "code",
   "execution_count": 71,
   "id": "c4a95f95",
   "metadata": {},
   "outputs": [],
   "source": [
    "with open(\"Wazzuf_Jobs.csv\",\"w\",encoding=\"UTF8\", newline='') as f:\n",
    "    wr = csv.writer(f)\n",
    "    wr.writerow([\"Job_title\",\"Company_name\"])"
   ]
  },
  {
   "cell_type": "code",
   "execution_count": null,
   "id": "2334480d",
   "metadata": {},
   "outputs": [],
   "source": []
  },
  {
   "cell_type": "code",
   "execution_count": 70,
   "id": "bee23ead",
   "metadata": {},
   "outputs": [],
   "source": [
    "with open(\"test.txt\",\"w\") as f:\n",
    "    f.write(\"Hello!!\")"
   ]
  },
  {
   "cell_type": "code",
   "execution_count": null,
   "id": "cf61ddd7",
   "metadata": {},
   "outputs": [],
   "source": []
  },
  {
   "cell_type": "code",
   "execution_count": null,
   "id": "b6f705b1",
   "metadata": {},
   "outputs": [],
   "source": []
  }
 ],
 "metadata": {
  "kernelspec": {
   "display_name": "Python 3 (ipykernel)",
   "language": "python",
   "name": "python3"
  },
  "language_info": {
   "codemirror_mode": {
    "name": "ipython",
    "version": 3
   },
   "file_extension": ".py",
   "mimetype": "text/x-python",
   "name": "python",
   "nbconvert_exporter": "python",
   "pygments_lexer": "ipython3",
   "version": "3.9.15"
  }
 },
 "nbformat": 4,
 "nbformat_minor": 5
}
