{
 "cells": [
  {
   "cell_type": "code",
   "execution_count": 6,
   "id": "81227eac",
   "metadata": {},
   "outputs": [
    {
     "name": "stdout",
     "output_type": "stream",
     "text": [
      "1st Number :\n",
      "10\n",
      "2nd Number :\n",
      "5\n",
      "Select an operator ( + ,-,*,/)\n",
      "$\n"
     ]
    }
   ],
   "source": [
    "first_num = float(input(\"1st Number :\\n\"))\n",
    "second_num = float(input(\"2nd Number :\\n\"))\n",
    "op = input(\"Select an operator ( + ,-,*,/)\\n\")"
   ]
  },
  {
   "cell_type": "code",
   "execution_count": 27,
   "id": "44d23b00",
   "metadata": {},
   "outputs": [
    {
     "name": "stdout",
     "output_type": "stream",
     "text": [
      "1st Number :\n",
      "10\n",
      "2nd Number :\n",
      "0\n",
      "Select an operator ( + ,-,*,/)\n",
      "/\n",
      "Do you need to use the Calculator again ?! (yes or no)yes\n",
      "You can't devide by Zero\n",
      "2nd Number :\n",
      "5\n",
      "2.0\n"
     ]
    },
    {
     "ename": "KeyboardInterrupt",
     "evalue": "Interrupted by user",
     "output_type": "error",
     "traceback": [
      "\u001b[1;31m---------------------------------------------------------------------------\u001b[0m",
      "\u001b[1;31mKeyboardInterrupt\u001b[0m                         Traceback (most recent call last)",
      "Cell \u001b[1;32mIn[27], line 2\u001b[0m\n\u001b[0;32m      1\u001b[0m \u001b[38;5;28;01mwhile\u001b[39;00m \u001b[38;5;28;01mTrue\u001b[39;00m :    \n\u001b[1;32m----> 2\u001b[0m     first_num \u001b[38;5;241m=\u001b[39m \u001b[38;5;28mfloat\u001b[39m(\u001b[38;5;28;43minput\u001b[39;49m\u001b[43m(\u001b[49m\u001b[38;5;124;43m\"\u001b[39;49m\u001b[38;5;124;43m1st Number :\u001b[39;49m\u001b[38;5;130;43;01m\\n\u001b[39;49;00m\u001b[38;5;124;43m\"\u001b[39;49m\u001b[43m)\u001b[49m)\n\u001b[0;32m      3\u001b[0m     second_num \u001b[38;5;241m=\u001b[39m \u001b[38;5;28mfloat\u001b[39m(\u001b[38;5;28minput\u001b[39m(\u001b[38;5;124m\"\u001b[39m\u001b[38;5;124m2nd Number :\u001b[39m\u001b[38;5;130;01m\\n\u001b[39;00m\u001b[38;5;124m\"\u001b[39m))\n\u001b[0;32m      4\u001b[0m     op \u001b[38;5;241m=\u001b[39m \u001b[38;5;28minput\u001b[39m(\u001b[38;5;124m\"\u001b[39m\u001b[38;5;124mSelect an operator ( + ,-,*,/)\u001b[39m\u001b[38;5;130;01m\\n\u001b[39;00m\u001b[38;5;124m\"\u001b[39m)\n",
      "File \u001b[1;32m~\\anaconda3\\envs\\Django\\lib\\site-packages\\ipykernel\\kernelbase.py:1177\u001b[0m, in \u001b[0;36mKernel.raw_input\u001b[1;34m(self, prompt)\u001b[0m\n\u001b[0;32m   1173\u001b[0m \u001b[38;5;28;01mif\u001b[39;00m \u001b[38;5;129;01mnot\u001b[39;00m \u001b[38;5;28mself\u001b[39m\u001b[38;5;241m.\u001b[39m_allow_stdin:\n\u001b[0;32m   1174\u001b[0m     \u001b[38;5;28;01mraise\u001b[39;00m StdinNotImplementedError(\n\u001b[0;32m   1175\u001b[0m         \u001b[38;5;124m\"\u001b[39m\u001b[38;5;124mraw_input was called, but this frontend does not support input requests.\u001b[39m\u001b[38;5;124m\"\u001b[39m\n\u001b[0;32m   1176\u001b[0m     )\n\u001b[1;32m-> 1177\u001b[0m \u001b[38;5;28;01mreturn\u001b[39;00m \u001b[38;5;28;43mself\u001b[39;49m\u001b[38;5;241;43m.\u001b[39;49m\u001b[43m_input_request\u001b[49m\u001b[43m(\u001b[49m\n\u001b[0;32m   1178\u001b[0m \u001b[43m    \u001b[49m\u001b[38;5;28;43mstr\u001b[39;49m\u001b[43m(\u001b[49m\u001b[43mprompt\u001b[49m\u001b[43m)\u001b[49m\u001b[43m,\u001b[49m\n\u001b[0;32m   1179\u001b[0m \u001b[43m    \u001b[49m\u001b[38;5;28;43mself\u001b[39;49m\u001b[38;5;241;43m.\u001b[39;49m\u001b[43m_parent_ident\u001b[49m\u001b[43m[\u001b[49m\u001b[38;5;124;43m\"\u001b[39;49m\u001b[38;5;124;43mshell\u001b[39;49m\u001b[38;5;124;43m\"\u001b[39;49m\u001b[43m]\u001b[49m\u001b[43m,\u001b[49m\n\u001b[0;32m   1180\u001b[0m \u001b[43m    \u001b[49m\u001b[38;5;28;43mself\u001b[39;49m\u001b[38;5;241;43m.\u001b[39;49m\u001b[43mget_parent\u001b[49m\u001b[43m(\u001b[49m\u001b[38;5;124;43m\"\u001b[39;49m\u001b[38;5;124;43mshell\u001b[39;49m\u001b[38;5;124;43m\"\u001b[39;49m\u001b[43m)\u001b[49m\u001b[43m,\u001b[49m\n\u001b[0;32m   1181\u001b[0m \u001b[43m    \u001b[49m\u001b[43mpassword\u001b[49m\u001b[38;5;241;43m=\u001b[39;49m\u001b[38;5;28;43;01mFalse\u001b[39;49;00m\u001b[43m,\u001b[49m\n\u001b[0;32m   1182\u001b[0m \u001b[43m\u001b[49m\u001b[43m)\u001b[49m\n",
      "File \u001b[1;32m~\\anaconda3\\envs\\Django\\lib\\site-packages\\ipykernel\\kernelbase.py:1219\u001b[0m, in \u001b[0;36mKernel._input_request\u001b[1;34m(self, prompt, ident, parent, password)\u001b[0m\n\u001b[0;32m   1216\u001b[0m             \u001b[38;5;28;01mbreak\u001b[39;00m\n\u001b[0;32m   1217\u001b[0m \u001b[38;5;28;01mexcept\u001b[39;00m \u001b[38;5;167;01mKeyboardInterrupt\u001b[39;00m:\n\u001b[0;32m   1218\u001b[0m     \u001b[38;5;66;03m# re-raise KeyboardInterrupt, to truncate traceback\u001b[39;00m\n\u001b[1;32m-> 1219\u001b[0m     \u001b[38;5;28;01mraise\u001b[39;00m \u001b[38;5;167;01mKeyboardInterrupt\u001b[39;00m(\u001b[38;5;124m\"\u001b[39m\u001b[38;5;124mInterrupted by user\u001b[39m\u001b[38;5;124m\"\u001b[39m) \u001b[38;5;28;01mfrom\u001b[39;00m \u001b[38;5;28mNone\u001b[39m\n\u001b[0;32m   1220\u001b[0m \u001b[38;5;28;01mexcept\u001b[39;00m \u001b[38;5;167;01mException\u001b[39;00m:\n\u001b[0;32m   1221\u001b[0m     \u001b[38;5;28mself\u001b[39m\u001b[38;5;241m.\u001b[39mlog\u001b[38;5;241m.\u001b[39mwarning(\u001b[38;5;124m\"\u001b[39m\u001b[38;5;124mInvalid Message:\u001b[39m\u001b[38;5;124m\"\u001b[39m, exc_info\u001b[38;5;241m=\u001b[39m\u001b[38;5;28;01mTrue\u001b[39;00m)\n",
      "\u001b[1;31mKeyboardInterrupt\u001b[0m: Interrupted by user"
     ]
    }
   ],
   "source": [
    "while True :    \n",
    "    first_num = float(input(\"1st Number :\\n\"))\n",
    "    second_num = float(input(\"2nd Number :\\n\"))\n",
    "    op = input(\"Select an operator ( + ,-,*,/)\\n\")\n",
    "    again = input(\"Do you need to use the Calculator again ?! (yes or no)\").lower()\n",
    "    if op == '+' :\n",
    "        print(first_num + second_num)\n",
    "    elif op == '-':\n",
    "        print(first_num - second_num)\n",
    "    elif op == '*':\n",
    "        print(first_num * second_num)\n",
    "    elif op == '/':\n",
    "        if second_num == 0 :\n",
    "            print(\"You can't devide by Zero\")\n",
    "            second_num = float(input(\"2nd Number :\\n\"))\n",
    "            print(first_num / second_num)\n",
    "        else :\n",
    "            print(first_num / second_num)\n",
    "    else : \n",
    "        print(\"You selected a Wrong Operation ! \")\n",
    "        \n",
    "    if again == 'no' :\n",
    "        break\n",
    "    \n"
   ]
  },
  {
   "cell_type": "code",
   "execution_count": 20,
   "id": "0634a4b0",
   "metadata": {},
   "outputs": [
    {
     "name": "stdout",
     "output_type": "stream",
     "text": [
      "1\n",
      "Number fe nafso = 1\n",
      "**********\n",
      "2\n",
      "Number fe nafso = 4\n",
      "**********\n",
      "3\n",
      "Number fe nafso = 9\n",
      "**********\n",
      "4\n",
      "Number fe nafso = 16\n",
      "**********\n",
      "5\n",
      "Number fe nafso = 25\n",
      "**********\n",
      "6\n",
      "Number fe nafso = 36\n",
      "**********\n",
      "7\n",
      "Number fe nafso = 49\n",
      "**********\n",
      "8\n",
      "Number fe nafso = 64\n",
      "**********\n",
      "9\n",
      "Number fe nafso = 81\n",
      "**********\n"
     ]
    }
   ],
   "source": [
    "numbers = [1,2,3,4,5,6,7,8,9]\n",
    "for number in numbers :\n",
    "    print(number)\n",
    "    #number = number * number \n",
    "    number *= number\n",
    "    print(f\"Number fe nafso = {number}\")\n",
    "    print(\"*\" * 10)"
   ]
  },
  {
   "cell_type": "code",
   "execution_count": 17,
   "id": "232d5c3e",
   "metadata": {},
   "outputs": [
    {
     "data": {
      "text/plain": [
       "81"
      ]
     },
     "execution_count": 17,
     "metadata": {},
     "output_type": "execute_result"
    }
   ],
   "source": [
    "number"
   ]
  },
  {
   "cell_type": "code",
   "execution_count": 14,
   "id": "4dd987e8",
   "metadata": {},
   "outputs": [],
   "source": [
    "numbers = [1,2,3,4,5,6,7,8,9] \n"
   ]
  },
  {
   "cell_type": "code",
   "execution_count": null,
   "id": "a017636b",
   "metadata": {},
   "outputs": [],
   "source": []
  },
  {
   "cell_type": "code",
   "execution_count": 21,
   "id": "4d3e68eb",
   "metadata": {},
   "outputs": [
    {
     "name": "stdout",
     "output_type": "stream",
     "text": [
      "1\n",
      "2\n",
      "3\n",
      "4\n",
      "5\n",
      "6\n",
      "7\n",
      "8\n",
      "9\n",
      "10\n"
     ]
    }
   ],
   "source": [
    "i = 1\n",
    "while i <= 10 :\n",
    "    print(i)\n",
    "    i += 1\n",
    "    "
   ]
  },
  {
   "cell_type": "code",
   "execution_count": 28,
   "id": "63b10c94",
   "metadata": {},
   "outputs": [],
   "source": [
    "import random"
   ]
  },
  {
   "cell_type": "code",
   "execution_count": 30,
   "id": "5f5344a8",
   "metadata": {},
   "outputs": [
    {
     "name": "stdout",
     "output_type": "stream",
     "text": [
      "Help on method randint in module random:\n",
      "\n",
      "randint(a, b) method of random.Random instance\n",
      "    Return random integer in range [a, b], including both end points.\n",
      "\n"
     ]
    }
   ],
   "source": [
    "help(random.randint)"
   ]
  },
  {
   "cell_type": "code",
   "execution_count": 48,
   "id": "615005c3",
   "metadata": {},
   "outputs": [
    {
     "name": "stdout",
     "output_type": "stream",
     "text": [
      "90\n"
     ]
    }
   ],
   "source": [
    "x = random.randint(1,101)\n",
    "number = int(input(\"Enter a Number \"))\n",
    "if x > number :\n",
    "    print(\"Your Guess is Low !\")"
   ]
  },
  {
   "cell_type": "code",
   "execution_count": 42,
   "id": "e6bbe6a3",
   "metadata": {},
   "outputs": [
    {
     "name": "stdout",
     "output_type": "stream",
     "text": [
      "17\n"
     ]
    }
   ],
   "source": []
  },
  {
   "cell_type": "code",
   "execution_count": null,
   "id": "e6ee1fbc",
   "metadata": {},
   "outputs": [],
   "source": []
  },
  {
   "cell_type": "markdown",
   "id": "d73a170c",
   "metadata": {},
   "source": [
    "# Data Structrue "
   ]
  },
  {
   "cell_type": "code",
   "execution_count": 50,
   "id": "441ad081",
   "metadata": {},
   "outputs": [],
   "source": [
    "#list []\n",
    "l = [1,2,3,1,3,1,3.5,True , [1,2,3,1] , \"TEST\"]\n",
    "#Dictionary {}\n",
    "d = {\"name\" : \"Mohamed\" , \"age\" : 28}\n",
    "# Set {}\n",
    "s = {1,2,3,4,5,6}\n",
    "# Tuples ()\n",
    "t = (1,2,3,4,5)"
   ]
  },
  {
   "cell_type": "code",
   "execution_count": 53,
   "id": "3d76471b",
   "metadata": {},
   "outputs": [
    {
     "data": {
      "text/plain": [
       "{1, 2, 3, 4, 5, 'A', 'a'}"
      ]
     },
     "execution_count": 53,
     "metadata": {},
     "output_type": "execute_result"
    }
   ],
   "source": [
    "l = [1,1,1,1,1,1,1,1,1,1,2,3,4,5,'a','a']\n",
    "set(l)"
   ]
  },
  {
   "cell_type": "code",
   "execution_count": 57,
   "id": "9b64e393",
   "metadata": {},
   "outputs": [],
   "source": [
    "l = [1,2,3]\n",
    "for i in range(4,11) :\n",
    "    l.append(i)"
   ]
  },
  {
   "cell_type": "code",
   "execution_count": 63,
   "id": "a9f3bdf4",
   "metadata": {},
   "outputs": [],
   "source": [
    "l[0] = 1"
   ]
  },
  {
   "cell_type": "code",
   "execution_count": 65,
   "id": "5037ac48",
   "metadata": {},
   "outputs": [
    {
     "name": "stdout",
     "output_type": "stream",
     "text": [
      "[1, 2, 3, 4, 5, 6, 7, 8, 9, 10]\n"
     ]
    }
   ],
   "source": [
    "print(l)"
   ]
  },
  {
   "cell_type": "code",
   "execution_count": 110,
   "id": "d7083328",
   "metadata": {},
   "outputs": [],
   "source": [
    "l.append(\"Mohamed\")"
   ]
  },
  {
   "cell_type": "code",
   "execution_count": 77,
   "id": "1d3c8976",
   "metadata": {},
   "outputs": [],
   "source": [
    "l.remove(7)"
   ]
  },
  {
   "cell_type": "code",
   "execution_count": 111,
   "id": "fc79a635",
   "metadata": {},
   "outputs": [
    {
     "data": {
      "text/plain": [
       "[100, 10, 9, 8, 7, 7, 7, 6, 4, 3, 2, 1, 'Mohamed']"
      ]
     },
     "execution_count": 111,
     "metadata": {},
     "output_type": "execute_result"
    }
   ],
   "source": [
    "l"
   ]
  },
  {
   "cell_type": "code",
   "execution_count": 100,
   "id": "2d5df307",
   "metadata": {},
   "outputs": [
    {
     "data": {
      "text/plain": [
       "5"
      ]
     },
     "execution_count": 100,
     "metadata": {},
     "output_type": "execute_result"
    }
   ],
   "source": [
    "l.pop(4)"
   ]
  },
  {
   "cell_type": "code",
   "execution_count": 94,
   "id": "3fdbce49",
   "metadata": {},
   "outputs": [],
   "source": [
    "l.insert( 5 , 10)"
   ]
  },
  {
   "cell_type": "code",
   "execution_count": 113,
   "id": "49533f41",
   "metadata": {},
   "outputs": [
    {
     "ename": "TypeError",
     "evalue": "'<' not supported between instances of 'int' and 'str'",
     "output_type": "error",
     "traceback": [
      "\u001b[1;31m---------------------------------------------------------------------------\u001b[0m",
      "\u001b[1;31mTypeError\u001b[0m                                 Traceback (most recent call last)",
      "Cell \u001b[1;32mIn[113], line 1\u001b[0m\n\u001b[1;32m----> 1\u001b[0m \u001b[43ml\u001b[49m\u001b[38;5;241;43m.\u001b[39;49m\u001b[43msort\u001b[49m\u001b[43m(\u001b[49m\u001b[43mreverse\u001b[49m\u001b[38;5;241;43m=\u001b[39;49m\u001b[38;5;28;43;01mTrue\u001b[39;49;00m\u001b[43m)\u001b[49m\n",
      "\u001b[1;31mTypeError\u001b[0m: '<' not supported between instances of 'int' and 'str'"
     ]
    }
   ],
   "source": [
    "l.sort(reverse=True)"
   ]
  },
  {
   "cell_type": "code",
   "execution_count": 115,
   "id": "d85d2f58",
   "metadata": {},
   "outputs": [
    {
     "data": {
      "text/plain": [
       "'Mohamed'"
      ]
     },
     "execution_count": 115,
     "metadata": {},
     "output_type": "execute_result"
    }
   ],
   "source": [
    "l.index(\"Mohamed\")\n",
    "l[12]"
   ]
  },
  {
   "cell_type": "code",
   "execution_count": 112,
   "id": "79a32e2a",
   "metadata": {},
   "outputs": [
    {
     "ename": "TypeError",
     "evalue": "'<' not supported between instances of 'str' and 'int'",
     "output_type": "error",
     "traceback": [
      "\u001b[1;31m---------------------------------------------------------------------------\u001b[0m",
      "\u001b[1;31mTypeError\u001b[0m                                 Traceback (most recent call last)",
      "Cell \u001b[1;32mIn[112], line 1\u001b[0m\n\u001b[1;32m----> 1\u001b[0m x \u001b[38;5;241m=\u001b[39m \u001b[38;5;28;43msorted\u001b[39;49m\u001b[43m(\u001b[49m\u001b[43ml\u001b[49m\u001b[43m)\u001b[49m\n",
      "\u001b[1;31mTypeError\u001b[0m: '<' not supported between instances of 'str' and 'int'"
     ]
    }
   ],
   "source": [
    "x = sorted(l)"
   ]
  },
  {
   "cell_type": "code",
   "execution_count": 116,
   "id": "eed3acb2",
   "metadata": {},
   "outputs": [],
   "source": [
    "# append , pop , remove , insert , index ,sort , sorted "
   ]
  },
  {
   "cell_type": "code",
   "execution_count": 117,
   "id": "2877de0a",
   "metadata": {},
   "outputs": [],
   "source": [
    "l = [[1,2,3],[4,5,6],[7,8,9]]"
   ]
  },
  {
   "cell_type": "code",
   "execution_count": 119,
   "id": "5e9cbc92",
   "metadata": {},
   "outputs": [
    {
     "data": {
      "text/plain": [
       "5"
      ]
     },
     "execution_count": 119,
     "metadata": {},
     "output_type": "execute_result"
    }
   ],
   "source": [
    "l[1][1]"
   ]
  },
  {
   "cell_type": "code",
   "execution_count": 123,
   "id": "530a6d2a",
   "metadata": {},
   "outputs": [],
   "source": [
    "x = list()\n",
    "for i in range (1001):\n",
    "    if i % 7 == 0 and i % 5 == 0 :\n",
    "        x.append(i)"
   ]
  },
  {
   "cell_type": "code",
   "execution_count": 125,
   "id": "365ad3c8",
   "metadata": {},
   "outputs": [
    {
     "name": "stdout",
     "output_type": "stream",
     "text": [
      "1000\n"
     ]
    }
   ],
   "source": [
    "print(i)"
   ]
  },
  {
   "cell_type": "code",
   "execution_count": 127,
   "id": "f53d17f8",
   "metadata": {},
   "outputs": [
    {
     "data": {
      "text/plain": [
       "[0,\n",
       " 35,\n",
       " 70,\n",
       " 105,\n",
       " 140,\n",
       " 175,\n",
       " 210,\n",
       " 245,\n",
       " 280,\n",
       " 315,\n",
       " 350,\n",
       " 385,\n",
       " 420,\n",
       " 455,\n",
       " 490,\n",
       " 525,\n",
       " 560,\n",
       " 595,\n",
       " 630,\n",
       " 665,\n",
       " 700,\n",
       " 735,\n",
       " 770,\n",
       " 805,\n",
       " 840,\n",
       " 875,\n",
       " 910,\n",
       " 945,\n",
       " 980]"
      ]
     },
     "execution_count": 127,
     "metadata": {},
     "output_type": "execute_result"
    }
   ],
   "source": [
    "x"
   ]
  },
  {
   "cell_type": "code",
   "execution_count": 142,
   "id": "7393f064",
   "metadata": {},
   "outputs": [],
   "source": [
    "# Set\n",
    "s = {1,2,3,4,5}\n",
    "s.remove(5)\n",
    "s.add(20)"
   ]
  },
  {
   "cell_type": "code",
   "execution_count": 143,
   "id": "b7d433cb",
   "metadata": {},
   "outputs": [
    {
     "data": {
      "text/plain": [
       "{1, 2, 3, 4, 20}"
      ]
     },
     "execution_count": 143,
     "metadata": {},
     "output_type": "execute_result"
    }
   ],
   "source": [
    "s"
   ]
  },
  {
   "cell_type": "code",
   "execution_count": 151,
   "id": "b0190833",
   "metadata": {},
   "outputs": [
    {
     "data": {
      "text/plain": [
       "(1, 2, 3, 4, 5, 6, 7, 8, 9, 10)"
      ]
     },
     "execution_count": 151,
     "metadata": {},
     "output_type": "execute_result"
    }
   ],
   "source": [
    "# Tuples\n",
    "t = (1,2,3,4,5)\n",
    "t1 = t \n",
    "t2 = (6,7,8,9,10)\n",
    "t1+t2"
   ]
  },
  {
   "cell_type": "code",
   "execution_count": 156,
   "id": "44e5b6fd",
   "metadata": {},
   "outputs": [
    {
     "data": {
      "text/plain": [
       "1"
      ]
     },
     "execution_count": 156,
     "metadata": {},
     "output_type": "execute_result"
    }
   ],
   "source": [
    "t1[0]"
   ]
  },
  {
   "cell_type": "code",
   "execution_count": 153,
   "id": "e1f02a27",
   "metadata": {},
   "outputs": [
    {
     "data": {
      "text/plain": [
       "[[1, 2, 3], [4, 5, 6], [7, 8, 9]]"
      ]
     },
     "execution_count": 153,
     "metadata": {},
     "output_type": "execute_result"
    }
   ],
   "source": [
    "l"
   ]
  },
  {
   "cell_type": "code",
   "execution_count": 154,
   "id": "16448601",
   "metadata": {},
   "outputs": [],
   "source": [
    "l[0] = True"
   ]
  },
  {
   "cell_type": "code",
   "execution_count": 155,
   "id": "65828531",
   "metadata": {},
   "outputs": [
    {
     "data": {
      "text/plain": [
       "[True, [4, 5, 6], [7, 8, 9]]"
      ]
     },
     "execution_count": 155,
     "metadata": {},
     "output_type": "execute_result"
    }
   ],
   "source": [
    "l"
   ]
  },
  {
   "cell_type": "code",
   "execution_count": null,
   "id": "6f6e6938",
   "metadata": {},
   "outputs": [],
   "source": []
  },
  {
   "cell_type": "code",
   "execution_count": null,
   "id": "e52d1520",
   "metadata": {},
   "outputs": [],
   "source": []
  },
  {
   "cell_type": "code",
   "execution_count": 161,
   "id": "c39ccbcf",
   "metadata": {},
   "outputs": [],
   "source": [
    "d = {'Name' : \"Mohamed\",\"Age\" : 28 , \"last_name\" : \"Mohamed\"}\n",
    "d['Name'] = \"ahmed\""
   ]
  },
  {
   "cell_type": "code",
   "execution_count": 169,
   "id": "34b60202",
   "metadata": {},
   "outputs": [],
   "source": [
    "d[\"grade\"] = [1,2,3,4,45,6,4,8]"
   ]
  },
  {
   "cell_type": "code",
   "execution_count": 170,
   "id": "357068b5",
   "metadata": {},
   "outputs": [
    {
     "data": {
      "text/plain": [
       "{'Name': 'ahmed',\n",
       " 'Age': 28,\n",
       " 'last_name': 'Mohamed',\n",
       " 'Grade': 10,\n",
       " 'grade': [1, 2, 3, 4, 45, 6, 4, 8]}"
      ]
     },
     "execution_count": 170,
     "metadata": {},
     "output_type": "execute_result"
    }
   ],
   "source": [
    "d"
   ]
  },
  {
   "cell_type": "code",
   "execution_count": 171,
   "id": "9cc2a2eb",
   "metadata": {},
   "outputs": [
    {
     "data": {
      "text/plain": [
       "dict_items([('Name', 'ahmed'), ('Age', 28), ('last_name', 'Mohamed'), ('Grade', 10), ('grade', [1, 2, 3, 4, 45, 6, 4, 8])])"
      ]
     },
     "execution_count": 171,
     "metadata": {},
     "output_type": "execute_result"
    }
   ],
   "source": [
    "d.items()"
   ]
  },
  {
   "cell_type": "code",
   "execution_count": 172,
   "id": "022980c6",
   "metadata": {},
   "outputs": [
    {
     "data": {
      "text/plain": [
       "dict_keys(['Name', 'Age', 'last_name', 'Grade', 'grade'])"
      ]
     },
     "execution_count": 172,
     "metadata": {},
     "output_type": "execute_result"
    }
   ],
   "source": [
    "d.keys()"
   ]
  },
  {
   "cell_type": "code",
   "execution_count": 173,
   "id": "dc619236",
   "metadata": {},
   "outputs": [
    {
     "data": {
      "text/plain": [
       "dict_values(['ahmed', 28, 'Mohamed', 10, [1, 2, 3, 4, 45, 6, 4, 8]])"
      ]
     },
     "execution_count": 173,
     "metadata": {},
     "output_type": "execute_result"
    }
   ],
   "source": [
    "d.values()"
   ]
  },
  {
   "cell_type": "code",
   "execution_count": 175,
   "id": "92c65506",
   "metadata": {},
   "outputs": [
    {
     "name": "stdout",
     "output_type": "stream",
     "text": [
      "ahmed\n",
      "Name\n",
      "28\n",
      "Age\n",
      "Mohamed\n",
      "last_name\n",
      "10\n",
      "Grade\n",
      "[1, 2, 3, 4, 45, 6, 4, 8]\n",
      "grade\n"
     ]
    }
   ],
   "source": [
    "for key , value in d.items():\n",
    "    print(value )\n",
    "    print(key)"
   ]
  },
  {
   "cell_type": "code",
   "execution_count": null,
   "id": "fcb6ec12",
   "metadata": {},
   "outputs": [],
   "source": []
  },
  {
   "cell_type": "markdown",
   "id": "2d86c4f3",
   "metadata": {},
   "source": [
    "Searching:\n",
    "\n",
    "a) Given a list of strings [\"apple\", \"banana\", \"cherry\", \"date\"], check if the string \"banana\" is present in the list. If it is, print \"Found\"; otherwise, print \"Not found\".Searching:\n",
    "\n"
   ]
  },
  {
   "cell_type": "code",
   "execution_count": 176,
   "id": "454d8230",
   "metadata": {},
   "outputs": [
    {
     "name": "stdout",
     "output_type": "stream",
     "text": [
      "Not Found\n",
      "banana Found!\n",
      "Not Found\n",
      "Not Found\n"
     ]
    }
   ],
   "source": [
    "fruits =  [\"apple\", \"banana\", \"cherry\", \"date\"]\n",
    "for fruit in fruits :\n",
    "    if fruit == 'banana' :\n",
    "        print(fruit, \"Found!\")\n",
    "    else:\n",
    "        print('Not Found')"
   ]
  },
  {
   "cell_type": "code",
   "execution_count": null,
   "id": "3e7500eb",
   "metadata": {},
   "outputs": [],
   "source": []
  },
  {
   "cell_type": "code",
   "execution_count": null,
   "id": "04124ecd",
   "metadata": {},
   "outputs": [],
   "source": []
  }
 ],
 "metadata": {
  "kernelspec": {
   "display_name": "Python 3 (ipykernel)",
   "language": "python",
   "name": "python3"
  },
  "language_info": {
   "codemirror_mode": {
    "name": "ipython",
    "version": 3
   },
   "file_extension": ".py",
   "mimetype": "text/x-python",
   "name": "python",
   "nbconvert_exporter": "python",
   "pygments_lexer": "ipython3",
   "version": "3.9.15"
  }
 },
 "nbformat": 4,
 "nbformat_minor": 5
}
