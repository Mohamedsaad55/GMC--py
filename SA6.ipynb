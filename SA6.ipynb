{
 "cells": [
  {
   "cell_type": "markdown",
   "id": "544e9967",
   "metadata": {},
   "source": [
    "# Question 6\n",
    "\n",
    "## Write a Python program to create a set.\n",
    "\n",
    "    Examples : {0, 1, 2, 3, 4}\n",
    "\n",
    "## Write a Python program to iteration over sets.\n",
    "\n",
    "## Write a Python program to add members in a set and to remove items from a given set."
   ]
  },
  {
   "cell_type": "code",
   "execution_count": 10,
   "id": "8a8aa3fb",
   "metadata": {},
   "outputs": [],
   "source": [
    "s = set()\n",
    "for i in range(5):\n",
    "    s.add(i)"
   ]
  },
  {
   "cell_type": "code",
   "execution_count": 13,
   "id": "bbcd9d9e",
   "metadata": {},
   "outputs": [
    {
     "name": "stdout",
     "output_type": "stream",
     "text": [
      "0\n",
      "1\n",
      "2\n",
      "3\n",
      "4\n"
     ]
    }
   ],
   "source": [
    "for i in s :\n",
    "    print(i)"
   ]
  },
  {
   "cell_type": "code",
   "execution_count": 14,
   "id": "b0f55e64",
   "metadata": {},
   "outputs": [],
   "source": [
    "s.remove(2)"
   ]
  },
  {
   "cell_type": "code",
   "execution_count": 15,
   "id": "d94098ef",
   "metadata": {},
   "outputs": [],
   "source": [
    "s.add(3)"
   ]
  },
  {
   "cell_type": "code",
   "execution_count": 17,
   "id": "035c7a4b",
   "metadata": {},
   "outputs": [],
   "source": [
    "s.add(5)"
   ]
  },
  {
   "cell_type": "code",
   "execution_count": 18,
   "id": "f19887af",
   "metadata": {},
   "outputs": [
    {
     "data": {
      "text/plain": [
       "{0, 1, 3, 4, 5}"
      ]
     },
     "execution_count": 18,
     "metadata": {},
     "output_type": "execute_result"
    }
   ],
   "source": [
    "s"
   ]
  },
  {
   "cell_type": "code",
   "execution_count": 30,
   "id": "7de74251",
   "metadata": {},
   "outputs": [],
   "source": [
    "def greeting(name= \"Guest\"):\n",
    "    return name\n",
    "    print(f\"Hello {name}!\")"
   ]
  },
  {
   "cell_type": "code",
   "execution_count": 34,
   "id": "5331c959",
   "metadata": {},
   "outputs": [
    {
     "data": {
      "text/plain": [
       "'Guest'"
      ]
     },
     "execution_count": 34,
     "metadata": {},
     "output_type": "execute_result"
    }
   ],
   "source": [
    "greeting()"
   ]
  },
  {
   "cell_type": "code",
   "execution_count": 36,
   "id": "a5b0014d",
   "metadata": {},
   "outputs": [
    {
     "name": "stdout",
     "output_type": "stream",
     "text": [
      "Help on method_descriptor:\n",
      "\n",
      "sort(self, /, *, key=None, reverse=False)\n",
      "    Sort the list in ascending order and return None.\n",
      "    \n",
      "    The sort is in-place (i.e. the list itself is modified) and stable (i.e. the\n",
      "    order of two equal elements is maintained).\n",
      "    \n",
      "    If a key function is given, apply it once to each list item and sort them,\n",
      "    ascending or descending, according to their function values.\n",
      "    \n",
      "    The reverse flag can be set to sort in descending order.\n",
      "\n"
     ]
    }
   ],
   "source": [
    "help(list.sort)"
   ]
  },
  {
   "cell_type": "code",
   "execution_count": null,
   "id": "51404f9f",
   "metadata": {},
   "outputs": [],
   "source": []
  },
  {
   "cell_type": "code",
   "execution_count": 39,
   "id": "e6f19bb6",
   "metadata": {},
   "outputs": [],
   "source": [
    "def sum_(x,y):\n",
    "    return x+y"
   ]
  },
  {
   "cell_type": "code",
   "execution_count": 44,
   "id": "578eb001",
   "metadata": {},
   "outputs": [],
   "source": [
    "sum_1 = lambda x,y : x+y if x > y else x*y"
   ]
  },
  {
   "cell_type": "code",
   "execution_count": 41,
   "id": "bcd73853",
   "metadata": {},
   "outputs": [
    {
     "data": {
      "text/plain": [
       "15"
      ]
     },
     "execution_count": 41,
     "metadata": {},
     "output_type": "execute_result"
    }
   ],
   "source": [
    "sum_(10,5)"
   ]
  },
  {
   "cell_type": "code",
   "execution_count": 46,
   "id": "a750e654",
   "metadata": {},
   "outputs": [
    {
     "data": {
      "text/plain": [
       "500"
      ]
     },
     "execution_count": 46,
     "metadata": {},
     "output_type": "execute_result"
    }
   ],
   "source": [
    "sum_1(10,50)"
   ]
  },
  {
   "cell_type": "code",
   "execution_count": 50,
   "id": "293d330d",
   "metadata": {},
   "outputs": [
    {
     "name": "stdout",
     "output_type": "stream",
     "text": [
      "2020\n"
     ]
    }
   ],
   "source": [
    "year = lambda x : x[:4]\n",
    "day = lambda x: x[-1:-2]\n",
    "ch = \"20200310\"\n",
    "print(year(ch)) #2020"
   ]
  },
  {
   "cell_type": "code",
   "execution_count": 65,
   "id": "a9acc075",
   "metadata": {},
   "outputs": [],
   "source": [
    "day = lambda x: x[-3:-1:1]"
   ]
  },
  {
   "cell_type": "code",
   "execution_count": 66,
   "id": "4fd5a2f9",
   "metadata": {},
   "outputs": [
    {
     "data": {
      "text/plain": [
       "'31'"
      ]
     },
     "execution_count": 66,
     "metadata": {},
     "output_type": "execute_result"
    }
   ],
   "source": [
    "day(ch)"
   ]
  },
  {
   "cell_type": "code",
   "execution_count": 67,
   "id": "7deaba31",
   "metadata": {},
   "outputs": [
    {
     "data": {
      "text/plain": [
       "3"
      ]
     },
     "execution_count": 67,
     "metadata": {},
     "output_type": "execute_result"
    }
   ],
   "source": [
    "fruit = ('apple', 'banana', 'cherry')\n",
    "len(fruit)"
   ]
  },
  {
   "cell_type": "code",
   "execution_count": 68,
   "id": "c51474fb",
   "metadata": {},
   "outputs": [
    {
     "name": "stdout",
     "output_type": "stream",
     "text": [
      "5\n",
      "6\n",
      "6\n"
     ]
    }
   ],
   "source": [
    "for i in fruit :\n",
    "    print(len(i))"
   ]
  },
  {
   "cell_type": "code",
   "execution_count": 71,
   "id": "177a4c4e",
   "metadata": {},
   "outputs": [],
   "source": [
    "length = list(map(len,fruit))"
   ]
  },
  {
   "cell_type": "code",
   "execution_count": 72,
   "id": "bbcf401d",
   "metadata": {},
   "outputs": [
    {
     "data": {
      "text/plain": [
       "[5, 6, 6]"
      ]
     },
     "execution_count": 72,
     "metadata": {},
     "output_type": "execute_result"
    }
   ],
   "source": [
    "length"
   ]
  },
  {
   "cell_type": "code",
   "execution_count": null,
   "id": "9f77b621",
   "metadata": {},
   "outputs": [],
   "source": []
  },
  {
   "cell_type": "markdown",
   "id": "a6d08063",
   "metadata": {},
   "source": [
    "# Queestion 4 \n",
    "### write a function that displays the first letter of the dictionary value in upper case by using the return statement."
   ]
  },
  {
   "cell_type": "markdown",
   "id": "4fc324d5",
   "metadata": {},
   "source": [
    "    - function ( def capital())\n",
    "    - key , value ( for loop )\n",
    "    - return upper case ( capitallize)\n",
    "    "
   ]
  },
  {
   "cell_type": "code",
   "execution_count": 75,
   "id": "a17a8766",
   "metadata": {},
   "outputs": [],
   "source": [
    "def capital(d):\n",
    "    new_dict = {}\n",
    "    for key ,value in d.items():\n",
    "        new_dict[key] = value.capitalize()\n",
    "    return new_dict\n",
    "    "
   ]
  },
  {
   "cell_type": "code",
   "execution_count": 76,
   "id": "13dee808",
   "metadata": {},
   "outputs": [
    {
     "data": {
      "text/plain": [
       "{'name': 'Mohamed'}"
      ]
     },
     "execution_count": 76,
     "metadata": {},
     "output_type": "execute_result"
    }
   ],
   "source": [
    "d = {\"name\": \"mohamed\"}\n",
    "capital(d)"
   ]
  },
  {
   "cell_type": "markdown",
   "id": "e93716c1",
   "metadata": {},
   "source": [
    "# Class & Object"
   ]
  },
  {
   "cell_type": "code",
   "execution_count": 77,
   "id": "e6f7f47c",
   "metadata": {},
   "outputs": [
    {
     "data": {
      "text/plain": [
       "int"
      ]
     },
     "execution_count": 77,
     "metadata": {},
     "output_type": "execute_result"
    }
   ],
   "source": [
    "type(5)"
   ]
  },
  {
   "cell_type": "code",
   "execution_count": 78,
   "id": "a44bca47",
   "metadata": {},
   "outputs": [
    {
     "name": "stdout",
     "output_type": "stream",
     "text": [
      "Help on class int in module builtins:\n",
      "\n",
      "class int(object)\n",
      " |  int([x]) -> integer\n",
      " |  int(x, base=10) -> integer\n",
      " |  \n",
      " |  Convert a number or string to an integer, or return 0 if no arguments\n",
      " |  are given.  If x is a number, return x.__int__().  For floating point\n",
      " |  numbers, this truncates towards zero.\n",
      " |  \n",
      " |  If x is not a number or if base is given, then x must be a string,\n",
      " |  bytes, or bytearray instance representing an integer literal in the\n",
      " |  given base.  The literal can be preceded by '+' or '-' and be surrounded\n",
      " |  by whitespace.  The base defaults to 10.  Valid bases are 0 and 2-36.\n",
      " |  Base 0 means to interpret the base from the string as an integer literal.\n",
      " |  >>> int('0b100', base=0)\n",
      " |  4\n",
      " |  \n",
      " |  Built-in subclasses:\n",
      " |      bool\n",
      " |  \n",
      " |  Methods defined here:\n",
      " |  \n",
      " |  __abs__(self, /)\n",
      " |      abs(self)\n",
      " |  \n",
      " |  __add__(self, value, /)\n",
      " |      Return self+value.\n",
      " |  \n",
      " |  __and__(self, value, /)\n",
      " |      Return self&value.\n",
      " |  \n",
      " |  __bool__(self, /)\n",
      " |      True if self else False\n",
      " |  \n",
      " |  __ceil__(...)\n",
      " |      Ceiling of an Integral returns itself.\n",
      " |  \n",
      " |  __divmod__(self, value, /)\n",
      " |      Return divmod(self, value).\n",
      " |  \n",
      " |  __eq__(self, value, /)\n",
      " |      Return self==value.\n",
      " |  \n",
      " |  __float__(self, /)\n",
      " |      float(self)\n",
      " |  \n",
      " |  __floor__(...)\n",
      " |      Flooring an Integral returns itself.\n",
      " |  \n",
      " |  __floordiv__(self, value, /)\n",
      " |      Return self//value.\n",
      " |  \n",
      " |  __format__(self, format_spec, /)\n",
      " |      Default object formatter.\n",
      " |  \n",
      " |  __ge__(self, value, /)\n",
      " |      Return self>=value.\n",
      " |  \n",
      " |  __getattribute__(self, name, /)\n",
      " |      Return getattr(self, name).\n",
      " |  \n",
      " |  __getnewargs__(self, /)\n",
      " |  \n",
      " |  __gt__(self, value, /)\n",
      " |      Return self>value.\n",
      " |  \n",
      " |  __hash__(self, /)\n",
      " |      Return hash(self).\n",
      " |  \n",
      " |  __index__(self, /)\n",
      " |      Return self converted to an integer, if self is suitable for use as an index into a list.\n",
      " |  \n",
      " |  __int__(self, /)\n",
      " |      int(self)\n",
      " |  \n",
      " |  __invert__(self, /)\n",
      " |      ~self\n",
      " |  \n",
      " |  __le__(self, value, /)\n",
      " |      Return self<=value.\n",
      " |  \n",
      " |  __lshift__(self, value, /)\n",
      " |      Return self<<value.\n",
      " |  \n",
      " |  __lt__(self, value, /)\n",
      " |      Return self<value.\n",
      " |  \n",
      " |  __mod__(self, value, /)\n",
      " |      Return self%value.\n",
      " |  \n",
      " |  __mul__(self, value, /)\n",
      " |      Return self*value.\n",
      " |  \n",
      " |  __ne__(self, value, /)\n",
      " |      Return self!=value.\n",
      " |  \n",
      " |  __neg__(self, /)\n",
      " |      -self\n",
      " |  \n",
      " |  __or__(self, value, /)\n",
      " |      Return self|value.\n",
      " |  \n",
      " |  __pos__(self, /)\n",
      " |      +self\n",
      " |  \n",
      " |  __pow__(self, value, mod=None, /)\n",
      " |      Return pow(self, value, mod).\n",
      " |  \n",
      " |  __radd__(self, value, /)\n",
      " |      Return value+self.\n",
      " |  \n",
      " |  __rand__(self, value, /)\n",
      " |      Return value&self.\n",
      " |  \n",
      " |  __rdivmod__(self, value, /)\n",
      " |      Return divmod(value, self).\n",
      " |  \n",
      " |  __repr__(self, /)\n",
      " |      Return repr(self).\n",
      " |  \n",
      " |  __rfloordiv__(self, value, /)\n",
      " |      Return value//self.\n",
      " |  \n",
      " |  __rlshift__(self, value, /)\n",
      " |      Return value<<self.\n",
      " |  \n",
      " |  __rmod__(self, value, /)\n",
      " |      Return value%self.\n",
      " |  \n",
      " |  __rmul__(self, value, /)\n",
      " |      Return value*self.\n",
      " |  \n",
      " |  __ror__(self, value, /)\n",
      " |      Return value|self.\n",
      " |  \n",
      " |  __round__(...)\n",
      " |      Rounding an Integral returns itself.\n",
      " |      Rounding with an ndigits argument also returns an integer.\n",
      " |  \n",
      " |  __rpow__(self, value, mod=None, /)\n",
      " |      Return pow(value, self, mod).\n",
      " |  \n",
      " |  __rrshift__(self, value, /)\n",
      " |      Return value>>self.\n",
      " |  \n",
      " |  __rshift__(self, value, /)\n",
      " |      Return self>>value.\n",
      " |  \n",
      " |  __rsub__(self, value, /)\n",
      " |      Return value-self.\n",
      " |  \n",
      " |  __rtruediv__(self, value, /)\n",
      " |      Return value/self.\n",
      " |  \n",
      " |  __rxor__(self, value, /)\n",
      " |      Return value^self.\n",
      " |  \n",
      " |  __sizeof__(self, /)\n",
      " |      Returns size in memory, in bytes.\n",
      " |  \n",
      " |  __sub__(self, value, /)\n",
      " |      Return self-value.\n",
      " |  \n",
      " |  __truediv__(self, value, /)\n",
      " |      Return self/value.\n",
      " |  \n",
      " |  __trunc__(...)\n",
      " |      Truncating an Integral returns itself.\n",
      " |  \n",
      " |  __xor__(self, value, /)\n",
      " |      Return self^value.\n",
      " |  \n",
      " |  as_integer_ratio(self, /)\n",
      " |      Return integer ratio.\n",
      " |      \n",
      " |      Return a pair of integers, whose ratio is exactly equal to the original int\n",
      " |      and with a positive denominator.\n",
      " |      \n",
      " |      >>> (10).as_integer_ratio()\n",
      " |      (10, 1)\n",
      " |      >>> (-10).as_integer_ratio()\n",
      " |      (-10, 1)\n",
      " |      >>> (0).as_integer_ratio()\n",
      " |      (0, 1)\n",
      " |  \n",
      " |  bit_length(self, /)\n",
      " |      Number of bits necessary to represent self in binary.\n",
      " |      \n",
      " |      >>> bin(37)\n",
      " |      '0b100101'\n",
      " |      >>> (37).bit_length()\n",
      " |      6\n",
      " |  \n",
      " |  conjugate(...)\n",
      " |      Returns self, the complex conjugate of any int.\n",
      " |  \n",
      " |  to_bytes(self, /, length, byteorder, *, signed=False)\n",
      " |      Return an array of bytes representing an integer.\n",
      " |      \n",
      " |      length\n",
      " |        Length of bytes object to use.  An OverflowError is raised if the\n",
      " |        integer is not representable with the given number of bytes.\n",
      " |      byteorder\n",
      " |        The byte order used to represent the integer.  If byteorder is 'big',\n",
      " |        the most significant byte is at the beginning of the byte array.  If\n",
      " |        byteorder is 'little', the most significant byte is at the end of the\n",
      " |        byte array.  To request the native byte order of the host system, use\n",
      " |        `sys.byteorder' as the byte order value.\n",
      " |      signed\n",
      " |        Determines whether two's complement is used to represent the integer.\n",
      " |        If signed is False and a negative integer is given, an OverflowError\n",
      " |        is raised.\n",
      " |  \n",
      " |  ----------------------------------------------------------------------\n",
      " |  Class methods defined here:\n",
      " |  \n",
      " |  from_bytes(bytes, byteorder, *, signed=False) from builtins.type\n",
      " |      Return the integer represented by the given array of bytes.\n",
      " |      \n",
      " |      bytes\n",
      " |        Holds the array of bytes to convert.  The argument must either\n",
      " |        support the buffer protocol or be an iterable object producing bytes.\n",
      " |        Bytes and bytearray are examples of built-in objects that support the\n",
      " |        buffer protocol.\n",
      " |      byteorder\n",
      " |        The byte order used to represent the integer.  If byteorder is 'big',\n",
      " |        the most significant byte is at the beginning of the byte array.  If\n",
      " |        byteorder is 'little', the most significant byte is at the end of the\n",
      " |        byte array.  To request the native byte order of the host system, use\n",
      " |        `sys.byteorder' as the byte order value.\n",
      " |      signed\n",
      " |        Indicates whether two's complement is used to represent the integer.\n",
      " |  \n",
      " |  ----------------------------------------------------------------------\n",
      " |  Static methods defined here:\n",
      " |  \n",
      " |  __new__(*args, **kwargs) from builtins.type\n",
      " |      Create and return a new object.  See help(type) for accurate signature.\n",
      " |  \n",
      " |  ----------------------------------------------------------------------\n",
      " |  Data descriptors defined here:\n",
      " |  \n",
      " |  denominator\n",
      " |      the denominator of a rational number in lowest terms\n",
      " |  \n",
      " |  imag\n",
      " |      the imaginary part of a complex number\n",
      " |  \n",
      " |  numerator\n",
      " |      the numerator of a rational number in lowest terms\n",
      " |  \n",
      " |  real\n",
      " |      the real part of a complex number\n",
      "\n"
     ]
    }
   ],
   "source": [
    "help(int)"
   ]
  },
  {
   "cell_type": "code",
   "execution_count": null,
   "id": "b0fafc36",
   "metadata": {},
   "outputs": [],
   "source": []
  },
  {
   "cell_type": "code",
   "execution_count": 79,
   "id": "85da7ad2",
   "metadata": {},
   "outputs": [],
   "source": [
    "class Person :\n",
    "    name = \"Mohamed\"\n",
    "    age = 28 \n",
    "    grade = 10 "
   ]
  },
  {
   "cell_type": "code",
   "execution_count": 86,
   "id": "a3e40d17",
   "metadata": {},
   "outputs": [],
   "source": [
    "student = Person"
   ]
  },
  {
   "cell_type": "code",
   "execution_count": 87,
   "id": "db2da055",
   "metadata": {},
   "outputs": [],
   "source": [
    "student.name = \"Ali\""
   ]
  },
  {
   "cell_type": "code",
   "execution_count": 88,
   "id": "1e75da9c",
   "metadata": {},
   "outputs": [
    {
     "data": {
      "text/plain": [
       "'Ali'"
      ]
     },
     "execution_count": 88,
     "metadata": {},
     "output_type": "execute_result"
    }
   ],
   "source": [
    "Person.name"
   ]
  },
  {
   "cell_type": "code",
   "execution_count": null,
   "id": "9ed0d85e",
   "metadata": {},
   "outputs": [],
   "source": []
  },
  {
   "cell_type": "code",
   "execution_count": null,
   "id": "9613d71a",
   "metadata": {},
   "outputs": [],
   "source": []
  },
  {
   "cell_type": "code",
   "execution_count": null,
   "id": "9c707b16",
   "metadata": {},
   "outputs": [],
   "source": []
  },
  {
   "cell_type": "code",
   "execution_count": 106,
   "id": "1a0ae630",
   "metadata": {},
   "outputs": [],
   "source": [
    "class Person ():\n",
    "    def __init__(self, name , age , grade):\n",
    "        self.name = name\n",
    "        self.age = age\n",
    "        self.grade = grade\n",
    "    def greeting(self):\n",
    "        if self.name == \"Mohamed\" :\n",
    "            print(\"Hello Mohamed Welcome back!\")\n",
    "    def change_age(self):\n",
    "        if self.age == 27.8 :\n",
    "            self.age = 28"
   ]
  },
  {
   "cell_type": "code",
   "execution_count": 112,
   "id": "1749bd9a",
   "metadata": {},
   "outputs": [],
   "source": [
    "student = Person(\"Mohamed\" , 27.8 , 10)\n",
    "student_1 = Person(\"Ali\" , 25 , 8)"
   ]
  },
  {
   "cell_type": "code",
   "execution_count": 108,
   "id": "abd0f063",
   "metadata": {},
   "outputs": [
    {
     "name": "stdout",
     "output_type": "stream",
     "text": [
      "Hello Mohamed Welcome back!\n"
     ]
    }
   ],
   "source": [
    "student.greeting()"
   ]
  },
  {
   "cell_type": "code",
   "execution_count": 114,
   "id": "f0089863",
   "metadata": {},
   "outputs": [],
   "source": [
    "student.change_age()"
   ]
  },
  {
   "cell_type": "code",
   "execution_count": 115,
   "id": "db97c2d9",
   "metadata": {},
   "outputs": [
    {
     "data": {
      "text/plain": [
       "28"
      ]
     },
     "execution_count": 115,
     "metadata": {},
     "output_type": "execute_result"
    }
   ],
   "source": [
    "student.age"
   ]
  },
  {
   "cell_type": "code",
   "execution_count": 124,
   "id": "b2efc960",
   "metadata": {},
   "outputs": [
    {
     "data": {
      "text/plain": [
       "'Mohamed'"
      ]
     },
     "execution_count": 124,
     "metadata": {},
     "output_type": "execute_result"
    }
   ],
   "source": [
    "student.name"
   ]
  },
  {
   "cell_type": "code",
   "execution_count": null,
   "id": "5a47eb50",
   "metadata": {},
   "outputs": [],
   "source": []
  },
  {
   "cell_type": "code",
   "execution_count": null,
   "id": "35e792d7",
   "metadata": {},
   "outputs": [],
   "source": []
  },
  {
   "cell_type": "code",
   "execution_count": 96,
   "id": "a127cdfa",
   "metadata": {},
   "outputs": [],
   "source": [
    "x = \"Mohamed\" "
   ]
  },
  {
   "cell_type": "code",
   "execution_count": null,
   "id": "2614b8c4",
   "metadata": {},
   "outputs": [],
   "source": []
  },
  {
   "cell_type": "code",
   "execution_count": 122,
   "id": "b653fea7",
   "metadata": {},
   "outputs": [],
   "source": [
    "class Student:\n",
    "    def __init__ (self,name,age,grade):\n",
    "        self.name = name\n",
    "        self.age = age\n",
    "        self.grade = grade \n",
    "        \n",
    "class Student_sys ():\n",
    "    def __init__ (self):\n",
    "        self.students = []\n",
    "    def add_student(self , name , age ,grade):\n",
    "        student = Student(name,age,grade)\n",
    "        self.students.append(student)\n",
    "        \n",
    "    def update_student(self,name,age,grade):\n",
    "        for student in self.students :\n",
    "            if student.name == name :\n",
    "                student.age = age \n",
    "                student.grade = grade\n",
    "                print(\"Updated ! \")\n",
    "                return\n",
    "            print(\"Student Not Found\")\n",
    "            \n",
    "    def display(self):\n",
    "        for student in self.students :\n",
    "            print(f\"Name : {student.name} , Age : {student.age} , Grade : {student.grade}\")\n",
    "            \n",
    "    def menu (self):\n",
    "        print(\"Welcome to our System ! \")\n",
    "        print(\"1 - Add student\")\n",
    "        print(\"2- Update \")\n",
    "        print(\"3 - Display\")\n",
    "        print(\"4- Quit\")\n",
    "        \n",
    "    def run(self):\n",
    "        while True :\n",
    "            self.menu()\n",
    "            option = input(\"Please Select an option\\n\").lower()\n",
    "            if option == '4' or option == 'quit':\n",
    "                break\n",
    "            elif option == '1' :\n",
    "                name = input(\"Name: \")\n",
    "                age = input(\"Age: \")\n",
    "                grade = input(\"Grade: \")\n",
    "                self.add_student(name , age ,grade)\n",
    "            elif option == '2' :\n",
    "                name = input(\"Name: \")\n",
    "                age = input(\"Age: \")\n",
    "                grade = input(\"Grade: \")\n",
    "                self.update_student(name , age ,grade )\n",
    "            elif option == '3' :\n",
    "                self.display()\n",
    "            else :\n",
    "                print(\"Invalid Input !\")"
   ]
  },
  {
   "cell_type": "code",
   "execution_count": 123,
   "id": "f76d77cd",
   "metadata": {
    "scrolled": true
   },
   "outputs": [
    {
     "name": "stdout",
     "output_type": "stream",
     "text": [
      "Welcome to our System ! \n",
      "1 - Add student\n",
      "2- Update \n",
      "3 - Display\n",
      "4- Quit\n",
      "Please Select an option\n",
      "1\n",
      "Name: mohamed\n",
      "Age: 28\n",
      "Grade: 5\n",
      "Welcome to our System ! \n",
      "1 - Add student\n",
      "2- Update \n",
      "3 - Display\n",
      "4- Quit\n",
      "Please Select an option\n",
      "2\n",
      "Name: mohamed\n",
      "Age: 29\n",
      "Grade: 10\n",
      "Updated ! \n",
      "Welcome to our System ! \n",
      "1 - Add student\n",
      "2- Update \n",
      "3 - Display\n",
      "4- Quit\n",
      "Please Select an option\n",
      "3\n",
      "Name : mohamed , Age : 29 , Grade : 10\n",
      "Welcome to our System ! \n",
      "1 - Add student\n",
      "2- Update \n",
      "3 - Display\n",
      "4- Quit\n",
      "Please Select an option\n",
      "1\n",
      "Name: ali\n",
      "Age: 27\n",
      "Grade: 10\n",
      "Welcome to our System ! \n",
      "1 - Add student\n",
      "2- Update \n",
      "3 - Display\n",
      "4- Quit\n",
      "Please Select an option\n",
      "1\n",
      "Name: reem\n",
      "Age: 25\n",
      "Grade: 15\n",
      "Welcome to our System ! \n",
      "1 - Add student\n",
      "2- Update \n",
      "3 - Display\n",
      "4- Quit\n",
      "Please Select an option\n",
      "1\n",
      "Name: abdullah\n",
      "Age: 25\n",
      "Grade: 15\n",
      "Welcome to our System ! \n",
      "1 - Add student\n",
      "2- Update \n",
      "3 - Display\n",
      "4- Quit\n",
      "Please Select an option\n",
      "3\n",
      "Name : mohamed , Age : 29 , Grade : 10\n",
      "Name : ali , Age : 27 , Grade : 10\n",
      "Name : reem , Age : 25 , Grade : 15\n",
      "Name : abdullah , Age : 25 , Grade : 15\n",
      "Welcome to our System ! \n",
      "1 - Add student\n",
      "2- Update \n",
      "3 - Display\n",
      "4- Quit\n",
      "Please Select an option\n",
      "\n",
      "Invalid Input !\n",
      "Welcome to our System ! \n",
      "1 - Add student\n",
      "2- Update \n",
      "3 - Display\n",
      "4- Quit\n",
      "Please Select an option\n",
      "4\n"
     ]
    }
   ],
   "source": [
    "sys = Student_sys()\n",
    "sys.run()"
   ]
  },
  {
   "cell_type": "code",
   "execution_count": null,
   "id": "2b3d5b97",
   "metadata": {},
   "outputs": [],
   "source": []
  },
  {
   "cell_type": "code",
   "execution_count": null,
   "id": "e0daccad",
   "metadata": {},
   "outputs": [],
   "source": []
  },
  {
   "cell_type": "code",
   "execution_count": null,
   "id": "e2b9c64b",
   "metadata": {},
   "outputs": [],
   "source": []
  },
  {
   "cell_type": "code",
   "execution_count": null,
   "id": "db8c566c",
   "metadata": {},
   "outputs": [],
   "source": []
  },
  {
   "cell_type": "code",
   "execution_count": null,
   "id": "594bb419",
   "metadata": {},
   "outputs": [],
   "source": []
  },
  {
   "cell_type": "code",
   "execution_count": null,
   "id": "b1d672f0",
   "metadata": {},
   "outputs": [],
   "source": []
  },
  {
   "cell_type": "code",
   "execution_count": null,
   "id": "b73b07d4",
   "metadata": {},
   "outputs": [],
   "source": []
  },
  {
   "cell_type": "code",
   "execution_count": null,
   "id": "8034cbb6",
   "metadata": {},
   "outputs": [],
   "source": []
  },
  {
   "cell_type": "code",
   "execution_count": null,
   "id": "9cefd797",
   "metadata": {},
   "outputs": [],
   "source": []
  },
  {
   "cell_type": "code",
   "execution_count": null,
   "id": "03f04c5a",
   "metadata": {},
   "outputs": [],
   "source": []
  },
  {
   "cell_type": "code",
   "execution_count": null,
   "id": "e6cb3e45",
   "metadata": {},
   "outputs": [],
   "source": []
  }
 ],
 "metadata": {
  "kernelspec": {
   "display_name": "Python 3 (ipykernel)",
   "language": "python",
   "name": "python3"
  },
  "language_info": {
   "codemirror_mode": {
    "name": "ipython",
    "version": 3
   },
   "file_extension": ".py",
   "mimetype": "text/x-python",
   "name": "python",
   "nbconvert_exporter": "python",
   "pygments_lexer": "ipython3",
   "version": "3.9.15"
  }
 },
 "nbformat": 4,
 "nbformat_minor": 5
}
